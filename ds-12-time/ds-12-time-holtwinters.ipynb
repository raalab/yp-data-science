{
 "cells": [
  {
   "cell_type": "markdown",
   "metadata": {
    "toc": true
   },
   "source": [
    "<h1>Содержание<span class=\"tocSkip\"></span></h1>\n",
    "<div class=\"toc\"><ul class=\"toc-item\"><li><span><a href=\"#Подготовка\" data-toc-modified-id=\"Подготовка-1\"><span class=\"toc-item-num\">1&nbsp;&nbsp;</span>Подготовка</a></span></li><li><span><a href=\"#Анализ\" data-toc-modified-id=\"Анализ-2\"><span class=\"toc-item-num\">2&nbsp;&nbsp;</span>Анализ</a></span><ul class=\"toc-item\"><li><span><a href=\"#Создание-признаков\" data-toc-modified-id=\"Создание-признаков-2.1\"><span class=\"toc-item-num\">2.1&nbsp;&nbsp;</span>Создание признаков</a></span><ul class=\"toc-item\"><li><span><a href=\"#Календарные-признаки\" data-toc-modified-id=\"Календарные-признаки-2.1.1\"><span class=\"toc-item-num\">2.1.1&nbsp;&nbsp;</span>Календарные признаки</a></span></li><li><span><a href=\"#Графический-анализ-данных\" data-toc-modified-id=\"Графический-анализ-данных-2.1.2\"><span class=\"toc-item-num\">2.1.2&nbsp;&nbsp;</span>Графический анализ данных</a></span></li><li><span><a href=\"#Смещение-данных-/-лаг\" data-toc-modified-id=\"Смещение-данных-/-лаг-2.1.3\"><span class=\"toc-item-num\">2.1.3&nbsp;&nbsp;</span>Смещение данных / лаг</a></span></li><li><span><a href=\"#Скользящее-среднее---MA\" data-toc-modified-id=\"Скользящее-среднее---MA-2.1.4\"><span class=\"toc-item-num\">2.1.4&nbsp;&nbsp;</span>Скользящее среднее - MA</a></span></li><li><span><a href=\"#Создание-дополнительных-признаков-смещения-и-MA\" data-toc-modified-id=\"Создание-дополнительных-признаков-смещения-и-MA-2.1.5\"><span class=\"toc-item-num\">2.1.5&nbsp;&nbsp;</span>Создание дополнительных признаков смещения и MA</a></span></li></ul></li></ul></li><li><span><a href=\"#Обучение\" data-toc-modified-id=\"Обучение-3\"><span class=\"toc-item-num\">3&nbsp;&nbsp;</span>Обучение</a></span><ul class=\"toc-item\"><li><span><a href=\"#Модель-базовая-Dummy-mean\" data-toc-modified-id=\"Модель-базовая-Dummy-mean-3.1\"><span class=\"toc-item-num\">3.1&nbsp;&nbsp;</span>Модель базовая Dummy-mean</a></span></li><li><span><a href=\"#Модель-LinearRegression\" data-toc-modified-id=\"Модель-LinearRegression-3.2\"><span class=\"toc-item-num\">3.2&nbsp;&nbsp;</span>Модель LinearRegression</a></span></li><li><span><a href=\"#Модель-ElasticNet\" data-toc-modified-id=\"Модель-ElasticNet-3.3\"><span class=\"toc-item-num\">3.3&nbsp;&nbsp;</span>Модель ElasticNet</a></span></li><li><span><a href=\"#Модель-LightGBM\" data-toc-modified-id=\"Модель-LightGBM-3.4\"><span class=\"toc-item-num\">3.4&nbsp;&nbsp;</span>Модель LightGBM</a></span></li><li><span><a href=\"#Модель-Хольта-Винтерса\" data-toc-modified-id=\"Модель-Хольта-Винтерса-3.5\"><span class=\"toc-item-num\">3.5&nbsp;&nbsp;</span>Модель Хольта-Винтерса</a></span><ul class=\"toc-item\"><li><span><a href=\"#Прогноз-на-24-часа\" data-toc-modified-id=\"Прогноз-на-24-часа-3.5.1\"><span class=\"toc-item-num\">3.5.1&nbsp;&nbsp;</span>Прогноз на 24 часа</a></span></li><li><span><a href=\"#Прогноз-на-1-час.-Адаптация-под-проектный-датасет\" data-toc-modified-id=\"Прогноз-на-1-час.-Адаптация-под-проектный-датасет-3.5.2\"><span class=\"toc-item-num\">3.5.2&nbsp;&nbsp;</span>Прогноз на 1 час. Адаптация под проектный датасет</a></span></li></ul></li></ul></li><li><span><a href=\"#Тестирование\" data-toc-modified-id=\"Тестирование-4\"><span class=\"toc-item-num\">4&nbsp;&nbsp;</span>Тестирование</a></span><ul class=\"toc-item\"><li><span><a href=\"#ВЫВОДЫ\" data-toc-modified-id=\"ВЫВОДЫ-4.1\"><span class=\"toc-item-num\">4.1&nbsp;&nbsp;</span>ВЫВОДЫ</a></span></li></ul></li><li><span><a href=\"#Чек-лист-проверки\" data-toc-modified-id=\"Чек-лист-проверки-5\"><span class=\"toc-item-num\">5&nbsp;&nbsp;</span>Чек-лист проверки</a></span></li></ul></div>"
   ]
  },
  {
   "cell_type": "markdown",
   "metadata": {},
   "source": [
    "#  Прогнозирование заказов такси"
   ]
  },
  {
   "cell_type": "markdown",
   "metadata": {},
   "source": [
    "Компания «Чётенькое такси» собрала исторические данные о заказах такси в аэропортах. Чтобы привлекать больше водителей в период пиковой нагрузки, нужно спрогнозировать количество заказов такси на следующий час. Постройте модель для такого предсказания.\n",
    "\n",
    "Значение метрики *RMSE* на тестовой выборке должно быть не больше 48.\n",
    "\n",
    "Вам нужно:\n",
    "\n",
    "1. Загрузить данные и выполнить их ресемплирование по одному часу.\n",
    "2. Проанализировать данные.\n",
    "3. Обучить разные модели с различными гиперпараметрами. Сделать тестовую выборку размером 10% от исходных данных.\n",
    "4. Проверить данные на тестовой выборке и сделать выводы.\n",
    "\n",
    "\n",
    "Данные лежат в файле `taxi.csv`. Количество заказов находится в столбце `num_orders` (от англ. *number of orders*, «число заказов»)."
   ]
  },
  {
   "cell_type": "code",
   "execution_count": 1,
   "metadata": {},
   "outputs": [],
   "source": [
    "import pandas as pd\n",
    "import numpy as np\n",
    "# библиотеки ML\n",
    "from sklearn.metrics import mean_squared_error, make_scorer, mean_absolute_error\n",
    "from sklearn.model_selection import train_test_split, TimeSeriesSplit, GridSearchCV\n",
    "from sklearn.linear_model import LinearRegression, ElasticNet \n",
    "from sklearn.pipeline import Pipeline\n",
    "from scipy.optimize import minimize\n",
    "import lightgbm as lgb\n",
    "# библиотеки графики\n",
    "import matplotlib.pyplot as plt\n",
    "import seaborn as sns"
   ]
  },
  {
   "cell_type": "code",
   "execution_count": 2,
   "metadata": {},
   "outputs": [],
   "source": [
    "# настройки окружения\n",
    "import warnings\n",
    "warnings.filterwarnings(\"ignore\")\n",
    "sns.set_style(\"darkgrid\", {'axes.grid' : True}) # задает темный фон и сетку на графиках\n",
    "pd.options.display.max_columns = None\n",
    "#pd.options.display.max_colwidth = 100\n",
    "pd.set_option(\"precision\", 2)"
   ]
  },
  {
   "cell_type": "code",
   "execution_count": 3,
   "metadata": {},
   "outputs": [],
   "source": [
    "# создаем функцию и скорер RMSE  \n",
    "def rmse(y1, y2):\n",
    "     return  mean_squared_error(y1, y2) ** 0.5\n",
    "\n",
    "rmse_score = make_scorer(rmse, greater_is_better=False)"
   ]
  },
  {
   "cell_type": "markdown",
   "metadata": {},
   "source": [
    "## Подготовка"
   ]
  },
  {
   "cell_type": "code",
   "execution_count": 4,
   "metadata": {},
   "outputs": [],
   "source": [
    "# загрузка данных\n",
    "df = pd.read_csv('/datasets/taxi.csv', parse_dates=[0], index_col=[0])\n",
    "df.sort_index(inplace=True)"
   ]
  },
  {
   "cell_type": "code",
   "execution_count": 5,
   "metadata": {},
   "outputs": [
    {
     "data": {
      "text/html": [
       "<div>\n",
       "<style scoped>\n",
       "    .dataframe tbody tr th:only-of-type {\n",
       "        vertical-align: middle;\n",
       "    }\n",
       "\n",
       "    .dataframe tbody tr th {\n",
       "        vertical-align: top;\n",
       "    }\n",
       "\n",
       "    .dataframe thead th {\n",
       "        text-align: right;\n",
       "    }\n",
       "</style>\n",
       "<table border=\"1\" class=\"dataframe\">\n",
       "  <thead>\n",
       "    <tr style=\"text-align: right;\">\n",
       "      <th></th>\n",
       "      <th>num_orders</th>\n",
       "    </tr>\n",
       "    <tr>\n",
       "      <th>datetime</th>\n",
       "      <th></th>\n",
       "    </tr>\n",
       "  </thead>\n",
       "  <tbody>\n",
       "    <tr>\n",
       "      <td>2018-03-01 00:00:00</td>\n",
       "      <td>9</td>\n",
       "    </tr>\n",
       "    <tr>\n",
       "      <td>2018-03-01 00:10:00</td>\n",
       "      <td>14</td>\n",
       "    </tr>\n",
       "    <tr>\n",
       "      <td>2018-03-01 00:20:00</td>\n",
       "      <td>28</td>\n",
       "    </tr>\n",
       "    <tr>\n",
       "      <td>2018-03-01 00:30:00</td>\n",
       "      <td>20</td>\n",
       "    </tr>\n",
       "    <tr>\n",
       "      <td>2018-03-01 00:40:00</td>\n",
       "      <td>32</td>\n",
       "    </tr>\n",
       "  </tbody>\n",
       "</table>\n",
       "</div>"
      ],
      "text/plain": [
       "                     num_orders\n",
       "datetime                       \n",
       "2018-03-01 00:00:00           9\n",
       "2018-03-01 00:10:00          14\n",
       "2018-03-01 00:20:00          28\n",
       "2018-03-01 00:30:00          20\n",
       "2018-03-01 00:40:00          32"
      ]
     },
     "execution_count": 5,
     "metadata": {},
     "output_type": "execute_result"
    }
   ],
   "source": [
    "df.head()"
   ]
  },
  {
   "cell_type": "code",
   "execution_count": 6,
   "metadata": {},
   "outputs": [
    {
     "data": {
      "text/plain": [
       "num_orders    0\n",
       "dtype: int64"
      ]
     },
     "execution_count": 6,
     "metadata": {},
     "output_type": "execute_result"
    }
   ],
   "source": [
    "# проверка пропусков\n",
    "df.isna().sum()"
   ]
  },
  {
   "cell_type": "code",
   "execution_count": 7,
   "metadata": {},
   "outputs": [],
   "source": [
    "# данные даны с периодом 10 мин, задача стоит предсказать заказы на следующий час\n",
    "# поэтому сразу делаем ресэмл данных до 1 часа\n",
    "df = df.resample('1H').sum()\n",
    "df.sort_index(inplace=True)"
   ]
  },
  {
   "cell_type": "code",
   "execution_count": 8,
   "metadata": {},
   "outputs": [
    {
     "name": "stdout",
     "output_type": "stream",
     "text": [
      "<class 'pandas.core.frame.DataFrame'>\n",
      "DatetimeIndex: 4416 entries, 2018-03-01 00:00:00 to 2018-08-31 23:00:00\n",
      "Freq: H\n",
      "Data columns (total 1 columns):\n",
      "num_orders    4416 non-null int64\n",
      "dtypes: int64(1)\n",
      "memory usage: 69.0 KB\n"
     ]
    }
   ],
   "source": [
    "df.info()"
   ]
  },
  {
   "cell_type": "markdown",
   "metadata": {},
   "source": [
    "**Вывод:**\n",
    "\n",
    "Имеем данные за период с 01.03.18 по 31.08.18, т.е неполный год. Пропусков нет, дополнительная обработка не требуется, выполнена сортировка индекса по хронологии и согласно поставленной задаче сделан ресэмплинг до интервала в **1 час.**"
   ]
  },
  {
   "cell_type": "markdown",
   "metadata": {},
   "source": [
    "## Анализ"
   ]
  },
  {
   "cell_type": "code",
   "execution_count": 9,
   "metadata": {},
   "outputs": [
    {
     "data": {
      "text/html": [
       "<div>\n",
       "<style scoped>\n",
       "    .dataframe tbody tr th:only-of-type {\n",
       "        vertical-align: middle;\n",
       "    }\n",
       "\n",
       "    .dataframe tbody tr th {\n",
       "        vertical-align: top;\n",
       "    }\n",
       "\n",
       "    .dataframe thead th {\n",
       "        text-align: right;\n",
       "    }\n",
       "</style>\n",
       "<table border=\"1\" class=\"dataframe\">\n",
       "  <thead>\n",
       "    <tr style=\"text-align: right;\">\n",
       "      <th></th>\n",
       "      <th>count</th>\n",
       "      <th>mean</th>\n",
       "      <th>std</th>\n",
       "      <th>min</th>\n",
       "      <th>25%</th>\n",
       "      <th>50%</th>\n",
       "      <th>75%</th>\n",
       "      <th>max</th>\n",
       "    </tr>\n",
       "  </thead>\n",
       "  <tbody>\n",
       "    <tr>\n",
       "      <td>num_orders</td>\n",
       "      <td>4416.0</td>\n",
       "      <td>84.42</td>\n",
       "      <td>45.02</td>\n",
       "      <td>0.0</td>\n",
       "      <td>54.0</td>\n",
       "      <td>78.0</td>\n",
       "      <td>107.0</td>\n",
       "      <td>462.0</td>\n",
       "    </tr>\n",
       "  </tbody>\n",
       "</table>\n",
       "</div>"
      ],
      "text/plain": [
       "             count   mean    std  min   25%   50%    75%    max\n",
       "num_orders  4416.0  84.42  45.02  0.0  54.0  78.0  107.0  462.0"
      ]
     },
     "execution_count": 9,
     "metadata": {},
     "output_type": "execute_result"
    }
   ],
   "source": [
    "df.describe().transpose()"
   ]
  },
  {
   "cell_type": "markdown",
   "metadata": {},
   "source": [
    "### Создание признаков"
   ]
  },
  {
   "cell_type": "markdown",
   "metadata": {},
   "source": [
    "#### Календарные признаки\n",
    "Самые очевидные признаки, которые могут помочь - календарные, создаем в первую очередь. Поскольку срез данных меньше года, **признак месяц не добавляем.** Признак `dayofyear` будет служить базой для учета возможных трендов."
   ]
  },
  {
   "cell_type": "code",
   "execution_count": 10,
   "metadata": {},
   "outputs": [],
   "source": [
    "df['dayofyear'] = df.index.dayofyear \n",
    "df['dayofweek'] = df.index.dayofweek\n",
    "df['hour'] = df.index.hour"
   ]
  },
  {
   "cell_type": "markdown",
   "metadata": {},
   "source": [
    "#### Графический анализ данных"
   ]
  },
  {
   "cell_type": "markdown",
   "metadata": {},
   "source": [
    "Наиболее очевидным циклом возможен суточный и недельный, делаем соответствующую визуализацию данных."
   ]
  },
  {
   "cell_type": "code",
   "execution_count": 11,
   "metadata": {
    "scrolled": false
   },
   "outputs": [
    {
     "data": {
      "image/png": "[encoded data removed]",
      "text/plain": [
       "<Figure size 1152x504 with 1 Axes>"
      ]
     },
     "metadata": {},
     "output_type": "display_data"
    }
   ],
   "source": [
    "\n",
    "plt.figure(figsize=(16, 7))\n",
    "df['num_orders'].plot(ax=plt.gca(), color='navy', alpha=0.3);\n",
    "df['num_orders'].shift(1).rolling(24).mean().plot(ax=plt.gca(), color='orange');\n",
    "df['num_orders'].shift(1).rolling(168).mean().plot(ax=plt.gca(), color='red')\n",
    "plt.title('Число заказов такси в исследуемом периоде', fontsize=16)\n",
    "plt.legend(['MA_24 (сутки)', 'MA_168 (неделя)'], fontsize=14);"
   ]
  },
  {
   "cell_type": "markdown",
   "metadata": {},
   "source": [
    "На графике хорошо **заметен тренд**, число заказов постепенно растет, сервис пользуется все большей популярностью. Дополнительно смотрим циклы в течение дня и недели, для оценки берем среднее значение."
   ]
  },
  {
   "cell_type": "code",
   "execution_count": 12,
   "metadata": {},
   "outputs": [
    {
     "data": {
      "image/png": "[encoded data removed]",
      "text/plain": [
       "<Figure size 1152x360 with 2 Axes>"
      ]
     },
     "metadata": {},
     "output_type": "display_data"
    }
   ],
   "source": [
    "plt.figure(figsize=(16, 5))\n",
    "\n",
    "plt.suptitle('Влияние суточных и недельных циклов на число заказов', fontsize=16)\n",
    "plt.subplot(121)\n",
    "df.groupby(by=['dayofweek'])['num_orders'].mean().plot(color='navy', kind='bar', alpha=0.5)\n",
    "plt.xticks(range(7), ['пн', 'вт', 'ср', 'чт', 'пт', 'сб', 'вс'],  rotation=0, fontsize=14)\n",
    "plt.xlabel('день недели')\n",
    "plt.grid(True)\n",
    "\n",
    "plt.subplot(122)\n",
    "df.groupby(by=['hour'])['num_orders'].mean().plot(color='blue', kind='bar', alpha=0.3);\n",
    "plt.xlabel('время суток')\n",
    "plt.grid(True)"
   ]
  },
  {
   "cell_type": "code",
   "execution_count": 13,
   "metadata": {},
   "outputs": [
    {
     "data": {
      "image/png": "[encoded data removed]",
      "text/plain": [
       "<Figure size 1152x360 with 1 Axes>"
      ]
     },
     "metadata": {},
     "output_type": "display_data"
    }
   ],
   "source": [
    "plt.figure(figsize=(16, 5))\n",
    "df['num_orders'].resample('1D').sum().plot(color='red')\n",
    "plt.title('Число заказов за сутки в исследуемом периоде', fontsize=16);"
   ]
  },
  {
   "cell_type": "markdown",
   "metadata": {},
   "source": [
    "**Выводы:**\\\n",
    "В данных есть растущий тренд. Заметно влияние на число заказов суточного и недельного циклов. Наиболее загружены понедельник и пятница, наименее вторник. По суточному циклу наибольший спад ранним утром: с 5 до 7 часов."
   ]
  },
  {
   "cell_type": "markdown",
   "metadata": {},
   "source": [
    "#### Смещение данных / лаг"
   ]
  },
  {
   "cell_type": "markdown",
   "metadata": {},
   "source": [
    "Чтобы искючить угадывание параметров, решено перед добавлением признаков проанализировать степень их влияния на результат модели. Для решения задачи выбрана самая простая и быстрая модель - линейная регрессия. Созданные признаки передаются модели по дному и отдельно от всех остальных, затем лучшие по метрике RMSE будут добавлены в итоговые признаки.\\\n",
    "**Чтобы исключить утечку целевого признака подбор выполняется на части выборки, которая будет затем использована в качестве тренировочной.**"
   ]
  },
  {
   "cell_type": "code",
   "execution_count": 14,
   "metadata": {},
   "outputs": [],
   "source": [
    "# создание подвыборки для подбора\n",
    "lag_train, lag_test = train_test_split(df['num_orders'], shuffle=False, test_size=0.1)\n",
    "df_lag_train = pd.DataFrame(lag_train)"
   ]
  },
  {
   "cell_type": "code",
   "execution_count": 15,
   "metadata": {},
   "outputs": [],
   "source": [
    "# оптимум будем искать несколько раз\n",
    "# поэтому код обучения модели выделен в отдельную функцию\n",
    "def train_model(data, model, target_column):\n",
    "    data.dropna(inplace=True)    \n",
    "    X = data.drop(target_column, axis=1)\n",
    "    y = data[target_column]\n",
    "    # разделение выборки\n",
    "    X_train, X_test, y_train, y_test = train_test_split(X, y, test_size=0.1, shuffle=False)        \n",
    "    model.fit(X_train, y_train)\n",
    "    return model, X_train, X_test, y_train, y_test"
   ]
  },
  {
   "cell_type": "code",
   "execution_count": 16,
   "metadata": {},
   "outputs": [
    {
     "data": {
      "text/html": [
       "<div>\n",
       "<style scoped>\n",
       "    .dataframe tbody tr th:only-of-type {\n",
       "        vertical-align: middle;\n",
       "    }\n",
       "\n",
       "    .dataframe tbody tr th {\n",
       "        vertical-align: top;\n",
       "    }\n",
       "\n",
       "    .dataframe thead th {\n",
       "        text-align: right;\n",
       "    }\n",
       "</style>\n",
       "<table border=\"1\" class=\"dataframe\">\n",
       "  <thead>\n",
       "    <tr style=\"text-align: right;\">\n",
       "      <th></th>\n",
       "      <th>lag</th>\n",
       "      <th>RMSE_train</th>\n",
       "      <th>RMSE_test</th>\n",
       "    </tr>\n",
       "  </thead>\n",
       "  <tbody>\n",
       "    <tr>\n",
       "      <td>47</td>\n",
       "      <td>48</td>\n",
       "      <td>26.49</td>\n",
       "      <td>37.23</td>\n",
       "    </tr>\n",
       "    <tr>\n",
       "      <td>71</td>\n",
       "      <td>72</td>\n",
       "      <td>27.37</td>\n",
       "      <td>37.66</td>\n",
       "    </tr>\n",
       "    <tr>\n",
       "      <td>95</td>\n",
       "      <td>96</td>\n",
       "      <td>27.40</td>\n",
       "      <td>38.15</td>\n",
       "    </tr>\n",
       "    <tr>\n",
       "      <td>23</td>\n",
       "      <td>24</td>\n",
       "      <td>27.75</td>\n",
       "      <td>39.97</td>\n",
       "    </tr>\n",
       "    <tr>\n",
       "      <td>0</td>\n",
       "      <td>1</td>\n",
       "      <td>30.39</td>\n",
       "      <td>43.98</td>\n",
       "    </tr>\n",
       "    <tr>\n",
       "      <td>48</td>\n",
       "      <td>49</td>\n",
       "      <td>31.70</td>\n",
       "      <td>45.13</td>\n",
       "    </tr>\n",
       "    <tr>\n",
       "      <td>46</td>\n",
       "      <td>47</td>\n",
       "      <td>31.76</td>\n",
       "      <td>45.31</td>\n",
       "    </tr>\n",
       "    <tr>\n",
       "      <td>70</td>\n",
       "      <td>71</td>\n",
       "      <td>32.21</td>\n",
       "      <td>46.74</td>\n",
       "    </tr>\n",
       "    <tr>\n",
       "      <td>24</td>\n",
       "      <td>25</td>\n",
       "      <td>32.37</td>\n",
       "      <td>46.75</td>\n",
       "    </tr>\n",
       "    <tr>\n",
       "      <td>94</td>\n",
       "      <td>95</td>\n",
       "      <td>32.28</td>\n",
       "      <td>46.79</td>\n",
       "    </tr>\n",
       "  </tbody>\n",
       "</table>\n",
       "</div>"
      ],
      "text/plain": [
       "    lag  RMSE_train  RMSE_test\n",
       "47   48       26.49      37.23\n",
       "71   72       27.37      37.66\n",
       "95   96       27.40      38.15\n",
       "23   24       27.75      39.97\n",
       "0     1       30.39      43.98\n",
       "48   49       31.70      45.13\n",
       "46   47       31.76      45.31\n",
       "70   71       32.21      46.74\n",
       "24   25       32.37      46.75\n",
       "94   95       32.28      46.79"
      ]
     },
     "execution_count": 16,
     "metadata": {},
     "output_type": "execute_result"
    }
   ],
   "source": [
    "def lag_optimum_soliter(df, max_lag, target_column ='num_orders'):     \n",
    "    result=[]\n",
    "    model = LinearRegression()\n",
    "    \n",
    "    for lag in range(1, max_lag + 1):\n",
    "        data = pd.DataFrame(df[target_column].copy())\n",
    "        data['lag_{}'.format(lag)] = data[target_column].shift(lag)\n",
    "        model, X_train, X_test, y_train, y_test = train_model(data, model, target_column)\n",
    "        result.append([lag, rmse(y_train, model.predict(X_train)), rmse(y_test, model.predict(X_test))])\n",
    "\n",
    "    df_result = pd.DataFrame(result, columns=['lag', 'RMSE_train', 'RMSE_test'])    \n",
    "    return df_result\n",
    "\n",
    "df_lag_single = lag_optimum_soliter(df_lag_train, 100) \n",
    "df_lag_single.sort_values(by='RMSE_test', ascending=True).head(10)"
   ]
  },
  {
   "cell_type": "markdown",
   "metadata": {},
   "source": [
    "**Наибольшее влияние оказывают лаги кратные суткам 24, 48, 72, 96 и заказы последнего часа - 1.** Поэтому отбираем эти топ-5 для создания признаков, остальные параметры пока не учитываем, чтобы не перегружать модель \"мусорными\" признаками которые находятся во взаимной корреляции."
   ]
  },
  {
   "cell_type": "code",
   "execution_count": 17,
   "metadata": {},
   "outputs": [
    {
     "data": {
      "text/plain": [
       "array([ 1, 24, 48, 72, 96])"
      ]
     },
     "execution_count": 17,
     "metadata": {},
     "output_type": "execute_result"
    }
   ],
   "source": [
    "# список наиболее весомых лагов для создания признаков\n",
    "list_lag_best = np.sort(\n",
    "    df_lag_single.sort_values(by='RMSE_test', ascending=True).head(5)['lag'].values)\n",
    "list_lag_best "
   ]
  },
  {
   "cell_type": "code",
   "execution_count": 18,
   "metadata": {},
   "outputs": [
    {
     "data": {
      "text/html": [
       "<div>\n",
       "<style scoped>\n",
       "    .dataframe tbody tr th:only-of-type {\n",
       "        vertical-align: middle;\n",
       "    }\n",
       "\n",
       "    .dataframe tbody tr th {\n",
       "        vertical-align: top;\n",
       "    }\n",
       "\n",
       "    .dataframe thead th {\n",
       "        text-align: right;\n",
       "    }\n",
       "</style>\n",
       "<table border=\"1\" class=\"dataframe\">\n",
       "  <thead>\n",
       "    <tr style=\"text-align: right;\">\n",
       "      <th></th>\n",
       "      <th>lag</th>\n",
       "      <th>RMSE_train</th>\n",
       "      <th>RMSE_test</th>\n",
       "    </tr>\n",
       "  </thead>\n",
       "  <tbody>\n",
       "    <tr>\n",
       "      <td>47</td>\n",
       "      <td>48</td>\n",
       "      <td>24.02</td>\n",
       "      <td>32.38</td>\n",
       "    </tr>\n",
       "    <tr>\n",
       "      <td>46</td>\n",
       "      <td>47</td>\n",
       "      <td>25.24</td>\n",
       "      <td>33.76</td>\n",
       "    </tr>\n",
       "    <tr>\n",
       "      <td>45</td>\n",
       "      <td>46</td>\n",
       "      <td>25.48</td>\n",
       "      <td>34.33</td>\n",
       "    </tr>\n",
       "    <tr>\n",
       "      <td>23</td>\n",
       "      <td>24</td>\n",
       "      <td>25.14</td>\n",
       "      <td>34.34</td>\n",
       "    </tr>\n",
       "    <tr>\n",
       "      <td>32</td>\n",
       "      <td>33</td>\n",
       "      <td>25.05</td>\n",
       "      <td>34.36</td>\n",
       "    </tr>\n",
       "  </tbody>\n",
       "</table>\n",
       "</div>"
      ],
      "text/plain": [
       "    lag  RMSE_train  RMSE_test\n",
       "47   48       24.02      32.38\n",
       "46   47       25.24      33.76\n",
       "45   46       25.48      34.33\n",
       "23   24       25.14      34.34\n",
       "32   33       25.05      34.36"
      ]
     },
     "execution_count": 18,
     "metadata": {},
     "output_type": "execute_result"
    }
   ],
   "source": [
    "# функция для расчета эффективности\n",
    "# добавления сразу серии лагов от 1 до заданного значения\n",
    "def lag_optimum(df, max_lag, target_column ='num_orders'):     \n",
    "    result=[]\n",
    "    model = LinearRegression()\n",
    "    data = pd.DataFrame(df[target_column].copy())\n",
    "\n",
    "    for lag in range(1, max_lag + 1):        \n",
    "        data['lag_{}'.format(lag)] = data[target_column].shift(lag)\n",
    "        model, X_train, X_test, y_train, y_test = train_model(data, model, target_column)\n",
    "        result.append([lag, rmse(y_train, model.predict(X_train)), rmse(y_test, model.predict(X_test))])\n",
    "\n",
    "    df_result = pd.DataFrame(result, columns=['lag', 'RMSE_train', 'RMSE_test'])    \n",
    "    return df_result\n",
    "\n",
    "df_lag = lag_optimum(df_lag_train, 48)    \n",
    "df_lag.sort_values(by='RMSE_test', ascending=True).head(5)"
   ]
  },
  {
   "cell_type": "markdown",
   "metadata": {},
   "source": [
    "Прослеживается предыдущая зависимость - **наибольший вклад в качество модели при значениях кратных 24.** При этом вероятно только несколько из добавляемых значений реально вносят вклад в эффективность модели, остальные могут даже мешать и ухудшают скорость работы модели. Эксперименты это потом потдтвердили, поэтому **от добавления признаков скопом решено отказаться.** "
   ]
  },
  {
   "cell_type": "markdown",
   "metadata": {},
   "source": [
    "#### Скользящее среднее - MA"
   ]
  },
  {
   "cell_type": "markdown",
   "metadata": {},
   "source": [
    "Аналогичный подход применен при поиске эффектвных параметров скользящего среднего."
   ]
  },
  {
   "cell_type": "code",
   "execution_count": 19,
   "metadata": {},
   "outputs": [],
   "source": [
    "def train_model(data, model, target_column):\n",
    "    data.dropna(inplace=True)    \n",
    "    X = data.drop(target_column, axis=1)\n",
    "    y = data[target_column]\n",
    "    # разделение выборки\n",
    "    X_train, X_test, y_train, y_test = train_test_split(X, y, test_size=0.1, shuffle=False)        \n",
    "    model.fit(X_train, y_train)\n",
    "    return model, X_train, X_test, y_train, y_test"
   ]
  },
  {
   "cell_type": "code",
   "execution_count": 20,
   "metadata": {},
   "outputs": [
    {
     "data": {
      "text/html": [
       "<div>\n",
       "<style scoped>\n",
       "    .dataframe tbody tr th:only-of-type {\n",
       "        vertical-align: middle;\n",
       "    }\n",
       "\n",
       "    .dataframe tbody tr th {\n",
       "        vertical-align: top;\n",
       "    }\n",
       "\n",
       "    .dataframe thead th {\n",
       "        text-align: right;\n",
       "    }\n",
       "</style>\n",
       "<table border=\"1\" class=\"dataframe\">\n",
       "  <thead>\n",
       "    <tr style=\"text-align: right;\">\n",
       "      <th></th>\n",
       "      <th>ma_step</th>\n",
       "      <th>RMSE_train</th>\n",
       "      <th>RMSE_test</th>\n",
       "    </tr>\n",
       "  </thead>\n",
       "  <tbody>\n",
       "    <tr>\n",
       "      <td>0</td>\n",
       "      <td>2</td>\n",
       "      <td>30.90</td>\n",
       "      <td>45.18</td>\n",
       "    </tr>\n",
       "    <tr>\n",
       "      <td>72</td>\n",
       "      <td>74</td>\n",
       "      <td>32.72</td>\n",
       "      <td>45.34</td>\n",
       "    </tr>\n",
       "    <tr>\n",
       "      <td>73</td>\n",
       "      <td>75</td>\n",
       "      <td>32.73</td>\n",
       "      <td>45.39</td>\n",
       "    </tr>\n",
       "    <tr>\n",
       "      <td>74</td>\n",
       "      <td>76</td>\n",
       "      <td>32.80</td>\n",
       "      <td>45.48</td>\n",
       "    </tr>\n",
       "    <tr>\n",
       "      <td>71</td>\n",
       "      <td>73</td>\n",
       "      <td>32.75</td>\n",
       "      <td>45.51</td>\n",
       "    </tr>\n",
       "    <tr>\n",
       "      <td>75</td>\n",
       "      <td>77</td>\n",
       "      <td>32.86</td>\n",
       "      <td>45.58</td>\n",
       "    </tr>\n",
       "    <tr>\n",
       "      <td>48</td>\n",
       "      <td>50</td>\n",
       "      <td>32.64</td>\n",
       "      <td>45.58</td>\n",
       "    </tr>\n",
       "    <tr>\n",
       "      <td>96</td>\n",
       "      <td>98</td>\n",
       "      <td>32.85</td>\n",
       "      <td>45.64</td>\n",
       "    </tr>\n",
       "    <tr>\n",
       "      <td>49</td>\n",
       "      <td>51</td>\n",
       "      <td>32.64</td>\n",
       "      <td>45.66</td>\n",
       "    </tr>\n",
       "    <tr>\n",
       "      <td>76</td>\n",
       "      <td>78</td>\n",
       "      <td>32.93</td>\n",
       "      <td>45.68</td>\n",
       "    </tr>\n",
       "  </tbody>\n",
       "</table>\n",
       "</div>"
      ],
      "text/plain": [
       "    ma_step  RMSE_train  RMSE_test\n",
       "0         2       30.90      45.18\n",
       "72       74       32.72      45.34\n",
       "73       75       32.73      45.39\n",
       "74       76       32.80      45.48\n",
       "71       73       32.75      45.51\n",
       "75       77       32.86      45.58\n",
       "48       50       32.64      45.58\n",
       "96       98       32.85      45.64\n",
       "49       51       32.64      45.66\n",
       "76       78       32.93      45.68"
      ]
     },
     "execution_count": 20,
     "metadata": {},
     "output_type": "execute_result"
    }
   ],
   "source": [
    "# диапазон начинается с 2, иначе это аналог shift\n",
    "def MA_optimum(df, max_ma, target_column ='num_orders'):     \n",
    "    result=[]\n",
    "    model = LinearRegression()\n",
    "    \n",
    "    for step in range(2, max_ma + 1):\n",
    "        data = pd.DataFrame(df[target_column].copy())\n",
    "        data['MA_{}'.format(step)] = df[target_column].shift(1).rolling(step).mean()\n",
    "        model, X_train, X_test, y_train, y_test = train_model(data, model, target_column)\n",
    "        result.append([step, rmse(y_train, model.predict(X_train)), rmse(y_test, model.predict(X_test))])\n",
    "\n",
    "    df_result = pd.DataFrame(result, columns=['ma_step', 'RMSE_train', 'RMSE_test'])    \n",
    "    return df_result\n",
    "\n",
    "df_MA = MA_optimum(df_lag_train, 200) \n",
    "df_MA.sort_values(by='RMSE_test', ascending=True).head(10)"
   ]
  },
  {
   "cell_type": "markdown",
   "metadata": {},
   "source": [
    "Основная цель добавления MA - отслеживать возможные циклы. **Чтобы исключить близкие значения, из топ-10 вручную отобраны 4 наиболее удаленных друг от друга.**"
   ]
  },
  {
   "cell_type": "code",
   "execution_count": 21,
   "metadata": {},
   "outputs": [],
   "source": [
    "list_ma_best = [2, 50, 74, 98]"
   ]
  },
  {
   "cell_type": "markdown",
   "metadata": {},
   "source": [
    "#### Создание дополнительных признаков смещения и MA"
   ]
  },
  {
   "cell_type": "code",
   "execution_count": 22,
   "metadata": {},
   "outputs": [],
   "source": [
    "#############################################################\n",
    "# функциии для добавления в датасет новых расчетных признаков\n",
    "#############################################################\n",
    "\n",
    "# создание признаков - серии лагов от 1 до заданного значения max_lag\n",
    "def make_lag(data, max_lag):     \n",
    "    for lag in range(1, max_lag + 1):\n",
    "        data['lag_{}'.format(lag)] = data['num_orders'].shift(lag)\n",
    "    \n",
    "# создание признаков - серии лагов по заданному списку lag_list\n",
    "def make_lag_from_list(data, lag_list):     \n",
    "    for lag in lag_list:\n",
    "        data['lag_{}'.format(lag)] = data['num_orders'].shift(lag)\n",
    "\n",
    "# создание признаков - скользящих средних по заданному списку ma_list\n",
    "def make_ma_from_list(data, ma_list):     \n",
    "    for step in ma_list:\n",
    "        data['MA_{}'.format(step)] = data['num_orders'].shift(1).rolling(step).mean()"
   ]
  },
  {
   "cell_type": "code",
   "execution_count": 23,
   "metadata": {},
   "outputs": [
    {
     "name": "stdout",
     "output_type": "stream",
     "text": [
      "Отобранные признаки для смещения (shift): [ 1 24 48 72 96]\n",
      "Отобранные признаки для скользящего среднего (МА): [2, 50, 74, 98]\n"
     ]
    }
   ],
   "source": [
    "print('Отобранные признаки для смещения (shift):', list_lag_best)\n",
    "print('Отобранные признаки для скользящего среднего (МА):', list_ma_best)"
   ]
  },
  {
   "cell_type": "code",
   "execution_count": 24,
   "metadata": {},
   "outputs": [],
   "source": [
    "# создаем признаки lag_\n",
    "make_lag_from_list(df, list_lag_best)"
   ]
  },
  {
   "cell_type": "code",
   "execution_count": 25,
   "metadata": {},
   "outputs": [],
   "source": [
    "# создаем признаки ma_\n",
    "make_ma_from_list(df, list_ma_best)"
   ]
  },
  {
   "cell_type": "code",
   "execution_count": 26,
   "metadata": {},
   "outputs": [
    {
     "data": {
      "text/html": [
       "<div>\n",
       "<style scoped>\n",
       "    .dataframe tbody tr th:only-of-type {\n",
       "        vertical-align: middle;\n",
       "    }\n",
       "\n",
       "    .dataframe tbody tr th {\n",
       "        vertical-align: top;\n",
       "    }\n",
       "\n",
       "    .dataframe thead th {\n",
       "        text-align: right;\n",
       "    }\n",
       "</style>\n",
       "<table border=\"1\" class=\"dataframe\">\n",
       "  <thead>\n",
       "    <tr style=\"text-align: right;\">\n",
       "      <th></th>\n",
       "      <th>num_orders</th>\n",
       "      <th>dayofyear</th>\n",
       "      <th>dayofweek</th>\n",
       "      <th>hour</th>\n",
       "      <th>lag_1</th>\n",
       "      <th>lag_24</th>\n",
       "      <th>lag_48</th>\n",
       "      <th>lag_72</th>\n",
       "      <th>lag_96</th>\n",
       "      <th>MA_2</th>\n",
       "      <th>MA_50</th>\n",
       "      <th>MA_74</th>\n",
       "      <th>MA_98</th>\n",
       "    </tr>\n",
       "    <tr>\n",
       "      <th>datetime</th>\n",
       "      <th></th>\n",
       "      <th></th>\n",
       "      <th></th>\n",
       "      <th></th>\n",
       "      <th></th>\n",
       "      <th></th>\n",
       "      <th></th>\n",
       "      <th></th>\n",
       "      <th></th>\n",
       "      <th></th>\n",
       "      <th></th>\n",
       "      <th></th>\n",
       "      <th></th>\n",
       "    </tr>\n",
       "  </thead>\n",
       "  <tbody>\n",
       "    <tr>\n",
       "      <td>2018-03-05 02:00:00</td>\n",
       "      <td>32</td>\n",
       "      <td>64</td>\n",
       "      <td>0</td>\n",
       "      <td>2</td>\n",
       "      <td>176.0</td>\n",
       "      <td>26.0</td>\n",
       "      <td>25.0</td>\n",
       "      <td>75.0</td>\n",
       "      <td>71.0</td>\n",
       "      <td>131.0</td>\n",
       "      <td>53.86</td>\n",
       "      <td>56.74</td>\n",
       "      <td>56.77</td>\n",
       "    </tr>\n",
       "    <tr>\n",
       "      <td>2018-03-05 03:00:00</td>\n",
       "      <td>51</td>\n",
       "      <td>64</td>\n",
       "      <td>0</td>\n",
       "      <td>3</td>\n",
       "      <td>32.0</td>\n",
       "      <td>42.0</td>\n",
       "      <td>64.0</td>\n",
       "      <td>64.0</td>\n",
       "      <td>66.0</td>\n",
       "      <td>104.0</td>\n",
       "      <td>51.24</td>\n",
       "      <td>55.96</td>\n",
       "      <td>55.83</td>\n",
       "    </tr>\n",
       "    <tr>\n",
       "      <td>2018-03-05 04:00:00</td>\n",
       "      <td>34</td>\n",
       "      <td>64</td>\n",
       "      <td>0</td>\n",
       "      <td>4</td>\n",
       "      <td>51.0</td>\n",
       "      <td>27.0</td>\n",
       "      <td>44.0</td>\n",
       "      <td>20.0</td>\n",
       "      <td>43.0</td>\n",
       "      <td>41.5</td>\n",
       "      <td>50.10</td>\n",
       "      <td>55.03</td>\n",
       "      <td>55.48</td>\n",
       "    </tr>\n",
       "  </tbody>\n",
       "</table>\n",
       "</div>"
      ],
      "text/plain": [
       "                     num_orders  dayofyear  dayofweek  hour  lag_1  lag_24  \\\n",
       "datetime                                                                     \n",
       "2018-03-05 02:00:00          32         64          0     2  176.0    26.0   \n",
       "2018-03-05 03:00:00          51         64          0     3   32.0    42.0   \n",
       "2018-03-05 04:00:00          34         64          0     4   51.0    27.0   \n",
       "\n",
       "                     lag_48  lag_72  lag_96   MA_2  MA_50  MA_74  MA_98  \n",
       "datetime                                                                 \n",
       "2018-03-05 02:00:00    25.0    75.0    71.0  131.0  53.86  56.74  56.77  \n",
       "2018-03-05 03:00:00    64.0    64.0    66.0  104.0  51.24  55.96  55.83  \n",
       "2018-03-05 04:00:00    44.0    20.0    43.0   41.5  50.10  55.03  55.48  "
      ]
     },
     "execution_count": 26,
     "metadata": {},
     "output_type": "execute_result"
    }
   ],
   "source": [
    "# оцениваем результат добавления новых признаков\n",
    "df.dropna().head(3)"
   ]
  },
  {
   "cell_type": "markdown",
   "metadata": {},
   "source": []
  },
  {
   "cell_type": "markdown",
   "metadata": {},
   "source": [
    "## Обучение"
   ]
  },
  {
   "cell_type": "code",
   "execution_count": 27,
   "metadata": {},
   "outputs": [],
   "source": [
    "# подгoтовка признаков\n",
    "# удаляем пропуски появившиеся после создания скользящих средних\n",
    "df.dropna(inplace=True)\n",
    "X = df.drop('num_orders', axis=1)\n",
    "y = df['num_orders']\n",
    "# разделение выборки\n",
    "X_train, X_test, y_train, y_test = train_test_split(X, y, test_size=0.1, shuffle=False)"
   ]
  },
  {
   "cell_type": "code",
   "execution_count": 28,
   "metadata": {},
   "outputs": [
    {
     "name": "stdout",
     "output_type": "stream",
     "text": [
      "размер выборки Train: 3886\n",
      "размер выборки Test: 432\n"
     ]
    }
   ],
   "source": [
    "print('размер выборки Train:', y_train.shape[0])\n",
    "print('размер выборки Test:', y_test.shape[0])"
   ]
  },
  {
   "cell_type": "markdown",
   "metadata": {},
   "source": [
    "### Модель базовая Dummy-mean"
   ]
  },
  {
   "cell_type": "code",
   "execution_count": 29,
   "metadata": {},
   "outputs": [
    {
     "name": "stdout",
     "output_type": "stream",
     "text": [
      "оценка RMSE для test: 84.82\n"
     ]
    }
   ],
   "source": [
    "dummy_predict = pd.Series(np.ones(len(y_test)))\n",
    "dummy_predict[:] = y_train.mean()\n",
    "print('оценка RMSE для test: {:.2f}'.format(rmse(y_test, dummy_predict)))"
   ]
  },
  {
   "cell_type": "markdown",
   "metadata": {},
   "source": [
    "### Модель LinearRegression"
   ]
  },
  {
   "cell_type": "code",
   "execution_count": 30,
   "metadata": {},
   "outputs": [
    {
     "name": "stdout",
     "output_type": "stream",
     "text": [
      "оценка RMSE для train: 23.23\n",
      "оценка RMSE для test: 43.75\n"
     ]
    }
   ],
   "source": [
    "model_LR = LinearRegression()\n",
    "model_LR.fit(X_train, y_train)\n",
    "print('оценка RMSE для train: {:.2f}'.format(rmse(y_train, model_LR.predict(X_train))))\n",
    "print('оценка RMSE для test: {:.2f}'.format(rmse(y_test, model_LR.predict(X_test))))"
   ]
  },
  {
   "cell_type": "markdown",
   "metadata": {},
   "source": [
    "### Модель ElasticNet"
   ]
  },
  {
   "cell_type": "code",
   "execution_count": 31,
   "metadata": {},
   "outputs": [
    {
     "name": "stdout",
     "output_type": "stream",
     "text": [
      "лучшие параметры: {'alpha': 1, 'l1_ratio': 0.01}\n",
      "лучшая оценка RMSE на train: 24.90\n",
      "оценка RMSE для test: 43.28\n"
     ]
    }
   ],
   "source": [
    "model_Elast =  ElasticNet(random_state=210610)\n",
    "# вариация параметра l1_ratio позволяет испытать разные модели штрафов: \n",
    "# 0 - Grid, 1 - Lasso, и все промежуточные значения это Elastic\n",
    "params = {  'alpha': [1], \n",
    "            'l1_ratio': [0.01, 0.5, 0.7, 0.9, 0.99]                \n",
    "    } \n",
    "gsc_Elast = GridSearchCV(model_Elast, \n",
    "                   param_grid=params, \n",
    "                   scoring=rmse_score, \n",
    "                   cv=TimeSeriesSplit(n_splits=3).split(X_train))\n",
    "\n",
    "gsc_Elast = gsc_Elast.fit(X_train, y_train)\n",
    "print('лучшие параметры:', gsc_Elast.best_params_)\n",
    "print('лучшая оценка RMSE на train: {:.2f}'.format(-gsc_Elast.best_score_ ))\n",
    "print('оценка RMSE для test: {:.2f}'.format(rmse(y_test, gsc_Elast.predict(X_test))))"
   ]
  },
  {
   "cell_type": "markdown",
   "metadata": {},
   "source": [
    "### Модель LightGBM"
   ]
  },
  {
   "cell_type": "code",
   "execution_count": 32,
   "metadata": {
    "scrolled": true
   },
   "outputs": [
    {
     "name": "stdout",
     "output_type": "stream",
     "text": [
      "Старт обучения...\n",
      "[1]\tvalid_0's rmse: 57.1235\n",
      "Training until validation scores don't improve for 15 rounds\n",
      "[2]\tvalid_0's rmse: 56.4926\n",
      "[3]\tvalid_0's rmse: 55.8957\n",
      "[4]\tvalid_0's rmse: 55.3045\n",
      "[5]\tvalid_0's rmse: 54.7258\n",
      "[6]\tvalid_0's rmse: 54.1792\n",
      "[7]\tvalid_0's rmse: 53.633\n",
      "[8]\tvalid_0's rmse: 53.0775\n",
      "[9]\tvalid_0's rmse: 52.5753\n",
      "[10]\tvalid_0's rmse: 52.0514\n",
      "[11]\tvalid_0's rmse: 51.4608\n",
      "[12]\tvalid_0's rmse: 50.9595\n",
      "[13]\tvalid_0's rmse: 50.4398\n",
      "[14]\tvalid_0's rmse: 49.9501\n",
      "[15]\tvalid_0's rmse: 49.355\n",
      "[16]\tvalid_0's rmse: 48.8165\n",
      "[17]\tvalid_0's rmse: 48.2426\n",
      "[18]\tvalid_0's rmse: 47.7238\n",
      "[19]\tvalid_0's rmse: 47.1976\n",
      "[20]\tvalid_0's rmse: 46.7916\n",
      "[21]\tvalid_0's rmse: 46.4148\n",
      "[22]\tvalid_0's rmse: 46.0333\n",
      "[23]\tvalid_0's rmse: 45.554\n",
      "[24]\tvalid_0's rmse: 45.0659\n",
      "[25]\tvalid_0's rmse: 44.7137\n",
      "[26]\tvalid_0's rmse: 44.2784\n",
      "[27]\tvalid_0's rmse: 43.8295\n",
      "[28]\tvalid_0's rmse: 43.4414\n",
      "[29]\tvalid_0's rmse: 43.1391\n",
      "[30]\tvalid_0's rmse: 42.7305\n",
      "[31]\tvalid_0's rmse: 42.4459\n",
      "[32]\tvalid_0's rmse: 42.0758\n",
      "[33]\tvalid_0's rmse: 41.8126\n",
      "[34]\tvalid_0's rmse: 41.4952\n",
      "[35]\tvalid_0's rmse: 41.1827\n",
      "[36]\tvalid_0's rmse: 40.8826\n",
      "[37]\tvalid_0's rmse: 40.6012\n",
      "[38]\tvalid_0's rmse: 40.3211\n",
      "[39]\tvalid_0's rmse: 40.0803\n",
      "[40]\tvalid_0's rmse: 39.8104\n",
      "[41]\tvalid_0's rmse: 39.5699\n",
      "[42]\tvalid_0's rmse: 39.3522\n",
      "[43]\tvalid_0's rmse: 39.1373\n",
      "[44]\tvalid_0's rmse: 38.9503\n",
      "[45]\tvalid_0's rmse: 38.7508\n",
      "[46]\tvalid_0's rmse: 38.5618\n",
      "[47]\tvalid_0's rmse: 38.3626\n",
      "[48]\tvalid_0's rmse: 38.1923\n",
      "[49]\tvalid_0's rmse: 38.0645\n",
      "[50]\tvalid_0's rmse: 37.9533\n",
      "[51]\tvalid_0's rmse: 37.7721\n",
      "[52]\tvalid_0's rmse: 37.6632\n",
      "[53]\tvalid_0's rmse: 37.4832\n",
      "[54]\tvalid_0's rmse: 37.3818\n",
      "[55]\tvalid_0's rmse: 37.2917\n",
      "[56]\tvalid_0's rmse: 37.148\n",
      "[57]\tvalid_0's rmse: 36.9699\n",
      "[58]\tvalid_0's rmse: 36.8541\n",
      "[59]\tvalid_0's rmse: 36.7586\n",
      "[60]\tvalid_0's rmse: 36.6464\n",
      "[61]\tvalid_0's rmse: 36.5227\n",
      "[62]\tvalid_0's rmse: 36.4184\n",
      "[63]\tvalid_0's rmse: 36.2707\n",
      "[64]\tvalid_0's rmse: 36.1638\n",
      "[65]\tvalid_0's rmse: 36.0667\n",
      "[66]\tvalid_0's rmse: 35.9809\n",
      "[67]\tvalid_0's rmse: 35.8925\n",
      "[68]\tvalid_0's rmse: 35.8193\n",
      "[69]\tvalid_0's rmse: 35.7375\n",
      "[70]\tvalid_0's rmse: 35.6571\n",
      "[71]\tvalid_0's rmse: 35.5715\n",
      "[72]\tvalid_0's rmse: 35.484\n",
      "[73]\tvalid_0's rmse: 35.4116\n",
      "[74]\tvalid_0's rmse: 35.3503\n",
      "[75]\tvalid_0's rmse: 35.2717\n",
      "[76]\tvalid_0's rmse: 35.1981\n",
      "[77]\tvalid_0's rmse: 35.1247\n",
      "[78]\tvalid_0's rmse: 35.0834\n",
      "[79]\tvalid_0's rmse: 35.0305\n",
      "[80]\tvalid_0's rmse: 34.9678\n",
      "[81]\tvalid_0's rmse: 34.9344\n",
      "[82]\tvalid_0's rmse: 34.8626\n",
      "[83]\tvalid_0's rmse: 34.7936\n",
      "[84]\tvalid_0's rmse: 34.7495\n",
      "[85]\tvalid_0's rmse: 34.6853\n",
      "[86]\tvalid_0's rmse: 34.6372\n",
      "[87]\tvalid_0's rmse: 34.5725\n",
      "[88]\tvalid_0's rmse: 34.512\n",
      "[89]\tvalid_0's rmse: 34.4796\n",
      "[90]\tvalid_0's rmse: 34.4531\n",
      "[91]\tvalid_0's rmse: 34.4016\n",
      "[92]\tvalid_0's rmse: 34.3743\n",
      "[93]\tvalid_0's rmse: 34.3493\n",
      "[94]\tvalid_0's rmse: 34.3168\n",
      "[95]\tvalid_0's rmse: 34.2727\n",
      "[96]\tvalid_0's rmse: 34.2401\n",
      "[97]\tvalid_0's rmse: 34.2095\n",
      "[98]\tvalid_0's rmse: 34.1779\n",
      "[99]\tvalid_0's rmse: 34.1534\n",
      "[100]\tvalid_0's rmse: 34.1175\n",
      "[101]\tvalid_0's rmse: 34.0769\n",
      "[102]\tvalid_0's rmse: 34.0506\n",
      "[103]\tvalid_0's rmse: 34.014\n",
      "[104]\tvalid_0's rmse: 33.9803\n",
      "[105]\tvalid_0's rmse: 33.9431\n",
      "[106]\tvalid_0's rmse: 33.9188\n",
      "[107]\tvalid_0's rmse: 33.8843\n",
      "[108]\tvalid_0's rmse: 33.8431\n",
      "[109]\tvalid_0's rmse: 33.8404\n",
      "[110]\tvalid_0's rmse: 33.8278\n",
      "[111]\tvalid_0's rmse: 33.8098\n",
      "[112]\tvalid_0's rmse: 33.7904\n",
      "[113]\tvalid_0's rmse: 33.7622\n",
      "[114]\tvalid_0's rmse: 33.7338\n",
      "[115]\tvalid_0's rmse: 33.696\n",
      "[116]\tvalid_0's rmse: 33.6535\n",
      "[117]\tvalid_0's rmse: 33.6396\n",
      "[118]\tvalid_0's rmse: 33.604\n",
      "[119]\tvalid_0's rmse: 33.5662\n",
      "[120]\tvalid_0's rmse: 33.5421\n",
      "[121]\tvalid_0's rmse: 33.5422\n",
      "[122]\tvalid_0's rmse: 33.5257\n",
      "[123]\tvalid_0's rmse: 33.497\n",
      "[124]\tvalid_0's rmse: 33.4811\n",
      "[125]\tvalid_0's rmse: 33.4769\n",
      "[126]\tvalid_0's rmse: 33.4682\n",
      "[127]\tvalid_0's rmse: 33.4646\n",
      "[128]\tvalid_0's rmse: 33.4557\n",
      "[129]\tvalid_0's rmse: 33.454\n",
      "[130]\tvalid_0's rmse: 33.4457\n",
      "[131]\tvalid_0's rmse: 33.4595\n",
      "[132]\tvalid_0's rmse: 33.4497\n",
      "[133]\tvalid_0's rmse: 33.4273\n",
      "[134]\tvalid_0's rmse: 33.4105\n",
      "[135]\tvalid_0's rmse: 33.3937\n",
      "[136]\tvalid_0's rmse: 33.3819\n",
      "[137]\tvalid_0's rmse: 33.3852\n",
      "[138]\tvalid_0's rmse: 33.3674\n",
      "[139]\tvalid_0's rmse: 33.3611\n",
      "[140]\tvalid_0's rmse: 33.3436\n",
      "[141]\tvalid_0's rmse: 33.3295\n",
      "[142]\tvalid_0's rmse: 33.3139\n",
      "[143]\tvalid_0's rmse: 33.3092\n",
      "[144]\tvalid_0's rmse: 33.2913\n",
      "[145]\tvalid_0's rmse: 33.2785\n",
      "[146]\tvalid_0's rmse: 33.2739\n",
      "[147]\tvalid_0's rmse: 33.2689\n",
      "[148]\tvalid_0's rmse: 33.2468\n",
      "[149]\tvalid_0's rmse: 33.2376\n",
      "[150]\tvalid_0's rmse: 33.2198\n",
      "[151]\tvalid_0's rmse: 33.1955\n",
      "[152]\tvalid_0's rmse: 33.1965\n",
      "[153]\tvalid_0's rmse: 33.1784\n",
      "[154]\tvalid_0's rmse: 33.1642\n",
      "[155]\tvalid_0's rmse: 33.1532\n",
      "[156]\tvalid_0's rmse: 33.1358\n",
      "[157]\tvalid_0's rmse: 33.1253\n",
      "[158]\tvalid_0's rmse: 33.1068\n",
      "[159]\tvalid_0's rmse: 33.0953\n",
      "[160]\tvalid_0's rmse: 33.0956\n",
      "[161]\tvalid_0's rmse: 33.0879\n",
      "[162]\tvalid_0's rmse: 33.0806\n",
      "[163]\tvalid_0's rmse: 33.086\n",
      "[164]\tvalid_0's rmse: 33.0883\n",
      "[165]\tvalid_0's rmse: 33.082\n",
      "[166]\tvalid_0's rmse: 33.0844\n",
      "[167]\tvalid_0's rmse: 33.088\n",
      "[168]\tvalid_0's rmse: 33.0919\n",
      "[169]\tvalid_0's rmse: 33.096\n",
      "[170]\tvalid_0's rmse: 33.0996\n",
      "[171]\tvalid_0's rmse: 33.1039\n",
      "[172]\tvalid_0's rmse: 33.0922\n",
      "[173]\tvalid_0's rmse: 33.0878\n",
      "[174]\tvalid_0's rmse: 33.089\n",
      "[175]\tvalid_0's rmse: 33.078\n",
      "[176]\tvalid_0's rmse: 33.0803\n",
      "[177]\tvalid_0's rmse: 33.0767\n",
      "[178]\tvalid_0's rmse: 33.0767\n",
      "[179]\tvalid_0's rmse: 33.0752\n",
      "[180]\tvalid_0's rmse: 33.0734\n",
      "[181]\tvalid_0's rmse: 33.0746\n",
      "[182]\tvalid_0's rmse: 33.0765\n",
      "[183]\tvalid_0's rmse: 33.0723\n",
      "[184]\tvalid_0's rmse: 33.0734\n",
      "[185]\tvalid_0's rmse: 33.0603\n",
      "[186]\tvalid_0's rmse: 33.0604\n",
      "[187]\tvalid_0's rmse: 33.0503\n",
      "[188]\tvalid_0's rmse: 33.0579\n",
      "[189]\tvalid_0's rmse: 33.0627\n",
      "[190]\tvalid_0's rmse: 33.0505\n",
      "[191]\tvalid_0's rmse: 33.0572\n",
      "[192]\tvalid_0's rmse: 33.0416\n",
      "[193]\tvalid_0's rmse: 33.0222\n",
      "[194]\tvalid_0's rmse: 33.0014\n",
      "[195]\tvalid_0's rmse: 32.9883\n",
      "[196]\tvalid_0's rmse: 32.9785\n",
      "[197]\tvalid_0's rmse: 32.9642\n",
      "[198]\tvalid_0's rmse: 32.9588\n",
      "[199]\tvalid_0's rmse: 32.953\n",
      "[200]\tvalid_0's rmse: 32.9476\n",
      "[201]\tvalid_0's rmse: 32.9321\n",
      "[202]\tvalid_0's rmse: 32.9313\n",
      "[203]\tvalid_0's rmse: 32.9267\n",
      "[204]\tvalid_0's rmse: 32.9328\n",
      "[205]\tvalid_0's rmse: 32.9261\n",
      "[206]\tvalid_0's rmse: 32.9125\n",
      "[207]\tvalid_0's rmse: 32.9086\n",
      "[208]\tvalid_0's rmse: 32.8987\n",
      "[209]\tvalid_0's rmse: 32.8962\n",
      "[210]\tvalid_0's rmse: 32.8892\n",
      "[211]\tvalid_0's rmse: 32.8821\n",
      "[212]\tvalid_0's rmse: 32.8797\n",
      "[213]\tvalid_0's rmse: 32.8766\n",
      "[214]\tvalid_0's rmse: 32.8735\n",
      "[215]\tvalid_0's rmse: 32.8764\n",
      "[216]\tvalid_0's rmse: 32.8917\n",
      "[217]\tvalid_0's rmse: 32.8919\n",
      "[218]\tvalid_0's rmse: 32.8901\n",
      "[219]\tvalid_0's rmse: 32.8865\n",
      "[220]\tvalid_0's rmse: 32.8858\n",
      "[221]\tvalid_0's rmse: 32.8966\n",
      "[222]\tvalid_0's rmse: 32.8972\n",
      "[223]\tvalid_0's rmse: 32.9086\n",
      "[224]\tvalid_0's rmse: 32.9035\n",
      "[225]\tvalid_0's rmse: 32.9014\n",
      "[226]\tvalid_0's rmse: 32.9117\n",
      "[227]\tvalid_0's rmse: 32.9213\n",
      "[228]\tvalid_0's rmse: 32.9202\n",
      "[229]\tvalid_0's rmse: 32.9321\n",
      "Early stopping, best iteration is:\n",
      "[214]\tvalid_0's rmse: 32.8735\n",
      "Модель LightGBM\n",
      "RMSE предсказания: 48.91040441139916\n",
      "CPU times: user 22.5 s, sys: 100 ms, total: 22.6 s\n",
      "Wall time: 23.1 s\n"
     ]
    }
   ],
   "source": [
    "%%time\n",
    "X_train_lgb, X_valid_lgb, y_train_lgb, y_valid_lgb = train_test_split(X_train, y_train, \n",
    "                                                                      test_size=0.1, shuffle=False)\n",
    "lgb_train = lgb.Dataset(X_train_lgb, y_train_lgb )\n",
    "lgb_eval = lgb.Dataset(X_valid_lgb, y_valid_lgb, reference=lgb_train)\n",
    "\n",
    "# словарь с параметрами\n",
    "params = {\n",
    "    'num_iterations': 300,\n",
    "    'boosting_type': 'gbdt',\n",
    "    'objective': 'regression',\n",
    "    'metric': {'root_mean_squared_error'},\n",
    "    'num_leaves': 168,\n",
    "    'min_data_in_leaf': 5,\n",
    "    'max_bin': 1000,\n",
    "    'learning_rate': 0.02,\n",
    "    #'device_type': 'gpu',\n",
    "    'verbose': 1\n",
    "}\n",
    "\n",
    "print('Старт обучения...')\n",
    "\n",
    "gbm = lgb.train(params,\n",
    "                lgb_train,\n",
    "                num_boost_round=20,\n",
    "                valid_sets=lgb_eval,\n",
    "                early_stopping_rounds=15\n",
    "                )\n",
    "\n",
    "print('Модель LightGBM')\n",
    "print('RMSE предсказания:', rmse(y_test, gbm.predict(X_test, num_iteration=gbm.best_iteration)))"
   ]
  },
  {
   "cell_type": "markdown",
   "metadata": {},
   "source": [
    "**С моделью Lightgbm удачные параметры подобрать не удалось.**"
   ]
  },
  {
   "cell_type": "markdown",
   "metadata": {},
   "source": [
    "### Модель Хольта-Винтерса\n",
    "\n",
    "Модель тройного экпоненциального сглаживания Хольта-Винтерса и код честно скопированы и адаптированы из: https://habr.com/ru/company/ods/blog/327242/\n",
    "\n",
    "В п.3.5.1 практически нет доработок и выполнен прогноз на 24 часа вперед, в 3.5.2 сделана адаптация под задачу проекта - прогноз на 1 час во всем диапазоне тестовой выборки (для корректного сравнения эффективности с другими моделями)"
   ]
  },
  {
   "cell_type": "markdown",
   "metadata": {},
   "source": [
    "#### Прогноз на 24 часа"
   ]
  },
  {
   "cell_type": "code",
   "execution_count": 33,
   "metadata": {},
   "outputs": [],
   "source": [
    "class HoltWinters:\n",
    "\n",
    "    \"\"\"\n",
    "    Модель Хольта-Винтерса с методом Брутлага для детектирования аномалий\n",
    "    https://fedcsis.org/proceedings/2012/pliks/118.pdf\n",
    "\n",
    "    # series - исходный временной ряд\n",
    "    # slen - длина сезона\n",
    "    # alpha, beta, gamma - коэффициенты модели Хольта-Винтерса\n",
    "    # n_preds - горизонт предсказаний\n",
    "    # scaling_factor - задаёт ширину доверительного интервала по Брутлагу (обычно принимает значения от 2 до 3)\n",
    "\n",
    "    \"\"\"\n",
    "\n",
    "    def __init__(self, series, slen, alpha, beta, gamma, n_preds, scaling_factor=2):\n",
    "        self.series = series\n",
    "        self.slen = slen\n",
    "        self.alpha = alpha\n",
    "        self.beta = beta\n",
    "        self.gamma = gamma\n",
    "        self.n_preds = n_preds\n",
    "        self.scaling_factor = scaling_factor\n",
    "\n",
    "    def initial_trend(self):\n",
    "        sum = 0.0\n",
    "        for i in range(self.slen):\n",
    "            sum += float(self.series[i+self.slen] - self.series[i]) / self.slen\n",
    "        return sum / self.slen  \n",
    "\n",
    "    def initial_seasonal_components(self):\n",
    "        seasonals = {}\n",
    "        season_averages = []\n",
    "        n_seasons = int(len(self.series)/self.slen)\n",
    "        # вычисляем сезонные средние\n",
    "        for j in range(n_seasons):\n",
    "            season_averages.append(sum(self.series[self.slen*j:self.slen*j+self.slen])/float(self.slen))\n",
    "        # вычисляем начальные значения\n",
    "        for i in range(self.slen):\n",
    "            sum_of_vals_over_avg = 0.0\n",
    "            for j in range(n_seasons):\n",
    "                sum_of_vals_over_avg += self.series[self.slen*j+i]-season_averages[j]\n",
    "            seasonals[i] = sum_of_vals_over_avg/n_seasons\n",
    "        return seasonals   \n",
    "\n",
    "    def triple_exponential_smoothing(self):\n",
    "        self.result = []\n",
    "        self.Smooth = []\n",
    "        self.Season = []\n",
    "        self.Trend = []\n",
    "        self.PredictedDeviation = []\n",
    "        self.UpperBond = []\n",
    "        self.LowerBond = []\n",
    "\n",
    "        seasonals = self.initial_seasonal_components()\n",
    "\n",
    "        for i in range(len(self.series)+self.n_preds):\n",
    "            if i == 0: # инициализируем значения компонент\n",
    "                smooth = self.series[0]\n",
    "                trend = self.initial_trend()\n",
    "                self.result.append(self.series[0])\n",
    "                self.Smooth.append(smooth)\n",
    "                self.Trend.append(trend)\n",
    "                self.Season.append(seasonals[i%self.slen])\n",
    "\n",
    "                self.PredictedDeviation.append(0)\n",
    "\n",
    "                self.UpperBond.append(self.result[0] + \n",
    "                                      self.scaling_factor * \n",
    "                                      self.PredictedDeviation[0])\n",
    "\n",
    "                self.LowerBond.append(self.result[0] - \n",
    "                                      self.scaling_factor * \n",
    "                                      self.PredictedDeviation[0])\n",
    "\n",
    "                continue\n",
    "            if i >= len(self.series): # прогнозируем\n",
    "                m = i - len(self.series) + 1\n",
    "                self.result.append((smooth + m*trend) + seasonals[i%self.slen])\n",
    "\n",
    "                # во время прогноза с каждым шагом увеличиваем неопределенность\n",
    "                self.PredictedDeviation.append(self.PredictedDeviation[-1]*1.01) \n",
    "\n",
    "            else:\n",
    "                val = self.series[i]\n",
    "                last_smooth, smooth = smooth, self.alpha*(val-seasonals[i%self.slen]) + (1-self.alpha)*(smooth+trend)\n",
    "                trend = self.beta * (smooth-last_smooth) + (1-self.beta)*trend\n",
    "                seasonals[i%self.slen] = self.gamma*(val-smooth) + (1-self.gamma)*seasonals[i%self.slen]\n",
    "                self.result.append(smooth+trend+seasonals[i%self.slen])\n",
    "\n",
    "                # Отклонение рассчитывается в соответствии с алгоритмом Брутлага\n",
    "                self.PredictedDeviation.append(self.gamma * np.abs(self.series[i] - self.result[i]) \n",
    "                                               + (1-self.gamma)*self.PredictedDeviation[-1])\n",
    "\n",
    "            self.UpperBond.append(self.result[-1] + \n",
    "                                  self.scaling_factor * \n",
    "                                  self.PredictedDeviation[-1])\n",
    "\n",
    "            self.LowerBond.append(self.result[-1] - \n",
    "                                  self.scaling_factor * \n",
    "                                  self.PredictedDeviation[-1])\n",
    "\n",
    "            self.Smooth.append(smooth)\n",
    "            self.Trend.append(trend)\n",
    "            self.Season.append(seasonals[i % self.slen])"
   ]
  },
  {
   "cell_type": "code",
   "execution_count": 34,
   "metadata": {},
   "outputs": [],
   "source": [
    "def timeseriesCVscore(x):\n",
    "    # вектор ошибок\n",
    "    errors = []\n",
    "\n",
    "    values = data.values\n",
    "    alpha, beta, gamma = x\n",
    "\n",
    "    # задаём число фолдов для кросс-валидации\n",
    "    tscv = TimeSeriesSplit(n_splits=3) \n",
    "\n",
    "    # идем по фолдам, на каждом обучаем модель, строим прогноз на отложенной выборке и считаем ошибку\n",
    "    for train, test in tscv.split(values):\n",
    "\n",
    "        model = HoltWinters(series=values[train], slen = 24*7, alpha=alpha, beta=beta, gamma=gamma, n_preds=len(test))\n",
    "        model.triple_exponential_smoothing()\n",
    "\n",
    "        predictions = model.result[-len(test):]\n",
    "        actual = values[test]\n",
    "        error = mean_squared_error(predictions, actual)\n",
    "        errors.append(error)\n",
    "\n",
    "    # Возвращаем средний квадрат ошибки по вектору ошибок \n",
    "    return np.mean(np.array(errors))"
   ]
  },
  {
   "cell_type": "markdown",
   "metadata": {},
   "source": [
    "**Обучение модели Хольта-Винтерса**"
   ]
  },
  {
   "cell_type": "code",
   "execution_count": 35,
   "metadata": {},
   "outputs": [
    {
     "name": "stdout",
     "output_type": "stream",
     "text": [
      "alfa: 0.0003  betta: 0.0014  gamma:0.2689\n",
      "CPU times: user 45.5 s, sys: 0 ns, total: 45.5 s\n",
      "Wall time: 46.2 s\n"
     ]
    }
   ],
   "source": [
    "%%time\n",
    "##################################\n",
    "# обучение модели на выборке train\n",
    "##################################\n",
    "data = y_train\n",
    "# data = df.num_orders\n",
    "\n",
    "# инициализируем значения параметров\n",
    "x = [0, 0, 0] \n",
    "\n",
    "# Минимизируем функцию потерь с ограничениями на параметры\n",
    "# начальные диапазоны поиска должны быть [0, 1], в коде сжаты вокруг оптимума \n",
    "opt = minimize(timeseriesCVscore, x0=x, method=\"TNC\", bounds = ((0, 0.1), (0, 0.1), (0.2, 0.4)))\n",
    "\n",
    "# Из оптимизатора берем оптимальное значение параметров\n",
    "alpha_final, beta_final, gamma_final = opt.x\n",
    "print('alfa: {:.4f}  betta: {:.4f}  gamma:{:.4f}'.format(alpha_final, beta_final, gamma_final))"
   ]
  },
  {
   "cell_type": "code",
   "execution_count": 36,
   "metadata": {
    "scrolled": true
   },
   "outputs": [
    {
     "name": "stdout",
     "output_type": "stream",
     "text": [
      "размер общей выборки: 4318\n",
      "размер выборки train: 3886\n",
      "размер выборки test: 432\n"
     ]
    }
   ],
   "source": [
    "print('размер общей выборки:', df.shape[0])\n",
    "print('размер выборки train:', y_train.shape[0])\n",
    "print('размер выборки test:', y_test.shape[0])"
   ]
  },
  {
   "cell_type": "code",
   "execution_count": 37,
   "metadata": {},
   "outputs": [
    {
     "data": {
      "image/png": "[encoded data removed]",
      "text/plain": [
       "<Figure size 1152x576 with 1 Axes>"
      ]
     },
     "metadata": {},
     "output_type": "display_data"
    }
   ],
   "source": [
    "#######################################################\n",
    "# дальность предсказаний в выбранных интервалах (часах)\n",
    "n_preds = 24\n",
    "#######################################################\n",
    "data = df.num_orders\n",
    "model = HoltWinters(\n",
    "                    data[:-y_test.shape[0]], \n",
    "                    slen = 24*7, alpha = alpha_final, beta = beta_final, \n",
    "                    gamma = gamma_final, n_preds = n_preds, scaling_factor = 2.56)\n",
    "model.triple_exponential_smoothing()\n",
    "\n",
    "def plotHoltWinters():\n",
    "    #Anomalies = np.array([np.NaN]*len(data))\n",
    "    #Anomalies[data.values<model.LowerBond] = data.values[data.values<model.LowerBond]\n",
    "    plt.figure(figsize=(16, 8))\n",
    "    plt.title('Прогноз заказов на 24 часа вперед (прогноз/факт)', fontsize=16)\n",
    "    plt.plot(model.result, label = \"Прогноз\")\n",
    "    plt.plot(model.UpperBond, \"r--\", alpha=0.4, label = \"доверительный интервал\")\n",
    "    plt.plot(model.LowerBond, \"r--\", alpha=0.4)\n",
    "    plt.fill_between(x=range(0,len(model.result)), y1=model.UpperBond, y2=model.LowerBond, alpha=0.5, color = \"grey\")\n",
    "    plt.plot(data.values, label = \"Факт\")\n",
    "    #plt.plot(Anomalies, \"o\", markersize=10, label = \"Anomalies\")\n",
    "    #plt.axvspan(len(data)-1, len(data), alpha=0.5, color='lightgrey')\n",
    "    plt.grid(True)\n",
    "    plt.axis('tight')\n",
    "    plt.legend(loc=\"best\", fontsize=14)\n",
    "    plt.xlim((df.shape[0] - y_test.shape[0]), \n",
    "             len(model.result));\n",
    "\n",
    "plotHoltWinters()"
   ]
  },
  {
   "cell_type": "markdown",
   "metadata": {},
   "source": [
    "**Модель дает качественные долгосрочные предсказания.**"
   ]
  },
  {
   "cell_type": "markdown",
   "metadata": {},
   "source": [
    "#### Прогноз на 1 час. Адаптация под проектный датасет"
   ]
  },
  {
   "cell_type": "markdown",
   "metadata": {},
   "source": [
    "Сдесь сделана адаптация модели под проект. Посокльку по заданию предсказание нужно сделать на ближайший час, модель строится по доступным данным, делается предсказание на ближайший час, после чего диапазон доступных данных спмещается на час вперед и т.д.\n",
    "Размер выборки для расчета сделан одинаковым с тестовым для остальных моделей.\n",
    "При этом тест проводится в более жестких условиях чем для других моделей, посокольку не используются никакие дополнительные признаки содержащие по сути утечку информации от текущем состоянии цикла."
   ]
  },
  {
   "cell_type": "code",
   "execution_count": 38,
   "metadata": {},
   "outputs": [
    {
     "name": "stdout",
     "output_type": "stream",
     "text": [
      "размер общей выборки: 4318\n",
      "размер выборки train: 3886\n",
      "размер выборки test: 432\n"
     ]
    }
   ],
   "source": [
    "print('размер общей выборки:', df.shape[0])\n",
    "print('размер выборки train:', y_train.shape[0])\n",
    "print('размер выборки test:', y_test.shape[0])"
   ]
  },
  {
   "cell_type": "code",
   "execution_count": 39,
   "metadata": {},
   "outputs": [],
   "source": [
    "##########################################\n",
    "# код для отладки работы цикла\n",
    "##########################################\n",
    "# def HoltWinters_predict(df, test_size):\n",
    "#     data = df\n",
    "#     HoltWinters_result=[]\n",
    "#     print('--------старт--------')\n",
    "#     print('всего предсказаний', test_size - 1)\n",
    "#     print('---------------------')\n",
    "#     #print('     - осталось', end=\" \" )\n",
    "#     for i in range(test_size, 1, -1):\n",
    "#         model = HoltWinters(data[:-i], slen = 24*7, \n",
    "#                 alpha = alpha_final, beta = beta_final, gamma = gamma_final, \n",
    "#                 n_preds = 1, scaling_factor = 2.56)\n",
    "#         model.triple_exponential_smoothing()\n",
    "#         HoltWinters_result.append([data.index[-i], i, model.result[-1], data[-i], \n",
    "#                                    rmse(data.iloc[:(-i+1)], model.result)])\n",
    "        \n",
    "#         print('\\rосталось      - {:6.0f}'.format(i - 1), end='', flush=True) \n",
    "#     df_HoltWinters_result=pd.DataFrame(HoltWinters_result, \n",
    "#                                        columns=['datetime', 'iter', 'predict', 'test', 'rmse_train'])\n",
    "#     df_HoltWinters_result.set_index('datetime') \n",
    "#     return df_HoltWinters_result\n",
    "\n",
    "# TEST_SIZE = 15\n",
    "# #TEST_SIZE = y_test.shape[0]\n",
    "\n",
    "# df_for_model = df['num_orders']\n",
    "# df_HoltWinters_predict = HoltWinters_predict(df_for_model, TEST_SIZE)\n",
    "# print(rmse(df_HoltWinters_predict['test'] , df_HoltWinters_predict['predict']))\n",
    "# df_HoltWinters_predict.set_index('datetime', inplace=True)\n",
    "\n",
    "# plt.figure(figsize=(16, 8))\n",
    "# df_HoltWinters_predict.plot(ax=plt.gca());"
   ]
  },
  {
   "cell_type": "code",
   "execution_count": 40,
   "metadata": {},
   "outputs": [],
   "source": [
    "def HoltWinters_predict(df, test_size, n_preds=1):\n",
    "    data = df\n",
    "    HoltWinters_result=[]\n",
    "    print('--------старт--------')\n",
    "    print('всего предсказаний', test_size - 1)\n",
    "    print('---------------------')\n",
    "    #print('     - осталось', end=\" \" )\n",
    "    for i in range(test_size, 1, -1):\n",
    "        model = HoltWinters(data[:-i], slen = 24*7, \n",
    "                alpha = alpha_final, beta = beta_final, gamma = gamma_final, \n",
    "                n_preds = n_preds, scaling_factor = 2.56)\n",
    "        model.triple_exponential_smoothing()\n",
    "        HoltWinters_result.append([data.index[-i], i, model.result[-1], data[-i], \n",
    "                                   rmse(data.iloc[:(-i+1)], model.result)])\n",
    "        \n",
    "        print('\\rосталось      - {:6.0f}'.format(i - 1), end='', flush=True) \n",
    "    df_HoltWinters_result=pd.DataFrame(HoltWinters_result, \n",
    "                                       columns=['datetime', 'iter', 'predict', 'test', 'rmse_train'])\n",
    "    df_HoltWinters_result.set_index('datetime') \n",
    "    return df_HoltWinters_result"
   ]
  },
  {
   "cell_type": "markdown",
   "metadata": {},
   "source": [
    "**ВНИМАНИЕ!**\n",
    "\n",
    "Следующая ячейка может выполняться несколько минут (для удобства добавлен счетчик итераций). По умолчанию расчет выполняется на размер тестовой выборки для корректного сравнения с результатами остальных моделей. Для сокращения времени работы можно  уменьшить константу  **TEST_SIZE**, но собъется расчет итогов в конце проекта."
   ]
  },
  {
   "cell_type": "code",
   "execution_count": 41,
   "metadata": {},
   "outputs": [
    {
     "name": "stdout",
     "output_type": "stream",
     "text": [
      "--------старт--------\n",
      "всего предсказаний 431\n",
      "---------------------\n",
      "осталось      -      1\n",
      "\n",
      "RMSE на тестовой выборке: 38.719681339542234\n"
     ]
    }
   ],
   "source": [
    "# TEST_SIZE = 15\n",
    "TEST_SIZE = y_test.shape[0]\n",
    "\n",
    "df_for_model = df.num_orders\n",
    "df_HoltWinters_predict = HoltWinters_predict(df_for_model, TEST_SIZE)\n",
    "df_HoltWinters_predict.set_index('datetime', inplace=True)\n",
    "print('\\n')\n",
    "print('RMSE на тестовой выборке:', rmse(df_HoltWinters_predict['test'] , df_HoltWinters_predict['predict']))"
   ]
  },
  {
   "cell_type": "code",
   "execution_count": 42,
   "metadata": {},
   "outputs": [
    {
     "name": "stdout",
     "output_type": "stream",
     "text": [
      "\n",
      "\n",
      "RMSE на тестовой выборке: 38.719681339542234\n"
     ]
    }
   ],
   "source": [
    "print('\\n')\n",
    "print('RMSE на тестовой выборке:', rmse(df_HoltWinters_predict['test'] , df_HoltWinters_predict['predict']))"
   ]
  },
  {
   "cell_type": "markdown",
   "metadata": {},
   "source": [
    "## Тестирование"
   ]
  },
  {
   "cell_type": "code",
   "execution_count": 43,
   "metadata": {},
   "outputs": [
    {
     "data": {
      "text/html": [
       "<div>\n",
       "<style scoped>\n",
       "    .dataframe tbody tr th:only-of-type {\n",
       "        vertical-align: middle;\n",
       "    }\n",
       "\n",
       "    .dataframe tbody tr th {\n",
       "        vertical-align: top;\n",
       "    }\n",
       "\n",
       "    .dataframe thead th {\n",
       "        text-align: right;\n",
       "    }\n",
       "</style>\n",
       "<table border=\"1\" class=\"dataframe\">\n",
       "  <thead>\n",
       "    <tr style=\"text-align: right;\">\n",
       "      <th></th>\n",
       "      <th>Y_test</th>\n",
       "      <th>Mean</th>\n",
       "      <th>LR</th>\n",
       "      <th>Elastic</th>\n",
       "      <th>LGB</th>\n",
       "      <th>HW</th>\n",
       "    </tr>\n",
       "    <tr>\n",
       "      <th>datetime</th>\n",
       "      <th></th>\n",
       "      <th></th>\n",
       "      <th></th>\n",
       "      <th></th>\n",
       "      <th></th>\n",
       "      <th></th>\n",
       "    </tr>\n",
       "  </thead>\n",
       "  <tbody>\n",
       "    <tr>\n",
       "      <td>2018-08-14 00:00:00</td>\n",
       "      <td>139</td>\n",
       "      <td>78.95</td>\n",
       "      <td>184.52</td>\n",
       "      <td>183.77</td>\n",
       "      <td>161.99</td>\n",
       "      <td>159.33</td>\n",
       "    </tr>\n",
       "    <tr>\n",
       "      <td>2018-08-14 01:00:00</td>\n",
       "      <td>231</td>\n",
       "      <td>78.95</td>\n",
       "      <td>172.16</td>\n",
       "      <td>173.58</td>\n",
       "      <td>133.67</td>\n",
       "      <td>130.05</td>\n",
       "    </tr>\n",
       "    <tr>\n",
       "      <td>2018-08-14 02:00:00</td>\n",
       "      <td>108</td>\n",
       "      <td>78.95</td>\n",
       "      <td>211.46</td>\n",
       "      <td>212.18</td>\n",
       "      <td>136.88</td>\n",
       "      <td>125.14</td>\n",
       "    </tr>\n",
       "  </tbody>\n",
       "</table>\n",
       "</div>"
      ],
      "text/plain": [
       "                     Y_test   Mean      LR  Elastic     LGB      HW\n",
       "datetime                                                           \n",
       "2018-08-14 00:00:00     139  78.95  184.52   183.77  161.99  159.33\n",
       "2018-08-14 01:00:00     231  78.95  172.16   173.58  133.67  130.05\n",
       "2018-08-14 02:00:00     108  78.95  211.46   212.18  136.88  125.14"
      ]
     },
     "execution_count": 43,
     "metadata": {},
     "output_type": "execute_result"
    }
   ],
   "source": [
    "# создаем датафрейм с предсказаниями моделей\n",
    "df_result = pd.DataFrame(y_test.copy())\n",
    "df_result['Mean'] = y_train.mean() # среднее по тренировочной выборке\n",
    "df_result['LR'] = model_LR.predict(X_test)\n",
    "df_result['Elastic'] = gsc_Elast.predict(X_test)\n",
    "df_result['LGB'] = gbm.predict(X_test, num_iteration=gbm.best_iteration)\n",
    "df_result = df_result.join(df_HoltWinters_predict['predict'], how='left')\n",
    "df_result.rename(columns={'predict' : 'HW', 'num_orders' : 'Y_test'}, inplace=True)\n",
    "df_result.dropna(inplace=True)\n",
    "df_result.head(3)"
   ]
  },
  {
   "cell_type": "code",
   "execution_count": 44,
   "metadata": {},
   "outputs": [],
   "source": [
    "# расчет таблицы с метриками по моделям\n",
    "model_result = []\n",
    "model_columns = ['HW', 'LR', 'Elastic', 'LGB', 'Mean']\n",
    "for model in model_columns:\n",
    "    model_result.append([model, rmse(df_result['Y_test'], df_result[model]), \n",
    "          mean_absolute_error(df_result['Y_test'], df_result[model])])\n",
    "df_model_result = pd.DataFrame(model_result, columns=['model', 'RMSE', 'MAE'])    \n",
    "df_model_result.set_index('model', inplace=True)"
   ]
  },
  {
   "cell_type": "code",
   "execution_count": 45,
   "metadata": {},
   "outputs": [
    {
     "data": {
      "image/png": "[encoded data removed]",
      "text/plain": [
       "<Figure size 576x360 with 2 Axes>"
      ]
     },
     "metadata": {},
     "output_type": "display_data"
    }
   ],
   "source": [
    "plt.figure(figsize=(8, 5))\n",
    "scaled_df = (df_model_result - df_model_result.min(axis=0))/(df_model_result.max(axis=0) - df_model_result.min(axis=0))\n",
    "sns.heatmap(df_model_result, annot=df_model_result, fmt='.2f', linewidths=.5, cmap=\"Greens\")\n",
    "plt.suptitle('Cравнение качества моделей', fontsize=16)\n",
    "plt.yticks(rotation=0, fontsize=14)\n",
    "plt.ylabel('название модели', fontsize=12)\n",
    "plt.xlabel('метрика', fontsize=12)\n",
    "plt.title('(меньше - лучше)', fontsize=12);"
   ]
  },
  {
   "cell_type": "markdown",
   "metadata": {},
   "source": [
    "Для наглядного сравнения результатов решено построить график с суммированием заказов по дням, это даст представление о точности модели во всем тестовом диапазоне. **Если предсказания близки к тесту и их суммы за сутки также будут близки**. Для контроля ниже будет и график с результатами для одного случайного дня."
   ]
  },
  {
   "cell_type": "code",
   "execution_count": 46,
   "metadata": {},
   "outputs": [
    {
     "data": {
      "image/png": "[encoded data removed]",
      "text/plain": [
       "<Figure size 1152x504 with 1 Axes>"
      ]
     },
     "metadata": {},
     "output_type": "display_data"
    }
   ],
   "source": [
    "plt.figure(figsize=(16, 7))\n",
    "\n",
    "df_result['Y_test'].resample('1D').sum().plot(ax=plt.gca(), linewidth=3, color='red')\n",
    "df_result[model_columns].resample('1D').sum().plot(ax=plt.gca(), linewidth=2)\n",
    "plt.legend(loc=\"best\", fontsize=14)\n",
    "plt.title('График тестовых значений и предсказаний моделей (дневная сумма)', fontsize=16)\n",
    "plt.xlabel('дата', fontsize=14);"
   ]
  },
  {
   "cell_type": "code",
   "execution_count": 47,
   "metadata": {
    "scrolled": false
   },
   "outputs": [
    {
     "data": {
      "image/png": "[encoded data removed]",
      "text/plain": [
       "<Figure size 1152x576 with 1 Axes>"
      ]
     },
     "metadata": {},
     "output_type": "display_data"
    }
   ],
   "source": [
    "plt.figure(figsize=(16, 8))\n",
    "df_day = df_result['2018-08-27':'2018-08-27']\n",
    "df_day['Y_test'].plot(ax=plt.gca(), linewidth=3, color='red')\n",
    "df_day[model_columns].plot(ax=plt.gca())\n",
    "plt.legend(loc=\"best\", fontsize=14);\n",
    "plt.title('График тестовых значений и предсказаний моделей (в течении одних суток)', fontsize=16)\n",
    "plt.xlabel('ВРЕМЯ СУТОК', fontsize=14);"
   ]
  },
  {
   "cell_type": "code",
   "execution_count": 50,
   "metadata": {},
   "outputs": [],
   "source": [
    "# for model in model_columns:\n",
    "#     df_result['overs_{}'.format(model)] = np.abs(df_result[model] - df_result['Y-test'])"
   ]
  },
  {
   "cell_type": "markdown",
   "metadata": {},
   "source": [
    "### ВЫВОДЫ\n",
    "**Целевая метрика RMSE в проекте должна быть менее - 48.**\n",
    "\n",
    "- **лучшее предсказание дает модель Хольта-Винтерса - 38.5**, при этом модель позволяет делать и долгосрочные прогнозы, что является ее большим преимуществом.\n",
    "- целевой отбор параметров  через предварительное моделирование позволил создать модели **LinearRegression и  ElasticNet с качеством - 43.8**, что существенно превосходящим заданное. Их применение также может быть оправдано при кртакосрочных прогнозах.\n",
    "\n",
    "Стоит отметить, в тестовом периоде в датасете происходит существенный рост тренда заказов. Если модель Хольта-Винтерса поставить в схожие условия с другими моделями и переобучить на новых данных, это дает показатель **RMSE - 32.**\n"
   ]
  }
 ],
 "metadata": {
  "ExecuteTimeLog": [
   {
    "duration": 772,
    "start_time": "2021-06-09T12:36:30.960Z"
   },
   {
    "duration": 736,
    "start_time": "2021-06-09T12:36:31.736Z"
   },
   {
    "duration": 203,
    "start_time": "2021-06-09T12:36:32.475Z"
   },
   {
    "duration": 53,
    "start_time": "2021-06-09T12:36:32.681Z"
   },
   {
    "duration": 36,
    "start_time": "2021-06-09T12:36:32.736Z"
   },
   {
    "duration": 700,
    "start_time": "2021-06-09T12:36:32.775Z"
   },
   {
    "duration": 123,
    "start_time": "2021-06-09T12:36:33.477Z"
   },
   {
    "duration": 767,
    "start_time": "2021-06-09T12:37:08.764Z"
   },
   {
    "duration": 597,
    "start_time": "2021-06-09T12:37:09.534Z"
   },
   {
    "duration": 196,
    "start_time": "2021-06-09T12:37:10.134Z"
   },
   {
    "duration": 51,
    "start_time": "2021-06-09T12:37:10.332Z"
   },
   {
    "duration": 27,
    "start_time": "2021-06-09T12:37:10.385Z"
   },
   {
    "duration": 698,
    "start_time": "2021-06-09T12:37:10.414Z"
   },
   {
    "duration": 121,
    "start_time": "2021-06-09T12:37:11.114Z"
   },
   {
    "duration": 785,
    "start_time": "2021-06-09T12:37:19.283Z"
   },
   {
    "duration": 496,
    "start_time": "2021-06-09T12:39:25.283Z"
   },
   {
    "duration": 513,
    "start_time": "2021-06-09T12:40:37.145Z"
   },
   {
    "duration": 257,
    "start_time": "2021-06-09T12:40:43.702Z"
   },
   {
    "duration": 266,
    "start_time": "2021-06-09T12:41:02.586Z"
   },
   {
    "duration": 275,
    "start_time": "2021-06-09T12:41:15.426Z"
   },
   {
    "duration": 288,
    "start_time": "2021-06-09T12:41:38.090Z"
   },
   {
    "duration": 291,
    "start_time": "2021-06-09T12:43:49.864Z"
   },
   {
    "duration": 285,
    "start_time": "2021-06-09T12:43:58.313Z"
   },
   {
    "duration": 293,
    "start_time": "2021-06-09T12:44:05.048Z"
   },
   {
    "duration": 269,
    "start_time": "2021-06-09T12:44:59.794Z"
   },
   {
    "duration": 250,
    "start_time": "2021-06-09T12:45:16.293Z"
   },
   {
    "duration": 347,
    "start_time": "2021-06-09T12:46:30.701Z"
   },
   {
    "duration": 732,
    "start_time": "2021-06-09T12:46:59.609Z"
   },
   {
    "duration": 827,
    "start_time": "2021-06-09T12:47:07.649Z"
   },
   {
    "duration": 717,
    "start_time": "2021-06-09T12:48:21.504Z"
   },
   {
    "duration": 5861,
    "start_time": "2021-06-09T12:48:56.674Z"
   },
   {
    "duration": 605,
    "start_time": "2021-06-09T12:49:34.462Z"
   },
   {
    "duration": 414,
    "start_time": "2021-06-09T12:50:12.064Z"
   },
   {
    "duration": 14,
    "start_time": "2021-06-09T12:50:24.052Z"
   },
   {
    "duration": 3882,
    "start_time": "2021-06-09T12:50:58.041Z"
   },
   {
    "duration": 258,
    "start_time": "2021-06-09T12:52:23.979Z"
   },
   {
    "duration": 336,
    "start_time": "2021-06-09T12:53:15.193Z"
   },
   {
    "duration": 375,
    "start_time": "2021-06-09T12:53:27.090Z"
   },
   {
    "duration": 257,
    "start_time": "2021-06-09T12:53:32.546Z"
   },
   {
    "duration": 255,
    "start_time": "2021-06-09T12:53:38.155Z"
   },
   {
    "duration": 252,
    "start_time": "2021-06-09T12:54:22.438Z"
   },
   {
    "duration": 397,
    "start_time": "2021-06-09T12:55:43.936Z"
   },
   {
    "duration": 430,
    "start_time": "2021-06-09T12:56:41.440Z"
   },
   {
    "duration": 453,
    "start_time": "2021-06-09T12:56:55.427Z"
   },
   {
    "duration": 487,
    "start_time": "2021-06-09T12:57:13.481Z"
   },
   {
    "duration": 654,
    "start_time": "2021-06-09T12:57:34.929Z"
   },
   {
    "duration": 7,
    "start_time": "2021-06-09T13:53:08.829Z"
   },
   {
    "duration": 22,
    "start_time": "2021-06-09T13:54:40.236Z"
   },
   {
    "duration": 7,
    "start_time": "2021-06-09T13:54:48.255Z"
   },
   {
    "duration": 845,
    "start_time": "2021-06-09T14:00:19.958Z"
   },
   {
    "duration": 711,
    "start_time": "2021-06-09T14:01:51.486Z"
   },
   {
    "duration": 7,
    "start_time": "2021-06-09T14:05:10.042Z"
   },
   {
    "duration": 376,
    "start_time": "2021-06-09T14:05:12.093Z"
   },
   {
    "duration": 247,
    "start_time": "2021-06-09T14:06:49.892Z"
   },
   {
    "duration": 7,
    "start_time": "2021-06-09T14:09:38.790Z"
   },
   {
    "duration": 71926,
    "start_time": "2021-06-09T14:09:41.125Z"
   },
   {
    "duration": 4,
    "start_time": "2021-06-09T14:11:54.654Z"
   },
   {
    "duration": 354,
    "start_time": "2021-06-09T14:12:14.574Z"
   },
   {
    "duration": 346,
    "start_time": "2021-06-09T14:12:43.147Z"
   },
   {
    "duration": 367,
    "start_time": "2021-06-09T14:14:00.960Z"
   },
   {
    "duration": 7,
    "start_time": "2021-06-09T14:14:05.495Z"
   },
   {
    "duration": 28985,
    "start_time": "2021-06-09T14:14:55.959Z"
   },
   {
    "duration": 78312,
    "start_time": "2021-06-09T14:15:57.833Z"
   },
   {
    "duration": 469,
    "start_time": "2021-06-09T14:19:31.667Z"
   },
   {
    "duration": 9643,
    "start_time": "2021-06-09T14:20:24.432Z"
   },
   {
    "duration": 55,
    "start_time": "2021-06-09T14:20:59.055Z"
   },
   {
    "duration": 1042,
    "start_time": "2021-06-09T14:21:38.407Z"
   },
   {
    "duration": 9795,
    "start_time": "2021-06-09T14:22:26.527Z"
   },
   {
    "duration": 10078,
    "start_time": "2021-06-09T14:22:56.023Z"
   },
   {
    "duration": 8,
    "start_time": "2021-06-09T14:23:37.634Z"
   },
   {
    "duration": 10083,
    "start_time": "2021-06-09T14:25:18.583Z"
   },
   {
    "duration": 11176,
    "start_time": "2021-06-09T14:25:36.722Z"
   },
   {
    "duration": 56,
    "start_time": "2021-06-09T14:25:51.237Z"
   },
   {
    "duration": 994,
    "start_time": "2021-06-09T14:26:26.326Z"
   },
   {
    "duration": 853,
    "start_time": "2021-06-09T14:26:43.309Z"
   },
   {
    "duration": 720,
    "start_time": "2021-06-09T14:26:48.952Z"
   },
   {
    "duration": 1476,
    "start_time": "2021-06-09T14:29:45.192Z"
   },
   {
    "duration": 699,
    "start_time": "2021-06-09T14:29:51.914Z"
   },
   {
    "duration": 1258,
    "start_time": "2021-06-09T14:30:03.534Z"
   },
   {
    "duration": 799,
    "start_time": "2021-06-09T14:30:08.663Z"
   },
   {
    "duration": 772,
    "start_time": "2021-06-09T14:30:12.752Z"
   },
   {
    "duration": 1781,
    "start_time": "2021-06-09T18:13:43.618Z"
   },
   {
    "duration": 51,
    "start_time": "2021-06-09T18:13:48.131Z"
   },
   {
    "duration": 9,
    "start_time": "2021-06-09T18:13:58.662Z"
   },
   {
    "duration": 37,
    "start_time": "2021-06-09T18:14:03.977Z"
   },
   {
    "duration": 10,
    "start_time": "2021-06-09T18:14:43.153Z"
   },
   {
    "duration": 867,
    "start_time": "2021-06-09T18:16:01.740Z"
   },
   {
    "duration": 67,
    "start_time": "2021-06-09T18:16:53.001Z"
   },
   {
    "duration": 14,
    "start_time": "2021-06-09T18:16:55.275Z"
   },
   {
    "duration": 57,
    "start_time": "2021-06-09T18:18:16.889Z"
   },
   {
    "duration": 9,
    "start_time": "2021-06-09T18:18:20.240Z"
   },
   {
    "duration": 27,
    "start_time": "2021-06-09T18:20:32.249Z"
   },
   {
    "duration": 12,
    "start_time": "2021-06-09T18:20:52.851Z"
   },
   {
    "duration": 12,
    "start_time": "2021-06-09T18:20:55.785Z"
   },
   {
    "duration": 23,
    "start_time": "2021-06-09T18:21:05.205Z"
   },
   {
    "duration": 24,
    "start_time": "2021-06-09T18:23:15.962Z"
   },
   {
    "duration": 651,
    "start_time": "2021-06-09T18:27:32.469Z"
   },
   {
    "duration": 13,
    "start_time": "2021-06-09T18:27:55.998Z"
   },
   {
    "duration": 1196,
    "start_time": "2021-06-09T18:27:58.398Z"
   },
   {
    "duration": 679,
    "start_time": "2021-06-09T18:28:05.088Z"
   },
   {
    "duration": 812,
    "start_time": "2021-06-09T18:28:31.427Z"
   },
   {
    "duration": 6859,
    "start_time": "2021-06-09T18:31:03.095Z"
   },
   {
    "duration": 639,
    "start_time": "2021-06-09T18:31:32.075Z"
   },
   {
    "duration": 714,
    "start_time": "2021-06-09T18:33:58.626Z"
   },
   {
    "duration": 8,
    "start_time": "2021-06-09T18:36:22.406Z"
   },
   {
    "duration": 11,
    "start_time": "2021-06-09T18:36:45.276Z"
   },
   {
    "duration": 629,
    "start_time": "2021-06-09T18:36:54.650Z"
   },
   {
    "duration": 15,
    "start_time": "2021-06-09T18:37:17.240Z"
   },
   {
    "duration": 329,
    "start_time": "2021-06-09T18:40:40.905Z"
   },
   {
    "duration": 9,
    "start_time": "2021-06-09T18:42:37.613Z"
   },
   {
    "duration": 23,
    "start_time": "2021-06-09T18:43:31.268Z"
   },
   {
    "duration": 332,
    "start_time": "2021-06-09T18:45:06.714Z"
   },
   {
    "duration": 629,
    "start_time": "2021-06-09T18:45:13.073Z"
   },
   {
    "duration": 641,
    "start_time": "2021-06-09T18:46:40.408Z"
   },
   {
    "duration": 644,
    "start_time": "2021-06-09T18:49:15.625Z"
   },
   {
    "duration": 685,
    "start_time": "2021-06-09T18:50:08.949Z"
   },
   {
    "duration": 604,
    "start_time": "2021-06-09T18:51:24.701Z"
   },
   {
    "duration": 624,
    "start_time": "2021-06-09T18:51:28.570Z"
   },
   {
    "duration": 857,
    "start_time": "2021-06-09T18:51:38.801Z"
   },
   {
    "duration": 836,
    "start_time": "2021-06-09T18:51:43.676Z"
   },
   {
    "duration": 638,
    "start_time": "2021-06-09T18:52:21.745Z"
   },
   {
    "duration": 740,
    "start_time": "2021-06-09T18:52:44.936Z"
   },
   {
    "duration": 640,
    "start_time": "2021-06-09T18:53:19.002Z"
   },
   {
    "duration": 671,
    "start_time": "2021-06-09T18:53:28.856Z"
   },
   {
    "duration": 592,
    "start_time": "2021-06-09T18:53:51.926Z"
   },
   {
    "duration": 785,
    "start_time": "2021-06-09T18:53:57.612Z"
   },
   {
    "duration": 795,
    "start_time": "2021-06-09T18:54:10.752Z"
   },
   {
    "duration": 627,
    "start_time": "2021-06-09T18:55:30.822Z"
   },
   {
    "duration": 462,
    "start_time": "2021-06-09T18:55:47.052Z"
   },
   {
    "duration": 336,
    "start_time": "2021-06-09T19:06:25.681Z"
   },
   {
    "duration": 1586,
    "start_time": "2021-06-09T19:06:36.175Z"
   },
   {
    "duration": 50,
    "start_time": "2021-06-09T19:06:37.764Z"
   },
   {
    "duration": 15,
    "start_time": "2021-06-09T19:06:37.817Z"
   },
   {
    "duration": 13,
    "start_time": "2021-06-09T19:06:37.835Z"
   },
   {
    "duration": 8,
    "start_time": "2021-06-09T19:06:37.851Z"
   },
   {
    "duration": 27,
    "start_time": "2021-06-09T19:06:37.887Z"
   },
   {
    "duration": 802,
    "start_time": "2021-06-09T19:06:37.917Z"
   },
   {
    "duration": 598,
    "start_time": "2021-06-09T19:06:38.722Z"
   },
   {
    "duration": 462,
    "start_time": "2021-06-09T19:06:39.324Z"
   },
   {
    "duration": 20,
    "start_time": "2021-06-09T19:06:39.790Z"
   },
   {
    "duration": 21,
    "start_time": "2021-06-09T19:06:39.813Z"
   },
   {
    "duration": 13,
    "start_time": "2021-06-09T19:06:39.837Z"
   },
   {
    "duration": 399,
    "start_time": "2021-06-09T19:06:39.853Z"
   },
   {
    "duration": 311,
    "start_time": "2021-06-09T19:06:40.255Z"
   },
   {
    "duration": -670,
    "start_time": "2021-06-09T19:06:41.239Z"
   },
   {
    "duration": -671,
    "start_time": "2021-06-09T19:06:41.242Z"
   },
   {
    "duration": -672,
    "start_time": "2021-06-09T19:06:41.244Z"
   },
   {
    "duration": 6,
    "start_time": "2021-06-09T19:07:18.263Z"
   },
   {
    "duration": 85115,
    "start_time": "2021-06-09T19:07:23.482Z"
   },
   {
    "duration": 59,
    "start_time": "2021-06-09T19:08:59.333Z"
   },
   {
    "duration": 603,
    "start_time": "2021-06-09T19:09:01.900Z"
   },
   {
    "duration": 526,
    "start_time": "2021-06-09T19:09:26.505Z"
   },
   {
    "duration": 526,
    "start_time": "2021-06-09T19:09:37.433Z"
   },
   {
    "duration": 527,
    "start_time": "2021-06-09T19:09:43.538Z"
   },
   {
    "duration": 532,
    "start_time": "2021-06-09T19:09:55.163Z"
   },
   {
    "duration": 568,
    "start_time": "2021-06-09T19:10:34.343Z"
   },
   {
    "duration": 522,
    "start_time": "2021-06-09T19:10:50.304Z"
   },
   {
    "duration": 1123,
    "start_time": "2021-06-09T19:11:22.853Z"
   },
   {
    "duration": 733,
    "start_time": "2021-06-09T19:11:30.653Z"
   },
   {
    "duration": 637,
    "start_time": "2021-06-09T19:11:35.934Z"
   },
   {
    "duration": 694,
    "start_time": "2021-06-09T19:13:06.400Z"
   },
   {
    "duration": 691,
    "start_time": "2021-06-09T19:13:33.655Z"
   },
   {
    "duration": 660,
    "start_time": "2021-06-09T19:13:44.845Z"
   },
   {
    "duration": 704,
    "start_time": "2021-06-09T19:13:56.665Z"
   },
   {
    "duration": 656,
    "start_time": "2021-06-09T19:14:26.801Z"
   },
   {
    "duration": 663,
    "start_time": "2021-06-09T19:14:33.085Z"
   },
   {
    "duration": 637,
    "start_time": "2021-06-09T19:14:44.022Z"
   },
   {
    "duration": 554,
    "start_time": "2021-06-09T19:15:36.596Z"
   },
   {
    "duration": 323,
    "start_time": "2021-06-10T09:09:12.028Z"
   },
   {
    "duration": 1582,
    "start_time": "2021-06-10T09:38:04.050Z"
   },
   {
    "duration": 48,
    "start_time": "2021-06-10T09:38:05.634Z"
   },
   {
    "duration": 13,
    "start_time": "2021-06-10T09:38:05.685Z"
   },
   {
    "duration": 15,
    "start_time": "2021-06-10T09:38:05.701Z"
   },
   {
    "duration": 8,
    "start_time": "2021-06-10T09:38:05.718Z"
   },
   {
    "duration": 21,
    "start_time": "2021-06-10T09:38:05.728Z"
   },
   {
    "duration": 703,
    "start_time": "2021-06-10T09:38:05.784Z"
   },
   {
    "duration": 556,
    "start_time": "2021-06-10T09:38:06.491Z"
   },
   {
    "duration": 435,
    "start_time": "2021-06-10T09:38:07.051Z"
   },
   {
    "duration": 15,
    "start_time": "2021-06-10T09:38:07.488Z"
   },
   {
    "duration": 13,
    "start_time": "2021-06-10T09:38:07.505Z"
   },
   {
    "duration": 21,
    "start_time": "2021-06-10T09:38:07.521Z"
   },
   {
    "duration": 39,
    "start_time": "2021-06-10T09:38:07.545Z"
   },
   {
    "duration": 33723,
    "start_time": "2021-06-10T09:38:07.586Z"
   },
   {
    "duration": 51,
    "start_time": "2021-06-10T09:38:41.311Z"
   },
   {
    "duration": 567,
    "start_time": "2021-06-10T09:38:41.364Z"
   },
   {
    "duration": 7,
    "start_time": "2021-06-10T09:38:41.934Z"
   },
   {
    "duration": 542,
    "start_time": "2021-06-10T09:39:26.366Z"
   },
   {
    "duration": 14,
    "start_time": "2021-06-10T09:40:09.828Z"
   },
   {
    "duration": 496,
    "start_time": "2021-06-10T09:52:17.564Z"
   },
   {
    "duration": 318,
    "start_time": "2021-06-10T09:52:44.703Z"
   },
   {
    "duration": 270,
    "start_time": "2021-06-10T09:53:19.790Z"
   },
   {
    "duration": 22,
    "start_time": "2021-06-10T09:53:26.031Z"
   },
   {
    "duration": 3,
    "start_time": "2021-06-10T09:53:34.508Z"
   },
   {
    "duration": 5,
    "start_time": "2021-06-10T09:54:18.866Z"
   },
   {
    "duration": 7,
    "start_time": "2021-06-10T09:54:46.019Z"
   },
   {
    "duration": 14,
    "start_time": "2021-06-10T10:03:47.566Z"
   },
   {
    "duration": 315,
    "start_time": "2021-06-10T10:04:01.619Z"
   },
   {
    "duration": 5,
    "start_time": "2021-06-10T10:04:23.687Z"
   },
   {
    "duration": 991,
    "start_time": "2021-06-10T10:04:28.161Z"
   },
   {
    "duration": 252,
    "start_time": "2021-06-10T11:03:57.227Z"
   },
   {
    "duration": 279,
    "start_time": "2021-06-10T11:04:07.114Z"
   },
   {
    "duration": 5,
    "start_time": "2021-06-10T11:06:53.817Z"
   },
   {
    "duration": 25,
    "start_time": "2021-06-10T11:08:40.704Z"
   },
   {
    "duration": 32,
    "start_time": "2021-06-10T11:08:57.493Z"
   },
   {
    "duration": 276,
    "start_time": "2021-06-10T11:09:55.394Z"
   },
   {
    "duration": 256,
    "start_time": "2021-06-10T11:11:16.336Z"
   },
   {
    "duration": 23,
    "start_time": "2021-06-10T11:11:23.024Z"
   },
   {
    "duration": 253,
    "start_time": "2021-06-10T11:12:43.888Z"
   },
   {
    "duration": 259,
    "start_time": "2021-06-10T11:12:52.727Z"
   },
   {
    "duration": 262,
    "start_time": "2021-06-10T11:13:35.170Z"
   },
   {
    "duration": 28,
    "start_time": "2021-06-10T11:13:43.588Z"
   },
   {
    "duration": 31,
    "start_time": "2021-06-10T11:13:59.985Z"
   },
   {
    "duration": 4,
    "start_time": "2021-06-10T11:15:38.971Z"
   },
   {
    "duration": 287,
    "start_time": "2021-06-10T11:16:20.746Z"
   },
   {
    "duration": 254,
    "start_time": "2021-06-10T11:17:27.168Z"
   },
   {
    "duration": 7,
    "start_time": "2021-06-10T11:17:45.572Z"
   },
   {
    "duration": 269,
    "start_time": "2021-06-10T11:17:50.865Z"
   },
   {
    "duration": 6,
    "start_time": "2021-06-10T11:17:56.879Z"
   },
   {
    "duration": 9,
    "start_time": "2021-06-10T11:18:42.473Z"
   },
   {
    "duration": 162,
    "start_time": "2021-06-10T11:19:43.222Z"
   },
   {
    "duration": 367,
    "start_time": "2021-06-10T11:20:54.794Z"
   },
   {
    "duration": 18,
    "start_time": "2021-06-10T11:20:59.818Z"
   },
   {
    "duration": 15,
    "start_time": "2021-06-10T11:21:12.966Z"
   },
   {
    "duration": 16,
    "start_time": "2021-06-10T11:21:17.054Z"
   },
   {
    "duration": 112,
    "start_time": "2021-06-10T11:22:31.602Z"
   },
   {
    "duration": 4,
    "start_time": "2021-06-10T11:28:47.634Z"
   },
   {
    "duration": 259,
    "start_time": "2021-06-10T11:30:13.252Z"
   },
   {
    "duration": 263,
    "start_time": "2021-06-10T11:30:22.183Z"
   },
   {
    "duration": 27,
    "start_time": "2021-06-10T11:30:52.570Z"
   },
   {
    "duration": 27,
    "start_time": "2021-06-10T11:31:51.665Z"
   },
   {
    "duration": 27,
    "start_time": "2021-06-10T11:32:15.279Z"
   },
   {
    "duration": 280,
    "start_time": "2021-06-10T11:32:26.799Z"
   },
   {
    "duration": 24,
    "start_time": "2021-06-10T11:32:30.541Z"
   },
   {
    "duration": 37,
    "start_time": "2021-06-10T11:32:35.473Z"
   },
   {
    "duration": 45,
    "start_time": "2021-06-10T11:33:04.507Z"
   },
   {
    "duration": 41,
    "start_time": "2021-06-10T11:33:10.690Z"
   },
   {
    "duration": 35,
    "start_time": "2021-06-10T11:33:14.519Z"
   },
   {
    "duration": 30,
    "start_time": "2021-06-10T11:33:38.146Z"
   },
   {
    "duration": 273,
    "start_time": "2021-06-10T11:35:12.305Z"
   },
   {
    "duration": 76,
    "start_time": "2021-06-10T11:36:02.596Z"
   },
   {
    "duration": 5,
    "start_time": "2021-06-10T11:39:38.838Z"
   },
   {
    "duration": 5,
    "start_time": "2021-06-10T11:39:58.767Z"
   },
   {
    "duration": 475,
    "start_time": "2021-06-10T11:40:10.796Z"
   },
   {
    "duration": 816,
    "start_time": "2021-06-10T11:40:14.367Z"
   },
   {
    "duration": 522,
    "start_time": "2021-06-10T11:41:34.709Z"
   },
   {
    "duration": 7,
    "start_time": "2021-06-10T11:42:34.993Z"
   },
   {
    "duration": 4,
    "start_time": "2021-06-10T11:43:51.350Z"
   },
   {
    "duration": 8,
    "start_time": "2021-06-10T11:46:42.475Z"
   },
   {
    "duration": 10,
    "start_time": "2021-06-10T11:46:51.317Z"
   },
   {
    "duration": 6,
    "start_time": "2021-06-10T11:47:21.326Z"
   },
   {
    "duration": 8,
    "start_time": "2021-06-10T11:47:36.245Z"
   },
   {
    "duration": 510,
    "start_time": "2021-06-10T11:48:16.922Z"
   },
   {
    "duration": 6,
    "start_time": "2021-06-10T11:48:29.943Z"
   },
   {
    "duration": 7,
    "start_time": "2021-06-10T11:48:39.144Z"
   },
   {
    "duration": 262,
    "start_time": "2021-06-10T11:52:11.491Z"
   },
   {
    "duration": 142,
    "start_time": "2021-06-10T11:52:36.155Z"
   },
   {
    "duration": 157,
    "start_time": "2021-06-10T11:53:20.047Z"
   },
   {
    "duration": 244,
    "start_time": "2021-06-10T11:53:25.547Z"
   },
   {
    "duration": 319,
    "start_time": "2021-06-10T11:53:29.168Z"
   },
   {
    "duration": 181,
    "start_time": "2021-06-10T11:58:12.272Z"
   },
   {
    "duration": 183,
    "start_time": "2021-06-10T11:58:24.133Z"
   },
   {
    "duration": 204,
    "start_time": "2021-06-10T11:58:39.709Z"
   },
   {
    "duration": 31,
    "start_time": "2021-06-10T11:59:23.083Z"
   },
   {
    "duration": 203,
    "start_time": "2021-06-10T11:59:32.405Z"
   },
   {
    "duration": 207,
    "start_time": "2021-06-10T11:59:50.230Z"
   },
   {
    "duration": 378,
    "start_time": "2021-06-10T12:00:15.705Z"
   },
   {
    "duration": 295,
    "start_time": "2021-06-10T12:00:42.791Z"
   },
   {
    "duration": 282,
    "start_time": "2021-06-10T12:00:48.706Z"
   },
   {
    "duration": 200,
    "start_time": "2021-06-10T12:00:53.958Z"
   },
   {
    "duration": 117,
    "start_time": "2021-06-10T12:00:57.899Z"
   },
   {
    "duration": 89,
    "start_time": "2021-06-10T12:01:01.814Z"
   },
   {
    "duration": 115,
    "start_time": "2021-06-10T12:01:06.485Z"
   },
   {
    "duration": 85,
    "start_time": "2021-06-10T12:01:11.116Z"
   },
   {
    "duration": 118,
    "start_time": "2021-06-10T12:01:14.873Z"
   },
   {
    "duration": 100,
    "start_time": "2021-06-10T12:01:27.942Z"
   },
   {
    "duration": 109,
    "start_time": "2021-06-10T12:01:32.131Z"
   },
   {
    "duration": 97,
    "start_time": "2021-06-10T12:01:37.630Z"
   },
   {
    "duration": 167,
    "start_time": "2021-06-10T12:01:43.724Z"
   },
   {
    "duration": 98,
    "start_time": "2021-06-10T12:01:47.150Z"
   },
   {
    "duration": 121,
    "start_time": "2021-06-10T12:01:50.685Z"
   },
   {
    "duration": 101,
    "start_time": "2021-06-10T12:01:54.640Z"
   },
   {
    "duration": 103,
    "start_time": "2021-06-10T12:01:59.911Z"
   },
   {
    "duration": 98,
    "start_time": "2021-06-10T12:02:03.849Z"
   },
   {
    "duration": 154,
    "start_time": "2021-06-10T12:04:32.702Z"
   },
   {
    "duration": 110,
    "start_time": "2021-06-10T12:04:41.073Z"
   },
   {
    "duration": 97,
    "start_time": "2021-06-10T12:06:01.217Z"
   },
   {
    "duration": 96,
    "start_time": "2021-06-10T12:06:08.631Z"
   },
   {
    "duration": 106,
    "start_time": "2021-06-10T12:06:39.958Z"
   },
   {
    "duration": 112,
    "start_time": "2021-06-10T12:07:50.770Z"
   },
   {
    "duration": 119,
    "start_time": "2021-06-10T12:07:57.623Z"
   },
   {
    "duration": 128,
    "start_time": "2021-06-10T12:08:05.406Z"
   },
   {
    "duration": 117,
    "start_time": "2021-06-10T12:08:12.332Z"
   },
   {
    "duration": 129,
    "start_time": "2021-06-10T12:08:29.481Z"
   },
   {
    "duration": 108,
    "start_time": "2021-06-10T12:08:42.221Z"
   },
   {
    "duration": 5,
    "start_time": "2021-06-10T12:17:28.470Z"
   },
   {
    "duration": 6,
    "start_time": "2021-06-10T12:17:48.883Z"
   },
   {
    "duration": 487,
    "start_time": "2021-06-10T12:19:25.096Z"
   },
   {
    "duration": 252,
    "start_time": "2021-06-10T12:20:45.984Z"
   },
   {
    "duration": 336,
    "start_time": "2021-06-10T12:20:59.841Z"
   },
   {
    "duration": 5,
    "start_time": "2021-06-10T12:21:44.069Z"
   },
   {
    "duration": 301,
    "start_time": "2021-06-10T12:21:44.078Z"
   },
   {
    "duration": 329,
    "start_time": "2021-06-10T12:30:13.444Z"
   },
   {
    "duration": 259,
    "start_time": "2021-06-10T12:30:58.797Z"
   },
   {
    "duration": 2351,
    "start_time": "2021-06-10T12:31:29.125Z"
   },
   {
    "duration": 3594,
    "start_time": "2021-06-10T12:31:39.932Z"
   },
   {
    "duration": 82,
    "start_time": "2021-06-10T12:31:45.748Z"
   },
   {
    "duration": 3,
    "start_time": "2021-06-10T12:31:49.981Z"
   },
   {
    "duration": 282,
    "start_time": "2021-06-10T12:31:51.718Z"
   },
   {
    "duration": 1434,
    "start_time": "2021-06-10T12:33:04.463Z"
   },
   {
    "duration": 1946,
    "start_time": "2021-06-10T12:33:36.106Z"
   },
   {
    "duration": 4,
    "start_time": "2021-06-10T12:33:46.413Z"
   },
   {
    "duration": 260,
    "start_time": "2021-06-10T12:33:48.205Z"
   },
   {
    "duration": 298,
    "start_time": "2021-06-10T12:33:57.516Z"
   },
   {
    "duration": 407,
    "start_time": "2021-06-10T12:37:14.033Z"
   },
   {
    "duration": 550,
    "start_time": "2021-06-10T12:37:16.850Z"
   },
   {
    "duration": 2287,
    "start_time": "2021-06-10T13:00:09.297Z"
   },
   {
    "duration": 51,
    "start_time": "2021-06-10T13:00:11.587Z"
   },
   {
    "duration": 18,
    "start_time": "2021-06-10T13:00:11.642Z"
   },
   {
    "duration": 32,
    "start_time": "2021-06-10T13:00:11.664Z"
   },
   {
    "duration": 21,
    "start_time": "2021-06-10T13:00:11.699Z"
   },
   {
    "duration": 35,
    "start_time": "2021-06-10T13:00:11.724Z"
   },
   {
    "duration": 968,
    "start_time": "2021-06-10T13:00:11.762Z"
   },
   {
    "duration": 739,
    "start_time": "2021-06-10T13:00:12.736Z"
   },
   {
    "duration": -1742,
    "start_time": "2021-06-10T13:00:15.221Z"
   },
   {
    "duration": -1745,
    "start_time": "2021-06-10T13:00:15.225Z"
   },
   {
    "duration": -1752,
    "start_time": "2021-06-10T13:00:15.233Z"
   },
   {
    "duration": -1753,
    "start_time": "2021-06-10T13:00:15.236Z"
   },
   {
    "duration": -1755,
    "start_time": "2021-06-10T13:00:15.239Z"
   },
   {
    "duration": -1755,
    "start_time": "2021-06-10T13:00:15.241Z"
   },
   {
    "duration": -1755,
    "start_time": "2021-06-10T13:00:15.244Z"
   },
   {
    "duration": -1755,
    "start_time": "2021-06-10T13:00:15.246Z"
   },
   {
    "duration": -1756,
    "start_time": "2021-06-10T13:00:15.248Z"
   },
   {
    "duration": -1756,
    "start_time": "2021-06-10T13:00:15.250Z"
   },
   {
    "duration": -1754,
    "start_time": "2021-06-10T13:00:15.252Z"
   },
   {
    "duration": -1754,
    "start_time": "2021-06-10T13:00:15.254Z"
   },
   {
    "duration": -1754,
    "start_time": "2021-06-10T13:00:15.256Z"
   },
   {
    "duration": -1756,
    "start_time": "2021-06-10T13:00:15.259Z"
   },
   {
    "duration": -1759,
    "start_time": "2021-06-10T13:00:15.264Z"
   },
   {
    "duration": 829,
    "start_time": "2021-06-10T13:01:29.914Z"
   },
   {
    "duration": 472,
    "start_time": "2021-06-10T13:01:46.054Z"
   },
   {
    "duration": 2312,
    "start_time": "2021-06-10T13:03:14.276Z"
   },
   {
    "duration": 3,
    "start_time": "2021-06-10T13:03:16.591Z"
   },
   {
    "duration": 52,
    "start_time": "2021-06-10T13:03:16.597Z"
   },
   {
    "duration": 31,
    "start_time": "2021-06-10T13:03:16.652Z"
   },
   {
    "duration": 12,
    "start_time": "2021-06-10T13:03:16.685Z"
   },
   {
    "duration": 15,
    "start_time": "2021-06-10T13:03:16.699Z"
   },
   {
    "duration": 30,
    "start_time": "2021-06-10T13:03:16.716Z"
   },
   {
    "duration": 689,
    "start_time": "2021-06-10T13:03:16.784Z"
   },
   {
    "duration": 622,
    "start_time": "2021-06-10T13:03:17.484Z"
   },
   {
    "duration": 381,
    "start_time": "2021-06-10T13:03:18.109Z"
   },
   {
    "duration": 15,
    "start_time": "2021-06-10T13:03:18.492Z"
   },
   {
    "duration": 12,
    "start_time": "2021-06-10T13:03:18.509Z"
   },
   {
    "duration": 4,
    "start_time": "2021-06-10T13:03:18.524Z"
   },
   {
    "duration": 6,
    "start_time": "2021-06-10T13:03:18.531Z"
   },
   {
    "duration": 45,
    "start_time": "2021-06-10T13:03:18.540Z"
   },
   {
    "duration": 205,
    "start_time": "2021-06-10T13:03:18.588Z"
   },
   {
    "duration": 659,
    "start_time": "2021-06-10T13:03:18.796Z"
   },
   {
    "duration": -1528,
    "start_time": "2021-06-10T13:03:20.987Z"
   },
   {
    "duration": -1528,
    "start_time": "2021-06-10T13:03:20.989Z"
   },
   {
    "duration": -1528,
    "start_time": "2021-06-10T13:03:20.991Z"
   },
   {
    "duration": -1530,
    "start_time": "2021-06-10T13:03:20.995Z"
   },
   {
    "duration": -1533,
    "start_time": "2021-06-10T13:03:21.000Z"
   },
   {
    "duration": -1533,
    "start_time": "2021-06-10T13:03:21.002Z"
   },
   {
    "duration": -1534,
    "start_time": "2021-06-10T13:03:21.005Z"
   },
   {
    "duration": 341,
    "start_time": "2021-06-10T13:03:43.178Z"
   },
   {
    "duration": 15,
    "start_time": "2021-06-10T13:05:12.549Z"
   },
   {
    "duration": 108,
    "start_time": "2021-06-10T13:05:45.779Z"
   },
   {
    "duration": 643,
    "start_time": "2021-06-10T13:05:52.004Z"
   },
   {
    "duration": 62,
    "start_time": "2021-06-10T13:06:36.792Z"
   },
   {
    "duration": 16,
    "start_time": "2021-06-10T13:16:27.048Z"
   },
   {
    "duration": 15,
    "start_time": "2021-06-10T13:17:11.764Z"
   },
   {
    "duration": 691,
    "start_time": "2021-06-10T13:33:01.736Z"
   },
   {
    "duration": 2218,
    "start_time": "2021-06-10T13:33:16.502Z"
   },
   {
    "duration": 4,
    "start_time": "2021-06-10T13:33:18.723Z"
   },
   {
    "duration": 81,
    "start_time": "2021-06-10T13:33:18.730Z"
   },
   {
    "duration": 15,
    "start_time": "2021-06-10T13:33:18.814Z"
   },
   {
    "duration": 12,
    "start_time": "2021-06-10T13:33:18.832Z"
   },
   {
    "duration": 45,
    "start_time": "2021-06-10T13:33:18.847Z"
   },
   {
    "duration": 36,
    "start_time": "2021-06-10T13:33:18.896Z"
   },
   {
    "duration": 840,
    "start_time": "2021-06-10T13:33:18.936Z"
   },
   {
    "duration": 756,
    "start_time": "2021-06-10T13:33:19.779Z"
   },
   {
    "duration": 411,
    "start_time": "2021-06-10T13:33:20.537Z"
   },
   {
    "duration": 40,
    "start_time": "2021-06-10T13:33:20.950Z"
   },
   {
    "duration": 49,
    "start_time": "2021-06-10T13:33:20.992Z"
   },
   {
    "duration": 39,
    "start_time": "2021-06-10T13:33:21.044Z"
   },
   {
    "duration": 8,
    "start_time": "2021-06-10T13:33:21.089Z"
   },
   {
    "duration": 6,
    "start_time": "2021-06-10T13:33:21.100Z"
   },
   {
    "duration": 13,
    "start_time": "2021-06-10T13:33:21.109Z"
   },
   {
    "duration": 65,
    "start_time": "2021-06-10T13:33:21.124Z"
   },
   {
    "duration": 618,
    "start_time": "2021-06-10T13:33:21.193Z"
   },
   {
    "duration": -1532,
    "start_time": "2021-06-10T13:33:23.345Z"
   },
   {
    "duration": -1534,
    "start_time": "2021-06-10T13:33:23.349Z"
   },
   {
    "duration": -1536,
    "start_time": "2021-06-10T13:33:23.353Z"
   },
   {
    "duration": -1537,
    "start_time": "2021-06-10T13:33:23.356Z"
   },
   {
    "duration": -1538,
    "start_time": "2021-06-10T13:33:23.359Z"
   },
   {
    "duration": -1541,
    "start_time": "2021-06-10T13:33:23.363Z"
   },
   {
    "duration": -1542,
    "start_time": "2021-06-10T13:33:23.366Z"
   },
   {
    "duration": 342,
    "start_time": "2021-06-10T13:33:45.210Z"
   },
   {
    "duration": 298,
    "start_time": "2021-06-10T13:33:49.244Z"
   },
   {
    "duration": 43,
    "start_time": "2021-06-10T13:34:16.910Z"
   },
   {
    "duration": 292,
    "start_time": "2021-06-10T13:35:38.543Z"
   },
   {
    "duration": 283,
    "start_time": "2021-06-10T13:35:45.838Z"
   },
   {
    "duration": 316,
    "start_time": "2021-06-10T13:35:56.224Z"
   },
   {
    "duration": 338,
    "start_time": "2021-06-10T13:36:11.248Z"
   },
   {
    "duration": 1126,
    "start_time": "2021-06-10T13:36:45.297Z"
   },
   {
    "duration": 19,
    "start_time": "2021-06-10T13:37:09.575Z"
   },
   {
    "duration": 20,
    "start_time": "2021-06-10T13:37:15.749Z"
   },
   {
    "duration": 13,
    "start_time": "2021-06-10T13:38:15.069Z"
   },
   {
    "duration": 5,
    "start_time": "2021-06-10T13:38:23.875Z"
   },
   {
    "duration": 258,
    "start_time": "2021-06-10T13:38:33.162Z"
   },
   {
    "duration": 22,
    "start_time": "2021-06-10T13:38:48.246Z"
   },
   {
    "duration": 30,
    "start_time": "2021-06-10T13:41:15.622Z"
   },
   {
    "duration": 25,
    "start_time": "2021-06-10T13:41:45.740Z"
   },
   {
    "duration": 2321,
    "start_time": "2021-06-10T13:42:08.821Z"
   },
   {
    "duration": 5,
    "start_time": "2021-06-10T13:42:11.145Z"
   },
   {
    "duration": 64,
    "start_time": "2021-06-10T13:42:11.153Z"
   },
   {
    "duration": 13,
    "start_time": "2021-06-10T13:42:11.220Z"
   },
   {
    "duration": 16,
    "start_time": "2021-06-10T13:42:11.236Z"
   },
   {
    "duration": 41,
    "start_time": "2021-06-10T13:42:11.255Z"
   },
   {
    "duration": 33,
    "start_time": "2021-06-10T13:42:11.299Z"
   },
   {
    "duration": 820,
    "start_time": "2021-06-10T13:42:11.336Z"
   },
   {
    "duration": 702,
    "start_time": "2021-06-10T13:42:12.160Z"
   },
   {
    "duration": 574,
    "start_time": "2021-06-10T13:42:12.865Z"
   },
   {
    "duration": 41,
    "start_time": "2021-06-10T13:42:13.442Z"
   },
   {
    "duration": 64,
    "start_time": "2021-06-10T13:42:13.487Z"
   },
   {
    "duration": 37,
    "start_time": "2021-06-10T13:42:13.554Z"
   },
   {
    "duration": 8,
    "start_time": "2021-06-10T13:42:13.595Z"
   },
   {
    "duration": 24,
    "start_time": "2021-06-10T13:42:13.606Z"
   },
   {
    "duration": 5,
    "start_time": "2021-06-10T13:42:13.633Z"
   },
   {
    "duration": 50,
    "start_time": "2021-06-10T13:42:13.640Z"
   },
   {
    "duration": 92,
    "start_time": "2021-06-10T13:42:13.693Z"
   },
   {
    "duration": 667,
    "start_time": "2021-06-10T13:42:13.788Z"
   },
   {
    "duration": -1544,
    "start_time": "2021-06-10T13:42:16.002Z"
   },
   {
    "duration": -1545,
    "start_time": "2021-06-10T13:42:16.004Z"
   },
   {
    "duration": -1547,
    "start_time": "2021-06-10T13:42:16.008Z"
   },
   {
    "duration": -1548,
    "start_time": "2021-06-10T13:42:16.010Z"
   },
   {
    "duration": -1555,
    "start_time": "2021-06-10T13:42:16.019Z"
   },
   {
    "duration": -1556,
    "start_time": "2021-06-10T13:42:16.022Z"
   },
   {
    "duration": -1556,
    "start_time": "2021-06-10T13:42:16.024Z"
   },
   {
    "duration": 159,
    "start_time": "2021-06-10T13:42:49.435Z"
   },
   {
    "duration": 325,
    "start_time": "2021-06-10T13:42:58.460Z"
   },
   {
    "duration": 314,
    "start_time": "2021-06-10T13:43:10.022Z"
   },
   {
    "duration": 602,
    "start_time": "2021-06-10T13:44:42.378Z"
   },
   {
    "duration": 90529,
    "start_time": "2021-06-10T13:44:53.348Z"
   },
   {
    "duration": 22,
    "start_time": "2021-06-10T13:46:28.732Z"
   },
   {
    "duration": 7,
    "start_time": "2021-06-10T13:46:33.188Z"
   },
   {
    "duration": 248,
    "start_time": "2021-06-10T13:46:53.810Z"
   },
   {
    "duration": 171,
    "start_time": "2021-06-10T13:46:58.452Z"
   },
   {
    "duration": 9,
    "start_time": "2021-06-10T13:47:02.744Z"
   },
   {
    "duration": 177,
    "start_time": "2021-06-10T13:47:05.516Z"
   },
   {
    "duration": 206,
    "start_time": "2021-06-10T13:50:21.286Z"
   },
   {
    "duration": 60292,
    "start_time": "2021-06-10T13:50:29.242Z"
   },
   {
    "duration": 41308,
    "start_time": "2021-06-10T13:51:41.275Z"
   },
   {
    "duration": 69382,
    "start_time": "2021-06-10T13:52:42.924Z"
   },
   {
    "duration": 167,
    "start_time": "2021-06-10T13:55:10.666Z"
   },
   {
    "duration": 515,
    "start_time": "2021-06-10T13:55:16.973Z"
   },
   {
    "duration": 303,
    "start_time": "2021-06-10T13:55:30.006Z"
   },
   {
    "duration": 663,
    "start_time": "2021-06-10T13:55:32.631Z"
   },
   {
    "duration": 540,
    "start_time": "2021-06-10T13:57:19.932Z"
   },
   {
    "duration": 425,
    "start_time": "2021-06-10T13:57:29.577Z"
   },
   {
    "duration": 858,
    "start_time": "2021-06-10T13:57:40.557Z"
   },
   {
    "duration": 529,
    "start_time": "2021-06-10T13:58:04.238Z"
   },
   {
    "duration": 515,
    "start_time": "2021-06-10T13:58:11.653Z"
   },
   {
    "duration": 521,
    "start_time": "2021-06-10T13:58:24.236Z"
   },
   {
    "duration": 167,
    "start_time": "2021-06-10T13:59:00.683Z"
   },
   {
    "duration": 564,
    "start_time": "2021-06-10T13:59:02.963Z"
   },
   {
    "duration": 123,
    "start_time": "2021-06-10T14:01:35.571Z"
   },
   {
    "duration": 7,
    "start_time": "2021-06-10T14:01:58.392Z"
   },
   {
    "duration": 30,
    "start_time": "2021-06-10T14:03:35.878Z"
   },
   {
    "duration": 472,
    "start_time": "2021-06-10T14:03:39.633Z"
   },
   {
    "duration": 165,
    "start_time": "2021-06-10T14:05:05.154Z"
   },
   {
    "duration": 566,
    "start_time": "2021-06-10T14:05:07.367Z"
   },
   {
    "duration": 158,
    "start_time": "2021-06-10T14:06:36.628Z"
   },
   {
    "duration": 531,
    "start_time": "2021-06-10T14:06:41.025Z"
   },
   {
    "duration": 156,
    "start_time": "2021-06-10T14:07:09.772Z"
   },
   {
    "duration": 518,
    "start_time": "2021-06-10T14:07:12.045Z"
   },
   {
    "duration": 1002,
    "start_time": "2021-06-10T14:08:09.222Z"
   },
   {
    "duration": 28,
    "start_time": "2021-06-10T14:10:51.809Z"
   },
   {
    "duration": 5,
    "start_time": "2021-06-10T14:11:08.572Z"
   },
   {
    "duration": 2270,
    "start_time": "2021-06-10T14:12:46.948Z"
   },
   {
    "duration": 4,
    "start_time": "2021-06-10T14:12:49.221Z"
   },
   {
    "duration": 69,
    "start_time": "2021-06-10T14:12:49.229Z"
   },
   {
    "duration": 22,
    "start_time": "2021-06-10T14:12:49.301Z"
   },
   {
    "duration": 17,
    "start_time": "2021-06-10T14:12:49.327Z"
   },
   {
    "duration": 39,
    "start_time": "2021-06-10T14:12:49.347Z"
   },
   {
    "duration": 26,
    "start_time": "2021-06-10T14:12:49.389Z"
   },
   {
    "duration": 775,
    "start_time": "2021-06-10T14:12:49.421Z"
   },
   {
    "duration": 685,
    "start_time": "2021-06-10T14:12:50.200Z"
   },
   {
    "duration": 457,
    "start_time": "2021-06-10T14:12:50.888Z"
   },
   {
    "duration": 16,
    "start_time": "2021-06-10T14:12:51.349Z"
   },
   {
    "duration": 60,
    "start_time": "2021-06-10T14:12:51.384Z"
   },
   {
    "duration": 36,
    "start_time": "2021-06-10T14:12:51.447Z"
   },
   {
    "duration": 6,
    "start_time": "2021-06-10T14:12:51.486Z"
   },
   {
    "duration": 7,
    "start_time": "2021-06-10T14:12:51.495Z"
   },
   {
    "duration": 13,
    "start_time": "2021-06-10T14:12:51.505Z"
   },
   {
    "duration": 75,
    "start_time": "2021-06-10T14:12:51.520Z"
   },
   {
    "duration": 537,
    "start_time": "2021-06-10T14:12:51.598Z"
   },
   {
    "duration": -1608,
    "start_time": "2021-06-10T14:12:53.746Z"
   },
   {
    "duration": -1649,
    "start_time": "2021-06-10T14:12:53.788Z"
   },
   {
    "duration": -1650,
    "start_time": "2021-06-10T14:12:53.791Z"
   },
   {
    "duration": -1651,
    "start_time": "2021-06-10T14:12:53.793Z"
   },
   {
    "duration": -1652,
    "start_time": "2021-06-10T14:12:53.795Z"
   },
   {
    "duration": -1652,
    "start_time": "2021-06-10T14:12:53.797Z"
   },
   {
    "duration": -1659,
    "start_time": "2021-06-10T14:12:53.805Z"
   },
   {
    "duration": 25,
    "start_time": "2021-06-10T14:13:06.169Z"
   },
   {
    "duration": 352,
    "start_time": "2021-06-10T14:13:08.292Z"
   },
   {
    "duration": 2414,
    "start_time": "2021-06-10T14:14:15.115Z"
   },
   {
    "duration": 4,
    "start_time": "2021-06-10T14:14:17.533Z"
   },
   {
    "duration": 59,
    "start_time": "2021-06-10T14:14:17.541Z"
   },
   {
    "duration": 17,
    "start_time": "2021-06-10T14:14:17.603Z"
   },
   {
    "duration": 22,
    "start_time": "2021-06-10T14:14:17.623Z"
   },
   {
    "duration": 37,
    "start_time": "2021-06-10T14:14:17.648Z"
   },
   {
    "duration": 41,
    "start_time": "2021-06-10T14:14:17.687Z"
   },
   {
    "duration": 667,
    "start_time": "2021-06-10T14:14:17.732Z"
   },
   {
    "duration": 625,
    "start_time": "2021-06-10T14:14:18.402Z"
   },
   {
    "duration": 387,
    "start_time": "2021-06-10T14:14:19.030Z"
   },
   {
    "duration": 15,
    "start_time": "2021-06-10T14:14:19.419Z"
   },
   {
    "duration": 66,
    "start_time": "2021-06-10T14:14:19.437Z"
   },
   {
    "duration": 11,
    "start_time": "2021-06-10T14:14:19.506Z"
   },
   {
    "duration": 21,
    "start_time": "2021-06-10T14:14:19.520Z"
   },
   {
    "duration": 9,
    "start_time": "2021-06-10T14:14:19.543Z"
   },
   {
    "duration": 18,
    "start_time": "2021-06-10T14:14:19.555Z"
   },
   {
    "duration": 29,
    "start_time": "2021-06-10T14:14:19.575Z"
   },
   {
    "duration": 531,
    "start_time": "2021-06-10T14:14:19.785Z"
   },
   {
    "duration": -1642,
    "start_time": "2021-06-10T14:14:21.961Z"
   },
   {
    "duration": -1644,
    "start_time": "2021-06-10T14:14:21.965Z"
   },
   {
    "duration": -1644,
    "start_time": "2021-06-10T14:14:21.966Z"
   },
   {
    "duration": -1644,
    "start_time": "2021-06-10T14:14:21.968Z"
   },
   {
    "duration": -1645,
    "start_time": "2021-06-10T14:14:21.970Z"
   },
   {
    "duration": -1645,
    "start_time": "2021-06-10T14:14:21.972Z"
   },
   {
    "duration": -1646,
    "start_time": "2021-06-10T14:14:21.974Z"
   },
   {
    "duration": 43,
    "start_time": "2021-06-10T14:15:42.613Z"
   },
   {
    "duration": 14,
    "start_time": "2021-06-10T14:18:13.781Z"
   },
   {
    "duration": 41,
    "start_time": "2021-06-10T14:18:18.449Z"
   },
   {
    "duration": 5,
    "start_time": "2021-06-10T14:18:34.104Z"
   },
   {
    "duration": 5,
    "start_time": "2021-06-10T14:18:40.192Z"
   },
   {
    "duration": 7,
    "start_time": "2021-06-10T14:18:43.393Z"
   },
   {
    "duration": 24,
    "start_time": "2021-06-10T14:18:50.448Z"
   },
   {
    "duration": 688,
    "start_time": "2021-06-10T14:22:46.404Z"
   },
   {
    "duration": 2114,
    "start_time": "2021-06-10T14:23:05.939Z"
   },
   {
    "duration": 4,
    "start_time": "2021-06-10T14:23:08.055Z"
   },
   {
    "duration": 56,
    "start_time": "2021-06-10T14:23:08.061Z"
   },
   {
    "duration": 15,
    "start_time": "2021-06-10T14:23:08.120Z"
   },
   {
    "duration": 13,
    "start_time": "2021-06-10T14:23:08.137Z"
   },
   {
    "duration": 14,
    "start_time": "2021-06-10T14:23:08.153Z"
   },
   {
    "duration": 30,
    "start_time": "2021-06-10T14:23:08.170Z"
   },
   {
    "duration": 809,
    "start_time": "2021-06-10T14:23:08.204Z"
   },
   {
    "duration": 625,
    "start_time": "2021-06-10T14:23:09.017Z"
   },
   {
    "duration": 387,
    "start_time": "2021-06-10T14:23:09.645Z"
   },
   {
    "duration": 16,
    "start_time": "2021-06-10T14:23:10.035Z"
   },
   {
    "duration": 81,
    "start_time": "2021-06-10T14:23:10.054Z"
   },
   {
    "duration": 13,
    "start_time": "2021-06-10T14:23:10.138Z"
   },
   {
    "duration": 7,
    "start_time": "2021-06-10T14:23:10.154Z"
   },
   {
    "duration": 5,
    "start_time": "2021-06-10T14:23:10.184Z"
   },
   {
    "duration": 9,
    "start_time": "2021-06-10T14:23:10.192Z"
   },
   {
    "duration": 84,
    "start_time": "2021-06-10T14:23:10.204Z"
   },
   {
    "duration": 578,
    "start_time": "2021-06-10T14:23:10.292Z"
   },
   {
    "duration": -1567,
    "start_time": "2021-06-10T14:23:12.440Z"
   },
   {
    "duration": -1568,
    "start_time": "2021-06-10T14:23:12.443Z"
   },
   {
    "duration": -1568,
    "start_time": "2021-06-10T14:23:12.445Z"
   },
   {
    "duration": -1568,
    "start_time": "2021-06-10T14:23:12.447Z"
   },
   {
    "duration": -1575,
    "start_time": "2021-06-10T14:23:12.456Z"
   },
   {
    "duration": -1575,
    "start_time": "2021-06-10T14:23:12.457Z"
   },
   {
    "duration": -1577,
    "start_time": "2021-06-10T14:23:12.461Z"
   },
   {
    "duration": 387,
    "start_time": "2021-06-10T14:23:38.690Z"
   },
   {
    "duration": 334,
    "start_time": "2021-06-10T14:23:44.759Z"
   },
   {
    "duration": 6428,
    "start_time": "2021-06-10T14:23:56.959Z"
   },
   {
    "duration": 59493,
    "start_time": "2021-06-10T14:25:36.992Z"
   },
   {
    "duration": 287,
    "start_time": "2021-06-10T14:26:45.597Z"
   },
   {
    "duration": 335,
    "start_time": "2021-06-10T14:27:00.302Z"
   },
   {
    "duration": 6,
    "start_time": "2021-06-10T14:27:12.093Z"
   },
   {
    "duration": 3,
    "start_time": "2021-06-10T14:27:22.451Z"
   },
   {
    "duration": 532,
    "start_time": "2021-06-10T14:28:52.543Z"
   },
   {
    "duration": 192,
    "start_time": "2021-06-10T14:29:09.281Z"
   },
   {
    "duration": 232,
    "start_time": "2021-06-10T14:29:19.929Z"
   },
   {
    "duration": 42842,
    "start_time": "2021-06-10T14:29:27.772Z"
   },
   {
    "duration": 302,
    "start_time": "2021-06-10T14:31:50.369Z"
   },
   {
    "duration": 10,
    "start_time": "2021-06-10T14:33:31.937Z"
   },
   {
    "duration": 2100,
    "start_time": "2021-06-10T14:33:40.193Z"
   },
   {
    "duration": 3,
    "start_time": "2021-06-10T14:33:42.296Z"
   },
   {
    "duration": 62,
    "start_time": "2021-06-10T14:33:42.304Z"
   },
   {
    "duration": 21,
    "start_time": "2021-06-10T14:33:42.369Z"
   },
   {
    "duration": 12,
    "start_time": "2021-06-10T14:33:42.393Z"
   },
   {
    "duration": 15,
    "start_time": "2021-06-10T14:33:42.408Z"
   },
   {
    "duration": 58,
    "start_time": "2021-06-10T14:33:42.425Z"
   },
   {
    "duration": 732,
    "start_time": "2021-06-10T14:33:42.485Z"
   },
   {
    "duration": 651,
    "start_time": "2021-06-10T14:33:43.223Z"
   },
   {
    "duration": 564,
    "start_time": "2021-06-10T14:33:43.877Z"
   },
   {
    "duration": 38,
    "start_time": "2021-06-10T14:33:44.445Z"
   },
   {
    "duration": 61,
    "start_time": "2021-06-10T14:33:44.486Z"
   },
   {
    "duration": 40,
    "start_time": "2021-06-10T14:33:44.550Z"
   },
   {
    "duration": 9,
    "start_time": "2021-06-10T14:33:44.593Z"
   },
   {
    "duration": 8,
    "start_time": "2021-06-10T14:33:44.606Z"
   },
   {
    "duration": 9,
    "start_time": "2021-06-10T14:33:44.618Z"
   },
   {
    "duration": 160,
    "start_time": "2021-06-10T14:33:44.630Z"
   },
   {
    "duration": 685,
    "start_time": "2021-06-10T14:33:44.793Z"
   },
   {
    "duration": -1557,
    "start_time": "2021-06-10T14:33:47.038Z"
   },
   {
    "duration": -1558,
    "start_time": "2021-06-10T14:33:47.041Z"
   },
   {
    "duration": -1557,
    "start_time": "2021-06-10T14:33:47.042Z"
   },
   {
    "duration": -1558,
    "start_time": "2021-06-10T14:33:47.044Z"
   },
   {
    "duration": -1558,
    "start_time": "2021-06-10T14:33:47.046Z"
   },
   {
    "duration": -1560,
    "start_time": "2021-06-10T14:33:47.049Z"
   },
   {
    "duration": -1560,
    "start_time": "2021-06-10T14:33:47.051Z"
   },
   {
    "duration": 4,
    "start_time": "2021-06-10T14:34:13.703Z"
   },
   {
    "duration": 7,
    "start_time": "2021-06-10T14:34:19.143Z"
   },
   {
    "duration": 256,
    "start_time": "2021-06-10T14:34:28.014Z"
   },
   {
    "duration": 241,
    "start_time": "2021-06-10T14:34:48.152Z"
   },
   {
    "duration": 11,
    "start_time": "2021-06-10T14:35:03.687Z"
   },
   {
    "duration": 416,
    "start_time": "2021-06-10T16:24:23.316Z"
   },
   {
    "duration": 1767,
    "start_time": "2021-06-10T16:24:50.394Z"
   },
   {
    "duration": 4,
    "start_time": "2021-06-10T16:24:52.164Z"
   },
   {
    "duration": 61,
    "start_time": "2021-06-10T16:24:52.216Z"
   },
   {
    "duration": 18,
    "start_time": "2021-06-10T16:24:52.280Z"
   },
   {
    "duration": 28,
    "start_time": "2021-06-10T16:24:52.301Z"
   },
   {
    "duration": 9,
    "start_time": "2021-06-10T16:24:52.332Z"
   },
   {
    "duration": 31,
    "start_time": "2021-06-10T16:24:52.343Z"
   },
   {
    "duration": 871,
    "start_time": "2021-06-10T16:24:52.376Z"
   },
   {
    "duration": 587,
    "start_time": "2021-06-10T16:24:53.251Z"
   },
   {
    "duration": 498,
    "start_time": "2021-06-10T16:24:53.841Z"
   },
   {
    "duration": 13,
    "start_time": "2021-06-10T16:24:54.342Z"
   },
   {
    "duration": 72,
    "start_time": "2021-06-10T16:24:54.358Z"
   },
   {
    "duration": 11,
    "start_time": "2021-06-10T16:24:54.432Z"
   },
   {
    "duration": 13,
    "start_time": "2021-06-10T16:24:54.445Z"
   },
   {
    "duration": 6,
    "start_time": "2021-06-10T16:24:54.460Z"
   },
   {
    "duration": 44,
    "start_time": "2021-06-10T16:24:54.468Z"
   },
   {
    "duration": 31,
    "start_time": "2021-06-10T16:24:54.516Z"
   },
   {
    "duration": 67,
    "start_time": "2021-06-10T16:24:54.549Z"
   },
   {
    "duration": 109,
    "start_time": "2021-06-10T16:24:54.628Z"
   },
   {
    "duration": 1380,
    "start_time": "2021-06-10T16:24:54.739Z"
   },
   {
    "duration": 1698,
    "start_time": "2021-06-10T16:24:56.123Z"
   },
   {
    "duration": 22,
    "start_time": "2021-06-10T16:24:57.824Z"
   },
   {
    "duration": 74,
    "start_time": "2021-06-10T16:24:57.850Z"
   },
   {
    "duration": 53927,
    "start_time": "2021-06-10T16:24:57.926Z"
   },
   {
    "duration": 516,
    "start_time": "2021-06-10T16:25:51.855Z"
   },
   {
    "duration": -470,
    "start_time": "2021-06-10T16:25:52.843Z"
   },
   {
    "duration": -471,
    "start_time": "2021-06-10T16:25:52.846Z"
   },
   {
    "duration": 1687,
    "start_time": "2021-06-10T16:26:14.889Z"
   },
   {
    "duration": 4,
    "start_time": "2021-06-10T16:26:16.578Z"
   },
   {
    "duration": 62,
    "start_time": "2021-06-10T16:26:16.584Z"
   },
   {
    "duration": 13,
    "start_time": "2021-06-10T16:26:16.649Z"
   },
   {
    "duration": 26,
    "start_time": "2021-06-10T16:26:16.664Z"
   },
   {
    "duration": 8,
    "start_time": "2021-06-10T16:26:16.692Z"
   },
   {
    "duration": 39,
    "start_time": "2021-06-10T16:26:16.702Z"
   },
   {
    "duration": 910,
    "start_time": "2021-06-10T16:26:16.743Z"
   },
   {
    "duration": 783,
    "start_time": "2021-06-10T16:26:17.657Z"
   },
   {
    "duration": 494,
    "start_time": "2021-06-10T16:26:18.443Z"
   },
   {
    "duration": 15,
    "start_time": "2021-06-10T16:26:18.939Z"
   },
   {
    "duration": 80,
    "start_time": "2021-06-10T16:26:18.956Z"
   },
   {
    "duration": 14,
    "start_time": "2021-06-10T16:26:19.038Z"
   },
   {
    "duration": 21,
    "start_time": "2021-06-10T16:26:19.055Z"
   },
   {
    "duration": 6,
    "start_time": "2021-06-10T16:26:19.078Z"
   },
   {
    "duration": 26,
    "start_time": "2021-06-10T16:26:19.086Z"
   },
   {
    "duration": 20,
    "start_time": "2021-06-10T16:26:19.115Z"
   },
   {
    "duration": 84,
    "start_time": "2021-06-10T16:26:19.138Z"
   },
   {
    "duration": 118,
    "start_time": "2021-06-10T16:26:19.225Z"
   },
   {
    "duration": 1464,
    "start_time": "2021-06-10T16:26:19.345Z"
   },
   {
    "duration": 2095,
    "start_time": "2021-06-10T16:26:20.814Z"
   },
   {
    "duration": 28,
    "start_time": "2021-06-10T16:26:22.911Z"
   },
   {
    "duration": 15,
    "start_time": "2021-06-10T16:26:22.941Z"
   },
   {
    "duration": 56539,
    "start_time": "2021-06-10T16:26:22.958Z"
   },
   {
    "duration": 538,
    "start_time": "2021-06-10T16:27:19.500Z"
   },
   {
    "duration": -473,
    "start_time": "2021-06-10T16:27:20.514Z"
   },
   {
    "duration": -474,
    "start_time": "2021-06-10T16:27:20.517Z"
   },
   {
    "duration": 1034,
    "start_time": "2021-06-10T16:27:31.102Z"
   },
   {
    "duration": 271,
    "start_time": "2021-06-10T16:27:41.077Z"
   },
   {
    "duration": 1498,
    "start_time": "2021-06-10T16:27:49.823Z"
   },
   {
    "duration": 9,
    "start_time": "2021-06-10T16:30:49.675Z"
   },
   {
    "duration": 8770,
    "start_time": "2021-06-10T16:32:24.683Z"
   },
   {
    "duration": 15,
    "start_time": "2021-06-10T16:33:13.438Z"
   },
   {
    "duration": 718,
    "start_time": "2021-06-10T16:33:17.499Z"
   },
   {
    "duration": 23,
    "start_time": "2021-06-10T16:33:25.019Z"
   },
   {
    "duration": 77,
    "start_time": "2021-06-10T16:33:33.864Z"
   },
   {
    "duration": 11,
    "start_time": "2021-06-10T16:33:40.749Z"
   },
   {
    "duration": 1566,
    "start_time": "2021-06-10T16:33:47.463Z"
   },
   {
    "duration": 3,
    "start_time": "2021-06-10T16:33:49.032Z"
   },
   {
    "duration": 59,
    "start_time": "2021-06-10T16:33:49.038Z"
   },
   {
    "duration": 17,
    "start_time": "2021-06-10T16:33:49.099Z"
   },
   {
    "duration": 36,
    "start_time": "2021-06-10T16:33:49.118Z"
   },
   {
    "duration": 8,
    "start_time": "2021-06-10T16:33:49.157Z"
   },
   {
    "duration": 30,
    "start_time": "2021-06-10T16:33:49.167Z"
   },
   {
    "duration": 12,
    "start_time": "2021-06-10T16:33:49.209Z"
   },
   {
    "duration": 13,
    "start_time": "2021-06-10T16:33:49.226Z"
   },
   {
    "duration": 787,
    "start_time": "2021-06-10T16:33:49.242Z"
   },
   {
    "duration": 589,
    "start_time": "2021-06-10T16:33:50.032Z"
   },
   {
    "duration": 490,
    "start_time": "2021-06-10T16:33:50.623Z"
   },
   {
    "duration": 22,
    "start_time": "2021-06-10T16:33:51.115Z"
   },
   {
    "duration": 103,
    "start_time": "2021-06-10T16:33:51.139Z"
   },
   {
    "duration": 12,
    "start_time": "2021-06-10T16:33:51.244Z"
   },
   {
    "duration": 32,
    "start_time": "2021-06-10T16:33:51.259Z"
   },
   {
    "duration": 78,
    "start_time": "2021-06-10T16:33:51.293Z"
   },
   {
    "duration": 9,
    "start_time": "2021-06-10T16:33:51.374Z"
   },
   {
    "duration": 16,
    "start_time": "2021-06-10T16:33:51.386Z"
   },
   {
    "duration": 110,
    "start_time": "2021-06-10T16:33:51.404Z"
   },
   {
    "duration": 393,
    "start_time": "2021-06-10T16:33:51.518Z"
   },
   {
    "duration": 5103,
    "start_time": "2021-06-10T16:33:51.915Z"
   },
   {
    "duration": 1612,
    "start_time": "2021-06-10T16:33:57.021Z"
   },
   {
    "duration": 24,
    "start_time": "2021-06-10T16:33:58.708Z"
   },
   {
    "duration": 12,
    "start_time": "2021-06-10T16:33:58.735Z"
   },
   {
    "duration": 51332,
    "start_time": "2021-06-10T16:33:58.750Z"
   },
   {
    "duration": 951,
    "start_time": "2021-06-10T16:34:50.086Z"
   },
   {
    "duration": 177,
    "start_time": "2021-06-10T16:34:51.039Z"
   },
   {
    "duration": 4459,
    "start_time": "2021-06-10T16:34:58.262Z"
   },
   {
    "duration": 80,
    "start_time": "2021-06-10T16:35:33.138Z"
   },
   {
    "duration": 2682,
    "start_time": "2021-06-10T16:35:48.034Z"
   },
   {
    "duration": 983,
    "start_time": "2021-06-10T16:36:43.533Z"
   },
   {
    "duration": 1197,
    "start_time": "2021-06-10T16:36:47.915Z"
   },
   {
    "duration": 1378,
    "start_time": "2021-06-10T16:37:44.240Z"
   },
   {
    "duration": 1452,
    "start_time": "2021-06-10T16:37:54.470Z"
   },
   {
    "duration": 1494,
    "start_time": "2021-06-10T16:38:00.425Z"
   },
   {
    "duration": 1509,
    "start_time": "2021-06-10T16:38:10.101Z"
   },
   {
    "duration": 1634,
    "start_time": "2021-06-10T16:38:16.279Z"
   },
   {
    "duration": 1464,
    "start_time": "2021-06-10T16:38:25.745Z"
   },
   {
    "duration": 1678,
    "start_time": "2021-06-10T16:38:33.439Z"
   },
   {
    "duration": 1006,
    "start_time": "2021-06-10T16:38:49.310Z"
   },
   {
    "duration": 962,
    "start_time": "2021-06-10T16:38:59.451Z"
   },
   {
    "duration": 933,
    "start_time": "2021-06-10T16:39:05.479Z"
   },
   {
    "duration": 724,
    "start_time": "2021-06-10T16:39:11.496Z"
   },
   {
    "duration": 4319,
    "start_time": "2021-06-10T16:39:19.114Z"
   },
   {
    "duration": 1119,
    "start_time": "2021-06-10T16:39:44.497Z"
   },
   {
    "duration": 131,
    "start_time": "2021-06-10T16:44:14.735Z"
   },
   {
    "duration": 143,
    "start_time": "2021-06-10T16:44:43.184Z"
   },
   {
    "duration": 126,
    "start_time": "2021-06-10T16:44:49.162Z"
   },
   {
    "duration": 125,
    "start_time": "2021-06-10T16:44:56.228Z"
   },
   {
    "duration": 1733,
    "start_time": "2021-06-10T16:46:26.978Z"
   },
   {
    "duration": 970,
    "start_time": "2021-06-10T16:55:08.562Z"
   },
   {
    "duration": 514,
    "start_time": "2021-06-10T16:55:17.532Z"
   },
   {
    "duration": 3,
    "start_time": "2021-06-10T16:55:56.331Z"
   },
   {
    "duration": 2345,
    "start_time": "2021-06-10T16:55:56.337Z"
   },
   {
    "duration": 289,
    "start_time": "2021-06-10T16:56:44.833Z"
   },
   {
    "duration": 6,
    "start_time": "2021-06-10T16:56:47.142Z"
   },
   {
    "duration": 428,
    "start_time": "2021-06-10T16:57:04.737Z"
   },
   {
    "duration": 6,
    "start_time": "2021-06-10T16:57:29.216Z"
   },
   {
    "duration": 343,
    "start_time": "2021-06-10T16:57:35.922Z"
   },
   {
    "duration": 44,
    "start_time": "2021-06-10T16:57:55.753Z"
   },
   {
    "duration": 7,
    "start_time": "2021-06-10T16:57:57.746Z"
   },
   {
    "duration": 56766,
    "start_time": "2021-06-10T16:59:11.143Z"
   },
   {
    "duration": 15,
    "start_time": "2021-06-10T17:00:43.183Z"
   },
   {
    "duration": 60154,
    "start_time": "2021-06-10T17:00:45.133Z"
   },
   {
    "duration": 4,
    "start_time": "2021-06-10T17:02:27.044Z"
   },
   {
    "duration": 46,
    "start_time": "2021-06-10T17:03:16.484Z"
   },
   {
    "duration": 420,
    "start_time": "2021-06-10T17:06:06.616Z"
   },
   {
    "duration": 434,
    "start_time": "2021-06-10T17:08:34.847Z"
   },
   {
    "duration": 407,
    "start_time": "2021-06-10T17:08:57.330Z"
   },
   {
    "duration": 422,
    "start_time": "2021-06-10T17:09:03.841Z"
   },
   {
    "duration": 53,
    "start_time": "2021-06-10T17:09:31.695Z"
   },
   {
    "duration": 53,
    "start_time": "2021-06-10T17:09:56.835Z"
   },
   {
    "duration": 1230,
    "start_time": "2021-06-10T17:10:06.934Z"
   },
   {
    "duration": 501,
    "start_time": "2021-06-10T17:10:34.410Z"
   },
   {
    "duration": 301,
    "start_time": "2021-06-10T17:10:58.878Z"
   },
   {
    "duration": 367,
    "start_time": "2021-06-10T17:11:05.881Z"
   },
   {
    "duration": 53,
    "start_time": "2021-06-10T17:11:30.452Z"
   },
   {
    "duration": 53,
    "start_time": "2021-06-10T17:11:41.372Z"
   },
   {
    "duration": 61395,
    "start_time": "2021-06-10T17:11:55.382Z"
   },
   {
    "duration": 77931,
    "start_time": "2021-06-10T17:13:31.368Z"
   },
   {
    "duration": 4,
    "start_time": "2021-06-10T17:29:07.274Z"
   },
   {
    "duration": 28,
    "start_time": "2021-06-10T17:29:34.135Z"
   },
   {
    "duration": 15,
    "start_time": "2021-06-10T17:29:37.074Z"
   },
   {
    "duration": 1722,
    "start_time": "2021-06-10T17:29:39.234Z"
   },
   {
    "duration": 565,
    "start_time": "2021-06-10T17:29:56.318Z"
   },
   {
    "duration": 677,
    "start_time": "2021-06-10T17:30:48.625Z"
   },
   {
    "duration": 815,
    "start_time": "2021-06-10T17:31:24.234Z"
   },
   {
    "duration": 686,
    "start_time": "2021-06-10T17:31:36.114Z"
   },
   {
    "duration": 675,
    "start_time": "2021-06-10T17:31:44.479Z"
   },
   {
    "duration": 90,
    "start_time": "2021-06-10T17:31:58.109Z"
   },
   {
    "duration": 2457,
    "start_time": "2021-06-10T17:32:14.404Z"
   },
   {
    "duration": 4,
    "start_time": "2021-06-10T17:32:16.863Z"
   },
   {
    "duration": 54,
    "start_time": "2021-06-10T17:32:16.870Z"
   },
   {
    "duration": 13,
    "start_time": "2021-06-10T17:32:16.927Z"
   },
   {
    "duration": 18,
    "start_time": "2021-06-10T17:32:16.942Z"
   },
   {
    "duration": 11,
    "start_time": "2021-06-10T17:32:16.962Z"
   },
   {
    "duration": 53,
    "start_time": "2021-06-10T17:32:16.975Z"
   },
   {
    "duration": 14,
    "start_time": "2021-06-10T17:32:17.031Z"
   },
   {
    "duration": 20,
    "start_time": "2021-06-10T17:32:17.049Z"
   },
   {
    "duration": 878,
    "start_time": "2021-06-10T17:32:17.072Z"
   },
   {
    "duration": 759,
    "start_time": "2021-06-10T17:32:17.952Z"
   },
   {
    "duration": 417,
    "start_time": "2021-06-10T17:32:18.714Z"
   },
   {
    "duration": 22,
    "start_time": "2021-06-10T17:32:19.133Z"
   },
   {
    "duration": 101,
    "start_time": "2021-06-10T17:32:19.157Z"
   },
   {
    "duration": 11,
    "start_time": "2021-06-10T17:32:19.260Z"
   },
   {
    "duration": 35,
    "start_time": "2021-06-10T17:32:19.274Z"
   },
   {
    "duration": 5,
    "start_time": "2021-06-10T17:32:19.311Z"
   },
   {
    "duration": 7,
    "start_time": "2021-06-10T17:32:19.318Z"
   },
   {
    "duration": 17,
    "start_time": "2021-06-10T17:32:19.328Z"
   },
   {
    "duration": 65,
    "start_time": "2021-06-10T17:32:19.348Z"
   },
   {
    "duration": 2196,
    "start_time": "2021-06-10T17:32:19.416Z"
   },
   {
    "duration": 3,
    "start_time": "2021-06-10T17:32:21.615Z"
   },
   {
    "duration": 89,
    "start_time": "2021-06-10T17:32:21.620Z"
   },
   {
    "duration": 10,
    "start_time": "2021-06-10T17:32:21.712Z"
   },
   {
    "duration": 11,
    "start_time": "2021-06-10T17:32:21.724Z"
   },
   {
    "duration": 1082,
    "start_time": "2021-06-10T17:32:21.738Z"
   },
   {
    "duration": 86,
    "start_time": "2021-06-10T17:32:22.825Z"
   },
   {
    "duration": 20,
    "start_time": "2021-06-10T17:32:22.914Z"
   },
   {
    "duration": 24501,
    "start_time": "2021-06-10T17:32:22.936Z"
   },
   {
    "duration": 362,
    "start_time": "2021-06-10T17:32:47.440Z"
   },
   {
    "duration": 2321,
    "start_time": "2021-06-10T17:33:10.231Z"
   },
   {
    "duration": 4,
    "start_time": "2021-06-10T17:33:12.555Z"
   },
   {
    "duration": 59,
    "start_time": "2021-06-10T17:33:12.564Z"
   },
   {
    "duration": 16,
    "start_time": "2021-06-10T17:33:12.627Z"
   },
   {
    "duration": 17,
    "start_time": "2021-06-10T17:33:12.645Z"
   },
   {
    "duration": 9,
    "start_time": "2021-06-10T17:33:12.665Z"
   },
   {
    "duration": 58,
    "start_time": "2021-06-10T17:33:12.676Z"
   },
   {
    "duration": 17,
    "start_time": "2021-06-10T17:33:12.737Z"
   },
   {
    "duration": 15,
    "start_time": "2021-06-10T17:33:12.759Z"
   },
   {
    "duration": 795,
    "start_time": "2021-06-10T17:33:12.777Z"
   },
   {
    "duration": 761,
    "start_time": "2021-06-10T17:33:13.575Z"
   },
   {
    "duration": 498,
    "start_time": "2021-06-10T17:33:14.338Z"
   },
   {
    "duration": 26,
    "start_time": "2021-06-10T17:33:14.846Z"
   },
   {
    "duration": 74,
    "start_time": "2021-06-10T17:33:14.874Z"
   },
   {
    "duration": 10,
    "start_time": "2021-06-10T17:33:14.951Z"
   },
   {
    "duration": 14,
    "start_time": "2021-06-10T17:33:14.964Z"
   },
   {
    "duration": 29,
    "start_time": "2021-06-10T17:33:14.980Z"
   },
   {
    "duration": 13,
    "start_time": "2021-06-10T17:33:15.011Z"
   },
   {
    "duration": 22,
    "start_time": "2021-06-10T17:33:15.026Z"
   },
   {
    "duration": 159,
    "start_time": "2021-06-10T17:33:15.050Z"
   },
   {
    "duration": 2510,
    "start_time": "2021-06-10T17:33:15.213Z"
   },
   {
    "duration": 4,
    "start_time": "2021-06-10T17:33:17.811Z"
   },
   {
    "duration": 90,
    "start_time": "2021-06-10T17:33:17.819Z"
   },
   {
    "duration": 3,
    "start_time": "2021-06-10T17:33:17.912Z"
   },
   {
    "duration": 14,
    "start_time": "2021-06-10T17:33:17.917Z"
   },
   {
    "duration": 1078,
    "start_time": "2021-06-10T17:33:17.933Z"
   },
   {
    "duration": 22,
    "start_time": "2021-06-10T17:33:19.016Z"
   },
   {
    "duration": 11,
    "start_time": "2021-06-10T17:33:19.041Z"
   },
   {
    "duration": 51333,
    "start_time": "2021-06-10T17:33:19.054Z"
   },
   {
    "duration": 953,
    "start_time": "2021-06-10T17:34:10.389Z"
   },
   {
    "duration": 2140,
    "start_time": "2021-06-10T17:34:45.913Z"
   },
   {
    "duration": 3,
    "start_time": "2021-06-10T17:34:48.056Z"
   },
   {
    "duration": 55,
    "start_time": "2021-06-10T17:34:48.062Z"
   },
   {
    "duration": 14,
    "start_time": "2021-06-10T17:34:48.119Z"
   },
   {
    "duration": 21,
    "start_time": "2021-06-10T17:34:48.135Z"
   },
   {
    "duration": 10,
    "start_time": "2021-06-10T17:34:48.158Z"
   },
   {
    "duration": 48,
    "start_time": "2021-06-10T17:34:48.170Z"
   },
   {
    "duration": 11,
    "start_time": "2021-06-10T17:34:48.221Z"
   },
   {
    "duration": 15,
    "start_time": "2021-06-10T17:34:48.236Z"
   },
   {
    "duration": 781,
    "start_time": "2021-06-10T17:34:48.254Z"
   },
   {
    "duration": 748,
    "start_time": "2021-06-10T17:34:49.037Z"
   },
   {
    "duration": 396,
    "start_time": "2021-06-10T17:34:49.788Z"
   },
   {
    "duration": 33,
    "start_time": "2021-06-10T17:34:50.187Z"
   },
   {
    "duration": 91,
    "start_time": "2021-06-10T17:34:50.223Z"
   },
   {
    "duration": 501,
    "start_time": "2021-06-10T17:34:50.318Z"
   },
   {
    "duration": -578,
    "start_time": "2021-06-10T17:34:51.400Z"
   },
   {
    "duration": -579,
    "start_time": "2021-06-10T17:34:51.402Z"
   },
   {
    "duration": -578,
    "start_time": "2021-06-10T17:34:51.403Z"
   },
   {
    "duration": -577,
    "start_time": "2021-06-10T17:34:51.403Z"
   },
   {
    "duration": -577,
    "start_time": "2021-06-10T17:34:51.404Z"
   },
   {
    "duration": -577,
    "start_time": "2021-06-10T17:34:51.405Z"
   },
   {
    "duration": -576,
    "start_time": "2021-06-10T17:34:51.406Z"
   },
   {
    "duration": -576,
    "start_time": "2021-06-10T17:34:51.407Z"
   },
   {
    "duration": -576,
    "start_time": "2021-06-10T17:34:51.408Z"
   },
   {
    "duration": -588,
    "start_time": "2021-06-10T17:34:51.422Z"
   },
   {
    "duration": -589,
    "start_time": "2021-06-10T17:34:51.424Z"
   },
   {
    "duration": -589,
    "start_time": "2021-06-10T17:34:51.425Z"
   },
   {
    "duration": -588,
    "start_time": "2021-06-10T17:34:51.426Z"
   },
   {
    "duration": -588,
    "start_time": "2021-06-10T17:34:51.427Z"
   },
   {
    "duration": 12,
    "start_time": "2021-06-10T17:35:06.031Z"
   },
   {
    "duration": 13,
    "start_time": "2021-06-10T17:35:11.452Z"
   },
   {
    "duration": 5,
    "start_time": "2021-06-10T17:35:11.467Z"
   },
   {
    "duration": 5,
    "start_time": "2021-06-10T17:35:11.475Z"
   },
   {
    "duration": 15,
    "start_time": "2021-06-10T17:35:11.483Z"
   },
   {
    "duration": 116,
    "start_time": "2021-06-10T17:35:11.500Z"
   },
   {
    "duration": 2791,
    "start_time": "2021-06-10T17:35:11.619Z"
   },
   {
    "duration": 4,
    "start_time": "2021-06-10T17:35:14.413Z"
   },
   {
    "duration": 6,
    "start_time": "2021-06-10T17:35:14.420Z"
   },
   {
    "duration": 81,
    "start_time": "2021-06-10T17:35:14.431Z"
   },
   {
    "duration": 6,
    "start_time": "2021-06-10T17:35:14.515Z"
   },
   {
    "duration": 1290,
    "start_time": "2021-06-10T17:35:14.524Z"
   },
   {
    "duration": 22,
    "start_time": "2021-06-10T17:35:15.816Z"
   },
   {
    "duration": 19,
    "start_time": "2021-06-10T17:35:15.841Z"
   },
   {
    "duration": 52005,
    "start_time": "2021-06-10T17:35:15.863Z"
   },
   {
    "duration": 958,
    "start_time": "2021-06-10T17:36:07.871Z"
   },
   {
    "duration": 7,
    "start_time": "2021-06-10T17:36:08.832Z"
   },
   {
    "duration": 2131,
    "start_time": "2021-06-10T17:36:15.260Z"
   },
   {
    "duration": 15,
    "start_time": "2021-06-10T17:36:17.394Z"
   },
   {
    "duration": 49,
    "start_time": "2021-06-10T17:36:17.412Z"
   },
   {
    "duration": 13,
    "start_time": "2021-06-10T17:36:17.465Z"
   },
   {
    "duration": 34,
    "start_time": "2021-06-10T17:36:17.481Z"
   },
   {
    "duration": 8,
    "start_time": "2021-06-10T17:36:17.517Z"
   },
   {
    "duration": 24,
    "start_time": "2021-06-10T17:36:17.527Z"
   },
   {
    "duration": 10,
    "start_time": "2021-06-10T17:36:17.554Z"
   },
   {
    "duration": 48,
    "start_time": "2021-06-10T17:36:17.568Z"
   },
   {
    "duration": 768,
    "start_time": "2021-06-10T17:36:17.619Z"
   },
   {
    "duration": 749,
    "start_time": "2021-06-10T17:36:18.390Z"
   },
   {
    "duration": 495,
    "start_time": "2021-06-10T17:36:19.142Z"
   },
   {
    "duration": -570,
    "start_time": "2021-06-10T17:36:20.211Z"
   },
   {
    "duration": -569,
    "start_time": "2021-06-10T17:36:20.212Z"
   },
   {
    "duration": -568,
    "start_time": "2021-06-10T17:36:20.213Z"
   },
   {
    "duration": -567,
    "start_time": "2021-06-10T17:36:20.214Z"
   },
   {
    "duration": -566,
    "start_time": "2021-06-10T17:36:20.215Z"
   },
   {
    "duration": -565,
    "start_time": "2021-06-10T17:36:20.216Z"
   },
   {
    "duration": -563,
    "start_time": "2021-06-10T17:36:20.217Z"
   },
   {
    "duration": -563,
    "start_time": "2021-06-10T17:36:20.219Z"
   },
   {
    "duration": -565,
    "start_time": "2021-06-10T17:36:20.223Z"
   },
   {
    "duration": -564,
    "start_time": "2021-06-10T17:36:20.224Z"
   },
   {
    "duration": -596,
    "start_time": "2021-06-10T17:36:20.259Z"
   },
   {
    "duration": -598,
    "start_time": "2021-06-10T17:36:20.263Z"
   },
   {
    "duration": -597,
    "start_time": "2021-06-10T17:36:20.264Z"
   },
   {
    "duration": -597,
    "start_time": "2021-06-10T17:36:20.266Z"
   },
   {
    "duration": -597,
    "start_time": "2021-06-10T17:36:20.269Z"
   },
   {
    "duration": -596,
    "start_time": "2021-06-10T17:36:20.270Z"
   },
   {
    "duration": -562,
    "start_time": "2021-06-10T17:36:20.271Z"
   },
   {
    "duration": 4,
    "start_time": "2021-06-10T17:36:50.680Z"
   },
   {
    "duration": 3,
    "start_time": "2021-06-10T17:36:54.718Z"
   },
   {
    "duration": 23,
    "start_time": "2021-06-10T17:36:54.723Z"
   },
   {
    "duration": 88,
    "start_time": "2021-06-10T17:36:54.750Z"
   },
   {
    "duration": 15,
    "start_time": "2021-06-10T17:36:54.842Z"
   },
   {
    "duration": 5,
    "start_time": "2021-06-10T17:36:54.860Z"
   },
   {
    "duration": 41,
    "start_time": "2021-06-10T17:36:54.868Z"
   },
   {
    "duration": 13,
    "start_time": "2021-06-10T17:36:54.912Z"
   },
   {
    "duration": 183,
    "start_time": "2021-06-10T17:36:54.927Z"
   },
   {
    "duration": 2697,
    "start_time": "2021-06-10T17:36:55.114Z"
   },
   {
    "duration": 4,
    "start_time": "2021-06-10T17:36:57.814Z"
   },
   {
    "duration": 92,
    "start_time": "2021-06-10T17:36:57.820Z"
   },
   {
    "duration": 7,
    "start_time": "2021-06-10T17:36:57.915Z"
   },
   {
    "duration": 6,
    "start_time": "2021-06-10T17:36:57.924Z"
   },
   {
    "duration": 1082,
    "start_time": "2021-06-10T17:36:57.933Z"
   },
   {
    "duration": 23,
    "start_time": "2021-06-10T17:36:59.018Z"
   },
   {
    "duration": 72,
    "start_time": "2021-06-10T17:36:59.043Z"
   },
   {
    "duration": 2176,
    "start_time": "2021-06-10T17:37:53.392Z"
   },
   {
    "duration": 3,
    "start_time": "2021-06-10T17:37:55.571Z"
   },
   {
    "duration": 59,
    "start_time": "2021-06-10T17:37:55.582Z"
   },
   {
    "duration": 14,
    "start_time": "2021-06-10T17:37:55.644Z"
   },
   {
    "duration": 19,
    "start_time": "2021-06-10T17:37:55.660Z"
   },
   {
    "duration": 35,
    "start_time": "2021-06-10T17:37:55.681Z"
   },
   {
    "duration": 28,
    "start_time": "2021-06-10T17:37:55.718Z"
   },
   {
    "duration": 11,
    "start_time": "2021-06-10T17:37:55.751Z"
   },
   {
    "duration": 43,
    "start_time": "2021-06-10T17:37:55.765Z"
   },
   {
    "duration": 753,
    "start_time": "2021-06-10T17:37:55.811Z"
   },
   {
    "duration": 754,
    "start_time": "2021-06-10T17:37:56.567Z"
   },
   {
    "duration": 3,
    "start_time": "2021-06-10T17:37:57.324Z"
   },
   {
    "duration": 25,
    "start_time": "2021-06-10T17:37:57.330Z"
   },
   {
    "duration": 105,
    "start_time": "2021-06-10T17:37:57.358Z"
   },
   {
    "duration": 13,
    "start_time": "2021-06-10T17:37:57.465Z"
   },
   {
    "duration": 26,
    "start_time": "2021-06-10T17:37:57.481Z"
   },
   {
    "duration": 14,
    "start_time": "2021-06-10T17:37:57.509Z"
   },
   {
    "duration": 16,
    "start_time": "2021-06-10T17:37:57.525Z"
   },
   {
    "duration": 69,
    "start_time": "2021-06-10T17:37:57.543Z"
   },
   {
    "duration": 1798,
    "start_time": "2021-06-10T17:37:57.615Z"
   },
   {
    "duration": 4,
    "start_time": "2021-06-10T17:37:59.416Z"
   },
   {
    "duration": 14,
    "start_time": "2021-06-10T17:37:59.508Z"
   },
   {
    "duration": 10,
    "start_time": "2021-06-10T17:37:59.524Z"
   },
   {
    "duration": 12,
    "start_time": "2021-06-10T17:37:59.537Z"
   },
   {
    "duration": 1258,
    "start_time": "2021-06-10T17:37:59.551Z"
   },
   {
    "duration": 22,
    "start_time": "2021-06-10T17:38:00.814Z"
   },
   {
    "duration": 42,
    "start_time": "2021-06-10T17:38:00.838Z"
   },
   {
    "duration": 53471,
    "start_time": "2021-06-10T17:38:00.882Z"
   },
   {
    "duration": 968,
    "start_time": "2021-06-10T17:38:54.356Z"
   },
   {
    "duration": 2213,
    "start_time": "2021-06-10T18:06:25.526Z"
   },
   {
    "duration": 4,
    "start_time": "2021-06-10T18:06:27.742Z"
   },
   {
    "duration": 51,
    "start_time": "2021-06-10T18:06:27.749Z"
   },
   {
    "duration": 13,
    "start_time": "2021-06-10T18:06:27.809Z"
   },
   {
    "duration": 15,
    "start_time": "2021-06-10T18:06:27.825Z"
   },
   {
    "duration": 10,
    "start_time": "2021-06-10T18:06:27.843Z"
   },
   {
    "duration": 55,
    "start_time": "2021-06-10T18:06:27.855Z"
   },
   {
    "duration": 10,
    "start_time": "2021-06-10T18:06:27.913Z"
   },
   {
    "duration": 23,
    "start_time": "2021-06-10T18:06:27.927Z"
   },
   {
    "duration": 792,
    "start_time": "2021-06-10T18:06:27.953Z"
   },
   {
    "duration": 763,
    "start_time": "2021-06-10T18:06:28.748Z"
   },
   {
    "duration": 3,
    "start_time": "2021-06-10T18:06:29.514Z"
   },
   {
    "duration": 26,
    "start_time": "2021-06-10T18:06:29.519Z"
   },
   {
    "duration": 93,
    "start_time": "2021-06-10T18:06:29.548Z"
   },
   {
    "duration": 13,
    "start_time": "2021-06-10T18:06:29.644Z"
   },
   {
    "duration": 7,
    "start_time": "2021-06-10T18:06:29.660Z"
   },
   {
    "duration": 7,
    "start_time": "2021-06-10T18:06:29.669Z"
   },
   {
    "duration": 8,
    "start_time": "2021-06-10T18:06:29.710Z"
   },
   {
    "duration": 188,
    "start_time": "2021-06-10T18:06:29.722Z"
   },
   {
    "duration": 2203,
    "start_time": "2021-06-10T18:06:29.913Z"
   },
   {
    "duration": 92,
    "start_time": "2021-06-10T18:06:32.119Z"
   },
   {
    "duration": 7,
    "start_time": "2021-06-10T18:06:32.214Z"
   },
   {
    "duration": 13,
    "start_time": "2021-06-10T18:06:32.225Z"
   },
   {
    "duration": 75,
    "start_time": "2021-06-10T18:06:32.241Z"
   },
   {
    "duration": 1093,
    "start_time": "2021-06-10T18:06:32.320Z"
   },
   {
    "duration": 22,
    "start_time": "2021-06-10T18:06:33.415Z"
   },
   {
    "duration": 18,
    "start_time": "2021-06-10T18:06:33.442Z"
   },
   {
    "duration": 51949,
    "start_time": "2021-06-10T18:06:33.462Z"
   },
   {
    "duration": 974,
    "start_time": "2021-06-10T18:07:25.414Z"
   },
   {
    "duration": 601,
    "start_time": "2021-06-10T18:07:52.311Z"
   },
   {
    "duration": 522,
    "start_time": "2021-06-10T18:08:14.566Z"
   },
   {
    "duration": 3,
    "start_time": "2021-06-10T18:11:20.019Z"
   },
   {
    "duration": 5,
    "start_time": "2021-06-10T18:11:35.911Z"
   },
   {
    "duration": 4,
    "start_time": "2021-06-10T18:11:43.368Z"
   },
   {
    "duration": 6,
    "start_time": "2021-06-10T18:12:06.842Z"
   },
   {
    "duration": 500,
    "start_time": "2021-06-10T18:12:28.443Z"
   },
   {
    "duration": 344,
    "start_time": "2021-06-10T18:12:40.996Z"
   },
   {
    "duration": 3,
    "start_time": "2021-06-10T18:12:45.948Z"
   },
   {
    "duration": 6,
    "start_time": "2021-06-10T18:12:49.643Z"
   },
   {
    "duration": 129,
    "start_time": "2021-06-10T18:15:05.973Z"
   },
   {
    "duration": 113,
    "start_time": "2021-06-10T18:15:12.364Z"
   },
   {
    "duration": 114,
    "start_time": "2021-06-10T18:15:16.533Z"
   },
   {
    "duration": 360,
    "start_time": "2021-06-10T18:15:25.473Z"
   },
   {
    "duration": 5,
    "start_time": "2021-06-10T18:15:36.978Z"
   },
   {
    "duration": 5,
    "start_time": "2021-06-10T18:16:04.398Z"
   },
   {
    "duration": 1611,
    "start_time": "2021-06-11T06:08:13.027Z"
   },
   {
    "duration": 4,
    "start_time": "2021-06-11T06:08:14.640Z"
   },
   {
    "duration": 54,
    "start_time": "2021-06-11T06:08:14.647Z"
   },
   {
    "duration": 15,
    "start_time": "2021-06-11T06:08:14.704Z"
   },
   {
    "duration": 15,
    "start_time": "2021-06-11T06:08:14.722Z"
   },
   {
    "duration": 8,
    "start_time": "2021-06-11T06:08:14.739Z"
   },
   {
    "duration": 61,
    "start_time": "2021-06-11T06:08:14.750Z"
   },
   {
    "duration": 13,
    "start_time": "2021-06-11T06:08:14.813Z"
   },
   {
    "duration": 15,
    "start_time": "2021-06-11T06:08:14.830Z"
   },
   {
    "duration": 787,
    "start_time": "2021-06-11T06:08:14.848Z"
   },
   {
    "duration": 688,
    "start_time": "2021-06-11T06:08:15.637Z"
   },
   {
    "duration": 603,
    "start_time": "2021-06-11T06:08:16.328Z"
   },
   {
    "duration": 21,
    "start_time": "2021-06-11T06:08:16.933Z"
   },
   {
    "duration": 11,
    "start_time": "2021-06-11T06:08:16.957Z"
   },
   {
    "duration": 42,
    "start_time": "2021-06-11T06:08:16.970Z"
   },
   {
    "duration": 6,
    "start_time": "2021-06-11T06:08:17.014Z"
   },
   {
    "duration": 10,
    "start_time": "2021-06-11T06:08:17.022Z"
   },
   {
    "duration": 13,
    "start_time": "2021-06-11T06:08:17.034Z"
   },
   {
    "duration": 161,
    "start_time": "2021-06-11T06:08:17.050Z"
   },
   {
    "duration": 1508,
    "start_time": "2021-06-11T06:08:17.214Z"
   },
   {
    "duration": 1407,
    "start_time": "2021-06-11T06:08:18.811Z"
   },
   {
    "duration": 24,
    "start_time": "2021-06-11T06:08:20.221Z"
   },
   {
    "duration": 18,
    "start_time": "2021-06-11T06:08:20.247Z"
   },
   {
    "duration": 52118,
    "start_time": "2021-06-11T06:08:20.268Z"
   },
   {
    "duration": 1061,
    "start_time": "2021-06-11T06:09:12.388Z"
   },
   {
    "duration": 458,
    "start_time": "2021-06-11T06:09:13.452Z"
   },
   {
    "duration": 4,
    "start_time": "2021-06-11T06:10:32.058Z"
   },
   {
    "duration": 4,
    "start_time": "2021-06-11T06:10:47.268Z"
   },
   {
    "duration": 4,
    "start_time": "2021-06-11T06:11:23.092Z"
   },
   {
    "duration": 5,
    "start_time": "2021-06-11T06:11:32.491Z"
   },
   {
    "duration": 424,
    "start_time": "2021-06-11T06:12:21.385Z"
   },
   {
    "duration": 1964,
    "start_time": "2021-06-11T06:12:32.345Z"
   },
   {
    "duration": 1084,
    "start_time": "2021-06-11T06:12:57.529Z"
   },
   {
    "duration": 1397,
    "start_time": "2021-06-11T06:13:37.619Z"
   },
   {
    "duration": 1242,
    "start_time": "2021-06-11T06:13:49.780Z"
   },
   {
    "duration": 7010,
    "start_time": "2021-06-11T06:14:02.713Z"
   },
   {
    "duration": 11180,
    "start_time": "2021-06-11T06:14:31.246Z"
   },
   {
    "duration": 16773,
    "start_time": "2021-06-11T06:15:32.036Z"
   },
   {
    "duration": 31684,
    "start_time": "2021-06-11T06:16:04.044Z"
   },
   {
    "duration": 52282,
    "start_time": "2021-06-11T06:16:52.248Z"
   },
   {
    "duration": 88289,
    "start_time": "2021-06-11T06:18:09.420Z"
   },
   {
    "duration": 72773,
    "start_time": "2021-06-11T06:20:03.440Z"
   },
   {
    "duration": 60063,
    "start_time": "2021-06-11T06:21:34.958Z"
   },
   {
    "duration": 1519,
    "start_time": "2021-06-11T06:23:14.241Z"
   },
   {
    "duration": 3,
    "start_time": "2021-06-11T06:23:15.763Z"
   },
   {
    "duration": 60,
    "start_time": "2021-06-11T06:23:15.769Z"
   },
   {
    "duration": 14,
    "start_time": "2021-06-11T06:23:15.832Z"
   },
   {
    "duration": 23,
    "start_time": "2021-06-11T06:23:15.848Z"
   },
   {
    "duration": 13,
    "start_time": "2021-06-11T06:23:15.873Z"
   },
   {
    "duration": 40,
    "start_time": "2021-06-11T06:23:15.888Z"
   },
   {
    "duration": 11,
    "start_time": "2021-06-11T06:23:15.932Z"
   },
   {
    "duration": 24,
    "start_time": "2021-06-11T06:23:15.946Z"
   },
   {
    "duration": 785,
    "start_time": "2021-06-11T06:23:15.973Z"
   },
   {
    "duration": 689,
    "start_time": "2021-06-11T06:23:16.760Z"
   },
   {
    "duration": 624,
    "start_time": "2021-06-11T06:23:17.452Z"
   },
   {
    "duration": 37,
    "start_time": "2021-06-11T06:23:18.079Z"
   },
   {
    "duration": 6,
    "start_time": "2021-06-11T06:23:18.118Z"
   },
   {
    "duration": 14,
    "start_time": "2021-06-11T06:23:18.126Z"
   },
   {
    "duration": 5,
    "start_time": "2021-06-11T06:23:18.142Z"
   },
   {
    "duration": 12,
    "start_time": "2021-06-11T06:23:18.149Z"
   },
   {
    "duration": 45,
    "start_time": "2021-06-11T06:23:18.164Z"
   },
   {
    "duration": 197,
    "start_time": "2021-06-11T06:23:18.212Z"
   },
   {
    "duration": 2412,
    "start_time": "2021-06-11T06:23:18.412Z"
   },
   {
    "duration": 67806,
    "start_time": "2021-06-11T06:23:20.908Z"
   },
   {
    "duration": 21,
    "start_time": "2021-06-11T06:24:28.717Z"
   },
   {
    "duration": 8,
    "start_time": "2021-06-11T06:24:28.744Z"
   },
   {
    "duration": 50107,
    "start_time": "2021-06-11T06:24:28.810Z"
   },
   {
    "duration": 940,
    "start_time": "2021-06-11T06:25:18.920Z"
   },
   {
    "duration": 1718,
    "start_time": "2021-06-11T06:27:07.726Z"
   },
   {
    "duration": 3,
    "start_time": "2021-06-11T06:27:09.446Z"
   },
   {
    "duration": 52,
    "start_time": "2021-06-11T06:27:09.452Z"
   },
   {
    "duration": 13,
    "start_time": "2021-06-11T06:27:09.507Z"
   },
   {
    "duration": 21,
    "start_time": "2021-06-11T06:27:09.523Z"
   },
   {
    "duration": 11,
    "start_time": "2021-06-11T06:27:09.546Z"
   },
   {
    "duration": 33,
    "start_time": "2021-06-11T06:27:09.559Z"
   },
   {
    "duration": 12,
    "start_time": "2021-06-11T06:27:09.596Z"
   },
   {
    "duration": 13,
    "start_time": "2021-06-11T06:27:09.612Z"
   },
   {
    "duration": 789,
    "start_time": "2021-06-11T06:27:09.627Z"
   },
   {
    "duration": 834,
    "start_time": "2021-06-11T06:27:10.419Z"
   },
   {
    "duration": 607,
    "start_time": "2021-06-11T06:27:11.255Z"
   },
   {
    "duration": 21,
    "start_time": "2021-06-11T06:27:11.864Z"
   },
   {
    "duration": 23,
    "start_time": "2021-06-11T06:27:11.887Z"
   },
   {
    "duration": 15,
    "start_time": "2021-06-11T06:27:11.912Z"
   },
   {
    "duration": 5,
    "start_time": "2021-06-11T06:27:11.930Z"
   },
   {
    "duration": 7,
    "start_time": "2021-06-11T06:27:11.938Z"
   },
   {
    "duration": 21,
    "start_time": "2021-06-11T06:27:11.947Z"
   },
   {
    "duration": 45,
    "start_time": "2021-06-11T06:27:11.971Z"
   },
   {
    "duration": 1594,
    "start_time": "2021-06-11T06:27:12.030Z"
   },
   {
    "duration": 71597,
    "start_time": "2021-06-11T06:27:13.711Z"
   },
   {
    "duration": 23,
    "start_time": "2021-06-11T06:28:25.311Z"
   },
   {
    "duration": 10,
    "start_time": "2021-06-11T06:28:25.340Z"
   },
   {
    "duration": 53698,
    "start_time": "2021-06-11T06:28:25.353Z"
   },
   {
    "duration": 1010,
    "start_time": "2021-06-11T06:29:19.054Z"
   },
   {
    "duration": 5,
    "start_time": "2021-06-11T06:30:35.236Z"
   },
   {
    "duration": 1054,
    "start_time": "2021-06-11T06:35:53.566Z"
   },
   {
    "duration": 1052,
    "start_time": "2021-06-11T06:36:00.417Z"
   },
   {
    "duration": 783,
    "start_time": "2021-06-11T06:36:54.864Z"
   },
   {
    "duration": 648,
    "start_time": "2021-06-11T07:10:01.637Z"
   },
   {
    "duration": 1479,
    "start_time": "2021-06-11T07:10:43.812Z"
   },
   {
    "duration": 579,
    "start_time": "2021-06-11T07:21:49.172Z"
   },
   {
    "duration": 20,
    "start_time": "2021-06-11T07:24:27.394Z"
   },
   {
    "duration": 25,
    "start_time": "2021-06-11T07:24:31.430Z"
   },
   {
    "duration": 29,
    "start_time": "2021-06-11T07:24:49.767Z"
   },
   {
    "duration": 439,
    "start_time": "2021-06-11T07:25:05.972Z"
   },
   {
    "duration": 648,
    "start_time": "2021-06-11T07:25:32.084Z"
   },
   {
    "duration": 376,
    "start_time": "2021-06-11T07:25:53.635Z"
   },
   {
    "duration": 453,
    "start_time": "2021-06-11T07:26:05.762Z"
   },
   {
    "duration": 1858,
    "start_time": "2021-06-11T07:26:15.851Z"
   },
   {
    "duration": 1810,
    "start_time": "2021-06-11T07:27:13.880Z"
   },
   {
    "duration": 697,
    "start_time": "2021-06-11T07:27:30.314Z"
   },
   {
    "duration": 2202,
    "start_time": "2021-06-11T07:27:36.716Z"
   },
   {
    "duration": 1884,
    "start_time": "2021-06-11T07:27:41.472Z"
   },
   {
    "duration": 1844,
    "start_time": "2021-06-11T07:29:07.266Z"
   },
   {
    "duration": 12047,
    "start_time": "2021-06-11T07:30:04.482Z"
   },
   {
    "duration": 11835,
    "start_time": "2021-06-11T07:30:50.874Z"
   },
   {
    "duration": 11680,
    "start_time": "2021-06-11T07:34:00.658Z"
   },
   {
    "duration": 4,
    "start_time": "2021-06-11T07:43:47.292Z"
   },
   {
    "duration": 11684,
    "start_time": "2021-06-11T07:44:32.553Z"
   },
   {
    "duration": 10,
    "start_time": "2021-06-11T07:45:00.449Z"
   },
   {
    "duration": 126,
    "start_time": "2021-06-11T07:45:11.182Z"
   },
   {
    "duration": 12081,
    "start_time": "2021-06-11T07:46:04.973Z"
   },
   {
    "duration": 11855,
    "start_time": "2021-06-11T07:46:25.143Z"
   },
   {
    "duration": 9,
    "start_time": "2021-06-11T07:46:46.332Z"
   },
   {
    "duration": 12910,
    "start_time": "2021-06-11T07:47:01.111Z"
   },
   {
    "duration": 12599,
    "start_time": "2021-06-11T07:47:43.491Z"
   },
   {
    "duration": 11905,
    "start_time": "2021-06-11T07:47:59.136Z"
   },
   {
    "duration": 12038,
    "start_time": "2021-06-11T07:48:56.462Z"
   },
   {
    "duration": -1388,
    "start_time": "2021-06-11T07:50:20.519Z"
   },
   {
    "duration": 11,
    "start_time": "2021-06-11T07:50:48.216Z"
   },
   {
    "duration": 11,
    "start_time": "2021-06-11T07:51:43.411Z"
   },
   {
    "duration": 11,
    "start_time": "2021-06-11T07:52:00.738Z"
   },
   {
    "duration": 18,
    "start_time": "2021-06-11T07:52:29.656Z"
   },
   {
    "duration": 27,
    "start_time": "2021-06-11T07:52:48.357Z"
   },
   {
    "duration": 21,
    "start_time": "2021-06-11T07:53:02.720Z"
   },
   {
    "duration": 39,
    "start_time": "2021-06-11T07:53:07.351Z"
   },
   {
    "duration": 826,
    "start_time": "2021-06-11T07:53:25.923Z"
   },
   {
    "duration": 866,
    "start_time": "2021-06-11T07:54:05.380Z"
   },
   {
    "duration": 813,
    "start_time": "2021-06-11T07:54:15.969Z"
   },
   {
    "duration": 808,
    "start_time": "2021-06-11T07:54:25.027Z"
   },
   {
    "duration": 969,
    "start_time": "2021-06-11T07:54:43.817Z"
   },
   {
    "duration": 781,
    "start_time": "2021-06-11T07:55:21.004Z"
   },
   {
    "duration": 898,
    "start_time": "2021-06-11T07:56:00.691Z"
   },
   {
    "duration": 839,
    "start_time": "2021-06-11T07:56:54.245Z"
   },
   {
    "duration": 847,
    "start_time": "2021-06-11T07:56:58.420Z"
   },
   {
    "duration": 42,
    "start_time": "2021-06-11T07:57:14.521Z"
   },
   {
    "duration": 807,
    "start_time": "2021-06-11T07:57:27.560Z"
   },
   {
    "duration": 70,
    "start_time": "2021-06-11T07:57:32.447Z"
   },
   {
    "duration": 72,
    "start_time": "2021-06-11T07:58:41.083Z"
   },
   {
    "duration": 43,
    "start_time": "2021-06-11T07:58:55.652Z"
   },
   {
    "duration": 778,
    "start_time": "2021-06-11T07:59:25.039Z"
   },
   {
    "duration": 132,
    "start_time": "2021-06-11T07:59:53.783Z"
   },
   {
    "duration": 175,
    "start_time": "2021-06-11T08:00:04.334Z"
   },
   {
    "duration": 54,
    "start_time": "2021-06-11T08:00:17.567Z"
   },
   {
    "duration": 223,
    "start_time": "2021-06-11T08:00:32.288Z"
   },
   {
    "duration": 5890,
    "start_time": "2021-06-11T08:00:48.720Z"
   },
   {
    "duration": 5468,
    "start_time": "2021-06-11T08:18:12.562Z"
   },
   {
    "duration": 23,
    "start_time": "2021-06-11T08:19:06.712Z"
   },
   {
    "duration": 12,
    "start_time": "2021-06-11T08:19:27.777Z"
   },
   {
    "duration": 12,
    "start_time": "2021-06-11T08:19:46.738Z"
   },
   {
    "duration": 12,
    "start_time": "2021-06-11T08:20:05.371Z"
   },
   {
    "duration": 1940,
    "start_time": "2021-06-11T08:21:41.134Z"
   },
   {
    "duration": 5,
    "start_time": "2021-06-11T08:21:43.078Z"
   },
   {
    "duration": 66,
    "start_time": "2021-06-11T08:21:43.087Z"
   },
   {
    "duration": 13,
    "start_time": "2021-06-11T08:21:43.156Z"
   },
   {
    "duration": 22,
    "start_time": "2021-06-11T08:21:43.171Z"
   },
   {
    "duration": 23,
    "start_time": "2021-06-11T08:21:43.195Z"
   },
   {
    "duration": 24,
    "start_time": "2021-06-11T08:21:43.220Z"
   },
   {
    "duration": 13,
    "start_time": "2021-06-11T08:21:43.248Z"
   },
   {
    "duration": 828,
    "start_time": "2021-06-11T08:21:43.264Z"
   },
   {
    "duration": -1389,
    "start_time": "2021-06-11T08:21:45.485Z"
   },
   {
    "duration": -1406,
    "start_time": "2021-06-11T08:21:45.504Z"
   },
   {
    "duration": -1409,
    "start_time": "2021-06-11T08:21:45.509Z"
   },
   {
    "duration": -1411,
    "start_time": "2021-06-11T08:21:45.513Z"
   },
   {
    "duration": -1411,
    "start_time": "2021-06-11T08:21:45.516Z"
   },
   {
    "duration": -1414,
    "start_time": "2021-06-11T08:21:45.521Z"
   },
   {
    "duration": -1416,
    "start_time": "2021-06-11T08:21:45.525Z"
   },
   {
    "duration": -1417,
    "start_time": "2021-06-11T08:21:45.528Z"
   },
   {
    "duration": -1420,
    "start_time": "2021-06-11T08:21:45.532Z"
   },
   {
    "duration": -1421,
    "start_time": "2021-06-11T08:21:45.535Z"
   },
   {
    "duration": -1423,
    "start_time": "2021-06-11T08:21:45.538Z"
   },
   {
    "duration": -1421,
    "start_time": "2021-06-11T08:21:45.540Z"
   },
   {
    "duration": -1421,
    "start_time": "2021-06-11T08:21:45.541Z"
   },
   {
    "duration": -1421,
    "start_time": "2021-06-11T08:21:45.543Z"
   },
   {
    "duration": -1421,
    "start_time": "2021-06-11T08:21:45.545Z"
   },
   {
    "duration": -1421,
    "start_time": "2021-06-11T08:21:45.547Z"
   },
   {
    "duration": -1422,
    "start_time": "2021-06-11T08:21:45.549Z"
   },
   {
    "duration": 1585,
    "start_time": "2021-06-11T08:23:06.524Z"
   },
   {
    "duration": 7,
    "start_time": "2021-06-11T08:23:08.112Z"
   },
   {
    "duration": 6,
    "start_time": "2021-06-11T08:23:08.122Z"
   },
   {
    "duration": 63,
    "start_time": "2021-06-11T08:23:08.131Z"
   },
   {
    "duration": 22,
    "start_time": "2021-06-11T08:23:08.196Z"
   },
   {
    "duration": 19,
    "start_time": "2021-06-11T08:23:08.221Z"
   },
   {
    "duration": 9,
    "start_time": "2021-06-11T08:23:08.243Z"
   },
   {
    "duration": 28,
    "start_time": "2021-06-11T08:23:08.256Z"
   },
   {
    "duration": 40,
    "start_time": "2021-06-11T08:23:08.287Z"
   },
   {
    "duration": 6395,
    "start_time": "2021-06-11T08:23:08.330Z"
   },
   {
    "duration": 97,
    "start_time": "2021-06-11T08:23:14.732Z"
   },
   {
    "duration": 36,
    "start_time": "2021-06-11T08:23:14.908Z"
   },
   {
    "duration": 797,
    "start_time": "2021-06-11T08:23:14.946Z"
   },
   {
    "duration": 689,
    "start_time": "2021-06-11T08:23:15.746Z"
   },
   {
    "duration": 630,
    "start_time": "2021-06-11T08:23:16.438Z"
   },
   {
    "duration": 46,
    "start_time": "2021-06-11T08:23:17.071Z"
   },
   {
    "duration": 16,
    "start_time": "2021-06-11T08:23:17.120Z"
   },
   {
    "duration": 6,
    "start_time": "2021-06-11T08:23:17.148Z"
   },
   {
    "duration": 19,
    "start_time": "2021-06-11T08:23:17.158Z"
   },
   {
    "duration": 231,
    "start_time": "2021-06-11T08:23:17.180Z"
   },
   {
    "duration": 6094,
    "start_time": "2021-06-11T08:23:17.420Z"
   },
   {
    "duration": 91325,
    "start_time": "2021-06-11T08:23:23.522Z"
   },
   {
    "duration": 23,
    "start_time": "2021-06-11T08:24:54.852Z"
   },
   {
    "duration": 12,
    "start_time": "2021-06-11T08:24:54.878Z"
   },
   {
    "duration": 20022,
    "start_time": "2021-06-11T08:24:54.894Z"
   },
   {
    "duration": 334,
    "start_time": "2021-06-11T08:25:14.918Z"
   },
   {
    "duration": -1389,
    "start_time": "2021-06-11T08:25:16.644Z"
   },
   {
    "duration": -1389,
    "start_time": "2021-06-11T08:25:16.650Z"
   },
   {
    "duration": 8896,
    "start_time": "2021-06-11T08:25:27.221Z"
   },
   {
    "duration": 17390,
    "start_time": "2021-06-11T08:25:47.080Z"
   },
   {
    "duration": 4944,
    "start_time": "2021-06-11T08:26:29.175Z"
   },
   {
    "duration": 38324,
    "start_time": "2021-06-11T08:26:54.990Z"
   },
   {
    "duration": 23344,
    "start_time": "2021-06-11T08:28:02.766Z"
   },
   {
    "duration": 115095,
    "start_time": "2021-06-11T08:28:40.247Z"
   },
   {
    "duration": 23,
    "start_time": "2021-06-11T08:30:59.112Z"
   },
   {
    "duration": 7,
    "start_time": "2021-06-11T08:31:02.742Z"
   },
   {
    "duration": 51697,
    "start_time": "2021-06-11T08:31:05.360Z"
   },
   {
    "duration": 5,
    "start_time": "2021-06-11T08:32:16.588Z"
   },
   {
    "duration": 930,
    "start_time": "2021-06-11T08:32:21.666Z"
   },
   {
    "duration": 5,
    "start_time": "2021-06-11T08:33:18.588Z"
   },
   {
    "duration": 13,
    "start_time": "2021-06-11T08:33:26.290Z"
   },
   {
    "duration": 6,
    "start_time": "2021-06-11T08:33:55.831Z"
   },
   {
    "duration": 435,
    "start_time": "2021-06-11T08:49:34.812Z"
   },
   {
    "duration": 417,
    "start_time": "2021-06-11T08:50:07.512Z"
   },
   {
    "duration": 426,
    "start_time": "2021-06-11T09:17:28.744Z"
   },
   {
    "duration": 444,
    "start_time": "2021-06-11T09:17:35.385Z"
   },
   {
    "duration": 940,
    "start_time": "2021-06-11T09:20:34.790Z"
   },
   {
    "duration": 5,
    "start_time": "2021-06-11T09:20:57.867Z"
   },
   {
    "duration": 5,
    "start_time": "2021-06-11T09:21:20.204Z"
   },
   {
    "duration": 5,
    "start_time": "2021-06-11T09:21:28.878Z"
   },
   {
    "duration": 900,
    "start_time": "2021-06-11T09:23:23.047Z"
   },
   {
    "duration": 1014,
    "start_time": "2021-06-11T09:24:01.689Z"
   },
   {
    "duration": 1016,
    "start_time": "2021-06-11T09:24:10.944Z"
   },
   {
    "duration": 109,
    "start_time": "2021-06-11T09:24:43.665Z"
   },
   {
    "duration": 13,
    "start_time": "2021-06-11T09:25:52.807Z"
   },
   {
    "duration": 15,
    "start_time": "2021-06-11T09:26:02.293Z"
   },
   {
    "duration": 6,
    "start_time": "2021-06-11T09:26:16.475Z"
   },
   {
    "duration": 954,
    "start_time": "2021-06-11T09:26:20.202Z"
   },
   {
    "duration": 861,
    "start_time": "2021-06-11T09:26:40.713Z"
   },
   {
    "duration": 1215,
    "start_time": "2021-06-11T09:27:08.350Z"
   },
   {
    "duration": 898,
    "start_time": "2021-06-11T09:27:15.181Z"
   },
   {
    "duration": 937,
    "start_time": "2021-06-11T09:27:27.526Z"
   },
   {
    "duration": 943,
    "start_time": "2021-06-11T09:27:34.006Z"
   },
   {
    "duration": 909,
    "start_time": "2021-06-11T09:27:56.493Z"
   },
   {
    "duration": 1572,
    "start_time": "2021-06-11T09:28:36.362Z"
   },
   {
    "duration": 3,
    "start_time": "2021-06-11T09:28:37.937Z"
   },
   {
    "duration": 31,
    "start_time": "2021-06-11T09:28:37.942Z"
   },
   {
    "duration": 77,
    "start_time": "2021-06-11T09:28:37.975Z"
   },
   {
    "duration": 14,
    "start_time": "2021-06-11T09:28:38.054Z"
   },
   {
    "duration": 27,
    "start_time": "2021-06-11T09:28:38.070Z"
   },
   {
    "duration": 13,
    "start_time": "2021-06-11T09:28:38.099Z"
   },
   {
    "duration": 25,
    "start_time": "2021-06-11T09:28:38.116Z"
   },
   {
    "duration": 13,
    "start_time": "2021-06-11T09:28:38.144Z"
   },
   {
    "duration": 6382,
    "start_time": "2021-06-11T09:28:38.159Z"
   },
   {
    "duration": 108,
    "start_time": "2021-06-11T09:28:44.611Z"
   },
   {
    "duration": 31,
    "start_time": "2021-06-11T09:28:44.722Z"
   },
   {
    "duration": 804,
    "start_time": "2021-06-11T09:28:44.755Z"
   },
   {
    "duration": 721,
    "start_time": "2021-06-11T09:28:45.561Z"
   },
   {
    "duration": 615,
    "start_time": "2021-06-11T09:28:46.284Z"
   },
   {
    "duration": 4,
    "start_time": "2021-06-11T09:28:46.908Z"
   },
   {
    "duration": 19,
    "start_time": "2021-06-11T09:28:46.914Z"
   },
   {
    "duration": 6,
    "start_time": "2021-06-11T09:28:46.936Z"
   },
   {
    "duration": 8,
    "start_time": "2021-06-11T09:28:46.944Z"
   },
   {
    "duration": 157,
    "start_time": "2021-06-11T09:28:46.954Z"
   },
   {
    "duration": 4499,
    "start_time": "2021-06-11T09:28:47.116Z"
   },
   {
    "duration": 178790,
    "start_time": "2021-06-11T09:28:51.621Z"
   },
   {
    "duration": 28,
    "start_time": "2021-06-11T09:31:50.415Z"
   },
   {
    "duration": 11,
    "start_time": "2021-06-11T09:31:50.445Z"
   },
   {
    "duration": 51480,
    "start_time": "2021-06-11T09:31:50.458Z"
   },
   {
    "duration": 6,
    "start_time": "2021-06-11T09:32:41.941Z"
   },
   {
    "duration": 5,
    "start_time": "2021-06-11T09:32:41.950Z"
   },
   {
    "duration": 969,
    "start_time": "2021-06-11T09:32:41.958Z"
   },
   {
    "duration": 719,
    "start_time": "2021-06-11T09:32:42.929Z"
   },
   {
    "duration": 1699,
    "start_time": "2021-06-11T09:34:49.415Z"
   },
   {
    "duration": 1727,
    "start_time": "2021-06-11T09:35:13.110Z"
   },
   {
    "duration": 5,
    "start_time": "2021-06-11T09:35:20.145Z"
   },
   {
    "duration": 25369,
    "start_time": "2021-06-11T09:35:37.436Z"
   },
   {
    "duration": 2014,
    "start_time": "2021-06-11T09:36:18.930Z"
   },
   {
    "duration": 6,
    "start_time": "2021-06-11T09:36:23.943Z"
   },
   {
    "duration": 2010,
    "start_time": "2021-06-11T09:36:50.273Z"
   },
   {
    "duration": 5,
    "start_time": "2021-06-11T09:36:54.206Z"
   },
   {
    "duration": 20009,
    "start_time": "2021-06-11T09:37:11.785Z"
   },
   {
    "duration": 8,
    "start_time": "2021-06-11T09:37:33.479Z"
   },
   {
    "duration": 1993,
    "start_time": "2021-06-11T09:38:48.571Z"
   },
   {
    "duration": 7,
    "start_time": "2021-06-11T09:38:58.154Z"
   },
   {
    "duration": 28,
    "start_time": "2021-06-11T09:39:10.494Z"
   },
   {
    "duration": 1987,
    "start_time": "2021-06-11T09:39:51.677Z"
   },
   {
    "duration": 6,
    "start_time": "2021-06-11T09:39:57.084Z"
   },
   {
    "duration": 2075,
    "start_time": "2021-06-11T09:41:01.128Z"
   },
   {
    "duration": 6,
    "start_time": "2021-06-11T09:41:16.456Z"
   },
   {
    "duration": 7,
    "start_time": "2021-06-11T09:42:12.398Z"
   },
   {
    "duration": 7,
    "start_time": "2021-06-11T09:42:19.192Z"
   },
   {
    "duration": 1991,
    "start_time": "2021-06-11T09:43:53.180Z"
   },
   {
    "duration": 3972,
    "start_time": "2021-06-11T09:44:39.302Z"
   },
   {
    "duration": 8,
    "start_time": "2021-06-11T09:44:44.878Z"
   },
   {
    "duration": 3841,
    "start_time": "2021-06-11T09:44:49.018Z"
   },
   {
    "duration": 6,
    "start_time": "2021-06-11T09:44:54.273Z"
   },
   {
    "duration": 416,
    "start_time": "2021-06-11T09:45:22.570Z"
   },
   {
    "duration": 5,
    "start_time": "2021-06-11T09:45:30.007Z"
   },
   {
    "duration": 28,
    "start_time": "2021-06-11T09:45:35.285Z"
   },
   {
    "duration": 5,
    "start_time": "2021-06-11T09:45:43.117Z"
   },
   {
    "duration": 6,
    "start_time": "2021-06-11T09:45:59.946Z"
   },
   {
    "duration": 2130,
    "start_time": "2021-06-11T09:47:16.588Z"
   },
   {
    "duration": 5,
    "start_time": "2021-06-11T09:47:20.259Z"
   },
   {
    "duration": 6,
    "start_time": "2021-06-11T09:47:24.141Z"
   },
   {
    "duration": 2520,
    "start_time": "2021-06-11T09:48:05.477Z"
   },
   {
    "duration": 1232,
    "start_time": "2021-06-11T09:48:36.448Z"
   },
   {
    "duration": 4280,
    "start_time": "2021-06-11T09:48:47.075Z"
   },
   {
    "duration": 9794,
    "start_time": "2021-06-11T09:50:04.824Z"
   },
   {
    "duration": 2912,
    "start_time": "2021-06-11T09:50:20.173Z"
   },
   {
    "duration": 6,
    "start_time": "2021-06-11T09:50:27.745Z"
   },
   {
    "duration": 6,
    "start_time": "2021-06-11T09:50:40.055Z"
   },
   {
    "duration": 893,
    "start_time": "2021-06-11T09:53:10.836Z"
   },
   {
    "duration": 373,
    "start_time": "2021-06-11T09:53:35.014Z"
   },
   {
    "duration": 8,
    "start_time": "2021-06-11T09:53:42.168Z"
   },
   {
    "duration": 8,
    "start_time": "2021-06-11T09:53:53.518Z"
   },
   {
    "duration": 6,
    "start_time": "2021-06-11T09:54:01.128Z"
   },
   {
    "duration": 1426,
    "start_time": "2021-06-11T09:54:13.575Z"
   },
   {
    "duration": 5,
    "start_time": "2021-06-11T09:54:24.177Z"
   },
   {
    "duration": 1519,
    "start_time": "2021-06-11T09:55:15.922Z"
   },
   {
    "duration": 6,
    "start_time": "2021-06-11T09:55:21.529Z"
   },
   {
    "duration": 13,
    "start_time": "2021-06-11T09:56:01.885Z"
   },
   {
    "duration": 526,
    "start_time": "2021-06-11T09:56:23.030Z"
   },
   {
    "duration": 500,
    "start_time": "2021-06-11T09:56:29.774Z"
   },
   {
    "duration": 442,
    "start_time": "2021-06-11T09:56:52.991Z"
   },
   {
    "duration": 368,
    "start_time": "2021-06-11T09:57:15.267Z"
   },
   {
    "duration": 366,
    "start_time": "2021-06-11T09:57:20.288Z"
   },
   {
    "duration": 345,
    "start_time": "2021-06-11T09:58:09.239Z"
   },
   {
    "duration": 187,
    "start_time": "2021-06-11T09:59:18.719Z"
   },
   {
    "duration": 358,
    "start_time": "2021-06-11T09:59:22.851Z"
   },
   {
    "duration": 13,
    "start_time": "2021-06-11T09:59:27.258Z"
   },
   {
    "duration": 14,
    "start_time": "2021-06-11T10:58:12.971Z"
   },
   {
    "duration": 181,
    "start_time": "2021-06-11T10:58:59.895Z"
   },
   {
    "duration": 1603,
    "start_time": "2021-06-11T10:59:08.332Z"
   },
   {
    "duration": 4,
    "start_time": "2021-06-11T10:59:09.937Z"
   },
   {
    "duration": 20,
    "start_time": "2021-06-11T10:59:09.943Z"
   },
   {
    "duration": 50,
    "start_time": "2021-06-11T10:59:09.966Z"
   },
   {
    "duration": 12,
    "start_time": "2021-06-11T10:59:10.019Z"
   },
   {
    "duration": 28,
    "start_time": "2021-06-11T10:59:10.034Z"
   },
   {
    "duration": 19,
    "start_time": "2021-06-11T10:59:10.065Z"
   },
   {
    "duration": 35,
    "start_time": "2021-06-11T10:59:10.113Z"
   },
   {
    "duration": 63,
    "start_time": "2021-06-11T10:59:10.152Z"
   },
   {
    "duration": 5293,
    "start_time": "2021-06-11T10:59:10.218Z"
   },
   {
    "duration": 102,
    "start_time": "2021-06-11T10:59:15.514Z"
   },
   {
    "duration": 90,
    "start_time": "2021-06-11T10:59:15.619Z"
   },
   {
    "duration": 852,
    "start_time": "2021-06-11T10:59:15.712Z"
   },
   {
    "duration": 730,
    "start_time": "2021-06-11T10:59:16.567Z"
   },
   {
    "duration": 912,
    "start_time": "2021-06-11T10:59:17.300Z"
   },
   {
    "duration": 3,
    "start_time": "2021-06-11T10:59:18.215Z"
   },
   {
    "duration": 19,
    "start_time": "2021-06-11T10:59:18.221Z"
   },
   {
    "duration": 13,
    "start_time": "2021-06-11T10:59:18.242Z"
   },
   {
    "duration": 8,
    "start_time": "2021-06-11T10:59:18.258Z"
   },
   {
    "duration": 248,
    "start_time": "2021-06-11T10:59:18.268Z"
   },
   {
    "duration": 4090,
    "start_time": "2021-06-11T10:59:18.519Z"
   },
   {
    "duration": 7117,
    "start_time": "2021-06-11T10:59:22.611Z"
   },
   {
    "duration": 22,
    "start_time": "2021-06-11T10:59:29.732Z"
   },
   {
    "duration": 17,
    "start_time": "2021-06-11T10:59:29.757Z"
   },
   {
    "duration": 10223,
    "start_time": "2021-06-11T10:59:29.776Z"
   },
   {
    "duration": 5,
    "start_time": "2021-06-11T10:59:40.002Z"
   },
   {
    "duration": 24,
    "start_time": "2021-06-11T10:59:40.009Z"
   },
   {
    "duration": 128,
    "start_time": "2021-06-11T10:59:40.035Z"
   },
   {
    "duration": -1621,
    "start_time": "2021-06-11T10:59:41.787Z"
   },
   {
    "duration": -1624,
    "start_time": "2021-06-11T10:59:41.791Z"
   },
   {
    "duration": -1625,
    "start_time": "2021-06-11T10:59:41.796Z"
   },
   {
    "duration": 1619,
    "start_time": "2021-06-11T10:59:47.406Z"
   },
   {
    "duration": 4,
    "start_time": "2021-06-11T10:59:49.028Z"
   },
   {
    "duration": 5,
    "start_time": "2021-06-11T10:59:49.037Z"
   },
   {
    "duration": 64,
    "start_time": "2021-06-11T10:59:49.046Z"
   },
   {
    "duration": 17,
    "start_time": "2021-06-11T10:59:49.112Z"
   },
   {
    "duration": 16,
    "start_time": "2021-06-11T10:59:49.132Z"
   },
   {
    "duration": 9,
    "start_time": "2021-06-11T10:59:49.150Z"
   },
   {
    "duration": 64,
    "start_time": "2021-06-11T10:59:49.166Z"
   },
   {
    "duration": 15,
    "start_time": "2021-06-11T10:59:49.234Z"
   },
   {
    "duration": 5172,
    "start_time": "2021-06-11T10:59:49.251Z"
   },
   {
    "duration": 101,
    "start_time": "2021-06-11T10:59:54.514Z"
   },
   {
    "duration": 35,
    "start_time": "2021-06-11T10:59:54.617Z"
   },
   {
    "duration": 794,
    "start_time": "2021-06-11T10:59:54.654Z"
   },
   {
    "duration": 716,
    "start_time": "2021-06-11T10:59:55.451Z"
   },
   {
    "duration": 622,
    "start_time": "2021-06-11T10:59:56.170Z"
   },
   {
    "duration": 3,
    "start_time": "2021-06-11T10:59:56.795Z"
   },
   {
    "duration": 17,
    "start_time": "2021-06-11T10:59:56.800Z"
   },
   {
    "duration": 5,
    "start_time": "2021-06-11T10:59:56.820Z"
   },
   {
    "duration": 21,
    "start_time": "2021-06-11T10:59:56.827Z"
   },
   {
    "duration": 162,
    "start_time": "2021-06-11T10:59:56.851Z"
   },
   {
    "duration": 4098,
    "start_time": "2021-06-11T10:59:57.016Z"
   },
   {
    "duration": 93,
    "start_time": "2021-06-11T11:00:01.118Z"
   },
   {
    "duration": 108,
    "start_time": "2021-06-11T11:00:01.219Z"
   },
   {
    "duration": 26,
    "start_time": "2021-06-11T11:00:01.330Z"
   },
   {
    "duration": 53856,
    "start_time": "2021-06-11T11:00:01.358Z"
   },
   {
    "duration": 7,
    "start_time": "2021-06-11T11:00:55.216Z"
   },
   {
    "duration": 9,
    "start_time": "2021-06-11T11:00:55.225Z"
   },
   {
    "duration": 160,
    "start_time": "2021-06-11T11:00:55.237Z"
   },
   {
    "duration": -1630,
    "start_time": "2021-06-11T11:00:57.030Z"
   },
   {
    "duration": -1635,
    "start_time": "2021-06-11T11:00:57.036Z"
   },
   {
    "duration": 953,
    "start_time": "2021-06-11T11:01:27.475Z"
   },
   {
    "duration": 1552,
    "start_time": "2021-06-11T11:02:07.357Z"
   },
   {
    "duration": 3,
    "start_time": "2021-06-11T11:02:08.911Z"
   },
   {
    "duration": 7,
    "start_time": "2021-06-11T11:02:08.917Z"
   },
   {
    "duration": 53,
    "start_time": "2021-06-11T11:02:08.926Z"
   },
   {
    "duration": 14,
    "start_time": "2021-06-11T11:02:08.982Z"
   },
   {
    "duration": 13,
    "start_time": "2021-06-11T11:02:09.010Z"
   },
   {
    "duration": 21,
    "start_time": "2021-06-11T11:02:09.025Z"
   },
   {
    "duration": 32,
    "start_time": "2021-06-11T11:02:09.050Z"
   },
   {
    "duration": 24,
    "start_time": "2021-06-11T11:02:09.085Z"
   },
   {
    "duration": 4708,
    "start_time": "2021-06-11T11:02:09.111Z"
   },
   {
    "duration": 99,
    "start_time": "2021-06-11T11:02:13.911Z"
   },
   {
    "duration": 35,
    "start_time": "2021-06-11T11:02:14.013Z"
   },
   {
    "duration": 798,
    "start_time": "2021-06-11T11:02:14.051Z"
   },
   {
    "duration": 817,
    "start_time": "2021-06-11T11:02:14.852Z"
   },
   {
    "duration": 606,
    "start_time": "2021-06-11T11:02:15.672Z"
   },
   {
    "duration": 4,
    "start_time": "2021-06-11T11:02:16.280Z"
   },
   {
    "duration": 32,
    "start_time": "2021-06-11T11:02:16.286Z"
   },
   {
    "duration": 6,
    "start_time": "2021-06-11T11:02:16.320Z"
   },
   {
    "duration": 9,
    "start_time": "2021-06-11T11:02:16.328Z"
   },
   {
    "duration": 182,
    "start_time": "2021-06-11T11:02:16.339Z"
   },
   {
    "duration": 3885,
    "start_time": "2021-06-11T11:02:16.524Z"
   },
   {
    "duration": 4,
    "start_time": "2021-06-11T11:02:20.413Z"
   },
   {
    "duration": 106,
    "start_time": "2021-06-11T11:02:20.422Z"
   },
   {
    "duration": 20,
    "start_time": "2021-06-11T11:02:20.530Z"
   },
   {
    "duration": 50577,
    "start_time": "2021-06-11T11:02:20.552Z"
   },
   {
    "duration": 965,
    "start_time": "2021-06-11T11:03:11.131Z"
   },
   {
    "duration": 13,
    "start_time": "2021-06-11T11:03:12.098Z"
   },
   {
    "duration": 12,
    "start_time": "2021-06-11T11:03:12.113Z"
   },
   {
    "duration": 123,
    "start_time": "2021-06-11T11:03:12.128Z"
   },
   {
    "duration": -1615,
    "start_time": "2021-06-11T11:03:13.868Z"
   },
   {
    "duration": -1616,
    "start_time": "2021-06-11T11:03:13.871Z"
   },
   {
    "duration": 799,
    "start_time": "2021-06-11T11:05:01.487Z"
   },
   {
    "duration": 1744,
    "start_time": "2021-06-11T11:05:16.475Z"
   },
   {
    "duration": 13,
    "start_time": "2021-06-11T11:05:21.551Z"
   },
   {
    "duration": 1890,
    "start_time": "2021-06-11T11:05:29.831Z"
   },
   {
    "duration": 14,
    "start_time": "2021-06-11T11:05:33.532Z"
   },
   {
    "duration": 362,
    "start_time": "2021-06-11T11:07:33.729Z"
   },
   {
    "duration": 353,
    "start_time": "2021-06-11T11:07:49.851Z"
   },
   {
    "duration": 3,
    "start_time": "2021-06-11T11:07:53.696Z"
   },
   {
    "duration": 49,
    "start_time": "2021-06-11T11:08:28.688Z"
   },
   {
    "duration": 53,
    "start_time": "2021-06-11T11:08:36.816Z"
   },
   {
    "duration": 18,
    "start_time": "2021-06-11T11:09:10.461Z"
   },
   {
    "duration": 15,
    "start_time": "2021-06-11T11:09:49.217Z"
   },
   {
    "duration": 17,
    "start_time": "2021-06-11T11:09:54.765Z"
   },
   {
    "duration": 17,
    "start_time": "2021-06-11T11:10:11.341Z"
   },
   {
    "duration": 16,
    "start_time": "2021-06-11T11:11:04.777Z"
   },
   {
    "duration": 12,
    "start_time": "2021-06-11T11:11:26.904Z"
   },
   {
    "duration": 12,
    "start_time": "2021-06-11T11:16:35.020Z"
   },
   {
    "duration": 14,
    "start_time": "2021-06-11T11:16:52.409Z"
   },
   {
    "duration": 14,
    "start_time": "2021-06-11T11:17:02.096Z"
   },
   {
    "duration": 979,
    "start_time": "2021-06-11T11:18:40.751Z"
   },
   {
    "duration": 2436,
    "start_time": "2021-06-11T11:19:29.734Z"
   },
   {
    "duration": 7,
    "start_time": "2021-06-11T11:20:03.602Z"
   },
   {
    "duration": 8,
    "start_time": "2021-06-11T11:20:08.933Z"
   },
   {
    "duration": 26,
    "start_time": "2021-06-11T11:20:33.573Z"
   },
   {
    "duration": 2354,
    "start_time": "2021-06-11T11:20:59.686Z"
   },
   {
    "duration": 654,
    "start_time": "2021-06-11T11:21:15.805Z"
   },
   {
    "duration": 7,
    "start_time": "2021-06-11T11:21:25.814Z"
   },
   {
    "duration": 1739,
    "start_time": "2021-06-11T11:22:00.767Z"
   },
   {
    "duration": 717,
    "start_time": "2021-06-11T11:22:19.054Z"
   },
   {
    "duration": 659,
    "start_time": "2021-06-11T11:22:30.163Z"
   },
   {
    "duration": 688,
    "start_time": "2021-06-11T11:22:44.519Z"
   },
   {
    "duration": 705,
    "start_time": "2021-06-11T11:22:50.025Z"
   },
   {
    "duration": 674,
    "start_time": "2021-06-11T11:23:04.799Z"
   },
   {
    "duration": 793,
    "start_time": "2021-06-11T11:23:10.510Z"
   },
   {
    "duration": 136,
    "start_time": "2021-06-11T11:23:15.406Z"
   },
   {
    "duration": 10,
    "start_time": "2021-06-11T11:23:20.807Z"
   },
   {
    "duration": 7,
    "start_time": "2021-06-11T11:23:26.213Z"
   },
   {
    "duration": 8,
    "start_time": "2021-06-11T11:23:36.298Z"
   },
   {
    "duration": 1337,
    "start_time": "2021-06-11T11:23:55.046Z"
   },
   {
    "duration": 8,
    "start_time": "2021-06-11T11:24:01.413Z"
   },
   {
    "duration": 706,
    "start_time": "2021-06-11T11:24:08.652Z"
   },
   {
    "duration": 10,
    "start_time": "2021-06-11T11:24:12.655Z"
   },
   {
    "duration": 10,
    "start_time": "2021-06-11T11:24:37.518Z"
   },
   {
    "duration": 1464,
    "start_time": "2021-06-11T11:25:02.316Z"
   },
   {
    "duration": 413,
    "start_time": "2021-06-11T11:25:11.490Z"
   },
   {
    "duration": 1559,
    "start_time": "2021-06-11T11:25:31.209Z"
   },
   {
    "duration": 518,
    "start_time": "2021-06-11T11:25:46.381Z"
   },
   {
    "duration": 19,
    "start_time": "2021-06-11T11:26:29.503Z"
   },
   {
    "duration": 377,
    "start_time": "2021-06-11T11:28:33.284Z"
   },
   {
    "duration": 5,
    "start_time": "2021-06-11T11:28:36.922Z"
   },
   {
    "duration": 11,
    "start_time": "2021-06-11T11:28:48.700Z"
   },
   {
    "duration": 31,
    "start_time": "2021-06-11T11:29:14.142Z"
   },
   {
    "duration": 350,
    "start_time": "2021-06-11T11:35:11.504Z"
   },
   {
    "duration": 7,
    "start_time": "2021-06-11T11:35:17.640Z"
   },
   {
    "duration": 7,
    "start_time": "2021-06-11T11:35:38.200Z"
   },
   {
    "duration": 1820,
    "start_time": "2021-06-11T11:35:40.177Z"
   },
   {
    "duration": 158358,
    "start_time": "2021-06-11T11:36:12.026Z"
   },
   {
    "duration": 129,
    "start_time": "2021-06-11T11:38:54.995Z"
   },
   {
    "duration": 9,
    "start_time": "2021-06-11T11:39:11.406Z"
   },
   {
    "duration": 1905,
    "start_time": "2021-06-11T11:39:13.898Z"
   },
   {
    "duration": 8,
    "start_time": "2021-06-11T11:39:38.115Z"
   },
   {
    "duration": 1861,
    "start_time": "2021-06-11T11:39:40.295Z"
   },
   {
    "duration": 7,
    "start_time": "2021-06-11T11:39:54.636Z"
   },
   {
    "duration": 1858,
    "start_time": "2021-06-11T11:39:56.542Z"
   },
   {
    "duration": 8,
    "start_time": "2021-06-11T11:40:11.350Z"
   },
   {
    "duration": 1831,
    "start_time": "2021-06-11T11:40:13.635Z"
   },
   {
    "duration": 7,
    "start_time": "2021-06-11T11:40:23.567Z"
   },
   {
    "duration": 2074,
    "start_time": "2021-06-11T11:40:27.027Z"
   },
   {
    "duration": 10,
    "start_time": "2021-06-11T11:42:10.868Z"
   },
   {
    "duration": 1858,
    "start_time": "2021-06-11T11:42:12.883Z"
   },
   {
    "duration": 8,
    "start_time": "2021-06-11T11:42:45.656Z"
   },
   {
    "duration": 1851,
    "start_time": "2021-06-11T11:42:47.424Z"
   },
   {
    "duration": 9,
    "start_time": "2021-06-11T11:43:12.658Z"
   },
   {
    "duration": 1970,
    "start_time": "2021-06-11T11:43:15.498Z"
   },
   {
    "duration": 8,
    "start_time": "2021-06-11T11:43:41.700Z"
   },
   {
    "duration": 2037,
    "start_time": "2021-06-11T11:43:43.600Z"
   },
   {
    "duration": 8,
    "start_time": "2021-06-11T11:43:52.580Z"
   },
   {
    "duration": 1856,
    "start_time": "2021-06-11T11:43:54.435Z"
   },
   {
    "duration": 9,
    "start_time": "2021-06-11T11:44:10.184Z"
   },
   {
    "duration": 1957,
    "start_time": "2021-06-11T11:44:12.101Z"
   },
   {
    "duration": 8,
    "start_time": "2021-06-11T11:44:29.034Z"
   },
   {
    "duration": 1854,
    "start_time": "2021-06-11T11:44:31.011Z"
   },
   {
    "duration": 8,
    "start_time": "2021-06-11T11:44:36.926Z"
   },
   {
    "duration": 1866,
    "start_time": "2021-06-11T11:44:38.960Z"
   },
   {
    "duration": 8,
    "start_time": "2021-06-11T11:45:53.572Z"
   },
   {
    "duration": 1838,
    "start_time": "2021-06-11T11:45:55.800Z"
   },
   {
    "duration": 13,
    "start_time": "2021-06-11T11:46:14.743Z"
   },
   {
    "duration": 1865,
    "start_time": "2021-06-11T11:46:18.684Z"
   },
   {
    "duration": 7,
    "start_time": "2021-06-11T11:46:52.564Z"
   },
   {
    "duration": 1820,
    "start_time": "2021-06-11T11:46:54.496Z"
   },
   {
    "duration": 10,
    "start_time": "2021-06-11T11:47:11.609Z"
   },
   {
    "duration": 1838,
    "start_time": "2021-06-11T11:47:13.481Z"
   },
   {
    "duration": 8,
    "start_time": "2021-06-11T11:47:40.350Z"
   },
   {
    "duration": 2037,
    "start_time": "2021-06-11T11:47:42.345Z"
   },
   {
    "duration": 8,
    "start_time": "2021-06-11T11:47:55.446Z"
   },
   {
    "duration": 2023,
    "start_time": "2021-06-11T11:47:57.563Z"
   },
   {
    "duration": 10,
    "start_time": "2021-06-11T11:48:21.500Z"
   },
   {
    "duration": 1998,
    "start_time": "2021-06-11T11:48:23.774Z"
   },
   {
    "duration": 8,
    "start_time": "2021-06-11T11:48:40.270Z"
   },
   {
    "duration": 2016,
    "start_time": "2021-06-11T11:48:42.228Z"
   },
   {
    "duration": 8,
    "start_time": "2021-06-11T11:48:51.979Z"
   },
   {
    "duration": 1972,
    "start_time": "2021-06-11T11:48:53.879Z"
   },
   {
    "duration": 226623,
    "start_time": "2021-06-11T11:49:20.522Z"
   },
   {
    "duration": 211834,
    "start_time": "2021-06-11T11:55:34.925Z"
   },
   {
    "duration": 8,
    "start_time": "2021-06-11T11:59:16.412Z"
   },
   {
    "duration": 26,
    "start_time": "2021-06-11T12:00:56.711Z"
   },
   {
    "duration": 6,
    "start_time": "2021-06-11T12:03:46.454Z"
   },
   {
    "duration": 8,
    "start_time": "2021-06-11T12:04:12.392Z"
   },
   {
    "duration": 11,
    "start_time": "2021-06-11T12:04:28.204Z"
   },
   {
    "duration": 7,
    "start_time": "2021-06-11T12:05:13.029Z"
   },
   {
    "duration": 13133,
    "start_time": "2021-06-11T12:07:02.183Z"
   },
   {
    "duration": 8,
    "start_time": "2021-06-11T12:07:24.998Z"
   },
   {
    "duration": 3,
    "start_time": "2021-06-11T12:07:29.277Z"
   },
   {
    "duration": 5,
    "start_time": "2021-06-11T12:19:23.950Z"
   },
   {
    "duration": 1357,
    "start_time": "2021-06-11T12:21:56.329Z"
   },
   {
    "duration": 17,
    "start_time": "2021-06-11T12:22:01.671Z"
   },
   {
    "duration": 197657,
    "start_time": "2021-06-11T12:22:32.414Z"
   },
   {
    "duration": 5,
    "start_time": "2021-06-11T12:29:31.266Z"
   },
   {
    "duration": 8,
    "start_time": "2021-06-11T12:29:45.267Z"
   },
   {
    "duration": 3345,
    "start_time": "2021-06-11T12:29:51.232Z"
   },
   {
    "duration": 8,
    "start_time": "2021-06-11T12:30:07.762Z"
   },
   {
    "duration": 1776,
    "start_time": "2021-06-11T12:30:10.322Z"
   },
   {
    "duration": 8,
    "start_time": "2021-06-11T12:30:54.574Z"
   },
   {
    "duration": 1862,
    "start_time": "2021-06-11T12:30:59.200Z"
   },
   {
    "duration": 8,
    "start_time": "2021-06-11T12:31:25.800Z"
   },
   {
    "duration": 8,
    "start_time": "2021-06-11T12:31:31.326Z"
   },
   {
    "duration": 1762,
    "start_time": "2021-06-11T12:31:33.991Z"
   },
   {
    "duration": 8,
    "start_time": "2021-06-11T12:31:39.209Z"
   },
   {
    "duration": 1861,
    "start_time": "2021-06-11T12:31:41.033Z"
   },
   {
    "duration": 6659,
    "start_time": "2021-06-11T12:31:50.184Z"
   },
   {
    "duration": 8,
    "start_time": "2021-06-11T12:32:34.876Z"
   },
   {
    "duration": 6173,
    "start_time": "2021-06-11T12:32:37.099Z"
   },
   {
    "duration": 8,
    "start_time": "2021-06-11T12:32:46.804Z"
   },
   {
    "duration": 1118,
    "start_time": "2021-06-11T12:32:49.103Z"
   },
   {
    "duration": 17,
    "start_time": "2021-06-11T12:32:55.154Z"
   },
   {
    "duration": 9039,
    "start_time": "2021-06-11T12:32:56.880Z"
   },
   {
    "duration": 7,
    "start_time": "2021-06-11T12:33:05.922Z"
   },
   {
    "duration": 6509,
    "start_time": "2021-06-11T12:33:08.346Z"
   },
   {
    "duration": 8,
    "start_time": "2021-06-11T12:33:20.649Z"
   },
   {
    "duration": 6259,
    "start_time": "2021-06-11T12:33:22.930Z"
   },
   {
    "duration": 8,
    "start_time": "2021-06-11T12:33:33.222Z"
   },
   {
    "duration": 6163,
    "start_time": "2021-06-11T12:33:35.521Z"
   },
   {
    "duration": 6,
    "start_time": "2021-06-11T12:34:06.667Z"
   },
   {
    "duration": 429,
    "start_time": "2021-06-11T12:35:02.703Z"
   },
   {
    "duration": 41,
    "start_time": "2021-06-11T12:35:55.050Z"
   },
   {
    "duration": 5,
    "start_time": "2021-06-11T12:36:22.204Z"
   },
   {
    "duration": 4,
    "start_time": "2021-06-11T12:36:50.202Z"
   },
   {
    "duration": 41,
    "start_time": "2021-06-11T12:36:59.052Z"
   },
   {
    "duration": 43,
    "start_time": "2021-06-11T12:37:06.550Z"
   },
   {
    "duration": 8,
    "start_time": "2021-06-11T12:37:21.071Z"
   },
   {
    "duration": 554,
    "start_time": "2021-06-11T12:38:05.352Z"
   },
   {
    "duration": 934,
    "start_time": "2021-06-11T12:39:14.371Z"
   },
   {
    "duration": 1494,
    "start_time": "2021-06-11T12:39:39.646Z"
   },
   {
    "duration": 4,
    "start_time": "2021-06-11T12:39:41.142Z"
   },
   {
    "duration": 11,
    "start_time": "2021-06-11T12:39:41.149Z"
   },
   {
    "duration": 57,
    "start_time": "2021-06-11T12:39:41.163Z"
   },
   {
    "duration": 14,
    "start_time": "2021-06-11T12:39:41.222Z"
   },
   {
    "duration": 21,
    "start_time": "2021-06-11T12:39:41.239Z"
   },
   {
    "duration": 15,
    "start_time": "2021-06-11T12:39:41.262Z"
   },
   {
    "duration": 47,
    "start_time": "2021-06-11T12:39:41.281Z"
   },
   {
    "duration": 14,
    "start_time": "2021-06-11T12:39:41.331Z"
   },
   {
    "duration": 5062,
    "start_time": "2021-06-11T12:39:41.347Z"
   },
   {
    "duration": 104,
    "start_time": "2021-06-11T12:39:46.412Z"
   },
   {
    "duration": 34,
    "start_time": "2021-06-11T12:39:46.518Z"
   },
   {
    "duration": 809,
    "start_time": "2021-06-11T12:39:46.555Z"
   },
   {
    "duration": 736,
    "start_time": "2021-06-11T12:39:47.367Z"
   },
   {
    "duration": 620,
    "start_time": "2021-06-11T12:39:48.109Z"
   },
   {
    "duration": 4,
    "start_time": "2021-06-11T12:39:48.732Z"
   },
   {
    "duration": 21,
    "start_time": "2021-06-11T12:39:48.738Z"
   },
   {
    "duration": 19,
    "start_time": "2021-06-11T12:39:48.762Z"
   },
   {
    "duration": 12,
    "start_time": "2021-06-11T12:39:48.784Z"
   },
   {
    "duration": 203,
    "start_time": "2021-06-11T12:39:48.809Z"
   },
   {
    "duration": 6498,
    "start_time": "2021-06-11T12:39:49.016Z"
   },
   {
    "duration": 4,
    "start_time": "2021-06-11T12:39:55.608Z"
   },
   {
    "duration": 21,
    "start_time": "2021-06-11T12:39:55.617Z"
   },
   {
    "duration": 75,
    "start_time": "2021-06-11T12:39:55.641Z"
   },
   {
    "duration": 53094,
    "start_time": "2021-06-11T12:39:55.719Z"
   },
   {
    "duration": 1010,
    "start_time": "2021-06-11T12:40:48.816Z"
   },
   {
    "duration": 6,
    "start_time": "2021-06-11T12:40:49.829Z"
   },
   {
    "duration": 8,
    "start_time": "2021-06-11T12:40:49.838Z"
   },
   {
    "duration": 19,
    "start_time": "2021-06-11T12:40:49.849Z"
   },
   {
    "duration": 11,
    "start_time": "2021-06-11T12:40:49.871Z"
   },
   {
    "duration": 127,
    "start_time": "2021-06-11T12:40:49.885Z"
   },
   {
    "duration": 157,
    "start_time": "2021-06-11T12:41:33.852Z"
   },
   {
    "duration": 596,
    "start_time": "2021-06-11T12:42:04.313Z"
   },
   {
    "duration": 458,
    "start_time": "2021-06-11T12:42:10.343Z"
   },
   {
    "duration": 28,
    "start_time": "2021-06-11T12:42:34.293Z"
   },
   {
    "duration": 76,
    "start_time": "2021-06-11T12:44:24.442Z"
   },
   {
    "duration": 122,
    "start_time": "2021-06-11T12:44:59.604Z"
   },
   {
    "duration": 16,
    "start_time": "2021-06-11T12:45:08.236Z"
   },
   {
    "duration": 14,
    "start_time": "2021-06-11T12:45:24.936Z"
   },
   {
    "duration": 35,
    "start_time": "2021-06-11T12:45:33.993Z"
   },
   {
    "duration": 136013,
    "start_time": "2021-06-11T12:46:59.322Z"
   },
   {
    "duration": 206,
    "start_time": "2021-06-11T12:53:25.424Z"
   },
   {
    "duration": 195666,
    "start_time": "2021-06-11T12:54:05.547Z"
   },
   {
    "duration": 7,
    "start_time": "2021-06-11T12:57:21.215Z"
   },
   {
    "duration": 204,
    "start_time": "2021-06-11T12:57:21.225Z"
   },
   {
    "duration": 13,
    "start_time": "2021-06-11T12:57:42.721Z"
   },
   {
    "duration": 417,
    "start_time": "2021-06-11T13:00:18.026Z"
   },
   {
    "duration": 9,
    "start_time": "2021-06-11T13:00:47.606Z"
   },
   {
    "duration": 328,
    "start_time": "2021-06-11T13:01:43.257Z"
   },
   {
    "duration": 21,
    "start_time": "2021-06-11T13:01:48.099Z"
   },
   {
    "duration": 356,
    "start_time": "2021-06-11T13:01:58.558Z"
   },
   {
    "duration": 352,
    "start_time": "2021-06-11T13:02:04.308Z"
   },
   {
    "duration": 35,
    "start_time": "2021-06-11T13:02:11.308Z"
   },
   {
    "duration": 21,
    "start_time": "2021-06-11T13:03:34.292Z"
   },
   {
    "duration": 5,
    "start_time": "2021-06-11T13:03:51.584Z"
   },
   {
    "duration": 24,
    "start_time": "2021-06-11T13:03:55.108Z"
   },
   {
    "duration": 9001,
    "start_time": "2021-06-11T13:05:24.550Z"
   },
   {
    "duration": 26,
    "start_time": "2021-06-11T13:05:35.249Z"
   },
   {
    "duration": 8975,
    "start_time": "2021-06-11T13:14:54.551Z"
   },
   {
    "duration": 9111,
    "start_time": "2021-06-11T13:15:27.606Z"
   },
   {
    "duration": 372,
    "start_time": "2021-06-11T13:17:42.474Z"
   },
   {
    "duration": 6,
    "start_time": "2021-06-11T13:17:52.001Z"
   },
   {
    "duration": 18,
    "start_time": "2021-06-11T13:18:11.386Z"
   },
   {
    "duration": 319,
    "start_time": "2021-06-11T13:19:14.191Z"
   },
   {
    "duration": 350,
    "start_time": "2021-06-11T13:19:19.465Z"
   },
   {
    "duration": 334,
    "start_time": "2021-06-11T13:19:29.874Z"
   },
   {
    "duration": 341,
    "start_time": "2021-06-11T13:19:45.146Z"
   },
   {
    "duration": 455,
    "start_time": "2021-06-11T13:20:01.240Z"
   },
   {
    "duration": 469,
    "start_time": "2021-06-11T13:20:21.872Z"
   },
   {
    "duration": 466,
    "start_time": "2021-06-11T13:20:38.512Z"
   },
   {
    "duration": 449,
    "start_time": "2021-06-11T13:21:24.695Z"
   },
   {
    "duration": 477,
    "start_time": "2021-06-11T13:21:31.445Z"
   },
   {
    "duration": 447,
    "start_time": "2021-06-11T13:22:43.385Z"
   },
   {
    "duration": 439,
    "start_time": "2021-06-11T13:22:49.779Z"
   },
   {
    "duration": 565,
    "start_time": "2021-06-11T13:23:27.236Z"
   },
   {
    "duration": 451,
    "start_time": "2021-06-11T13:23:35.123Z"
   },
   {
    "duration": 365,
    "start_time": "2021-06-11T13:23:45.797Z"
   },
   {
    "duration": 346,
    "start_time": "2021-06-11T13:24:05.843Z"
   },
   {
    "duration": 869,
    "start_time": "2021-06-11T13:24:34.211Z"
   },
   {
    "duration": 830,
    "start_time": "2021-06-11T13:24:43.990Z"
   },
   {
    "duration": 595,
    "start_time": "2021-06-11T13:25:43.140Z"
   },
   {
    "duration": 596,
    "start_time": "2021-06-11T13:25:50.418Z"
   },
   {
    "duration": 610,
    "start_time": "2021-06-11T13:25:54.714Z"
   },
   {
    "duration": 786,
    "start_time": "2021-06-11T13:27:04.695Z"
   },
   {
    "duration": 699,
    "start_time": "2021-06-11T13:27:13.820Z"
   },
   {
    "duration": 20,
    "start_time": "2021-06-11T13:29:36.287Z"
   },
   {
    "duration": 608,
    "start_time": "2021-06-11T13:29:51.178Z"
   },
   {
    "duration": 198,
    "start_time": "2021-06-11T13:30:18.223Z"
   },
   {
    "duration": 9,
    "start_time": "2021-06-11T13:30:24.785Z"
   },
   {
    "duration": 18,
    "start_time": "2021-06-11T13:30:28.254Z"
   },
   {
    "duration": 21,
    "start_time": "2021-06-11T13:31:07.238Z"
   },
   {
    "duration": 22,
    "start_time": "2021-06-11T13:31:27.146Z"
   },
   {
    "duration": 377,
    "start_time": "2021-06-11T13:31:38.958Z"
   },
   {
    "duration": 23,
    "start_time": "2021-06-11T13:31:45.942Z"
   },
   {
    "duration": 6,
    "start_time": "2021-06-11T13:31:53.726Z"
   },
   {
    "duration": 20,
    "start_time": "2021-06-11T13:31:56.160Z"
   },
   {
    "duration": 20,
    "start_time": "2021-06-11T13:32:09.421Z"
   },
   {
    "duration": 617,
    "start_time": "2021-06-11T13:32:32.766Z"
   },
   {
    "duration": 667,
    "start_time": "2021-06-11T13:37:08.058Z"
   },
   {
    "duration": 633,
    "start_time": "2021-06-11T13:37:52.016Z"
   },
   {
    "duration": 127,
    "start_time": "2021-06-11T13:40:35.116Z"
   },
   {
    "duration": 821,
    "start_time": "2021-06-11T13:40:42.047Z"
   },
   {
    "duration": 119,
    "start_time": "2021-06-11T13:41:02.266Z"
   },
   {
    "duration": 1013,
    "start_time": "2021-06-11T13:41:10.255Z"
   },
   {
    "duration": 644,
    "start_time": "2021-06-11T13:42:11.509Z"
   },
   {
    "duration": 1458,
    "start_time": "2021-06-11T15:44:33.531Z"
   },
   {
    "duration": 9,
    "start_time": "2021-06-11T15:44:34.991Z"
   },
   {
    "duration": 4,
    "start_time": "2021-06-11T15:44:35.003Z"
   },
   {
    "duration": 52,
    "start_time": "2021-06-11T15:44:35.010Z"
   },
   {
    "duration": 13,
    "start_time": "2021-06-11T15:44:35.064Z"
   },
   {
    "duration": 29,
    "start_time": "2021-06-11T15:44:35.079Z"
   },
   {
    "duration": 8,
    "start_time": "2021-06-11T15:44:35.110Z"
   },
   {
    "duration": 26,
    "start_time": "2021-06-11T15:44:35.120Z"
   },
   {
    "duration": 11,
    "start_time": "2021-06-11T15:44:35.150Z"
   },
   {
    "duration": 5535,
    "start_time": "2021-06-11T15:44:35.164Z"
   },
   {
    "duration": 102,
    "start_time": "2021-06-11T15:44:40.703Z"
   },
   {
    "duration": 31,
    "start_time": "2021-06-11T15:44:40.807Z"
   },
   {
    "duration": 748,
    "start_time": "2021-06-11T15:44:40.841Z"
   },
   {
    "duration": 766,
    "start_time": "2021-06-11T15:44:41.592Z"
   },
   {
    "duration": 600,
    "start_time": "2021-06-11T15:44:42.360Z"
   },
   {
    "duration": 3,
    "start_time": "2021-06-11T15:44:42.962Z"
   },
   {
    "duration": 32,
    "start_time": "2021-06-11T15:44:42.968Z"
   },
   {
    "duration": 4,
    "start_time": "2021-06-11T15:44:43.003Z"
   },
   {
    "duration": 9,
    "start_time": "2021-06-11T15:44:43.010Z"
   },
   {
    "duration": 183,
    "start_time": "2021-06-11T15:44:43.021Z"
   },
   {
    "duration": 5894,
    "start_time": "2021-06-11T15:44:43.207Z"
   },
   {
    "duration": 65803,
    "start_time": "2021-06-11T15:44:49.103Z"
   },
   {
    "duration": 23,
    "start_time": "2021-06-11T15:45:54.910Z"
   },
   {
    "duration": 10,
    "start_time": "2021-06-11T15:45:54.935Z"
   },
   {
    "duration": 49701,
    "start_time": "2021-06-11T15:45:55.000Z"
   },
   {
    "duration": 921,
    "start_time": "2021-06-11T15:46:44.703Z"
   },
   {
    "duration": 5,
    "start_time": "2021-06-11T15:46:45.629Z"
   },
   {
    "duration": 8,
    "start_time": "2021-06-11T15:46:45.637Z"
   },
   {
    "duration": 201214,
    "start_time": "2021-06-11T15:46:45.647Z"
   },
   {
    "duration": 6,
    "start_time": "2021-06-11T15:50:06.864Z"
   },
   {
    "duration": 6,
    "start_time": "2021-06-11T15:50:06.873Z"
   },
   {
    "duration": 243,
    "start_time": "2021-06-11T15:50:06.882Z"
   },
   {
    "duration": 658,
    "start_time": "2021-06-11T15:50:07.128Z"
   },
   {
    "duration": 4,
    "start_time": "2021-06-11T15:50:07.788Z"
   },
   {
    "duration": 218,
    "start_time": "2021-06-11T15:54:40.812Z"
   },
   {
    "duration": 806,
    "start_time": "2021-06-11T15:54:44.051Z"
   },
   {
    "duration": 835,
    "start_time": "2021-06-11T15:54:54.191Z"
   },
   {
    "duration": 810,
    "start_time": "2021-06-11T15:54:59.260Z"
   },
   {
    "duration": 852,
    "start_time": "2021-06-11T15:58:52.797Z"
   },
   {
    "duration": 94,
    "start_time": "2021-06-11T16:00:00.387Z"
   },
   {
    "duration": 844,
    "start_time": "2021-06-11T16:00:08.277Z"
   },
   {
    "duration": 846,
    "start_time": "2021-06-11T16:00:13.288Z"
   },
   {
    "duration": 847,
    "start_time": "2021-06-11T16:00:19.153Z"
   },
   {
    "duration": 1767,
    "start_time": "2021-06-12T07:18:42.508Z"
   },
   {
    "duration": 9,
    "start_time": "2021-06-12T07:18:44.277Z"
   },
   {
    "duration": 18,
    "start_time": "2021-06-12T07:18:44.293Z"
   },
   {
    "duration": 66,
    "start_time": "2021-06-12T07:18:44.314Z"
   },
   {
    "duration": 15,
    "start_time": "2021-06-12T07:18:44.382Z"
   },
   {
    "duration": 26,
    "start_time": "2021-06-12T07:18:44.400Z"
   },
   {
    "duration": 16,
    "start_time": "2021-06-12T07:18:44.430Z"
   },
   {
    "duration": 33,
    "start_time": "2021-06-12T07:18:44.449Z"
   },
   {
    "duration": 17,
    "start_time": "2021-06-12T07:18:44.484Z"
   },
   {
    "duration": 5085,
    "start_time": "2021-06-12T07:18:44.504Z"
   },
   {
    "duration": 12,
    "start_time": "2021-06-12T07:18:49.591Z"
   },
   {
    "duration": 196,
    "start_time": "2021-06-12T07:18:49.607Z"
   },
   {
    "duration": 1275,
    "start_time": "2021-06-12T07:18:49.806Z"
   },
   {
    "duration": 860,
    "start_time": "2021-06-12T07:18:51.086Z"
   },
   {
    "duration": 983,
    "start_time": "2021-06-12T07:18:51.948Z"
   },
   {
    "duration": 4,
    "start_time": "2021-06-12T07:18:52.933Z"
   },
   {
    "duration": 21,
    "start_time": "2021-06-12T07:18:52.939Z"
   },
   {
    "duration": 26,
    "start_time": "2021-06-12T07:18:52.962Z"
   },
   {
    "duration": 10,
    "start_time": "2021-06-12T07:18:52.990Z"
   },
   {
    "duration": 92,
    "start_time": "2021-06-12T07:18:53.002Z"
   },
   {
    "duration": 5906,
    "start_time": "2021-06-12T07:18:53.187Z"
   },
   {
    "duration": 157400,
    "start_time": "2021-06-12T07:18:59.185Z"
   },
   {
    "duration": 23,
    "start_time": "2021-06-12T07:21:36.589Z"
   },
   {
    "duration": 13,
    "start_time": "2021-06-12T07:21:36.615Z"
   },
   {
    "duration": 48795,
    "start_time": "2021-06-12T07:21:36.631Z"
   },
   {
    "duration": 1081,
    "start_time": "2021-06-12T07:22:25.429Z"
   },
   {
    "duration": 5,
    "start_time": "2021-06-12T07:22:26.513Z"
   },
   {
    "duration": 8,
    "start_time": "2021-06-12T07:22:26.521Z"
   },
   {
    "duration": 182640,
    "start_time": "2021-06-12T07:22:26.531Z"
   },
   {
    "duration": 15,
    "start_time": "2021-06-12T07:25:29.174Z"
   },
   {
    "duration": 17,
    "start_time": "2021-06-12T07:25:29.191Z"
   },
   {
    "duration": 200,
    "start_time": "2021-06-12T07:25:29.210Z"
   },
   {
    "duration": 896,
    "start_time": "2021-06-12T07:25:29.413Z"
   },
   {
    "duration": 1059,
    "start_time": "2021-06-12T07:25:30.312Z"
   },
   {
    "duration": 1026,
    "start_time": "2021-06-12T07:27:58.759Z"
   },
   {
    "duration": 1029,
    "start_time": "2021-06-12T07:28:47.245Z"
   },
   {
    "duration": 1184,
    "start_time": "2021-06-12T07:30:10.481Z"
   },
   {
    "duration": 5,
    "start_time": "2021-06-12T07:34:51.642Z"
   },
   {
    "duration": 109,
    "start_time": "2021-06-12T07:36:46.337Z"
   },
   {
    "duration": 466,
    "start_time": "2021-06-12T07:36:52.468Z"
   },
   {
    "duration": 949,
    "start_time": "2021-06-12T07:36:58.198Z"
   },
   {
    "duration": 869,
    "start_time": "2021-06-12T07:37:13.199Z"
   },
   {
    "duration": 13,
    "start_time": "2021-06-12T07:37:25.393Z"
   },
   {
    "duration": 9,
    "start_time": "2021-06-12T07:39:47.744Z"
   },
   {
    "duration": 9,
    "start_time": "2021-06-12T07:40:23.385Z"
   },
   {
    "duration": 310,
    "start_time": "2021-06-12T07:40:36.043Z"
   },
   {
    "duration": 14,
    "start_time": "2021-06-12T07:40:43.094Z"
   },
   {
    "duration": 9,
    "start_time": "2021-06-12T07:40:59.550Z"
   },
   {
    "duration": 9,
    "start_time": "2021-06-12T07:41:11.294Z"
   },
   {
    "duration": 5,
    "start_time": "2021-06-12T07:43:13.575Z"
   },
   {
    "duration": 13,
    "start_time": "2021-06-12T07:43:48.361Z"
   },
   {
    "duration": 1444,
    "start_time": "2021-06-12T08:22:49.721Z"
   },
   {
    "duration": 375,
    "start_time": "2021-06-12T08:23:10.057Z"
   },
   {
    "duration": 534,
    "start_time": "2021-06-12T08:23:58.695Z"
   },
   {
    "duration": 790,
    "start_time": "2021-06-12T08:24:10.095Z"
   },
   {
    "duration": 655,
    "start_time": "2021-06-12T08:24:49.349Z"
   },
   {
    "duration": 651,
    "start_time": "2021-06-12T08:25:25.681Z"
   },
   {
    "duration": 623,
    "start_time": "2021-06-12T08:31:43.362Z"
   },
   {
    "duration": 7142,
    "start_time": "2021-06-12T08:37:02.702Z"
   },
   {
    "duration": 11555,
    "start_time": "2021-06-12T08:37:36.336Z"
   },
   {
    "duration": 1254,
    "start_time": "2021-06-12T08:39:16.807Z"
   },
   {
    "duration": 1401,
    "start_time": "2021-06-12T08:39:25.792Z"
   },
   {
    "duration": 1653,
    "start_time": "2021-06-12T08:39:34.731Z"
   },
   {
    "duration": 11311,
    "start_time": "2021-06-12T09:05:56.189Z"
   },
   {
    "duration": 13,
    "start_time": "2021-06-12T09:06:09.985Z"
   },
   {
    "duration": 638,
    "start_time": "2021-06-12T09:09:24.490Z"
   },
   {
    "duration": 554,
    "start_time": "2021-06-12T09:10:28.874Z"
   },
   {
    "duration": 1096,
    "start_time": "2021-06-12T09:10:42.602Z"
   },
   {
    "duration": 4,
    "start_time": "2021-06-12T09:16:24.980Z"
   },
   {
    "duration": 107,
    "start_time": "2021-06-12T09:24:53.498Z"
   },
   {
    "duration": 5,
    "start_time": "2021-06-12T09:25:06.614Z"
   },
   {
    "duration": 10834,
    "start_time": "2021-06-12T09:25:18.681Z"
   },
   {
    "duration": 11038,
    "start_time": "2021-06-12T09:25:33.586Z"
   },
   {
    "duration": 10,
    "start_time": "2021-06-12T09:26:11.025Z"
   },
   {
    "duration": 17,
    "start_time": "2021-06-12T09:27:09.975Z"
   },
   {
    "duration": 6,
    "start_time": "2021-06-12T09:27:15.120Z"
   },
   {
    "duration": 85,
    "start_time": "2021-06-12T09:27:17.550Z"
   },
   {
    "duration": 1740,
    "start_time": "2021-06-12T09:27:22.140Z"
   },
   {
    "duration": 11,
    "start_time": "2021-06-12T09:29:06.407Z"
   },
   {
    "duration": 341,
    "start_time": "2021-06-12T09:29:39.872Z"
   },
   {
    "duration": 334,
    "start_time": "2021-06-12T09:29:54.692Z"
   },
   {
    "duration": 10,
    "start_time": "2021-06-12T09:30:07.666Z"
   },
   {
    "duration": 8,
    "start_time": "2021-06-12T09:30:38.297Z"
   },
   {
    "duration": 6761,
    "start_time": "2021-06-12T09:31:40.547Z"
   },
   {
    "duration": 1011,
    "start_time": "2021-06-12T09:37:20.034Z"
   },
   {
    "duration": 1182,
    "start_time": "2021-06-12T09:37:50.629Z"
   },
   {
    "duration": 1069,
    "start_time": "2021-06-12T09:38:12.573Z"
   },
   {
    "duration": 1072,
    "start_time": "2021-06-12T09:38:22.280Z"
   },
   {
    "duration": 146,
    "start_time": "2021-06-12T11:04:06.632Z"
   },
   {
    "duration": 5,
    "start_time": "2021-06-12T11:04:13.631Z"
   },
   {
    "duration": 817,
    "start_time": "2021-06-12T11:05:50.032Z"
   },
   {
    "duration": 562,
    "start_time": "2021-06-12T11:06:31.793Z"
   },
   {
    "duration": 5,
    "start_time": "2021-06-12T11:06:41.617Z"
   },
   {
    "duration": 563,
    "start_time": "2021-06-12T11:06:43.462Z"
   },
   {
    "duration": 705,
    "start_time": "2021-06-12T11:07:46.357Z"
   },
   {
    "duration": 615,
    "start_time": "2021-06-12T11:08:59.468Z"
   },
   {
    "duration": 6,
    "start_time": "2021-06-12T11:09:12.997Z"
   },
   {
    "duration": 43,
    "start_time": "2021-06-12T11:09:18.698Z"
   },
   {
    "duration": 2265,
    "start_time": "2021-06-12T11:09:30.973Z"
   },
   {
    "duration": 15,
    "start_time": "2021-06-12T11:10:32.333Z"
   },
   {
    "duration": 2254,
    "start_time": "2021-06-12T11:12:13.989Z"
   },
   {
    "duration": 7852,
    "start_time": "2021-06-12T11:13:42.866Z"
   },
   {
    "duration": 9,
    "start_time": "2021-06-12T11:13:56.589Z"
   },
   {
    "duration": 5,
    "start_time": "2021-06-12T11:16:02.931Z"
   },
   {
    "duration": 6,
    "start_time": "2021-06-12T11:18:26.845Z"
   },
   {
    "duration": 6,
    "start_time": "2021-06-12T11:21:02.366Z"
   },
   {
    "duration": 5,
    "start_time": "2021-06-12T11:25:19.463Z"
   },
   {
    "duration": 299,
    "start_time": "2021-06-12T11:29:04.931Z"
   },
   {
    "duration": 9,
    "start_time": "2021-06-12T11:29:27.721Z"
   },
   {
    "duration": 9,
    "start_time": "2021-06-12T11:29:47.789Z"
   },
   {
    "duration": 317,
    "start_time": "2021-06-12T11:30:56.431Z"
   },
   {
    "duration": 9,
    "start_time": "2021-06-12T11:32:55.305Z"
   },
   {
    "duration": 9,
    "start_time": "2021-06-12T11:33:01.982Z"
   },
   {
    "duration": 8,
    "start_time": "2021-06-12T11:33:07.892Z"
   },
   {
    "duration": 305,
    "start_time": "2021-06-12T11:33:24.811Z"
   },
   {
    "duration": 21,
    "start_time": "2021-06-12T11:33:39.497Z"
   },
   {
    "duration": 316,
    "start_time": "2021-06-12T11:33:44.070Z"
   },
   {
    "duration": 6,
    "start_time": "2021-06-12T11:33:53.447Z"
   },
   {
    "duration": 13,
    "start_time": "2021-06-12T11:33:55.785Z"
   },
   {
    "duration": 31,
    "start_time": "2021-06-12T11:34:11.297Z"
   },
   {
    "duration": 28,
    "start_time": "2021-06-12T11:34:16.836Z"
   },
   {
    "duration": 1562,
    "start_time": "2021-06-12T11:34:31.632Z"
   },
   {
    "duration": 4,
    "start_time": "2021-06-12T11:34:33.197Z"
   },
   {
    "duration": 17,
    "start_time": "2021-06-12T11:34:33.204Z"
   },
   {
    "duration": 52,
    "start_time": "2021-06-12T11:34:33.223Z"
   },
   {
    "duration": 16,
    "start_time": "2021-06-12T11:34:33.278Z"
   },
   {
    "duration": 14,
    "start_time": "2021-06-12T11:34:33.297Z"
   },
   {
    "duration": 8,
    "start_time": "2021-06-12T11:34:33.313Z"
   },
   {
    "duration": 26,
    "start_time": "2021-06-12T11:34:33.323Z"
   },
   {
    "duration": 13,
    "start_time": "2021-06-12T11:34:33.385Z"
   },
   {
    "duration": 1127,
    "start_time": "2021-06-12T11:34:33.401Z"
   },
   {
    "duration": 842,
    "start_time": "2021-06-12T11:34:34.530Z"
   },
   {
    "duration": 919,
    "start_time": "2021-06-12T11:34:35.374Z"
   },
   {
    "duration": 7,
    "start_time": "2021-06-12T11:34:36.296Z"
   },
   {
    "duration": 11,
    "start_time": "2021-06-12T11:34:36.305Z"
   },
   {
    "duration": 1358,
    "start_time": "2021-06-12T11:34:36.319Z"
   },
   {
    "duration": 12,
    "start_time": "2021-06-12T11:34:37.679Z"
   },
   {
    "duration": 6493,
    "start_time": "2021-06-12T11:34:37.694Z"
   },
   {
    "duration": 5,
    "start_time": "2021-06-12T11:34:44.190Z"
   },
   {
    "duration": 2398,
    "start_time": "2021-06-12T11:34:44.198Z"
   },
   {
    "duration": 8,
    "start_time": "2021-06-12T11:34:46.598Z"
   },
   {
    "duration": 8,
    "start_time": "2021-06-12T11:34:46.609Z"
   },
   {
    "duration": 20,
    "start_time": "2021-06-12T11:34:46.619Z"
   },
   {
    "duration": 20,
    "start_time": "2021-06-12T11:34:46.642Z"
   },
   {
    "duration": 30,
    "start_time": "2021-06-12T11:34:46.665Z"
   },
   {
    "duration": 26,
    "start_time": "2021-06-12T11:34:46.698Z"
   },
   {
    "duration": 13,
    "start_time": "2021-06-12T11:34:46.726Z"
   },
   {
    "duration": 5,
    "start_time": "2021-06-12T11:34:46.744Z"
   },
   {
    "duration": 8,
    "start_time": "2021-06-12T11:34:46.787Z"
   },
   {
    "duration": 189,
    "start_time": "2021-06-12T11:34:46.797Z"
   },
   {
    "duration": 3706,
    "start_time": "2021-06-12T11:34:46.988Z"
   },
   {
    "duration": 45001,
    "start_time": "2021-06-12T11:34:50.786Z"
   },
   {
    "duration": 20,
    "start_time": "2021-06-12T11:35:35.790Z"
   },
   {
    "duration": 15,
    "start_time": "2021-06-12T11:35:35.813Z"
   },
   {
    "duration": 71396,
    "start_time": "2021-06-12T11:35:35.831Z"
   },
   {
    "duration": 1075,
    "start_time": "2021-06-12T11:36:47.230Z"
   },
   {
    "duration": 6,
    "start_time": "2021-06-12T11:36:48.307Z"
   },
   {
    "duration": 8,
    "start_time": "2021-06-12T11:36:48.315Z"
   },
   {
    "duration": 6042,
    "start_time": "2021-06-12T11:36:48.325Z"
   },
   {
    "duration": 6,
    "start_time": "2021-06-12T11:36:54.369Z"
   },
   {
    "duration": 4,
    "start_time": "2021-06-12T11:36:54.386Z"
   },
   {
    "duration": 1593,
    "start_time": "2021-06-12T11:36:54.392Z"
   },
   {
    "duration": 110,
    "start_time": "2021-06-12T11:36:55.988Z"
   },
   {
    "duration": 859,
    "start_time": "2021-06-12T11:36:56.101Z"
   },
   {
    "duration": 30,
    "start_time": "2021-06-12T11:36:56.962Z"
   },
   {
    "duration": 9,
    "start_time": "2021-06-12T11:36:56.995Z"
   },
   {
    "duration": 1028,
    "start_time": "2021-06-12T11:36:57.006Z"
   },
   {
    "duration": 14,
    "start_time": "2021-06-12T11:37:08.081Z"
   },
   {
    "duration": 5,
    "start_time": "2021-06-12T11:38:54.087Z"
   },
   {
    "duration": 1531,
    "start_time": "2021-06-12T11:45:36.226Z"
   },
   {
    "duration": 6706,
    "start_time": "2021-06-12T11:46:02.249Z"
   },
   {
    "duration": 7040,
    "start_time": "2021-06-12T11:46:33.496Z"
   },
   {
    "duration": 1273,
    "start_time": "2021-06-12T11:46:52.200Z"
   },
   {
    "duration": 6886,
    "start_time": "2021-06-12T11:46:59.309Z"
   },
   {
    "duration": 7056,
    "start_time": "2021-06-12T11:48:39.271Z"
   },
   {
    "duration": 7,
    "start_time": "2021-06-12T11:50:02.116Z"
   },
   {
    "duration": 175989,
    "start_time": "2021-06-12T11:50:11.446Z"
   },
   {
    "duration": 6,
    "start_time": "2021-06-12T11:53:12.557Z"
   },
   {
    "duration": 5,
    "start_time": "2021-06-12T11:53:18.661Z"
   },
   {
    "duration": 6830,
    "start_time": "2021-06-12T11:53:30.948Z"
   },
   {
    "duration": 4,
    "start_time": "2021-06-12T11:54:09.062Z"
   },
   {
    "duration": 42,
    "start_time": "2021-06-12T11:54:25.463Z"
   },
   {
    "duration": 937,
    "start_time": "2021-06-12T11:54:32.072Z"
   },
   {
    "duration": 1486,
    "start_time": "2021-06-12T11:54:41.390Z"
   },
   {
    "duration": 6,
    "start_time": "2021-06-12T11:54:42.879Z"
   },
   {
    "duration": 7,
    "start_time": "2021-06-12T11:54:42.889Z"
   },
   {
    "duration": 50,
    "start_time": "2021-06-12T11:54:42.898Z"
   },
   {
    "duration": 13,
    "start_time": "2021-06-12T11:54:42.950Z"
   },
   {
    "duration": 31,
    "start_time": "2021-06-12T11:54:42.965Z"
   },
   {
    "duration": 11,
    "start_time": "2021-06-12T11:54:42.998Z"
   },
   {
    "duration": 23,
    "start_time": "2021-06-12T11:54:43.011Z"
   },
   {
    "duration": 11,
    "start_time": "2021-06-12T11:54:43.037Z"
   },
   {
    "duration": 1028,
    "start_time": "2021-06-12T11:54:43.051Z"
   },
   {
    "duration": 827,
    "start_time": "2021-06-12T11:54:44.085Z"
   },
   {
    "duration": 871,
    "start_time": "2021-06-12T11:54:44.914Z"
   },
   {
    "duration": 6,
    "start_time": "2021-06-12T11:54:45.787Z"
   },
   {
    "duration": 15,
    "start_time": "2021-06-12T11:54:45.795Z"
   },
   {
    "duration": 1058,
    "start_time": "2021-06-12T11:54:45.813Z"
   },
   {
    "duration": 14,
    "start_time": "2021-06-12T11:54:46.873Z"
   },
   {
    "duration": 6298,
    "start_time": "2021-06-12T11:54:46.890Z"
   },
   {
    "duration": 94,
    "start_time": "2021-06-12T11:54:53.192Z"
   },
   {
    "duration": 2331,
    "start_time": "2021-06-12T11:54:53.288Z"
   },
   {
    "duration": 4,
    "start_time": "2021-06-12T11:54:55.621Z"
   },
   {
    "duration": 10,
    "start_time": "2021-06-12T11:54:55.628Z"
   },
   {
    "duration": 6,
    "start_time": "2021-06-12T11:54:55.641Z"
   },
   {
    "duration": 48,
    "start_time": "2021-06-12T11:54:55.649Z"
   },
   {
    "duration": 12,
    "start_time": "2021-06-12T11:54:55.699Z"
   },
   {
    "duration": 24,
    "start_time": "2021-06-12T11:54:55.713Z"
   },
   {
    "duration": 50,
    "start_time": "2021-06-12T11:54:55.740Z"
   },
   {
    "duration": 4,
    "start_time": "2021-06-12T11:54:55.795Z"
   },
   {
    "duration": 8,
    "start_time": "2021-06-12T11:54:55.802Z"
   },
   {
    "duration": 82,
    "start_time": "2021-06-12T11:54:55.812Z"
   },
   {
    "duration": 3618,
    "start_time": "2021-06-12T11:54:55.987Z"
   },
   {
    "duration": 44826,
    "start_time": "2021-06-12T11:54:59.687Z"
   },
   {
    "duration": 90,
    "start_time": "2021-06-12T11:55:44.516Z"
   },
   {
    "duration": 12,
    "start_time": "2021-06-12T11:55:44.608Z"
   },
   {
    "duration": 1437,
    "start_time": "2021-06-12T11:55:44.622Z"
   },
   {
    "duration": 1184,
    "start_time": "2021-06-12T11:55:46.061Z"
   },
   {
    "duration": 6,
    "start_time": "2021-06-12T11:55:47.246Z"
   },
   {
    "duration": 30,
    "start_time": "2021-06-12T11:55:47.255Z"
   },
   {
    "duration": 180513,
    "start_time": "2021-06-12T11:55:47.288Z"
   },
   {
    "duration": 7,
    "start_time": "2021-06-12T11:58:47.803Z"
   },
   {
    "duration": 7,
    "start_time": "2021-06-12T11:58:47.813Z"
   },
   {
    "duration": 6,
    "start_time": "2021-06-12T11:58:47.822Z"
   },
   {
    "duration": 81,
    "start_time": "2021-06-12T11:58:47.830Z"
   },
   {
    "duration": 878,
    "start_time": "2021-06-12T11:58:47.913Z"
   },
   {
    "duration": 18,
    "start_time": "2021-06-12T11:58:48.794Z"
   },
   {
    "duration": 24,
    "start_time": "2021-06-12T11:58:48.814Z"
   },
   {
    "duration": 662,
    "start_time": "2021-06-12T11:58:48.840Z"
   },
   {
    "duration": 7013,
    "start_time": "2021-06-12T12:01:58.253Z"
   },
   {
    "duration": 4,
    "start_time": "2021-06-12T12:03:07.275Z"
   },
   {
    "duration": 449,
    "start_time": "2021-06-12T12:05:01.201Z"
   },
   {
    "duration": 311,
    "start_time": "2021-06-12T12:05:14.430Z"
   },
   {
    "duration": 14,
    "start_time": "2021-06-12T12:05:35.857Z"
   },
   {
    "duration": 367,
    "start_time": "2021-06-12T12:05:53.611Z"
   },
   {
    "duration": 325,
    "start_time": "2021-06-12T12:06:15.390Z"
   },
   {
    "duration": 19,
    "start_time": "2021-06-12T12:06:22.006Z"
   },
   {
    "duration": 318,
    "start_time": "2021-06-12T12:07:01.776Z"
   },
   {
    "duration": 362,
    "start_time": "2021-06-12T12:07:56.521Z"
   },
   {
    "duration": 21,
    "start_time": "2021-06-12T12:08:32.911Z"
   },
   {
    "duration": 23,
    "start_time": "2021-06-12T12:08:56.461Z"
   },
   {
    "duration": 21,
    "start_time": "2021-06-12T12:09:07.007Z"
   },
   {
    "duration": 638,
    "start_time": "2021-06-12T12:09:19.862Z"
   },
   {
    "duration": 6848,
    "start_time": "2021-06-12T12:10:40.067Z"
   },
   {
    "duration": 4,
    "start_time": "2021-06-12T12:10:56.117Z"
   },
   {
    "duration": 1620,
    "start_time": "2021-06-12T12:11:03.479Z"
   },
   {
    "duration": 4,
    "start_time": "2021-06-12T12:11:05.102Z"
   },
   {
    "duration": 11,
    "start_time": "2021-06-12T12:11:05.109Z"
   },
   {
    "duration": 52,
    "start_time": "2021-06-12T12:11:05.123Z"
   },
   {
    "duration": 17,
    "start_time": "2021-06-12T12:11:05.178Z"
   },
   {
    "duration": 17,
    "start_time": "2021-06-12T12:11:05.197Z"
   },
   {
    "duration": 8,
    "start_time": "2021-06-12T12:11:05.216Z"
   },
   {
    "duration": 22,
    "start_time": "2021-06-12T12:11:05.228Z"
   },
   {
    "duration": 12,
    "start_time": "2021-06-12T12:11:05.287Z"
   },
   {
    "duration": 1038,
    "start_time": "2021-06-12T12:11:05.302Z"
   },
   {
    "duration": 830,
    "start_time": "2021-06-12T12:11:06.343Z"
   },
   {
    "duration": 880,
    "start_time": "2021-06-12T12:11:07.176Z"
   },
   {
    "duration": 6,
    "start_time": "2021-06-12T12:11:08.059Z"
   },
   {
    "duration": 17,
    "start_time": "2021-06-12T12:11:08.068Z"
   },
   {
    "duration": 1103,
    "start_time": "2021-06-12T12:11:08.089Z"
   },
   {
    "duration": 8,
    "start_time": "2021-06-12T12:11:09.195Z"
   },
   {
    "duration": 6781,
    "start_time": "2021-06-12T12:11:09.206Z"
   },
   {
    "duration": 5,
    "start_time": "2021-06-12T12:11:15.989Z"
   },
   {
    "duration": 2256,
    "start_time": "2021-06-12T12:11:15.997Z"
   },
   {
    "duration": 4,
    "start_time": "2021-06-12T12:11:18.255Z"
   },
   {
    "duration": 24,
    "start_time": "2021-06-12T12:11:18.261Z"
   },
   {
    "duration": 16,
    "start_time": "2021-06-12T12:11:18.288Z"
   },
   {
    "duration": 18,
    "start_time": "2021-06-12T12:11:18.309Z"
   },
   {
    "duration": 11,
    "start_time": "2021-06-12T12:11:18.331Z"
   },
   {
    "duration": 43,
    "start_time": "2021-06-12T12:11:18.345Z"
   },
   {
    "duration": 12,
    "start_time": "2021-06-12T12:11:18.390Z"
   },
   {
    "duration": 5,
    "start_time": "2021-06-12T12:11:18.405Z"
   },
   {
    "duration": 10,
    "start_time": "2021-06-12T12:11:18.412Z"
   },
   {
    "duration": 174,
    "start_time": "2021-06-12T12:11:18.424Z"
   },
   {
    "duration": 4002,
    "start_time": "2021-06-12T12:11:18.601Z"
   },
   {
    "duration": 48714,
    "start_time": "2021-06-12T12:11:22.687Z"
   },
   {
    "duration": 20,
    "start_time": "2021-06-12T12:12:11.404Z"
   },
   {
    "duration": 63,
    "start_time": "2021-06-12T12:12:11.427Z"
   },
   {
    "duration": 1400,
    "start_time": "2021-06-12T12:12:11.492Z"
   },
   {
    "duration": 1081,
    "start_time": "2021-06-12T12:12:12.895Z"
   },
   {
    "duration": 6,
    "start_time": "2021-06-12T12:12:13.986Z"
   },
   {
    "duration": 8,
    "start_time": "2021-06-12T12:12:13.995Z"
   },
   {
    "duration": 185448,
    "start_time": "2021-06-12T12:12:14.006Z"
   },
   {
    "duration": 7,
    "start_time": "2021-06-12T12:15:19.456Z"
   },
   {
    "duration": 23,
    "start_time": "2021-06-12T12:15:19.465Z"
   },
   {
    "duration": 11,
    "start_time": "2021-06-12T12:15:19.490Z"
   },
   {
    "duration": 104,
    "start_time": "2021-06-12T12:15:19.503Z"
   },
   {
    "duration": 915,
    "start_time": "2021-06-12T12:15:19.610Z"
   },
   {
    "duration": 24,
    "start_time": "2021-06-12T12:15:20.528Z"
   },
   {
    "duration": 731,
    "start_time": "2021-06-12T12:15:20.554Z"
   },
   {
    "duration": 1064,
    "start_time": "2021-06-12T12:15:21.289Z"
   },
   {
    "duration": 646,
    "start_time": "2021-06-12T12:16:09.521Z"
   },
   {
    "duration": 853,
    "start_time": "2021-06-12T12:16:29.846Z"
   },
   {
    "duration": 139,
    "start_time": "2021-06-12T12:16:48.872Z"
   },
   {
    "duration": 5,
    "start_time": "2021-06-12T12:19:52.372Z"
   },
   {
    "duration": 45,
    "start_time": "2021-06-12T12:19:58.157Z"
   },
   {
    "duration": 5,
    "start_time": "2021-06-12T12:20:05.359Z"
   },
   {
    "duration": 42,
    "start_time": "2021-06-12T12:20:09.687Z"
   },
   {
    "duration": 917,
    "start_time": "2021-06-12T12:20:17.502Z"
   },
   {
    "duration": 897,
    "start_time": "2021-06-12T12:20:46.331Z"
   },
   {
    "duration": 928,
    "start_time": "2021-06-12T12:20:53.083Z"
   },
   {
    "duration": 788,
    "start_time": "2021-06-12T12:20:57.882Z"
   },
   {
    "duration": 739,
    "start_time": "2021-06-12T12:21:09.328Z"
   },
   {
    "duration": 750,
    "start_time": "2021-06-12T12:21:13.213Z"
   },
   {
    "duration": 780,
    "start_time": "2021-06-12T12:21:20.817Z"
   },
   {
    "duration": 1072,
    "start_time": "2021-06-12T12:22:52.318Z"
   },
   {
    "duration": 707,
    "start_time": "2021-06-12T12:23:10.724Z"
   },
   {
    "duration": 48,
    "start_time": "2021-06-12T14:22:27.276Z"
   },
   {
    "duration": 10,
    "start_time": "2021-06-12T14:22:29.486Z"
   },
   {
    "duration": 8,
    "start_time": "2021-06-12T14:22:45.580Z"
   },
   {
    "duration": 7,
    "start_time": "2021-06-12T14:23:03.867Z"
   },
   {
    "duration": 1510,
    "start_time": "2021-06-12T14:26:42.817Z"
   },
   {
    "duration": 6,
    "start_time": "2021-06-12T14:26:44.329Z"
   },
   {
    "duration": 6,
    "start_time": "2021-06-12T14:26:44.339Z"
   },
   {
    "duration": 66,
    "start_time": "2021-06-12T14:26:44.348Z"
   },
   {
    "duration": 14,
    "start_time": "2021-06-12T14:26:44.417Z"
   },
   {
    "duration": 13,
    "start_time": "2021-06-12T14:26:44.433Z"
   },
   {
    "duration": 40,
    "start_time": "2021-06-12T14:26:44.449Z"
   },
   {
    "duration": 10,
    "start_time": "2021-06-12T14:26:44.492Z"
   },
   {
    "duration": 35,
    "start_time": "2021-06-12T14:26:44.509Z"
   },
   {
    "duration": 40,
    "start_time": "2021-06-12T14:26:44.549Z"
   },
   {
    "duration": 1821,
    "start_time": "2021-06-12T14:26:44.593Z"
   },
   {
    "duration": 1454,
    "start_time": "2021-06-12T14:26:46.418Z"
   },
   {
    "duration": 1601,
    "start_time": "2021-06-12T14:26:47.875Z"
   },
   {
    "duration": 8,
    "start_time": "2021-06-12T14:26:49.487Z"
   },
   {
    "duration": 16,
    "start_time": "2021-06-12T14:26:49.498Z"
   },
   {
    "duration": 1787,
    "start_time": "2021-06-12T14:26:49.517Z"
   },
   {
    "duration": 10,
    "start_time": "2021-06-12T14:26:51.307Z"
   },
   {
    "duration": 6971,
    "start_time": "2021-06-12T14:26:51.320Z"
   },
   {
    "duration": 5,
    "start_time": "2021-06-12T14:26:58.293Z"
   },
   {
    "duration": 2269,
    "start_time": "2021-06-12T14:26:58.301Z"
   },
   {
    "duration": 14,
    "start_time": "2021-06-12T14:27:00.573Z"
   },
   {
    "duration": 6,
    "start_time": "2021-06-12T14:27:00.590Z"
   },
   {
    "duration": 18,
    "start_time": "2021-06-12T14:27:00.599Z"
   },
   {
    "duration": 35,
    "start_time": "2021-06-12T14:27:00.619Z"
   },
   {
    "duration": 25,
    "start_time": "2021-06-12T14:27:00.657Z"
   },
   {
    "duration": 48,
    "start_time": "2021-06-12T14:27:00.685Z"
   },
   {
    "duration": 21,
    "start_time": "2021-06-12T14:27:00.738Z"
   },
   {
    "duration": 20,
    "start_time": "2021-06-12T14:27:00.762Z"
   },
   {
    "duration": 17,
    "start_time": "2021-06-12T14:27:00.785Z"
   },
   {
    "duration": 86,
    "start_time": "2021-06-12T14:27:00.804Z"
   },
   {
    "duration": 3896,
    "start_time": "2021-06-12T14:27:00.894Z"
   },
   {
    "duration": 46397,
    "start_time": "2021-06-12T14:27:04.792Z"
   },
   {
    "duration": 20,
    "start_time": "2021-06-12T14:27:51.192Z"
   },
   {
    "duration": 11,
    "start_time": "2021-06-12T14:27:51.215Z"
   },
   {
    "duration": 1516,
    "start_time": "2021-06-12T14:27:51.229Z"
   },
   {
    "duration": 1148,
    "start_time": "2021-06-12T14:27:52.748Z"
   },
   {
    "duration": 7,
    "start_time": "2021-06-12T14:27:53.898Z"
   },
   {
    "duration": 9,
    "start_time": "2021-06-12T14:27:53.908Z"
   },
   {
    "duration": 194745,
    "start_time": "2021-06-12T14:27:53.919Z"
   },
   {
    "duration": 19,
    "start_time": "2021-06-12T14:31:08.666Z"
   },
   {
    "duration": 7,
    "start_time": "2021-06-12T14:31:08.688Z"
   },
   {
    "duration": 15,
    "start_time": "2021-06-12T14:31:08.698Z"
   },
   {
    "duration": 89,
    "start_time": "2021-06-12T14:31:08.716Z"
   },
   {
    "duration": 882,
    "start_time": "2021-06-12T14:31:08.807Z"
   },
   {
    "duration": 23,
    "start_time": "2021-06-12T14:31:09.692Z"
   },
   {
    "duration": 688,
    "start_time": "2021-06-12T14:31:09.718Z"
   },
   {
    "duration": 991,
    "start_time": "2021-06-12T14:37:14.726Z"
   },
   {
    "duration": 96,
    "start_time": "2021-06-12T14:37:29.655Z"
   },
   {
    "duration": 1040,
    "start_time": "2021-06-12T14:37:33.036Z"
   },
   {
    "duration": 1154,
    "start_time": "2021-06-12T14:38:01.785Z"
   },
   {
    "duration": 1036,
    "start_time": "2021-06-12T14:38:38.237Z"
   },
   {
    "duration": 1575,
    "start_time": "2021-06-12T14:39:22.561Z"
   },
   {
    "duration": 1121,
    "start_time": "2021-06-12T14:39:26.417Z"
   },
   {
    "duration": 1046,
    "start_time": "2021-06-12T14:40:29.462Z"
   },
   {
    "duration": 1112,
    "start_time": "2021-06-12T14:41:48.842Z"
   },
   {
    "duration": 838,
    "start_time": "2021-06-12T14:44:24.659Z"
   },
   {
    "duration": 833,
    "start_time": "2021-06-12T14:45:33.678Z"
   },
   {
    "duration": 6,
    "start_time": "2021-06-12T14:51:18.136Z"
   },
   {
    "duration": 10960,
    "start_time": "2021-06-12T14:54:10.527Z"
   },
   {
    "duration": 9405,
    "start_time": "2021-06-12T14:54:43.882Z"
   },
   {
    "duration": 35,
    "start_time": "2021-06-12T14:55:11.125Z"
   },
   {
    "duration": 1454,
    "start_time": "2021-06-12T14:55:17.727Z"
   },
   {
    "duration": 5,
    "start_time": "2021-06-12T14:55:19.186Z"
   },
   {
    "duration": 8,
    "start_time": "2021-06-12T14:55:19.194Z"
   },
   {
    "duration": 53,
    "start_time": "2021-06-12T14:55:19.205Z"
   },
   {
    "duration": 14,
    "start_time": "2021-06-12T14:55:19.260Z"
   },
   {
    "duration": 7,
    "start_time": "2021-06-12T14:55:19.285Z"
   },
   {
    "duration": 17,
    "start_time": "2021-06-12T14:55:19.295Z"
   },
   {
    "duration": 8,
    "start_time": "2021-06-12T14:55:19.316Z"
   },
   {
    "duration": 25,
    "start_time": "2021-06-12T14:55:19.326Z"
   },
   {
    "duration": 13,
    "start_time": "2021-06-12T14:55:19.387Z"
   },
   {
    "duration": 1112,
    "start_time": "2021-06-12T14:55:19.403Z"
   },
   {
    "duration": 827,
    "start_time": "2021-06-12T14:55:20.518Z"
   },
   {
    "duration": 885,
    "start_time": "2021-06-12T14:55:21.348Z"
   },
   {
    "duration": 5,
    "start_time": "2021-06-12T14:55:22.236Z"
   },
   {
    "duration": 5,
    "start_time": "2021-06-12T14:55:22.244Z"
   },
   {
    "duration": 1076,
    "start_time": "2021-06-12T14:55:22.252Z"
   },
   {
    "duration": 7,
    "start_time": "2021-06-12T14:55:23.331Z"
   },
   {
    "duration": 10348,
    "start_time": "2021-06-12T14:55:23.340Z"
   },
   {
    "duration": 95,
    "start_time": "2021-06-12T14:55:33.692Z"
   },
   {
    "duration": 2288,
    "start_time": "2021-06-12T14:55:33.789Z"
   },
   {
    "duration": 3,
    "start_time": "2021-06-12T14:55:36.085Z"
   },
   {
    "duration": 14,
    "start_time": "2021-06-12T14:55:36.090Z"
   },
   {
    "duration": 9,
    "start_time": "2021-06-12T14:55:36.109Z"
   },
   {
    "duration": 39,
    "start_time": "2021-06-12T14:55:36.121Z"
   },
   {
    "duration": 29,
    "start_time": "2021-06-12T14:55:36.163Z"
   },
   {
    "duration": 41,
    "start_time": "2021-06-12T14:55:36.195Z"
   },
   {
    "duration": 14,
    "start_time": "2021-06-12T14:55:36.239Z"
   },
   {
    "duration": 34,
    "start_time": "2021-06-12T14:55:36.255Z"
   },
   {
    "duration": 10,
    "start_time": "2021-06-12T14:55:36.292Z"
   },
   {
    "duration": 185,
    "start_time": "2021-06-12T14:55:36.305Z"
   },
   {
    "duration": 12493,
    "start_time": "2021-06-12T14:55:36.493Z"
   },
   {
    "duration": 73599,
    "start_time": "2021-06-12T14:55:48.988Z"
   },
   {
    "duration": 22,
    "start_time": "2021-06-12T14:57:02.589Z"
   },
   {
    "duration": 20,
    "start_time": "2021-06-12T14:57:02.614Z"
   },
   {
    "duration": 73621,
    "start_time": "2021-06-12T14:57:02.637Z"
   },
   {
    "duration": 1071,
    "start_time": "2021-06-12T14:58:16.261Z"
   },
   {
    "duration": 6,
    "start_time": "2021-06-12T14:58:17.334Z"
   },
   {
    "duration": 8,
    "start_time": "2021-06-12T14:58:17.343Z"
   },
   {
    "duration": 135796,
    "start_time": "2021-06-12T14:58:17.354Z"
   },
   {
    "duration": -329,
    "start_time": "2021-06-12T15:00:33.482Z"
   },
   {
    "duration": -331,
    "start_time": "2021-06-12T15:00:33.485Z"
   },
   {
    "duration": -331,
    "start_time": "2021-06-12T15:00:33.487Z"
   },
   {
    "duration": -332,
    "start_time": "2021-06-12T15:00:33.489Z"
   },
   {
    "duration": -332,
    "start_time": "2021-06-12T15:00:33.491Z"
   },
   {
    "duration": -333,
    "start_time": "2021-06-12T15:00:33.493Z"
   },
   {
    "duration": -332,
    "start_time": "2021-06-12T15:00:33.494Z"
   },
   {
    "duration": -331,
    "start_time": "2021-06-12T15:00:33.495Z"
   },
   {
    "duration": 1434,
    "start_time": "2021-06-12T15:00:38.136Z"
   },
   {
    "duration": 5,
    "start_time": "2021-06-12T15:00:39.573Z"
   },
   {
    "duration": 4,
    "start_time": "2021-06-12T15:00:39.590Z"
   },
   {
    "duration": 55,
    "start_time": "2021-06-12T15:00:39.596Z"
   },
   {
    "duration": 13,
    "start_time": "2021-06-12T15:00:39.653Z"
   },
   {
    "duration": 21,
    "start_time": "2021-06-12T15:00:39.669Z"
   },
   {
    "duration": 15,
    "start_time": "2021-06-12T15:00:39.694Z"
   },
   {
    "duration": 8,
    "start_time": "2021-06-12T15:00:39.712Z"
   },
   {
    "duration": 62,
    "start_time": "2021-06-12T15:00:39.723Z"
   },
   {
    "duration": 11,
    "start_time": "2021-06-12T15:00:39.788Z"
   },
   {
    "duration": 1213,
    "start_time": "2021-06-12T15:00:39.801Z"
   },
   {
    "duration": 955,
    "start_time": "2021-06-12T15:00:41.017Z"
   },
   {
    "duration": 938,
    "start_time": "2021-06-12T15:00:41.975Z"
   },
   {
    "duration": 6,
    "start_time": "2021-06-12T15:00:42.916Z"
   },
   {
    "duration": 9,
    "start_time": "2021-06-12T15:00:42.924Z"
   },
   {
    "duration": 1081,
    "start_time": "2021-06-12T15:00:42.935Z"
   },
   {
    "duration": 7,
    "start_time": "2021-06-12T15:00:44.019Z"
   },
   {
    "duration": 9871,
    "start_time": "2021-06-12T15:00:44.028Z"
   },
   {
    "duration": 7,
    "start_time": "2021-06-12T15:00:53.986Z"
   },
   {
    "duration": 2394,
    "start_time": "2021-06-12T15:00:53.996Z"
   },
   {
    "duration": 4,
    "start_time": "2021-06-12T15:00:56.392Z"
   },
   {
    "duration": 9,
    "start_time": "2021-06-12T15:00:56.401Z"
   },
   {
    "duration": 19,
    "start_time": "2021-06-12T15:00:56.413Z"
   },
   {
    "duration": 16,
    "start_time": "2021-06-12T15:00:56.435Z"
   },
   {
    "duration": 36,
    "start_time": "2021-06-12T15:00:56.453Z"
   },
   {
    "duration": 20,
    "start_time": "2021-06-12T15:00:56.492Z"
   },
   {
    "duration": 14,
    "start_time": "2021-06-12T15:00:56.515Z"
   },
   {
    "duration": 5,
    "start_time": "2021-06-12T15:00:56.532Z"
   },
   {
    "duration": 46,
    "start_time": "2021-06-12T15:00:56.540Z"
   },
   {
    "duration": 197,
    "start_time": "2021-06-12T15:00:56.588Z"
   },
   {
    "duration": 3204,
    "start_time": "2021-06-12T15:00:56.788Z"
   },
   {
    "duration": 39708,
    "start_time": "2021-06-12T15:00:59.996Z"
   },
   {
    "duration": 22,
    "start_time": "2021-06-12T15:01:39.706Z"
   },
   {
    "duration": 68,
    "start_time": "2021-06-12T15:01:39.731Z"
   },
   {
    "duration": 78705,
    "start_time": "2021-06-12T15:01:39.801Z"
   },
   {
    "duration": 1107,
    "start_time": "2021-06-12T15:02:58.508Z"
   },
   {
    "duration": 6,
    "start_time": "2021-06-12T15:02:59.617Z"
   },
   {
    "duration": 18,
    "start_time": "2021-06-12T15:02:59.625Z"
   },
   {
    "duration": 195226,
    "start_time": "2021-06-12T15:02:59.645Z"
   },
   {
    "duration": 15,
    "start_time": "2021-06-12T15:06:14.875Z"
   },
   {
    "duration": 8,
    "start_time": "2021-06-12T15:06:14.892Z"
   },
   {
    "duration": 7,
    "start_time": "2021-06-12T15:06:14.902Z"
   },
   {
    "duration": 100,
    "start_time": "2021-06-12T15:06:14.912Z"
   },
   {
    "duration": 895,
    "start_time": "2021-06-12T15:06:15.015Z"
   },
   {
    "duration": 24,
    "start_time": "2021-06-12T15:06:15.913Z"
   },
   {
    "duration": 705,
    "start_time": "2021-06-12T15:06:15.939Z"
   },
   {
    "duration": 8,
    "start_time": "2021-06-12T15:06:16.648Z"
   },
   {
    "duration": 24,
    "start_time": "2021-06-12T15:16:11.719Z"
   },
   {
    "duration": 23,
    "start_time": "2021-06-12T15:16:40.253Z"
   },
   {
    "duration": 409,
    "start_time": "2021-06-12T15:20:10.352Z"
   },
   {
    "duration": 24574,
    "start_time": "2021-06-12T15:20:52.015Z"
   },
   {
    "duration": 44061,
    "start_time": "2021-06-12T15:22:01.029Z"
   },
   {
    "duration": 30867,
    "start_time": "2021-06-12T15:23:09.927Z"
   },
   {
    "duration": 1508,
    "start_time": "2021-06-12T15:29:03.082Z"
   },
   {
    "duration": 4,
    "start_time": "2021-06-12T15:29:04.593Z"
   },
   {
    "duration": 7,
    "start_time": "2021-06-12T15:29:04.601Z"
   },
   {
    "duration": 54,
    "start_time": "2021-06-12T15:29:04.611Z"
   },
   {
    "duration": 20,
    "start_time": "2021-06-12T15:29:04.667Z"
   },
   {
    "duration": 8,
    "start_time": "2021-06-12T15:29:04.689Z"
   },
   {
    "duration": 14,
    "start_time": "2021-06-12T15:29:04.700Z"
   },
   {
    "duration": 8,
    "start_time": "2021-06-12T15:29:04.716Z"
   },
   {
    "duration": 66,
    "start_time": "2021-06-12T15:29:04.729Z"
   },
   {
    "duration": 11,
    "start_time": "2021-06-12T15:29:04.798Z"
   },
   {
    "duration": 1081,
    "start_time": "2021-06-12T15:29:04.811Z"
   },
   {
    "duration": 881,
    "start_time": "2021-06-12T15:29:05.895Z"
   },
   {
    "duration": 920,
    "start_time": "2021-06-12T15:29:06.779Z"
   },
   {
    "duration": 6,
    "start_time": "2021-06-12T15:29:07.702Z"
   },
   {
    "duration": 6,
    "start_time": "2021-06-12T15:29:07.711Z"
   },
   {
    "duration": 1082,
    "start_time": "2021-06-12T15:29:07.720Z"
   },
   {
    "duration": 7,
    "start_time": "2021-06-12T15:29:08.805Z"
   },
   {
    "duration": 9775,
    "start_time": "2021-06-12T15:29:08.815Z"
   },
   {
    "duration": 5,
    "start_time": "2021-06-12T15:29:18.592Z"
   },
   {
    "duration": 2250,
    "start_time": "2021-06-12T15:29:18.600Z"
   },
   {
    "duration": 4,
    "start_time": "2021-06-12T15:29:20.852Z"
   },
   {
    "duration": 27,
    "start_time": "2021-06-12T15:29:20.858Z"
   },
   {
    "duration": 18,
    "start_time": "2021-06-12T15:29:20.887Z"
   },
   {
    "duration": 16,
    "start_time": "2021-06-12T15:29:20.908Z"
   },
   {
    "duration": 13,
    "start_time": "2021-06-12T15:29:20.927Z"
   },
   {
    "duration": 21,
    "start_time": "2021-06-12T15:29:20.942Z"
   },
   {
    "duration": 12,
    "start_time": "2021-06-12T15:29:20.985Z"
   },
   {
    "duration": 13,
    "start_time": "2021-06-12T15:29:20.999Z"
   },
   {
    "duration": 9,
    "start_time": "2021-06-12T15:29:21.014Z"
   },
   {
    "duration": 67,
    "start_time": "2021-06-12T15:29:21.025Z"
   },
   {
    "duration": 3518,
    "start_time": "2021-06-12T15:29:21.095Z"
   },
   {
    "duration": 30086,
    "start_time": "2021-06-12T15:29:24.615Z"
   },
   {
    "duration": 23,
    "start_time": "2021-06-12T15:29:54.704Z"
   },
   {
    "duration": 62,
    "start_time": "2021-06-12T15:29:54.730Z"
   },
   {
    "duration": 75337,
    "start_time": "2021-06-12T15:29:54.795Z"
   },
   {
    "duration": 1122,
    "start_time": "2021-06-12T15:31:10.134Z"
   },
   {
    "duration": 7,
    "start_time": "2021-06-12T15:31:11.258Z"
   },
   {
    "duration": 25,
    "start_time": "2021-06-12T15:31:11.268Z"
   },
   {
    "duration": 221157,
    "start_time": "2021-06-12T15:31:11.296Z"
   },
   {
    "duration": 7,
    "start_time": "2021-06-12T15:34:52.455Z"
   },
   {
    "duration": 8,
    "start_time": "2021-06-12T15:34:52.464Z"
   },
   {
    "duration": 40,
    "start_time": "2021-06-12T15:34:52.486Z"
   },
   {
    "duration": 870,
    "start_time": "2021-06-12T15:34:52.529Z"
   },
   {
    "duration": 24,
    "start_time": "2021-06-12T15:34:53.401Z"
   },
   {
    "duration": 787,
    "start_time": "2021-06-12T15:34:53.427Z"
   },
   {
    "duration": 4,
    "start_time": "2021-06-12T15:34:54.217Z"
   },
   {
    "duration": 73329,
    "start_time": "2021-06-12T15:34:54.223Z"
   },
   {
    "duration": 703,
    "start_time": "2021-06-12T15:37:00.887Z"
   },
   {
    "duration": 7,
    "start_time": "2021-06-12T15:43:36.994Z"
   },
   {
    "duration": 1089,
    "start_time": "2021-06-12T15:44:20.373Z"
   },
   {
    "duration": 441,
    "start_time": "2021-06-12T15:49:47.410Z"
   },
   {
    "duration": 8,
    "start_time": "2021-06-12T15:49:52.668Z"
   },
   {
    "duration": 1377,
    "start_time": "2021-06-12T15:49:54.913Z"
   },
   {
    "duration": 1339,
    "start_time": "2021-06-12T15:50:23.940Z"
   },
   {
    "duration": 1279,
    "start_time": "2021-06-12T15:50:56.009Z"
   },
   {
    "duration": 1432,
    "start_time": "2021-06-12T15:51:05.896Z"
   },
   {
    "duration": 1405,
    "start_time": "2021-06-12T15:51:15.645Z"
   },
   {
    "duration": 88673,
    "start_time": "2021-06-12T15:53:26.762Z"
   },
   {
    "duration": 1087,
    "start_time": "2021-06-12T15:55:15.122Z"
   },
   {
    "duration": 8,
    "start_time": "2021-06-12T15:55:26.476Z"
   },
   {
    "duration": 192489,
    "start_time": "2021-06-12T15:55:29.820Z"
   },
   {
    "duration": 6,
    "start_time": "2021-06-12T15:59:09.407Z"
   },
   {
    "duration": 1357,
    "start_time": "2021-06-12T16:00:17.592Z"
   },
   {
    "duration": 7,
    "start_time": "2021-06-12T16:05:08.449Z"
   },
   {
    "duration": 13,
    "start_time": "2021-06-12T16:05:37.070Z"
   },
   {
    "duration": 177961,
    "start_time": "2021-06-12T16:06:12.246Z"
   },
   {
    "duration": 80243,
    "start_time": "2021-06-12T16:11:20.213Z"
   },
   {
    "duration": 7,
    "start_time": "2021-06-12T16:18:05.609Z"
   },
   {
    "duration": 7,
    "start_time": "2021-06-12T16:18:17.040Z"
   },
   {
    "duration": 81799,
    "start_time": "2021-06-12T16:18:37.555Z"
   },
   {
    "duration": 6,
    "start_time": "2021-06-12T16:20:42.910Z"
   },
   {
    "duration": 1133,
    "start_time": "2021-06-12T16:20:44.965Z"
   },
   {
    "duration": 9,
    "start_time": "2021-06-12T16:20:57.611Z"
   },
   {
    "duration": 202704,
    "start_time": "2021-06-12T16:21:15.174Z"
   },
   {
    "duration": 7,
    "start_time": "2021-06-12T16:25:41.563Z"
   },
   {
    "duration": 136,
    "start_time": "2021-06-12T16:25:58.877Z"
   },
   {
    "duration": 829,
    "start_time": "2021-06-12T16:26:02.038Z"
   },
   {
    "duration": 24,
    "start_time": "2021-06-12T16:26:14.442Z"
   },
   {
    "duration": 776,
    "start_time": "2021-06-12T16:26:19.189Z"
   },
   {
    "duration": 87115,
    "start_time": "2021-06-12T16:27:00.507Z"
   },
   {
    "duration": 45079,
    "start_time": "2021-06-12T16:29:02.977Z"
   },
   {
    "duration": 7,
    "start_time": "2021-06-12T16:29:48.059Z"
   },
   {
    "duration": 1078,
    "start_time": "2021-06-12T16:29:48.070Z"
   },
   {
    "duration": 8,
    "start_time": "2021-06-12T16:29:49.151Z"
   },
   {
    "duration": 38,
    "start_time": "2021-06-12T16:29:49.161Z"
   },
   {
    "duration": 196507,
    "start_time": "2021-06-12T16:29:49.201Z"
   },
   {
    "duration": 4,
    "start_time": "2021-06-12T16:33:05.710Z"
   },
   {
    "duration": 91,
    "start_time": "2021-06-12T16:33:05.717Z"
   },
   {
    "duration": 889,
    "start_time": "2021-06-12T16:33:05.813Z"
   },
   {
    "duration": 24,
    "start_time": "2021-06-12T16:33:06.705Z"
   },
   {
    "duration": 705,
    "start_time": "2021-06-12T16:33:06.732Z"
   },
   {
    "duration": 5,
    "start_time": "2021-06-12T16:33:34.239Z"
   },
   {
    "duration": 43,
    "start_time": "2021-06-12T16:33:56.195Z"
   },
   {
    "duration": 841,
    "start_time": "2021-06-12T16:33:57.795Z"
   },
   {
    "duration": 22,
    "start_time": "2021-06-12T16:34:02.415Z"
   },
   {
    "duration": 692,
    "start_time": "2021-06-12T16:34:05.115Z"
   },
   {
    "duration": 722,
    "start_time": "2021-06-13T05:49:23.549Z"
   },
   {
    "duration": 884,
    "start_time": "2021-06-13T05:49:37.846Z"
   },
   {
    "duration": 761,
    "start_time": "2021-06-13T05:50:28.143Z"
   },
   {
    "duration": 73641,
    "start_time": "2021-06-13T05:58:51.226Z"
   },
   {
    "duration": 1171,
    "start_time": "2021-06-13T06:01:22.897Z"
   },
   {
    "duration": 1107,
    "start_time": "2021-06-13T06:03:29.783Z"
   },
   {
    "duration": 967,
    "start_time": "2021-06-13T06:04:57.458Z"
   },
   {
    "duration": 41,
    "start_time": "2021-06-13T06:05:32.698Z"
   },
   {
    "duration": 1049,
    "start_time": "2021-06-13T06:05:38.430Z"
   },
   {
    "duration": 903,
    "start_time": "2021-06-13T06:05:43.996Z"
   },
   {
    "duration": 811,
    "start_time": "2021-06-13T06:06:04.659Z"
   },
   {
    "duration": 772,
    "start_time": "2021-06-13T06:07:16.284Z"
   },
   {
    "duration": 769,
    "start_time": "2021-06-13T06:07:28.854Z"
   },
   {
    "duration": 811,
    "start_time": "2021-06-13T06:08:31.675Z"
   },
   {
    "duration": 105,
    "start_time": "2021-06-13T06:08:45.084Z"
   },
   {
    "duration": 831,
    "start_time": "2021-06-13T06:08:58.959Z"
   },
   {
    "duration": 831,
    "start_time": "2021-06-13T06:09:09.685Z"
   },
   {
    "duration": 103,
    "start_time": "2021-06-13T06:09:38.296Z"
   },
   {
    "duration": 776,
    "start_time": "2021-06-13T06:09:47.979Z"
   },
   {
    "duration": 24,
    "start_time": "2021-06-13T06:10:09.475Z"
   },
   {
    "duration": 440,
    "start_time": "2021-06-13T06:11:53.125Z"
   },
   {
    "duration": 485,
    "start_time": "2021-06-13T06:12:19.391Z"
   },
   {
    "duration": 416,
    "start_time": "2021-06-13T06:12:45.956Z"
   },
   {
    "duration": 406,
    "start_time": "2021-06-13T06:12:55.165Z"
   },
   {
    "duration": 407,
    "start_time": "2021-06-13T06:12:59.979Z"
   },
   {
    "duration": 444,
    "start_time": "2021-06-13T06:13:22.992Z"
   },
   {
    "duration": 430,
    "start_time": "2021-06-13T06:13:30.970Z"
   },
   {
    "duration": 417,
    "start_time": "2021-06-13T06:13:35.411Z"
   },
   {
    "duration": 694,
    "start_time": "2021-06-13T06:14:06.430Z"
   },
   {
    "duration": 440,
    "start_time": "2021-06-13T06:16:01.212Z"
   },
   {
    "duration": 454,
    "start_time": "2021-06-13T06:16:11.067Z"
   },
   {
    "duration": 100,
    "start_time": "2021-06-13T06:17:03.357Z"
   },
   {
    "duration": 722,
    "start_time": "2021-06-13T06:17:16.648Z"
   },
   {
    "duration": 546,
    "start_time": "2021-06-13T06:18:32.592Z"
   },
   {
    "duration": 457,
    "start_time": "2021-06-13T06:18:51.837Z"
   },
   {
    "duration": 445,
    "start_time": "2021-06-13T06:19:39.103Z"
   },
   {
    "duration": 15,
    "start_time": "2021-06-13T06:20:35.059Z"
   },
   {
    "duration": 467,
    "start_time": "2021-06-13T06:20:38.398Z"
   },
   {
    "duration": 7373,
    "start_time": "2021-06-13T06:21:47.939Z"
   },
   {
    "duration": 716,
    "start_time": "2021-06-13T06:22:10.139Z"
   },
   {
    "duration": 796,
    "start_time": "2021-06-13T06:22:21.734Z"
   },
   {
    "duration": 887,
    "start_time": "2021-06-13T06:22:53.504Z"
   },
   {
    "duration": 718,
    "start_time": "2021-06-13T06:26:24.667Z"
   },
   {
    "duration": 449,
    "start_time": "2021-06-13T06:26:34.471Z"
   },
   {
    "duration": 1554,
    "start_time": "2021-06-13T06:27:10.308Z"
   },
   {
    "duration": 5,
    "start_time": "2021-06-13T06:27:11.865Z"
   },
   {
    "duration": 4,
    "start_time": "2021-06-13T06:27:11.886Z"
   },
   {
    "duration": 51,
    "start_time": "2021-06-13T06:27:11.893Z"
   },
   {
    "duration": 13,
    "start_time": "2021-06-13T06:27:11.947Z"
   },
   {
    "duration": 27,
    "start_time": "2021-06-13T06:27:11.962Z"
   },
   {
    "duration": 14,
    "start_time": "2021-06-13T06:27:11.993Z"
   },
   {
    "duration": 8,
    "start_time": "2021-06-13T06:27:12.010Z"
   },
   {
    "duration": 25,
    "start_time": "2021-06-13T06:27:12.021Z"
   },
   {
    "duration": 47,
    "start_time": "2021-06-13T06:27:12.048Z"
   },
   {
    "duration": 1113,
    "start_time": "2021-06-13T06:27:12.098Z"
   },
   {
    "duration": 891,
    "start_time": "2021-06-13T06:27:13.213Z"
   },
   {
    "duration": 1005,
    "start_time": "2021-06-13T06:27:14.107Z"
   },
   {
    "duration": 7,
    "start_time": "2021-06-13T06:27:15.115Z"
   },
   {
    "duration": 18,
    "start_time": "2021-06-13T06:27:15.125Z"
   },
   {
    "duration": 1101,
    "start_time": "2021-06-13T06:27:15.146Z"
   },
   {
    "duration": 8,
    "start_time": "2021-06-13T06:27:16.249Z"
   },
   {
    "duration": 9834,
    "start_time": "2021-06-13T06:27:16.259Z"
   },
   {
    "duration": 5,
    "start_time": "2021-06-13T06:27:26.096Z"
   },
   {
    "duration": 2246,
    "start_time": "2021-06-13T06:27:26.185Z"
   },
   {
    "duration": 3,
    "start_time": "2021-06-13T06:27:28.433Z"
   },
   {
    "duration": 11,
    "start_time": "2021-06-13T06:27:28.442Z"
   },
   {
    "duration": 29,
    "start_time": "2021-06-13T06:27:28.456Z"
   },
   {
    "duration": 11,
    "start_time": "2021-06-13T06:27:28.487Z"
   },
   {
    "duration": 16,
    "start_time": "2021-06-13T06:27:28.501Z"
   },
   {
    "duration": 22,
    "start_time": "2021-06-13T06:27:28.520Z"
   },
   {
    "duration": 45,
    "start_time": "2021-06-13T06:27:28.544Z"
   },
   {
    "duration": 7,
    "start_time": "2021-06-13T06:27:28.592Z"
   },
   {
    "duration": 9,
    "start_time": "2021-06-13T06:27:28.601Z"
   },
   {
    "duration": 80,
    "start_time": "2021-06-13T06:27:28.612Z"
   },
   {
    "duration": 3321,
    "start_time": "2021-06-13T06:27:28.786Z"
   },
   {
    "duration": 40086,
    "start_time": "2021-06-13T06:27:32.111Z"
   },
   {
    "duration": 94,
    "start_time": "2021-06-13T06:28:12.200Z"
   },
   {
    "duration": 11,
    "start_time": "2021-06-13T06:28:12.297Z"
   },
   {
    "duration": 73855,
    "start_time": "2021-06-13T06:28:12.311Z"
   },
   {
    "duration": 6,
    "start_time": "2021-06-13T06:29:26.168Z"
   },
   {
    "duration": 580,
    "start_time": "2021-06-13T06:29:26.187Z"
   },
   {
    "duration": -1630,
    "start_time": "2021-06-13T06:29:28.401Z"
   },
   {
    "duration": -1634,
    "start_time": "2021-06-13T06:29:28.406Z"
   },
   {
    "duration": -1633,
    "start_time": "2021-06-13T06:29:28.407Z"
   },
   {
    "duration": -1633,
    "start_time": "2021-06-13T06:29:28.409Z"
   },
   {
    "duration": -1633,
    "start_time": "2021-06-13T06:29:28.410Z"
   },
   {
    "duration": -1633,
    "start_time": "2021-06-13T06:29:28.412Z"
   },
   {
    "duration": -1634,
    "start_time": "2021-06-13T06:29:28.414Z"
   },
   {
    "duration": -1634,
    "start_time": "2021-06-13T06:29:28.416Z"
   },
   {
    "duration": -1634,
    "start_time": "2021-06-13T06:29:28.417Z"
   },
   {
    "duration": -1634,
    "start_time": "2021-06-13T06:29:28.418Z"
   },
   {
    "duration": 1547,
    "start_time": "2021-06-13T06:41:55.824Z"
   },
   {
    "duration": 5,
    "start_time": "2021-06-13T06:41:57.373Z"
   },
   {
    "duration": 4,
    "start_time": "2021-06-13T06:41:57.385Z"
   },
   {
    "duration": 55,
    "start_time": "2021-06-13T06:41:57.392Z"
   },
   {
    "duration": 13,
    "start_time": "2021-06-13T06:41:57.449Z"
   },
   {
    "duration": 29,
    "start_time": "2021-06-13T06:41:57.464Z"
   },
   {
    "duration": 16,
    "start_time": "2021-06-13T06:41:57.495Z"
   },
   {
    "duration": 9,
    "start_time": "2021-06-13T06:41:57.513Z"
   },
   {
    "duration": 27,
    "start_time": "2021-06-13T06:41:57.526Z"
   },
   {
    "duration": 30,
    "start_time": "2021-06-13T06:41:57.556Z"
   },
   {
    "duration": 1090,
    "start_time": "2021-06-13T06:41:57.588Z"
   },
   {
    "duration": 870,
    "start_time": "2021-06-13T06:41:58.686Z"
   },
   {
    "duration": 944,
    "start_time": "2021-06-13T06:41:59.559Z"
   },
   {
    "duration": 6,
    "start_time": "2021-06-13T06:42:00.505Z"
   },
   {
    "duration": 22,
    "start_time": "2021-06-13T06:42:00.514Z"
   },
   {
    "duration": 1148,
    "start_time": "2021-06-13T06:42:00.539Z"
   },
   {
    "duration": 8,
    "start_time": "2021-06-13T06:42:01.689Z"
   },
   {
    "duration": 9988,
    "start_time": "2021-06-13T06:42:01.700Z"
   },
   {
    "duration": 5,
    "start_time": "2021-06-13T06:42:11.691Z"
   },
   {
    "duration": 2297,
    "start_time": "2021-06-13T06:42:11.699Z"
   },
   {
    "duration": 4,
    "start_time": "2021-06-13T06:42:13.999Z"
   },
   {
    "duration": 8,
    "start_time": "2021-06-13T06:42:14.006Z"
   },
   {
    "duration": 13,
    "start_time": "2021-06-13T06:42:14.017Z"
   },
   {
    "duration": 11,
    "start_time": "2021-06-13T06:42:14.032Z"
   },
   {
    "duration": 44,
    "start_time": "2021-06-13T06:42:14.045Z"
   },
   {
    "duration": 23,
    "start_time": "2021-06-13T06:42:14.091Z"
   },
   {
    "duration": 13,
    "start_time": "2021-06-13T06:42:14.119Z"
   },
   {
    "duration": 4,
    "start_time": "2021-06-13T06:42:14.135Z"
   },
   {
    "duration": 44,
    "start_time": "2021-06-13T06:42:14.142Z"
   },
   {
    "duration": 99,
    "start_time": "2021-06-13T06:42:14.188Z"
   },
   {
    "duration": 2721,
    "start_time": "2021-06-13T06:42:14.290Z"
   },
   {
    "duration": 34797,
    "start_time": "2021-06-13T06:42:17.089Z"
   },
   {
    "duration": 20,
    "start_time": "2021-06-13T06:42:51.889Z"
   },
   {
    "duration": 12,
    "start_time": "2021-06-13T06:42:51.911Z"
   },
   {
    "duration": 73351,
    "start_time": "2021-06-13T06:42:51.926Z"
   },
   {
    "duration": 11,
    "start_time": "2021-06-13T06:44:05.280Z"
   },
   {
    "duration": 1159,
    "start_time": "2021-06-13T06:44:05.294Z"
   },
   {
    "duration": 7,
    "start_time": "2021-06-13T06:44:06.455Z"
   },
   {
    "duration": 6,
    "start_time": "2021-06-13T06:44:06.464Z"
   },
   {
    "duration": 7,
    "start_time": "2021-06-13T06:44:06.485Z"
   },
   {
    "duration": 189447,
    "start_time": "2021-06-13T06:44:06.494Z"
   },
   {
    "duration": 5,
    "start_time": "2021-06-13T06:47:15.943Z"
   },
   {
    "duration": 64,
    "start_time": "2021-06-13T06:47:15.950Z"
   },
   {
    "duration": 471,
    "start_time": "2021-06-13T06:47:16.016Z"
   },
   {
    "duration": -1639,
    "start_time": "2021-06-13T06:47:18.129Z"
   },
   {
    "duration": -1640,
    "start_time": "2021-06-13T06:47:18.131Z"
   },
   {
    "duration": -1653,
    "start_time": "2021-06-13T06:47:18.145Z"
   },
   {
    "duration": 19,
    "start_time": "2021-06-13T06:50:09.633Z"
   },
   {
    "duration": 501,
    "start_time": "2021-06-13T06:50:12.643Z"
   },
   {
    "duration": 462,
    "start_time": "2021-06-13T06:50:21.780Z"
   },
   {
    "duration": 602,
    "start_time": "2021-06-13T06:50:26.713Z"
   },
   {
    "duration": 507,
    "start_time": "2021-06-13T06:50:31.227Z"
   },
   {
    "duration": 492,
    "start_time": "2021-06-13T06:50:39.657Z"
   },
   {
    "duration": 464,
    "start_time": "2021-06-13T06:50:43.797Z"
   },
   {
    "duration": 470,
    "start_time": "2021-06-13T06:51:10.079Z"
   },
   {
    "duration": 707,
    "start_time": "2021-06-13T06:51:41.532Z"
   },
   {
    "duration": 547,
    "start_time": "2021-06-13T06:51:46.528Z"
   },
   {
    "duration": 1476,
    "start_time": "2021-06-13T06:57:39.219Z"
   },
   {
    "duration": 5,
    "start_time": "2021-06-13T06:57:40.698Z"
   },
   {
    "duration": 14,
    "start_time": "2021-06-13T06:57:40.706Z"
   },
   {
    "duration": 50,
    "start_time": "2021-06-13T06:57:40.723Z"
   },
   {
    "duration": 16,
    "start_time": "2021-06-13T06:57:40.775Z"
   },
   {
    "duration": 7,
    "start_time": "2021-06-13T06:57:40.794Z"
   },
   {
    "duration": 18,
    "start_time": "2021-06-13T06:57:40.803Z"
   },
   {
    "duration": 7,
    "start_time": "2021-06-13T06:57:40.824Z"
   },
   {
    "duration": 56,
    "start_time": "2021-06-13T06:57:40.835Z"
   },
   {
    "duration": 10,
    "start_time": "2021-06-13T06:57:40.894Z"
   },
   {
    "duration": 1055,
    "start_time": "2021-06-13T06:57:40.907Z"
   },
   {
    "duration": 829,
    "start_time": "2021-06-13T06:57:41.965Z"
   },
   {
    "duration": 922,
    "start_time": "2021-06-13T06:57:42.798Z"
   },
   {
    "duration": 6,
    "start_time": "2021-06-13T06:57:43.723Z"
   },
   {
    "duration": 7,
    "start_time": "2021-06-13T06:57:43.732Z"
   },
   {
    "duration": 1133,
    "start_time": "2021-06-13T06:57:43.742Z"
   },
   {
    "duration": 8,
    "start_time": "2021-06-13T06:57:44.885Z"
   },
   {
    "duration": 10193,
    "start_time": "2021-06-13T06:57:44.895Z"
   },
   {
    "duration": 5,
    "start_time": "2021-06-13T06:57:55.090Z"
   },
   {
    "duration": 2463,
    "start_time": "2021-06-13T06:57:55.097Z"
   },
   {
    "duration": 4,
    "start_time": "2021-06-13T06:57:57.562Z"
   },
   {
    "duration": 30,
    "start_time": "2021-06-13T06:57:57.568Z"
   },
   {
    "duration": 11,
    "start_time": "2021-06-13T06:57:57.600Z"
   },
   {
    "duration": 16,
    "start_time": "2021-06-13T06:57:57.613Z"
   },
   {
    "duration": 12,
    "start_time": "2021-06-13T06:57:57.631Z"
   },
   {
    "duration": 23,
    "start_time": "2021-06-13T06:57:57.645Z"
   },
   {
    "duration": 12,
    "start_time": "2021-06-13T06:57:57.689Z"
   },
   {
    "duration": 7,
    "start_time": "2021-06-13T06:57:57.703Z"
   },
   {
    "duration": 15,
    "start_time": "2021-06-13T06:57:57.712Z"
   },
   {
    "duration": 154,
    "start_time": "2021-06-13T06:57:57.730Z"
   },
   {
    "duration": 2420,
    "start_time": "2021-06-13T06:57:57.888Z"
   },
   {
    "duration": 33278,
    "start_time": "2021-06-13T06:58:00.311Z"
   },
   {
    "duration": 21,
    "start_time": "2021-06-13T06:58:33.593Z"
   },
   {
    "duration": 13,
    "start_time": "2021-06-13T06:58:33.617Z"
   },
   {
    "duration": 74513,
    "start_time": "2021-06-13T06:58:33.633Z"
   },
   {
    "duration": 6,
    "start_time": "2021-06-13T06:59:48.149Z"
   },
   {
    "duration": 1130,
    "start_time": "2021-06-13T06:59:48.158Z"
   },
   {
    "duration": 6,
    "start_time": "2021-06-13T06:59:49.291Z"
   },
   {
    "duration": 6,
    "start_time": "2021-06-13T06:59:49.300Z"
   },
   {
    "duration": 10,
    "start_time": "2021-06-13T06:59:49.308Z"
   },
   {
    "duration": 221842,
    "start_time": "2021-06-13T06:59:49.320Z"
   },
   {
    "duration": 6,
    "start_time": "2021-06-13T07:03:31.165Z"
   },
   {
    "duration": 127,
    "start_time": "2021-06-13T07:03:31.174Z"
   },
   {
    "duration": 18,
    "start_time": "2021-06-13T07:03:31.304Z"
   },
   {
    "duration": 508,
    "start_time": "2021-06-13T07:03:31.326Z"
   },
   {
    "duration": 841,
    "start_time": "2021-06-13T07:03:31.836Z"
   },
   {
    "duration": 725,
    "start_time": "2021-06-13T07:03:32.680Z"
   },
   {
    "duration": 1267,
    "start_time": "2021-06-13T08:50:25.159Z"
   },
   {
    "duration": 4,
    "start_time": "2021-06-13T08:50:26.427Z"
   },
   {
    "duration": 8,
    "start_time": "2021-06-13T08:50:26.433Z"
   },
   {
    "duration": 40,
    "start_time": "2021-06-13T08:50:28.100Z"
   },
   {
    "duration": 13,
    "start_time": "2021-06-13T08:50:29.013Z"
   },
   {
    "duration": 5,
    "start_time": "2021-06-13T08:50:33.500Z"
   },
   {
    "duration": 10,
    "start_time": "2021-06-13T08:50:34.665Z"
   },
   {
    "duration": 10,
    "start_time": "2021-06-13T08:50:35.204Z"
   },
   {
    "duration": 16,
    "start_time": "2021-06-13T08:51:11.158Z"
   },
   {
    "duration": 9,
    "start_time": "2021-06-13T08:51:22.348Z"
   },
   {
    "duration": 831,
    "start_time": "2021-06-13T08:51:27.244Z"
   },
   {
    "duration": 626,
    "start_time": "2021-06-13T08:51:30.311Z"
   },
   {
    "duration": 675,
    "start_time": "2021-06-13T08:51:31.726Z"
   },
   {
    "duration": 6,
    "start_time": "2021-06-13T08:53:34.275Z"
   },
   {
    "duration": 6,
    "start_time": "2021-06-13T08:53:36.910Z"
   },
   {
    "duration": 755,
    "start_time": "2021-06-13T08:53:39.914Z"
   },
   {
    "duration": 7,
    "start_time": "2021-06-13T08:53:53.380Z"
   },
   {
    "duration": 9815,
    "start_time": "2021-06-13T08:53:54.285Z"
   },
   {
    "duration": 8,
    "start_time": "2021-06-13T08:54:05.484Z"
   },
   {
    "duration": 1718,
    "start_time": "2021-06-13T08:54:06.134Z"
   },
   {
    "duration": 2,
    "start_time": "2021-06-13T08:54:07.854Z"
   },
   {
    "duration": 5,
    "start_time": "2021-06-13T08:54:13.635Z"
   },
   {
    "duration": 3,
    "start_time": "2021-06-13T08:54:14.366Z"
   },
   {
    "duration": 8,
    "start_time": "2021-06-13T08:54:15.070Z"
   },
   {
    "duration": 9,
    "start_time": "2021-06-13T08:54:16.046Z"
   },
   {
    "duration": 18,
    "start_time": "2021-06-13T08:54:16.373Z"
   },
   {
    "duration": 12,
    "start_time": "2021-06-13T08:54:31.163Z"
   },
   {
    "duration": 6,
    "start_time": "2021-06-13T08:54:32.300Z"
   },
   {
    "duration": 5,
    "start_time": "2021-06-13T08:54:33.942Z"
   },
   {
    "duration": 41,
    "start_time": "2021-06-13T08:54:36.753Z"
   },
   {
    "duration": 2249,
    "start_time": "2021-06-13T08:54:37.196Z"
   },
   {
    "duration": 790316,
    "start_time": "2021-06-13T08:54:44.381Z"
   },
   {
    "duration": 26,
    "start_time": "2021-06-13T09:07:54.700Z"
   },
   {
    "duration": 10,
    "start_time": "2021-06-13T09:07:54.729Z"
   },
   {
    "duration": 58603,
    "start_time": "2021-06-13T09:07:54.741Z"
   },
   {
    "duration": 4,
    "start_time": "2021-06-13T09:08:53.346Z"
   },
   {
    "duration": 855,
    "start_time": "2021-06-13T09:08:53.351Z"
   },
   {
    "duration": 9,
    "start_time": "2021-06-13T09:08:54.209Z"
   },
   {
    "duration": 5,
    "start_time": "2021-06-13T09:08:54.220Z"
   },
   {
    "duration": 6,
    "start_time": "2021-06-13T09:08:54.228Z"
   },
   {
    "duration": 120508,
    "start_time": "2021-06-13T09:08:54.236Z"
   },
   {
    "duration": 5,
    "start_time": "2021-06-13T09:10:54.746Z"
   },
   {
    "duration": 187,
    "start_time": "2021-06-13T09:10:54.753Z"
   },
   {
    "duration": 196,
    "start_time": "2021-06-13T09:10:54.746Z"
   },
   {
    "duration": 191,
    "start_time": "2021-06-13T09:10:54.752Z"
   },
   {
    "duration": 187,
    "start_time": "2021-06-13T09:10:54.757Z"
   },
   {
    "duration": 166,
    "start_time": "2021-06-13T09:10:54.780Z"
   },
   {
    "duration": 4122,
    "start_time": "2021-06-13T09:11:56.092Z"
   },
   {
    "duration": 21,
    "start_time": "2021-06-13T09:12:32.162Z"
   },
   {
    "duration": 9,
    "start_time": "2021-06-13T09:12:36.669Z"
   },
   {
    "duration": 401,
    "start_time": "2021-06-13T09:12:39.243Z"
   },
   {
    "duration": 624,
    "start_time": "2021-06-13T09:12:43.479Z"
   },
   {
    "duration": 506,
    "start_time": "2021-06-13T09:12:45.439Z"
   },
   {
    "duration": 389,
    "start_time": "2021-06-13T09:51:41.411Z"
   },
   {
    "duration": 1509,
    "start_time": "2021-06-13T09:52:19.124Z"
   },
   {
    "duration": 5,
    "start_time": "2021-06-13T09:52:20.636Z"
   },
   {
    "duration": 25,
    "start_time": "2021-06-13T09:52:20.645Z"
   },
   {
    "duration": 54,
    "start_time": "2021-06-13T09:52:20.673Z"
   },
   {
    "duration": 15,
    "start_time": "2021-06-13T09:52:20.729Z"
   },
   {
    "duration": 25,
    "start_time": "2021-06-13T09:52:20.746Z"
   },
   {
    "duration": 15,
    "start_time": "2021-06-13T09:52:20.773Z"
   },
   {
    "duration": 10,
    "start_time": "2021-06-13T09:52:20.791Z"
   },
   {
    "duration": 25,
    "start_time": "2021-06-13T09:52:20.806Z"
   },
   {
    "duration": 11,
    "start_time": "2021-06-13T09:52:20.862Z"
   },
   {
    "duration": 1179,
    "start_time": "2021-06-13T09:52:20.876Z"
   },
   {
    "duration": 918,
    "start_time": "2021-06-13T09:52:22.057Z"
   },
   {
    "duration": 919,
    "start_time": "2021-06-13T09:52:22.978Z"
   },
   {
    "duration": 6,
    "start_time": "2021-06-13T09:52:23.900Z"
   },
   {
    "duration": 21,
    "start_time": "2021-06-13T09:52:23.908Z"
   },
   {
    "duration": 1167,
    "start_time": "2021-06-13T09:52:23.931Z"
   },
   {
    "duration": 8,
    "start_time": "2021-06-13T09:52:25.101Z"
   },
   {
    "duration": 11380,
    "start_time": "2021-06-13T09:52:25.112Z"
   },
   {
    "duration": 80,
    "start_time": "2021-06-13T09:52:36.494Z"
   },
   {
    "duration": 2467,
    "start_time": "2021-06-13T09:52:36.577Z"
   },
   {
    "duration": 3,
    "start_time": "2021-06-13T09:52:39.046Z"
   },
   {
    "duration": 9,
    "start_time": "2021-06-13T09:52:39.066Z"
   },
   {
    "duration": 14,
    "start_time": "2021-06-13T09:52:39.078Z"
   },
   {
    "duration": 11,
    "start_time": "2021-06-13T09:52:39.094Z"
   },
   {
    "duration": 13,
    "start_time": "2021-06-13T09:52:39.107Z"
   },
   {
    "duration": 53,
    "start_time": "2021-06-13T09:52:39.122Z"
   },
   {
    "duration": 15,
    "start_time": "2021-06-13T09:52:39.182Z"
   },
   {
    "duration": 6,
    "start_time": "2021-06-13T09:52:39.201Z"
   },
   {
    "duration": 11,
    "start_time": "2021-06-13T09:52:39.210Z"
   },
   {
    "duration": 158,
    "start_time": "2021-06-13T09:52:39.224Z"
   },
   {
    "duration": 3701,
    "start_time": "2021-06-13T09:52:39.385Z"
   },
   {
    "duration": 152758,
    "start_time": "2021-06-13T09:52:43.089Z"
   },
   {
    "duration": 28,
    "start_time": "2021-06-13T09:55:15.849Z"
   },
   {
    "duration": 12,
    "start_time": "2021-06-13T09:55:15.881Z"
   },
   {
    "duration": -1966,
    "start_time": "2021-06-13T09:55:47.083Z"
   },
   {
    "duration": -1972,
    "start_time": "2021-06-13T09:55:47.091Z"
   },
   {
    "duration": -1972,
    "start_time": "2021-06-13T09:55:47.093Z"
   },
   {
    "duration": -1972,
    "start_time": "2021-06-13T09:55:47.094Z"
   },
   {
    "duration": -1973,
    "start_time": "2021-06-13T09:55:47.096Z"
   },
   {
    "duration": -1973,
    "start_time": "2021-06-13T09:55:47.098Z"
   },
   {
    "duration": -1974,
    "start_time": "2021-06-13T09:55:47.100Z"
   },
   {
    "duration": -1978,
    "start_time": "2021-06-13T09:55:47.105Z"
   },
   {
    "duration": -1978,
    "start_time": "2021-06-13T09:55:47.107Z"
   },
   {
    "duration": -1979,
    "start_time": "2021-06-13T09:55:47.109Z"
   },
   {
    "duration": -1979,
    "start_time": "2021-06-13T09:55:47.111Z"
   },
   {
    "duration": -1979,
    "start_time": "2021-06-13T09:55:47.112Z"
   },
   {
    "duration": -1957,
    "start_time": "2021-06-13T09:55:47.119Z"
   },
   {
    "duration": -1957,
    "start_time": "2021-06-13T09:55:47.121Z"
   },
   {
    "duration": -1959,
    "start_time": "2021-06-13T09:55:47.124Z"
   },
   {
    "duration": -1959,
    "start_time": "2021-06-13T09:55:47.125Z"
   },
   {
    "duration": -1962,
    "start_time": "2021-06-13T09:55:47.129Z"
   },
   {
    "duration": 1081,
    "start_time": "2021-07-05T09:28:54.995Z"
   },
   {
    "duration": 4,
    "start_time": "2021-07-05T09:28:56.077Z"
   },
   {
    "duration": 12,
    "start_time": "2021-07-05T09:28:56.083Z"
   },
   {
    "duration": 41,
    "start_time": "2021-07-05T09:28:56.097Z"
   },
   {
    "duration": 10,
    "start_time": "2021-07-05T09:28:56.139Z"
   },
   {
    "duration": 10,
    "start_time": "2021-07-05T09:28:56.150Z"
   },
   {
    "duration": 11,
    "start_time": "2021-07-05T09:28:56.161Z"
   },
   {
    "duration": 6,
    "start_time": "2021-07-05T09:28:56.174Z"
   },
   {
    "duration": 20,
    "start_time": "2021-07-05T09:28:56.182Z"
   },
   {
    "duration": 8,
    "start_time": "2021-07-05T09:28:56.204Z"
   },
   {
    "duration": 644,
    "start_time": "2021-07-05T09:28:56.214Z"
   },
   {
    "duration": 589,
    "start_time": "2021-07-05T09:28:56.860Z"
   },
   {
    "duration": 521,
    "start_time": "2021-07-05T09:28:57.450Z"
   },
   {
    "duration": 4,
    "start_time": "2021-07-05T09:28:57.973Z"
   },
   {
    "duration": 8,
    "start_time": "2021-07-05T09:28:57.978Z"
   },
   {
    "duration": 668,
    "start_time": "2021-07-05T09:28:57.987Z"
   },
   {
    "duration": 6,
    "start_time": "2021-07-05T09:28:58.656Z"
   },
   {
    "duration": 6989,
    "start_time": "2021-07-05T09:28:58.663Z"
   },
   {
    "duration": 89,
    "start_time": "2021-07-05T09:29:05.654Z"
   },
   {
    "duration": 1318,
    "start_time": "2021-07-05T09:29:05.745Z"
   },
   {
    "duration": 2,
    "start_time": "2021-07-05T09:29:07.065Z"
   },
   {
    "duration": 27,
    "start_time": "2021-07-05T09:29:07.068Z"
   },
   {
    "duration": 51,
    "start_time": "2021-07-05T09:29:07.098Z"
   },
   {
    "duration": 27,
    "start_time": "2021-07-05T09:29:07.151Z"
   },
   {
    "duration": 18,
    "start_time": "2021-07-05T09:29:07.179Z"
   },
   {
    "duration": 22,
    "start_time": "2021-07-05T09:29:07.198Z"
   },
   {
    "duration": 8,
    "start_time": "2021-07-05T09:29:07.222Z"
   },
   {
    "duration": 6,
    "start_time": "2021-07-05T09:29:07.231Z"
   },
   {
    "duration": 9,
    "start_time": "2021-07-05T09:29:07.238Z"
   },
   {
    "duration": 17,
    "start_time": "2021-07-05T09:29:07.248Z"
   },
   {
    "duration": 2981,
    "start_time": "2021-07-05T09:29:07.267Z"
   },
   {
    "duration": 23103,
    "start_time": "2021-07-05T09:29:10.250Z"
   },
   {
    "duration": 14,
    "start_time": "2021-07-05T09:29:33.354Z"
   },
   {
    "duration": 23,
    "start_time": "2021-07-05T09:29:33.370Z"
   },
   {
    "duration": 46254,
    "start_time": "2021-07-05T09:29:33.395Z"
   },
   {
    "duration": 4,
    "start_time": "2021-07-05T09:30:19.650Z"
   },
   {
    "duration": 594,
    "start_time": "2021-07-05T09:30:19.655Z"
   },
   {
    "duration": 4,
    "start_time": "2021-07-05T09:30:20.251Z"
   },
   {
    "duration": 8,
    "start_time": "2021-07-05T09:30:20.257Z"
   },
   {
    "duration": 17,
    "start_time": "2021-07-05T09:30:20.267Z"
   },
   {
    "duration": 94981,
    "start_time": "2021-07-05T09:30:20.286Z"
   },
   {
    "duration": 3,
    "start_time": "2021-07-05T09:31:55.269Z"
   },
   {
    "duration": 68,
    "start_time": "2021-07-05T09:31:55.274Z"
   },
   {
    "duration": 12,
    "start_time": "2021-07-05T09:31:55.343Z"
   },
   {
    "duration": 320,
    "start_time": "2021-07-05T09:31:55.357Z"
   },
   {
    "duration": 463,
    "start_time": "2021-07-05T09:31:55.678Z"
   },
   {
    "duration": 391,
    "start_time": "2021-07-05T09:31:56.143Z"
   },
   {
    "duration": 7156,
    "start_time": "2021-07-05T09:31:56.536Z"
   },
   {
    "duration": 9,
    "start_time": "2021-07-05T09:35:34.297Z"
   },
   {
    "duration": 2,
    "start_time": "2021-07-05T09:36:17.900Z"
   }
  ],
  "kernelspec": {
   "display_name": "Python 3",
   "language": "python",
   "name": "python3"
  },
  "language_info": {
   "codemirror_mode": {
    "name": "ipython",
    "version": 3
   },
   "file_extension": ".py",
   "mimetype": "text/x-python",
   "name": "python",
   "nbconvert_exporter": "python",
   "pygments_lexer": "ipython3",
   "version": "3.7.8"
  },
  "toc": {
   "base_numbering": 1,
   "nav_menu": {},
   "number_sections": true,
   "sideBar": true,
   "skip_h1_title": true,
   "title_cell": "Содержание",
   "title_sidebar": "Contents",
   "toc_cell": true,
   "toc_position": {},
   "toc_section_display": true,
   "toc_window_display": true
  }
 },
 "nbformat": 4,
 "nbformat_minor": 2
}
