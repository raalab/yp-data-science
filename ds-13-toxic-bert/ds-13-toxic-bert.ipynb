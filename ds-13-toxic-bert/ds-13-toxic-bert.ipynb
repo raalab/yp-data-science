{
 "cells": [
  {
   "cell_type": "markdown",
   "metadata": {
    "toc": true
   },
   "source": [
    "<h1>Содержание<span class=\"tocSkip\"></span></h1>\n",
    "<div class=\"toc\"><ul class=\"toc-item\"><li><span><a href=\"#Подготовка\" data-toc-modified-id=\"Подготовка-1\"><span class=\"toc-item-num\">1&nbsp;&nbsp;</span>Подготовка</a></span><ul class=\"toc-item\"><li><span><a href=\"#EDA-анализ\" data-toc-modified-id=\"EDA-анализ-1.1\"><span class=\"toc-item-num\">1.1&nbsp;&nbsp;</span>EDA анализ</a></span></li><li><span><a href=\"#Лемматизация\" data-toc-modified-id=\"Лемматизация-1.2\"><span class=\"toc-item-num\">1.2&nbsp;&nbsp;</span>Лемматизация</a></span></li><li><span><a href=\"#TF-IDF\" data-toc-modified-id=\"TF-IDF-1.3\"><span class=\"toc-item-num\">1.3&nbsp;&nbsp;</span>TF-IDF</a></span></li></ul></li><li><span><a href=\"#Обучение\" data-toc-modified-id=\"Обучение-2\"><span class=\"toc-item-num\">2&nbsp;&nbsp;</span>Обучение</a></span><ul class=\"toc-item\"><li><span><a href=\"#Dummy\" data-toc-modified-id=\"Dummy-2.1\"><span class=\"toc-item-num\">2.1&nbsp;&nbsp;</span>Dummy</a></span></li><li><span><a href=\"#LogisticRegression\" data-toc-modified-id=\"LogisticRegression-2.2\"><span class=\"toc-item-num\">2.2&nbsp;&nbsp;</span>LogisticRegression</a></span></li><li><span><a href=\"#LGBM\" data-toc-modified-id=\"LGBM-2.3\"><span class=\"toc-item-num\">2.3&nbsp;&nbsp;</span>LGBM</a></span></li><li><span><a href=\"#BERT\" data-toc-modified-id=\"BERT-2.4\"><span class=\"toc-item-num\">2.4&nbsp;&nbsp;</span>BERT</a></span></li></ul></li><li><span><a href=\"#Выводы\" data-toc-modified-id=\"Выводы-3\"><span class=\"toc-item-num\">3&nbsp;&nbsp;</span>Выводы</a></span></li><li><span><a href=\"#Чек-лист-проверки\" data-toc-modified-id=\"Чек-лист-проверки-4\"><span class=\"toc-item-num\">4&nbsp;&nbsp;</span>Чек-лист проверки</a></span></li></ul></div>"
   ]
  },
  {
   "cell_type": "markdown",
   "metadata": {},
   "source": [
    "# Проект для «Викишоп» BERT-"
   ]
  },
  {
   "cell_type": "markdown",
   "metadata": {},
   "source": [
    "**ОПИСАНИЕ ЗАДАЧИ**"
   ]
  },
  {
   "cell_type": "markdown",
   "metadata": {},
   "source": [
    "Интернет-магазин «Викишоп» запускает новый сервис. Теперь пользователи могут редактировать и дополнять описания товаров, как в вики-сообществах. То есть клиенты предлагают свои правки и комментируют изменения других. Магазину нужен инструмент, который будет искать токсичные комментарии и отправлять их на модерацию. \n",
    "\n",
    "Обучите модель классифицировать комментарии на позитивные и негативные. В вашем распоряжении набор данных с разметкой о токсичности правок.\n",
    "\n",
    "Постройте модель со значением метрики качества *F1* не меньше 0.75. \n",
    "\n",
    "**Инструкция по выполнению проекта**\n",
    "\n",
    "1. Загрузите и подготовьте данные.\n",
    "2. Обучите разные модели. \n",
    "3. Сделайте выводы.\n",
    "\n",
    "Для выполнения проекта применять *BERT* необязательно, но вы можете попробовать.\n",
    "\n",
    "**Описание данных**\n",
    "\n",
    "Данные находятся в файле `toxic_comments.csv`. Столбец *text* в нём содержит текст комментария, а *toxic* — целевой признак."
   ]
  },
  {
   "cell_type": "code",
   "execution_count": 1,
   "metadata": {},
   "outputs": [],
   "source": [
    "import numpy as np\n",
    "import pandas as pd\n",
    "\n",
    "import re\n",
    "from string import punctuation # библиотека знаков пунктуации для фунции лемматизации\n",
    "import nltk\n",
    "from nltk.corpus import stopwords as nltk_stopwords \n",
    "# nltk.download('wordnet')\n",
    "# nltk.download('punkt')\n",
    "\n",
    "from sklearn.feature_extraction.text import TfidfVectorizer\n",
    "from scipy.sparse import hstack, vstack, csc_matrix, csr_matrix, coo_matrix\n",
    "\n",
    "from sklearn.linear_model import LogisticRegression\n",
    "from sklearn.dummy import DummyClassifier\n",
    "from sklearn.model_selection import train_test_split, GridSearchCV, cross_val_score\n",
    "from sklearn.metrics import accuracy_score, f1_score\n",
    "\n",
    "from lightgbm.sklearn import LGBMClassifier\n",
    "\n",
    "import torch\n",
    "import transformers\n",
    "from tqdm import notebook\n",
    "\n",
    "import matplotlib.pyplot as plt\n",
    "import seaborn as sns\n",
    "import plotly.express as px"
   ]
  },
  {
   "cell_type": "code",
   "execution_count": 2,
   "metadata": {},
   "outputs": [],
   "source": [
    "# настройки окружения\n",
    "import warnings\n",
    "warnings.filterwarnings(\"ignore\")\n",
    "sns.set_style(\"darkgrid\", {'axes.grid' : True}) # задает темный фон и сетку на графиках\n",
    "pd.set_option('display.max_colwidth', 100, 'colheader_justify', 'left', 'precision', 4)"
   ]
  },
  {
   "cell_type": "markdown",
   "metadata": {},
   "source": [
    "## Подготовка"
   ]
  },
  {
   "cell_type": "code",
   "execution_count": 3,
   "metadata": {},
   "outputs": [],
   "source": [
    "# копирование датасета и настроек в локал\n",
    "# !cp /datasets/ds_bert/vocab.txt vocab.txt\n",
    "# !cp /datasets/ds_bert/bert_config.json bert_config.json\n",
    "# !cp /datasets/ds_bert/rubert_model.bin rubert_model.bin"
   ]
  },
  {
   "cell_type": "code",
   "execution_count": 4,
   "metadata": {},
   "outputs": [],
   "source": [
    "df = pd.read_csv('/datasets/toxic_comments.csv', encoding='UTF-8')"
   ]
  },
  {
   "cell_type": "code",
   "execution_count": 5,
   "metadata": {},
   "outputs": [
    {
     "data": {
      "text/html": [
       "<style  type=\"text/css\" >\n",
       "#T_20837bcc_d82f_11eb_b980_001a7dda7115row0_col0,#T_20837bcc_d82f_11eb_b980_001a7dda7115row1_col0,#T_20837bcc_d82f_11eb_b980_001a7dda7115row2_col0,#T_20837bcc_d82f_11eb_b980_001a7dda7115row3_col0,#T_20837bcc_d82f_11eb_b980_001a7dda7115row4_col0{\n",
       "            text-align:  left;\n",
       "        }</style><table id=\"T_20837bcc_d82f_11eb_b980_001a7dda7115\" ><thead>    <tr>        <th class=\"blank level0\" ></th>        <th class=\"col_heading level0 col0\" >text</th>        <th class=\"col_heading level0 col1\" >toxic</th>    </tr></thead><tbody>\n",
       "                <tr>\n",
       "                        <th id=\"T_20837bcc_d82f_11eb_b980_001a7dda7115level0_row0\" class=\"row_heading level0 row0\" >0</th>\n",
       "                        <td id=\"T_20837bcc_d82f_11eb_b980_001a7dda7115row0_col0\" class=\"data row0 col0\" >Explanation\n",
       "Why the edits made under my username Hardcore Metallica Fan were reverted? They weren't vandalisms, just closure on some GAs after I voted at New York Dolls FAC. And please don't remove the template from the talk page since I'm retired now.89.205.38.27</td>\n",
       "                        <td id=\"T_20837bcc_d82f_11eb_b980_001a7dda7115row0_col1\" class=\"data row0 col1\" >0</td>\n",
       "            </tr>\n",
       "            <tr>\n",
       "                        <th id=\"T_20837bcc_d82f_11eb_b980_001a7dda7115level0_row1\" class=\"row_heading level0 row1\" >1</th>\n",
       "                        <td id=\"T_20837bcc_d82f_11eb_b980_001a7dda7115row1_col0\" class=\"data row1 col0\" >D'aww! He matches this background colour I'm seemingly stuck with. Thanks.  (talk) 21:51, January 11, 2016 (UTC)</td>\n",
       "                        <td id=\"T_20837bcc_d82f_11eb_b980_001a7dda7115row1_col1\" class=\"data row1 col1\" >0</td>\n",
       "            </tr>\n",
       "            <tr>\n",
       "                        <th id=\"T_20837bcc_d82f_11eb_b980_001a7dda7115level0_row2\" class=\"row_heading level0 row2\" >2</th>\n",
       "                        <td id=\"T_20837bcc_d82f_11eb_b980_001a7dda7115row2_col0\" class=\"data row2 col0\" >Hey man, I'm really not trying to edit war. It's just that this guy is constantly removing relevant information and talking to me through edits instead of my talk page. He seems to care more about the formatting than the actual info.</td>\n",
       "                        <td id=\"T_20837bcc_d82f_11eb_b980_001a7dda7115row2_col1\" class=\"data row2 col1\" >0</td>\n",
       "            </tr>\n",
       "            <tr>\n",
       "                        <th id=\"T_20837bcc_d82f_11eb_b980_001a7dda7115level0_row3\" class=\"row_heading level0 row3\" >3</th>\n",
       "                        <td id=\"T_20837bcc_d82f_11eb_b980_001a7dda7115row3_col0\" class=\"data row3 col0\" >\"\n",
       "More\n",
       "I can't make any real suggestions on improvement - I wondered if the section statistics should be later on, or a subsection of \"\"types of accidents\"\"  -I think the references may need tidying so that they are all in the exact same format ie date format etc. I can do that later on, if no-one else does first - if you have any preferences for formatting style on references or want to do it yourself please let me know.\n",
       "\n",
       "There appears to be a backlog on articles for review so I guess there may be a delay until a reviewer turns up. It's listed in the relevant form eg Wikipedia:Good_article_nominations#Transport  \"</td>\n",
       "                        <td id=\"T_20837bcc_d82f_11eb_b980_001a7dda7115row3_col1\" class=\"data row3 col1\" >0</td>\n",
       "            </tr>\n",
       "            <tr>\n",
       "                        <th id=\"T_20837bcc_d82f_11eb_b980_001a7dda7115level0_row4\" class=\"row_heading level0 row4\" >4</th>\n",
       "                        <td id=\"T_20837bcc_d82f_11eb_b980_001a7dda7115row4_col0\" class=\"data row4 col0\" >You, sir, are my hero. Any chance you remember what page that's on?</td>\n",
       "                        <td id=\"T_20837bcc_d82f_11eb_b980_001a7dda7115row4_col1\" class=\"data row4 col1\" >0</td>\n",
       "            </tr>\n",
       "    </tbody></table>"
      ],
      "text/plain": [
       "<pandas.io.formats.style.Styler at 0x1a69d30ca90>"
      ]
     },
     "execution_count": 5,
     "metadata": {},
     "output_type": "execute_result"
    }
   ],
   "source": [
    "df.head().style.set_properties(subset=['text'],**{'text-align': 'left'})"
   ]
  },
  {
   "cell_type": "code",
   "execution_count": 6,
   "metadata": {},
   "outputs": [
    {
     "name": "stdout",
     "output_type": "stream",
     "text": [
      "<class 'pandas.core.frame.DataFrame'>\n",
      "RangeIndex: 159571 entries, 0 to 159570\n",
      "Data columns (total 2 columns):\n",
      " #   Column  Non-Null Count   Dtype \n",
      "---  ------  --------------   ----- \n",
      " 0   text    159571 non-null  object\n",
      " 1   toxic   159571 non-null  int64 \n",
      "dtypes: int64(1), object(1)\n",
      "memory usage: 2.4+ MB\n"
     ]
    }
   ],
   "source": [
    "df.info()"
   ]
  },
  {
   "cell_type": "code",
   "execution_count": 7,
   "metadata": {},
   "outputs": [
    {
     "data": {
      "text/html": [
       "<div>\n",
       "<style scoped>\n",
       "    .dataframe tbody tr th:only-of-type {\n",
       "        vertical-align: middle;\n",
       "    }\n",
       "\n",
       "    .dataframe tbody tr th {\n",
       "        vertical-align: top;\n",
       "    }\n",
       "\n",
       "    .dataframe thead th {\n",
       "        text-align: right;\n",
       "    }\n",
       "</style>\n",
       "<table border=\"1\" class=\"dataframe\">\n",
       "  <thead>\n",
       "    <tr style=\"text-align: left;\">\n",
       "      <th></th>\n",
       "      <th>count</th>\n",
       "      <th>mean</th>\n",
       "      <th>std</th>\n",
       "      <th>min</th>\n",
       "      <th>25%</th>\n",
       "      <th>50%</th>\n",
       "      <th>75%</th>\n",
       "      <th>max</th>\n",
       "    </tr>\n",
       "  </thead>\n",
       "  <tbody>\n",
       "    <tr>\n",
       "      <th>toxic</th>\n",
       "      <td>159571.0</td>\n",
       "      <td>0.1017</td>\n",
       "      <td>0.3022</td>\n",
       "      <td>0.0</td>\n",
       "      <td>0.0</td>\n",
       "      <td>0.0</td>\n",
       "      <td>0.0</td>\n",
       "      <td>1.0</td>\n",
       "    </tr>\n",
       "    <tr>\n",
       "      <th>text</th>\n",
       "      <td>159571.0</td>\n",
       "      <td>67.8670</td>\n",
       "      <td>100.5202</td>\n",
       "      <td>1.0</td>\n",
       "      <td>17.0</td>\n",
       "      <td>36.0</td>\n",
       "      <td>76.0</td>\n",
       "      <td>2273.0</td>\n",
       "    </tr>\n",
       "  </tbody>\n",
       "</table>\n",
       "</div>"
      ],
      "text/plain": [
       "       count     mean     std       min  25%   50%   75%   max   \n",
       "toxic  159571.0   0.1017    0.3022  0.0   0.0   0.0   0.0     1.0\n",
       "text   159571.0  67.8670  100.5202  1.0  17.0  36.0  76.0  2273.0"
      ]
     },
     "execution_count": 7,
     "metadata": {},
     "output_type": "execute_result"
    }
   ],
   "source": [
    "# максимальное число слов в ячейке датасета\n",
    "pd.concat([df['toxic'], df['text'].str.count(' ') + 1], axis=1).describe().transpose()"
   ]
  },
  {
   "cell_type": "markdown",
   "metadata": {},
   "source": [
    "**В датасете около 10% токсичных комментариев**, большинство текстов имеет длину 36 слов, но есть и целые \"опусы\" на  2 273 слова."
   ]
  },
  {
   "cell_type": "code",
   "execution_count": 8,
   "metadata": {},
   "outputs": [],
   "source": [
    "############################################\n",
    "# изменение порядка столбцов, для удобства\n",
    "df = df[['toxic', 'text']] \n",
    "############################################"
   ]
  },
  {
   "cell_type": "markdown",
   "metadata": {},
   "source": [
    "**Вывод: пропусков нет, дополнительная предобработка данных не требуется.**"
   ]
  },
  {
   "cell_type": "markdown",
   "metadata": {},
   "source": [
    "### EDA анализ "
   ]
  },
  {
   "cell_type": "markdown",
   "metadata": {},
   "source": [
    "Первая гипотеза для проверки - связь длины комментария с его токсичностью. Предположительно такие комментарии будут более короткими чем обычные. "
   ]
  },
  {
   "cell_type": "code",
   "execution_count": 9,
   "metadata": {},
   "outputs": [
    {
     "data": {
      "image/png": "[encoded data removed]",
      "text/plain": [
       "<Figure size 1152x288 with 1 Axes>"
      ]
     },
     "metadata": {},
     "output_type": "display_data"
    }
   ],
   "source": [
    "df['total_length'] = df['text'].str.count(' ') + 1\n",
    "plt.figure(figsize=(16, 4))\n",
    "plt.title('Распределение длины текста (в словах) для токсичных / обычных комментариев', fontsize=14)\n",
    "sns.kdeplot(df.loc[df['toxic']==1, 'total_length'], color='red', alpha=0.7)\n",
    "sns.kdeplot(df.loc[df['toxic']==0, 'total_length'], color='green')\n",
    "plt.legend(['toxic', 'ordinary'], fontsize=14)\n",
    "plt.xlim(0, 150);"
   ]
  },
  {
   "cell_type": "markdown",
   "metadata": {},
   "source": [
    "Разница в длине текста есть, но довольно незначительная. В качестве дальнейшего развития идеи список признаков заимствован из статьи \"How I improved my text classification model with feature engineering / Advanced text analysis to improve your model accuracy\" https://towardsdatascience.com/how-i-improved-my-text-classification-model-with-feature-engineering-98fbe6c13ef3"
   ]
  },
  {
   "cell_type": "code",
   "execution_count": 10,
   "metadata": {},
   "outputs": [],
   "source": [
    "# функция для создания новых признаков\n",
    "def feature(df, text_columns) :\n",
    "    df['word_count'] = df[text_columns].apply(lambda x : len(x.split()))\n",
    "    df['char_count'] = df[text_columns].apply(lambda x : len(x.replace(\" \",\"\")))\n",
    "    df['word_density'] = df['word_count'] / (df['char_count'] + 1)\n",
    "    df['punc_count'] = df[text_columns].apply(lambda x : len([a for a in x if a in punctuation]))\n",
    "    df['total_length'] = df[text_columns].apply(len)\n",
    "    df['capitals'] = df[text_columns].apply(lambda comment: sum(1 for c in comment if c.isupper()))\n",
    "    df['caps_vs_length'] = df.apply(lambda row: float(row['capitals'])/float(row['total_length']),axis=1)\n",
    "    df['num_exclamation_marks'] =df[text_columns].apply(lambda x: x.count('!'))\n",
    "    df['num_question_marks'] = df[text_columns].apply(lambda x: x.count('?'))\n",
    "    df['num_punctuation'] = df[text_columns].apply(lambda x: sum(x.count(w) for w in '.,;:'))\n",
    "    df['num_symbols'] = df[text_columns].apply(lambda x: sum(x.count(w) for w in '*&$%'))\n",
    "    df['num_unique_words'] = df[text_columns].apply(lambda x: len(set(w for w in x.split())))\n",
    "    df['words_vs_unique'] = df['num_unique_words'] / df['word_count']\n",
    "    df[\"word_unique_percent\"] =  df[\"num_unique_words\"]*100/df['word_count']\n",
    "    return df"
   ]
  },
  {
   "cell_type": "code",
   "execution_count": 11,
   "metadata": {},
   "outputs": [],
   "source": [
    "# создание новых признаков\n",
    "feature(df, 'text');"
   ]
  },
  {
   "cell_type": "code",
   "execution_count": 12,
   "metadata": {},
   "outputs": [
    {
     "data": {
      "text/html": [
       "<style  type=\"text/css\" >\n",
       "#T_26a4b226_d82f_11eb_8d10_001a7dda7115row0_col1,#T_26a4b226_d82f_11eb_8d10_001a7dda7115row1_col1{\n",
       "            text-align:  left;\n",
       "            min-width:  400px;\n",
       "        }</style><table id=\"T_26a4b226_d82f_11eb_8d10_001a7dda7115\" ><thead>    <tr>        <th class=\"blank level0\" ></th>        <th class=\"col_heading level0 col0\" >toxic</th>        <th class=\"col_heading level0 col1\" >text</th>        <th class=\"col_heading level0 col2\" >total_length</th>        <th class=\"col_heading level0 col3\" >word_count</th>        <th class=\"col_heading level0 col4\" >char_count</th>        <th class=\"col_heading level0 col5\" >word_density</th>        <th class=\"col_heading level0 col6\" >punc_count</th>        <th class=\"col_heading level0 col7\" >capitals</th>        <th class=\"col_heading level0 col8\" >caps_vs_length</th>        <th class=\"col_heading level0 col9\" >num_exclamation_marks</th>        <th class=\"col_heading level0 col10\" >num_question_marks</th>        <th class=\"col_heading level0 col11\" >num_punctuation</th>        <th class=\"col_heading level0 col12\" >num_symbols</th>        <th class=\"col_heading level0 col13\" >num_unique_words</th>        <th class=\"col_heading level0 col14\" >words_vs_unique</th>        <th class=\"col_heading level0 col15\" >word_unique_percent</th>    </tr></thead><tbody>\n",
       "                <tr>\n",
       "                        <th id=\"T_26a4b226_d82f_11eb_8d10_001a7dda7115level0_row0\" class=\"row_heading level0 row0\" >0</th>\n",
       "                        <td id=\"T_26a4b226_d82f_11eb_8d10_001a7dda7115row0_col0\" class=\"data row0 col0\" >0</td>\n",
       "                        <td id=\"T_26a4b226_d82f_11eb_8d10_001a7dda7115row0_col1\" class=\"data row0 col1\" >Explanation\n",
       "Why the edits made under my username Hardcore Metallica Fan were reverted? They weren't vandalisms, just closure on some GAs after I voted at New York Dolls FAC. And please don't remove the template from the talk page since I'm retired now.89.205.38.27</td>\n",
       "                        <td id=\"T_26a4b226_d82f_11eb_8d10_001a7dda7115row0_col2\" class=\"data row0 col2\" >264</td>\n",
       "                        <td id=\"T_26a4b226_d82f_11eb_8d10_001a7dda7115row0_col3\" class=\"data row0 col3\" >43</td>\n",
       "                        <td id=\"T_26a4b226_d82f_11eb_8d10_001a7dda7115row0_col4\" class=\"data row0 col4\" >223</td>\n",
       "                        <td id=\"T_26a4b226_d82f_11eb_8d10_001a7dda7115row0_col5\" class=\"data row0 col5\" >0.1920</td>\n",
       "                        <td id=\"T_26a4b226_d82f_11eb_8d10_001a7dda7115row0_col6\" class=\"data row0 col6\" >10</td>\n",
       "                        <td id=\"T_26a4b226_d82f_11eb_8d10_001a7dda7115row0_col7\" class=\"data row0 col7\" >17</td>\n",
       "                        <td id=\"T_26a4b226_d82f_11eb_8d10_001a7dda7115row0_col8\" class=\"data row0 col8\" >0.0644</td>\n",
       "                        <td id=\"T_26a4b226_d82f_11eb_8d10_001a7dda7115row0_col9\" class=\"data row0 col9\" >0</td>\n",
       "                        <td id=\"T_26a4b226_d82f_11eb_8d10_001a7dda7115row0_col10\" class=\"data row0 col10\" >1</td>\n",
       "                        <td id=\"T_26a4b226_d82f_11eb_8d10_001a7dda7115row0_col11\" class=\"data row0 col11\" >6</td>\n",
       "                        <td id=\"T_26a4b226_d82f_11eb_8d10_001a7dda7115row0_col12\" class=\"data row0 col12\" >0</td>\n",
       "                        <td id=\"T_26a4b226_d82f_11eb_8d10_001a7dda7115row0_col13\" class=\"data row0 col13\" >41</td>\n",
       "                        <td id=\"T_26a4b226_d82f_11eb_8d10_001a7dda7115row0_col14\" class=\"data row0 col14\" >0.9535</td>\n",
       "                        <td id=\"T_26a4b226_d82f_11eb_8d10_001a7dda7115row0_col15\" class=\"data row0 col15\" >95.3488</td>\n",
       "            </tr>\n",
       "            <tr>\n",
       "                        <th id=\"T_26a4b226_d82f_11eb_8d10_001a7dda7115level0_row1\" class=\"row_heading level0 row1\" >1</th>\n",
       "                        <td id=\"T_26a4b226_d82f_11eb_8d10_001a7dda7115row1_col0\" class=\"data row1 col0\" >0</td>\n",
       "                        <td id=\"T_26a4b226_d82f_11eb_8d10_001a7dda7115row1_col1\" class=\"data row1 col1\" >D'aww! He matches this background colour I'm seemingly stuck with. Thanks.  (talk) 21:51, January 11, 2016 (UTC)</td>\n",
       "                        <td id=\"T_26a4b226_d82f_11eb_8d10_001a7dda7115row1_col2\" class=\"data row1 col2\" >112</td>\n",
       "                        <td id=\"T_26a4b226_d82f_11eb_8d10_001a7dda7115row1_col3\" class=\"data row1 col3\" >17</td>\n",
       "                        <td id=\"T_26a4b226_d82f_11eb_8d10_001a7dda7115row1_col4\" class=\"data row1 col4\" >95</td>\n",
       "                        <td id=\"T_26a4b226_d82f_11eb_8d10_001a7dda7115row1_col5\" class=\"data row1 col5\" >0.1771</td>\n",
       "                        <td id=\"T_26a4b226_d82f_11eb_8d10_001a7dda7115row1_col6\" class=\"data row1 col6\" >12</td>\n",
       "                        <td id=\"T_26a4b226_d82f_11eb_8d10_001a7dda7115row1_col7\" class=\"data row1 col7\" >8</td>\n",
       "                        <td id=\"T_26a4b226_d82f_11eb_8d10_001a7dda7115row1_col8\" class=\"data row1 col8\" >0.0714</td>\n",
       "                        <td id=\"T_26a4b226_d82f_11eb_8d10_001a7dda7115row1_col9\" class=\"data row1 col9\" >1</td>\n",
       "                        <td id=\"T_26a4b226_d82f_11eb_8d10_001a7dda7115row1_col10\" class=\"data row1 col10\" >0</td>\n",
       "                        <td id=\"T_26a4b226_d82f_11eb_8d10_001a7dda7115row1_col11\" class=\"data row1 col11\" >5</td>\n",
       "                        <td id=\"T_26a4b226_d82f_11eb_8d10_001a7dda7115row1_col12\" class=\"data row1 col12\" >0</td>\n",
       "                        <td id=\"T_26a4b226_d82f_11eb_8d10_001a7dda7115row1_col13\" class=\"data row1 col13\" >17</td>\n",
       "                        <td id=\"T_26a4b226_d82f_11eb_8d10_001a7dda7115row1_col14\" class=\"data row1 col14\" >1.0000</td>\n",
       "                        <td id=\"T_26a4b226_d82f_11eb_8d10_001a7dda7115row1_col15\" class=\"data row1 col15\" >100.0000</td>\n",
       "            </tr>\n",
       "    </tbody></table>"
      ],
      "text/plain": [
       "<pandas.io.formats.style.Styler at 0x1a6a8ae4370>"
      ]
     },
     "execution_count": 12,
     "metadata": {},
     "output_type": "execute_result"
    }
   ],
   "source": [
    "# проверка результата\n",
    "df.head(2).style.set_properties(subset=['text'], **{'text-align': 'left', 'min-width': '400px'})"
   ]
  },
  {
   "cell_type": "code",
   "execution_count": 13,
   "metadata": {},
   "outputs": [
    {
     "data": {
      "text/html": [
       "<div>\n",
       "<style scoped>\n",
       "    .dataframe tbody tr th:only-of-type {\n",
       "        vertical-align: middle;\n",
       "    }\n",
       "\n",
       "    .dataframe tbody tr th {\n",
       "        vertical-align: top;\n",
       "    }\n",
       "\n",
       "    .dataframe thead th {\n",
       "        text-align: right;\n",
       "    }\n",
       "</style>\n",
       "<table border=\"1\" class=\"dataframe\">\n",
       "  <thead>\n",
       "    <tr style=\"text-align: left;\">\n",
       "      <th></th>\n",
       "      <th>mean</th>\n",
       "      <th>max</th>\n",
       "    </tr>\n",
       "  </thead>\n",
       "  <tbody>\n",
       "    <tr>\n",
       "      <th>toxic</th>\n",
       "      <td>0.1017</td>\n",
       "      <td>1.0000</td>\n",
       "    </tr>\n",
       "    <tr>\n",
       "      <th>total_length</th>\n",
       "      <td>394.0732</td>\n",
       "      <td>5000.0000</td>\n",
       "    </tr>\n",
       "    <tr>\n",
       "      <th>word_count</th>\n",
       "      <td>67.2735</td>\n",
       "      <td>1411.0000</td>\n",
       "    </tr>\n",
       "    <tr>\n",
       "      <th>char_count</th>\n",
       "      <td>327.2063</td>\n",
       "      <td>4967.0000</td>\n",
       "    </tr>\n",
       "    <tr>\n",
       "      <th>word_density</th>\n",
       "      <td>0.2088</td>\n",
       "      <td>0.9655</td>\n",
       "    </tr>\n",
       "    <tr>\n",
       "      <th>punc_count</th>\n",
       "      <td>15.8854</td>\n",
       "      <td>4942.0000</td>\n",
       "    </tr>\n",
       "    <tr>\n",
       "      <th>capitals</th>\n",
       "      <td>17.1596</td>\n",
       "      <td>4960.0000</td>\n",
       "    </tr>\n",
       "    <tr>\n",
       "      <th>caps_vs_length</th>\n",
       "      <td>0.0516</td>\n",
       "      <td>0.9982</td>\n",
       "    </tr>\n",
       "    <tr>\n",
       "      <th>num_exclamation_marks</th>\n",
       "      <td>0.6616</td>\n",
       "      <td>4942.0000</td>\n",
       "    </tr>\n",
       "    <tr>\n",
       "      <th>num_question_marks</th>\n",
       "      <td>0.4493</td>\n",
       "      <td>209.0000</td>\n",
       "    </tr>\n",
       "    <tr>\n",
       "      <th>num_punctuation</th>\n",
       "      <td>7.9741</td>\n",
       "      <td>682.0000</td>\n",
       "    </tr>\n",
       "    <tr>\n",
       "      <th>num_symbols</th>\n",
       "      <td>0.1171</td>\n",
       "      <td>148.0000</td>\n",
       "    </tr>\n",
       "    <tr>\n",
       "      <th>num_unique_words</th>\n",
       "      <td>48.0973</td>\n",
       "      <td>816.0000</td>\n",
       "    </tr>\n",
       "    <tr>\n",
       "      <th>words_vs_unique</th>\n",
       "      <td>0.8550</td>\n",
       "      <td>1.0000</td>\n",
       "    </tr>\n",
       "    <tr>\n",
       "      <th>word_unique_percent</th>\n",
       "      <td>85.5019</td>\n",
       "      <td>100.0000</td>\n",
       "    </tr>\n",
       "  </tbody>\n",
       "</table>\n",
       "</div>"
      ],
      "text/plain": [
       "                       mean      max      \n",
       "toxic                    0.1017     1.0000\n",
       "total_length           394.0732  5000.0000\n",
       "word_count              67.2735  1411.0000\n",
       "char_count             327.2063  4967.0000\n",
       "word_density             0.2088     0.9655\n",
       "punc_count              15.8854  4942.0000\n",
       "capitals                17.1596  4960.0000\n",
       "caps_vs_length           0.0516     0.9982\n",
       "num_exclamation_marks    0.6616  4942.0000\n",
       "num_question_marks       0.4493   209.0000\n",
       "num_punctuation          7.9741   682.0000\n",
       "num_symbols              0.1171   148.0000\n",
       "num_unique_words        48.0973   816.0000\n",
       "words_vs_unique          0.8550     1.0000\n",
       "word_unique_percent     85.5019   100.0000"
      ]
     },
     "execution_count": 13,
     "metadata": {},
     "output_type": "execute_result"
    }
   ],
   "source": [
    "# проверка разброса значений признаков\n",
    "df.describe().transpose()[['mean', 'max']]"
   ]
  },
  {
   "cell_type": "markdown",
   "metadata": {},
   "source": [
    "По многим параметрам видны значительные **выбросы**, например для `num_exclamation_marks` при среднем 0.66 max=4942, поэтому в качестве предобработки была проведена винсоризацию, с заменой значений выше 95 перцентиля на значением 95 перцентиля, однако эффекта ни в качестве, ни в скорости обучения модели это не дало и от такой обработки решено отказаться."
   ]
  },
  {
   "cell_type": "code",
   "execution_count": 14,
   "metadata": {},
   "outputs": [],
   "source": [
    "# список признаков для винсоризации\n",
    "#df.columns\n",
    "features_columns = ['total_length', 'word_count', 'char_count',\n",
    "       'word_density', 'punc_count', 'capitals', 'caps_vs_length',\n",
    "       'num_exclamation_marks', 'num_question_marks', 'num_punctuation',\n",
    "       'num_symbols', 'num_unique_words', 'words_vs_unique',\n",
    "       'word_unique_percent']"
   ]
  },
  {
   "cell_type": "code",
   "execution_count": 15,
   "metadata": {},
   "outputs": [],
   "source": [
    "\n",
    "# # функция винсоризации и обработка признаков по 95 перцентилю\n",
    "# def vinsorization(series, percentile=95):\n",
    "#     percent_value = np.percentile(series, percentile)\n",
    "#     series.loc[series > percent_value] =  percent_value\n",
    "\n",
    "# for column in features_columns:\n",
    "#     vinsorization(df[column])    "
   ]
  },
  {
   "cell_type": "markdown",
   "metadata": {},
   "source": [
    "Проводим анализ полученных признаков в разрезе среднее для токсичных/обычных текстов, относительная разница в показателях между ними и на **наличие выбросов в полученных данных:**\n",
    "- max, максимальное значение показателя датасете (после винсоризации по 95 перцентилю)\n",
    "- perc_95, значение 95 перцентиля\n",
    "\n",
    "**сравнительные показатели:**\n",
    "- d_normalized округленный до целого размер дельты между показателем токсичного и обычного текста - 1 ед. эквивалент 10% разнице в средних)\n"
   ]
  },
  {
   "cell_type": "code",
   "execution_count": 16,
   "metadata": {},
   "outputs": [
    {
     "data": {
      "text/html": [
       "<div>\n",
       "<style scoped>\n",
       "    .dataframe tbody tr th:only-of-type {\n",
       "        vertical-align: middle;\n",
       "    }\n",
       "\n",
       "    .dataframe tbody tr th {\n",
       "        vertical-align: top;\n",
       "    }\n",
       "\n",
       "    .dataframe thead th {\n",
       "        text-align: right;\n",
       "    }\n",
       "</style>\n",
       "<table border=\"1\" class=\"dataframe\">\n",
       "  <thead>\n",
       "    <tr style=\"text-align: left;\">\n",
       "      <th>toxic</th>\n",
       "      <th>0</th>\n",
       "      <th>1</th>\n",
       "      <th>bigger</th>\n",
       "      <th>perc_95</th>\n",
       "      <th>max</th>\n",
       "      <th>delta_%</th>\n",
       "      <th>0_normalized</th>\n",
       "      <th>1_normalized</th>\n",
       "      <th>d_normalized</th>\n",
       "    </tr>\n",
       "  </thead>\n",
       "  <tbody>\n",
       "    <tr>\n",
       "      <th>num_exclamation_marks</th>\n",
       "      <td>0.3434</td>\n",
       "      <td>3.4727</td>\n",
       "      <td>3.4727</td>\n",
       "      <td>2.0000</td>\n",
       "      <td>4942.0000</td>\n",
       "      <td>90.1103</td>\n",
       "      <td>1.0</td>\n",
       "      <td>10.0</td>\n",
       "      <td>9.0</td>\n",
       "    </tr>\n",
       "    <tr>\n",
       "      <th>capitals</th>\n",
       "      <td>14.2370</td>\n",
       "      <td>42.9808</td>\n",
       "      <td>42.9808</td>\n",
       "      <td>49.0000</td>\n",
       "      <td>4960.0000</td>\n",
       "      <td>66.8759</td>\n",
       "      <td>3.0</td>\n",
       "      <td>10.0</td>\n",
       "      <td>7.0</td>\n",
       "    </tr>\n",
       "    <tr>\n",
       "      <th>caps_vs_length</th>\n",
       "      <td>0.0449</td>\n",
       "      <td>0.1110</td>\n",
       "      <td>0.1110</td>\n",
       "      <td>0.1250</td>\n",
       "      <td>0.9982</td>\n",
       "      <td>59.5659</td>\n",
       "      <td>4.0</td>\n",
       "      <td>10.0</td>\n",
       "      <td>6.0</td>\n",
       "    </tr>\n",
       "    <tr>\n",
       "      <th>num_unique_words</th>\n",
       "      <td>49.7809</td>\n",
       "      <td>33.2231</td>\n",
       "      <td>49.7809</td>\n",
       "      <td>146.0000</td>\n",
       "      <td>816.0000</td>\n",
       "      <td>49.8382</td>\n",
       "      <td>10.0</td>\n",
       "      <td>7.0</td>\n",
       "      <td>5.0</td>\n",
       "    </tr>\n",
       "    <tr>\n",
       "      <th>num_punctuation</th>\n",
       "      <td>8.2017</td>\n",
       "      <td>5.9636</td>\n",
       "      <td>8.2017</td>\n",
       "      <td>26.0000</td>\n",
       "      <td>682.0000</td>\n",
       "      <td>37.5299</td>\n",
       "      <td>10.0</td>\n",
       "      <td>7.0</td>\n",
       "      <td>4.0</td>\n",
       "    </tr>\n",
       "    <tr>\n",
       "      <th>char_count</th>\n",
       "      <td>335.8147</td>\n",
       "      <td>251.1515</td>\n",
       "      <td>335.8147</td>\n",
       "      <td>1124.0000</td>\n",
       "      <td>4967.0000</td>\n",
       "      <td>33.7100</td>\n",
       "      <td>10.0</td>\n",
       "      <td>7.0</td>\n",
       "      <td>3.0</td>\n",
       "    </tr>\n",
       "    <tr>\n",
       "      <th>total_length</th>\n",
       "      <td>404.3472</td>\n",
       "      <td>303.3040</td>\n",
       "      <td>404.3472</td>\n",
       "      <td>1355.0000</td>\n",
       "      <td>5000.0000</td>\n",
       "      <td>33.3141</td>\n",
       "      <td>10.0</td>\n",
       "      <td>8.0</td>\n",
       "      <td>3.0</td>\n",
       "    </tr>\n",
       "    <tr>\n",
       "      <th>word_count</th>\n",
       "      <td>68.9211</td>\n",
       "      <td>52.7177</td>\n",
       "      <td>68.9211</td>\n",
       "      <td>230.0000</td>\n",
       "      <td>1411.0000</td>\n",
       "      <td>30.7361</td>\n",
       "      <td>10.0</td>\n",
       "      <td>8.0</td>\n",
       "      <td>3.0</td>\n",
       "    </tr>\n",
       "    <tr>\n",
       "      <th>num_question_marks</th>\n",
       "      <td>0.4336</td>\n",
       "      <td>0.5880</td>\n",
       "      <td>0.5880</td>\n",
       "      <td>2.0000</td>\n",
       "      <td>209.0000</td>\n",
       "      <td>26.2685</td>\n",
       "      <td>7.0</td>\n",
       "      <td>10.0</td>\n",
       "      <td>3.0</td>\n",
       "    </tr>\n",
       "    <tr>\n",
       "      <th>num_symbols</th>\n",
       "      <td>0.1143</td>\n",
       "      <td>0.1418</td>\n",
       "      <td>0.1418</td>\n",
       "      <td>0.0000</td>\n",
       "      <td>148.0000</td>\n",
       "      <td>19.3464</td>\n",
       "      <td>8.0</td>\n",
       "      <td>10.0</td>\n",
       "      <td>2.0</td>\n",
       "    </tr>\n",
       "    <tr>\n",
       "      <th>punc_count</th>\n",
       "      <td>16.0336</td>\n",
       "      <td>14.5764</td>\n",
       "      <td>16.0336</td>\n",
       "      <td>51.0000</td>\n",
       "      <td>4942.0000</td>\n",
       "      <td>9.9969</td>\n",
       "      <td>10.0</td>\n",
       "      <td>9.0</td>\n",
       "      <td>1.0</td>\n",
       "    </tr>\n",
       "    <tr>\n",
       "      <th>word_density</th>\n",
       "      <td>0.2078</td>\n",
       "      <td>0.2179</td>\n",
       "      <td>0.2179</td>\n",
       "      <td>0.2593</td>\n",
       "      <td>0.9655</td>\n",
       "      <td>4.6397</td>\n",
       "      <td>10.0</td>\n",
       "      <td>10.0</td>\n",
       "      <td>0.0</td>\n",
       "    </tr>\n",
       "    <tr>\n",
       "      <th>word_unique_percent</th>\n",
       "      <td>85.2687</td>\n",
       "      <td>87.5620</td>\n",
       "      <td>87.5620</td>\n",
       "      <td>100.0000</td>\n",
       "      <td>100.0000</td>\n",
       "      <td>2.6190</td>\n",
       "      <td>10.0</td>\n",
       "      <td>10.0</td>\n",
       "      <td>0.0</td>\n",
       "    </tr>\n",
       "    <tr>\n",
       "      <th>words_vs_unique</th>\n",
       "      <td>0.8527</td>\n",
       "      <td>0.8756</td>\n",
       "      <td>0.8756</td>\n",
       "      <td>1.0000</td>\n",
       "      <td>1.0000</td>\n",
       "      <td>2.6190</td>\n",
       "      <td>10.0</td>\n",
       "      <td>10.0</td>\n",
       "      <td>0.0</td>\n",
       "    </tr>\n",
       "  </tbody>\n",
       "</table>\n",
       "</div>"
      ],
      "text/plain": [
       "toxic                  0         1         bigger    perc_95    max        \\\n",
       "num_exclamation_marks    0.3434    3.4727    3.4727     2.0000  4942.0000   \n",
       "capitals                14.2370   42.9808   42.9808    49.0000  4960.0000   \n",
       "caps_vs_length           0.0449    0.1110    0.1110     0.1250     0.9982   \n",
       "num_unique_words        49.7809   33.2231   49.7809   146.0000   816.0000   \n",
       "num_punctuation          8.2017    5.9636    8.2017    26.0000   682.0000   \n",
       "char_count             335.8147  251.1515  335.8147  1124.0000  4967.0000   \n",
       "total_length           404.3472  303.3040  404.3472  1355.0000  5000.0000   \n",
       "word_count              68.9211   52.7177   68.9211   230.0000  1411.0000   \n",
       "num_question_marks       0.4336    0.5880    0.5880     2.0000   209.0000   \n",
       "num_symbols              0.1143    0.1418    0.1418     0.0000   148.0000   \n",
       "punc_count              16.0336   14.5764   16.0336    51.0000  4942.0000   \n",
       "word_density             0.2078    0.2179    0.2179     0.2593     0.9655   \n",
       "word_unique_percent     85.2687   87.5620   87.5620   100.0000   100.0000   \n",
       "words_vs_unique          0.8527    0.8756    0.8756     1.0000     1.0000   \n",
       "\n",
       "toxic                  delta_%  0_normalized  1_normalized  d_normalized  \n",
       "num_exclamation_marks  90.1103   1.0          10.0          9.0           \n",
       "capitals               66.8759   3.0          10.0          7.0           \n",
       "caps_vs_length         59.5659   4.0          10.0          6.0           \n",
       "num_unique_words       49.8382  10.0           7.0          5.0           \n",
       "num_punctuation        37.5299  10.0           7.0          4.0           \n",
       "char_count             33.7100  10.0           7.0          3.0           \n",
       "total_length           33.3141  10.0           8.0          3.0           \n",
       "word_count             30.7361  10.0           8.0          3.0           \n",
       "num_question_marks     26.2685   7.0          10.0          3.0           \n",
       "num_symbols            19.3464   8.0          10.0          2.0           \n",
       "punc_count              9.9969  10.0           9.0          1.0           \n",
       "word_density            4.6397  10.0          10.0          0.0           \n",
       "word_unique_percent     2.6190  10.0          10.0          0.0           \n",
       "words_vs_unique         2.6190  10.0          10.0          0.0           "
      ]
     },
     "execution_count": 16,
     "metadata": {},
     "output_type": "execute_result"
    }
   ],
   "source": [
    "df_features_result = df.groupby(by='toxic').mean().transpose()\n",
    "df_features_result['bigger'] = df_features_result.apply(lambda x: x[0] if x[0] > x[1] else x[1], axis=1)\n",
    "df_features_result['perc_95'] = df[df_features_result.index].apply(lambda x: np.percentile(x, 95), axis=0)\n",
    "df_features_result['max'] = df[df_features_result.index].max()\n",
    "df_features_result['delta_%'] = np.abs(df_features_result[0] / df_features_result[1] - 1) * 100\n",
    "# добавляются нормализованиие по уровню 10 данные для построения диаграммы \"радар\"\n",
    "df_features_result['0_normalized'] = np.rint(df_features_result[0] / df_features_result['bigger'] * 10)\n",
    "df_features_result['1_normalized'] = np.rint(df_features_result[1] / df_features_result['bigger'] * 10)\n",
    "df_features_result['d_normalized'] = np.rint(df_features_result['delta_%'] / 10)\n",
    "# сортировка и проверка\n",
    "df_features_result = df_features_result.sort_values(by='delta_%', ascending=False)\n",
    "df_features_result"
   ]
  },
  {
   "cell_type": "code",
   "execution_count": 17,
   "metadata": {},
   "outputs": [],
   "source": [
    "# #код рабочий, но поскольку plotly не сохраняет в Jupyter рисунок, ниже вставлена картинка\n",
    "\n",
    "# fig = px.line_polar(df_features_result, \n",
    "#                     r= df_features_result.loc[columns_features_best, 'd_normalized'].values,\n",
    "#                     theta=columns_features_best, line_close=True,\n",
    "#                     title='Уровень отличий признаков токсичного и обычного текста (больше - сильнее)')\n",
    "# fig.update_traces(fill='toself')\n",
    "# fig.show()"
   ]
  },
  {
   "attachments": {
    "image.png": {
     "image/png": "[encoded data removed]"
    }
   },
   "cell_type": "markdown",
   "metadata": {},
   "source": [
    "![image.png](attachment:image.png)"
   ]
  },
  {
   "cell_type": "markdown",
   "metadata": {},
   "source": [
    "**Вывод** есть несколько признаков существенно больших для токсичных текстов: числовые восклицания!!!, чрезмерное использование заглавных букв, доля заглавных букв в общей длине и при этом бедность на число уникальных слов и знаков пунктуации (грамотность таких писем и семантический уровень примитивны). Признаки стоит использовать. Топ-7 признаков с наибольшей дельтой значений выделены в отдельный список."
   ]
  },
  {
   "cell_type": "code",
   "execution_count": 18,
   "metadata": {},
   "outputs": [],
   "source": [
    "# список признаков имеющих наибольшее отличие между классами 'toxic'\n",
    "# df_features_result.sort_values(by='delta', ascending=False).index\n",
    "columns_features_best = ['num_exclamation_marks', 'num_punctuation', 'num_unique_words',\n",
    "       'char_count', 'total_length', 'word_count', 'punc_count']"
   ]
  },
  {
   "cell_type": "code",
   "execution_count": 19,
   "metadata": {},
   "outputs": [],
   "source": [
    "# fig, ax = plt.subplots(5 ,2, figsize=(16,16))\n",
    "# row, col = 0, 0\n",
    "# for column in columns_features_best:\n",
    "#     sns.kdeplot(data=df[columns_features_best], x=column, hue='toxic', ax=ax[row//2, col%2])\n",
    "#     row+=1; col+=1"
   ]
  },
  {
   "cell_type": "markdown",
   "metadata": {},
   "source": [
    "### Лемматизация"
   ]
  },
  {
   "cell_type": "code",
   "execution_count": 20,
   "metadata": {},
   "outputs": [],
   "source": [
    "\n",
    "wnl = nltk.WordNetLemmatizer()\n",
    "\n",
    "def clear_text(text):\n",
    "    s= text\n",
    "#    s = s.rstrip(\"\\n\")\n",
    "#    s = s.translate(None, punctuation)\n",
    "#    s = ' '.join(filter(None, (word.strip(punctuation) for word in s.split())))\n",
    "#    s = re.sub(\" +\", \" \", s) # удаление лишних пробелов\n",
    "    s = re.sub(r'[^A-Za-z ]', ' ', s)\n",
    "    s = \" \".join(nltk.word_tokenize(s))\n",
    "    s = wnl.lemmatize(s)\n",
    "    return s\n",
    "\n",
    "# проверка работы функции\n",
    "# sentence = ''\":::::And for the second time of asking, when your view completely contradicts the coverage in reliable sources, why should anyone care what you feel? You can\\'t even give a consistent argument - is the opening only supposed to mention significant aspects, or the \"\"most significant\"\" ones?   \\n\\n\"''\n",
    "# clear_text(sentence)"
   ]
  },
  {
   "cell_type": "code",
   "execution_count": 21,
   "metadata": {},
   "outputs": [
    {
     "name": "stdout",
     "output_type": "stream",
     "text": [
      "Wall time: 31.6 s\n"
     ]
    }
   ],
   "source": [
    "%%time\n",
    "# для лемматизированных данных создаем новый столбец, чтобы иметь возможность использовать и BERT и обычную обработку\n",
    "df['lemma'] = df['text'].apply(lambda x: clear_text(x))\n",
    "df['lemma'] = df['lemma'].str.lower() # перевод в нижний регистр"
   ]
  },
  {
   "cell_type": "code",
   "execution_count": 22,
   "metadata": {},
   "outputs": [
    {
     "data": {
      "text/html": [
       "<style  type=\"text/css\" >\n",
       "#T_39a7d844_d82f_11eb_bfa8_001a7dda7115row0_col0,#T_39a7d844_d82f_11eb_bfa8_001a7dda7115row0_col1,#T_39a7d844_d82f_11eb_bfa8_001a7dda7115row1_col0,#T_39a7d844_d82f_11eb_bfa8_001a7dda7115row1_col1,#T_39a7d844_d82f_11eb_bfa8_001a7dda7115row2_col0,#T_39a7d844_d82f_11eb_bfa8_001a7dda7115row2_col1,#T_39a7d844_d82f_11eb_bfa8_001a7dda7115row3_col0,#T_39a7d844_d82f_11eb_bfa8_001a7dda7115row3_col1,#T_39a7d844_d82f_11eb_bfa8_001a7dda7115row4_col0,#T_39a7d844_d82f_11eb_bfa8_001a7dda7115row4_col1{\n",
       "            text-align:  left;\n",
       "        }</style><table id=\"T_39a7d844_d82f_11eb_bfa8_001a7dda7115\" ><thead>    <tr>        <th class=\"blank level0\" ></th>        <th class=\"col_heading level0 col0\" >text</th>        <th class=\"col_heading level0 col1\" >lemma</th>    </tr></thead><tbody>\n",
       "                <tr>\n",
       "                        <th id=\"T_39a7d844_d82f_11eb_bfa8_001a7dda7115level0_row0\" class=\"row_heading level0 row0\" >0</th>\n",
       "                        <td id=\"T_39a7d844_d82f_11eb_bfa8_001a7dda7115row0_col0\" class=\"data row0 col0\" >Explanation\n",
       "Why the edits made under my username Hardcore Metallica Fan were reverted? They weren't vandalisms, just closure on some GAs after I voted at New York Dolls FAC. And please don't remove the template from the talk page since I'm retired now.89.205.38.27</td>\n",
       "                        <td id=\"T_39a7d844_d82f_11eb_bfa8_001a7dda7115row0_col1\" class=\"data row0 col1\" >explanation why the edits made under my username hardcore metallica fan were reverted they weren t vandalisms just closure on some gas after i voted at new york dolls fac and please don t remove the template from the talk page since i m retired now</td>\n",
       "            </tr>\n",
       "            <tr>\n",
       "                        <th id=\"T_39a7d844_d82f_11eb_bfa8_001a7dda7115level0_row1\" class=\"row_heading level0 row1\" >1</th>\n",
       "                        <td id=\"T_39a7d844_d82f_11eb_bfa8_001a7dda7115row1_col0\" class=\"data row1 col0\" >D'aww! He matches this background colour I'm seemingly stuck with. Thanks.  (talk) 21:51, January 11, 2016 (UTC)</td>\n",
       "                        <td id=\"T_39a7d844_d82f_11eb_bfa8_001a7dda7115row1_col1\" class=\"data row1 col1\" >d aww he matches this background colour i m seemingly stuck with thanks talk january utc</td>\n",
       "            </tr>\n",
       "            <tr>\n",
       "                        <th id=\"T_39a7d844_d82f_11eb_bfa8_001a7dda7115level0_row2\" class=\"row_heading level0 row2\" >2</th>\n",
       "                        <td id=\"T_39a7d844_d82f_11eb_bfa8_001a7dda7115row2_col0\" class=\"data row2 col0\" >Hey man, I'm really not trying to edit war. It's just that this guy is constantly removing relevant information and talking to me through edits instead of my talk page. He seems to care more about the formatting than the actual info.</td>\n",
       "                        <td id=\"T_39a7d844_d82f_11eb_bfa8_001a7dda7115row2_col1\" class=\"data row2 col1\" >hey man i m really not trying to edit war it s just that this guy is constantly removing relevant information and talking to me through edits instead of my talk page he seems to care more about the formatting than the actual info</td>\n",
       "            </tr>\n",
       "            <tr>\n",
       "                        <th id=\"T_39a7d844_d82f_11eb_bfa8_001a7dda7115level0_row3\" class=\"row_heading level0 row3\" >3</th>\n",
       "                        <td id=\"T_39a7d844_d82f_11eb_bfa8_001a7dda7115row3_col0\" class=\"data row3 col0\" >\"\n",
       "More\n",
       "I can't make any real suggestions on improvement - I wondered if the section statistics should be later on, or a subsection of \"\"types of accidents\"\"  -I think the references may need tidying so that they are all in the exact same format ie date format etc. I can do that later on, if no-one else does first - if you have any preferences for formatting style on references or want to do it yourself please let me know.\n",
       "\n",
       "There appears to be a backlog on articles for review so I guess there may be a delay until a reviewer turns up. It's listed in the relevant form eg Wikipedia:Good_article_nominations#Transport  \"</td>\n",
       "                        <td id=\"T_39a7d844_d82f_11eb_bfa8_001a7dda7115row3_col1\" class=\"data row3 col1\" >more i can t make any real suggestions on improvement i wondered if the section statistics should be later on or a subsection of types of accidents i think the references may need tidying so that they are all in the exact same format ie date format etc i can do that later on if no one else does first if you have any preferences for formatting style on references or want to do it yourself please let me know there appears to be a backlog on articles for review so i guess there may be a delay until a reviewer turns up it s listed in the relevant form eg wikipedia good article nominations transport</td>\n",
       "            </tr>\n",
       "            <tr>\n",
       "                        <th id=\"T_39a7d844_d82f_11eb_bfa8_001a7dda7115level0_row4\" class=\"row_heading level0 row4\" >4</th>\n",
       "                        <td id=\"T_39a7d844_d82f_11eb_bfa8_001a7dda7115row4_col0\" class=\"data row4 col0\" >You, sir, are my hero. Any chance you remember what page that's on?</td>\n",
       "                        <td id=\"T_39a7d844_d82f_11eb_bfa8_001a7dda7115row4_col1\" class=\"data row4 col1\" >you sir are my hero any chance you remember what page that s on</td>\n",
       "            </tr>\n",
       "    </tbody></table>"
      ],
      "text/plain": [
       "<pandas.io.formats.style.Styler at 0x1a6a88c0fa0>"
      ]
     },
     "execution_count": 22,
     "metadata": {},
     "output_type": "execute_result"
    }
   ],
   "source": [
    "# проверка результата лемматизации\n",
    "df[['text', 'lemma']].head().style.set_properties(**{'text-align':'left'})"
   ]
  },
  {
   "cell_type": "code",
   "execution_count": null,
   "metadata": {},
   "outputs": [],
   "source": []
  },
  {
   "cell_type": "markdown",
   "metadata": {},
   "source": [
    "### TF-IDF"
   ]
  },
  {
   "cell_type": "code",
   "execution_count": 23,
   "metadata": {},
   "outputs": [],
   "source": [
    "train, test = train_test_split(df, test_size = 0.2, shuffle=True, random_state = 210621)\n",
    "corpus_train = train['lemma']\n",
    "corpus_test = test['lemma']"
   ]
  },
  {
   "cell_type": "code",
   "execution_count": 24,
   "metadata": {},
   "outputs": [
    {
     "name": "stdout",
     "output_type": "stream",
     "text": [
      "Wall time: 3.87 s\n"
     ]
    },
    {
     "data": {
      "text/plain": [
       "TfidfVectorizer(stop_words={'a', 'about', 'above', 'after', 'again', 'against',\n",
       "                            'ain', 'all', 'am', 'an', 'and', 'any', 'are',\n",
       "                            'aren', \"aren't\", 'as', 'at', 'be', 'because',\n",
       "                            'been', 'before', 'being', 'below', 'between',\n",
       "                            'both', 'but', 'by', 'can', 'couldn', \"couldn't\", ...})"
      ]
     },
     "execution_count": 24,
     "metadata": {},
     "output_type": "execute_result"
    }
   ],
   "source": [
    "%%time\n",
    "# обучаем модель векторизации лемм на ТРЕНИРОВОЧНЫХ данных\n",
    "stopwords = set(nltk_stopwords.words('english'))\n",
    "model_tfidf = TfidfVectorizer(stop_words=stopwords)  #, ngram_range=(1,2))\n",
    "model_tfidf.fit(corpus_train);"
   ]
  },
  {
   "cell_type": "markdown",
   "metadata": {},
   "source": [
    "Модель для векторизации текста обучена. **Вариант с построением n-грамм вплоть до размерности 3 улучшения целевой метрики не дал.** Поэтому в окончательном варианте от него решено отказаться."
   ]
  },
  {
   "cell_type": "code",
   "execution_count": 25,
   "metadata": {},
   "outputs": [],
   "source": [
    "# # проверка размерности объектов Sparse перед объединением\n",
    "# display(model_tfidf.transform(corpus_train))\n",
    "# display(csr_matrix(train[columns_features_best]))"
   ]
  },
  {
   "cell_type": "markdown",
   "metadata": {},
   "source": [
    "**Для обучения моделей сформировано два набора признаков:**\n",
    "- X_train, X_test - вектора TFIDF\n",
    "- X_train_full, X_test_full - вектора TFIDF + 7 признаков созданных при EDA анализе"
   ]
  },
  {
   "cell_type": "code",
   "execution_count": 26,
   "metadata": {},
   "outputs": [],
   "source": [
    "##########################\n",
    "# создаем обученной моделью TFIDF векторизованные признаки\n",
    "X_train = model_tfidf.transform(corpus_train)\n",
    "X_test = model_tfidf.transform(corpus_test)\n",
    "##########################\n",
    "# в полученный после векторизации объект sparse matrix  добавляем отобранные дополнительные признаки \n",
    "# из списка 'columns_features_best'\n",
    "# X_train_full = csr_matrix(hstack((csr_matrix(train[columns_features_best]), model_tfidf.transform(corpus_train))))\n",
    "# X_test_full = csr_matrix(hstack((csr_matrix(test[columns_features_best]), model_tfidf.transform(corpus_test))))\n",
    "###\n",
    "X_train_full = csr_matrix(hstack((csr_matrix(train[columns_features_best]), X_train)))\n",
    "X_test_full = csr_matrix(hstack((csr_matrix(test[columns_features_best]), X_test)))\n",
    "##########################\n",
    "y_train = train['toxic']\n",
    "y_test = test['toxic']"
   ]
  },
  {
   "cell_type": "code",
   "execution_count": 27,
   "metadata": {},
   "outputs": [
    {
     "name": "stdout",
     "output_type": "stream",
     "text": [
      "train: (127656, 17) X: (127656, 148238) X_train_full: (127656, 148245) y: (127656,)\n",
      "test: (31915, 17) X: (31915, 148238) X_test_full: (31915, 148245) y: (31915,)\n"
     ]
    }
   ],
   "source": [
    "# проверка размерности полученных выборок\n",
    "print('train:', train.shape, 'X:', X_train.shape, 'X_train_full:', X_train_full.shape, 'y:', y_train.shape) \n",
    "print('test:', test.shape, 'X:', X_test.shape, 'X_test_full:', X_test_full.shape, 'y:', y_test.shape)"
   ]
  },
  {
   "cell_type": "code",
   "execution_count": null,
   "metadata": {},
   "outputs": [],
   "source": []
  },
  {
   "cell_type": "markdown",
   "metadata": {},
   "source": [
    "## Обучение"
   ]
  },
  {
   "cell_type": "markdown",
   "metadata": {},
   "source": [
    "### Dummy"
   ]
  },
  {
   "cell_type": "markdown",
   "metadata": {},
   "source": [
    "**Создаем BASELINE (стратифицированная случайная модель).**"
   ]
  },
  {
   "cell_type": "code",
   "execution_count": 28,
   "metadata": {},
   "outputs": [
    {
     "name": "stdout",
     "output_type": "stream",
     "text": [
      "F1 предсказания train / test: 0.10024985585239285 0.10342181985576186\n"
     ]
    }
   ],
   "source": [
    "model_dummy = DummyClassifier(random_state=210621, strategy = 'stratified')\n",
    "model_dummy.fit(X_train, y_train)\n",
    "f1_train_dummy = f1_score(y_train, model_dummy.predict(X_train))\n",
    "f1_test_dummy = f1_score(y_test, model_dummy.predict(X_test))\n",
    "print('F1 предсказания train / test:', f1_train_dummy, f1_test_dummy)"
   ]
  },
  {
   "cell_type": "markdown",
   "metadata": {},
   "source": [
    "### LogisticRegression"
   ]
  },
  {
   "cell_type": "code",
   "execution_count": 29,
   "metadata": {},
   "outputs": [
    {
     "name": "stdout",
     "output_type": "stream",
     "text": [
      "Fitting 2 folds for each of 1 candidates, totalling 2 fits\n"
     ]
    },
    {
     "name": "stderr",
     "output_type": "stream",
     "text": [
      "[Parallel(n_jobs=-1)]: Using backend LokyBackend with 12 concurrent workers.\n",
      "[Parallel(n_jobs=-1)]: Done   2 out of   2 | elapsed:   16.2s finished\n"
     ]
    },
    {
     "data": {
      "text/plain": [
       "{'l1_ratio': 0.99, 'max_iter': 250, 'penalty': 'elasticnet', 'solver': 'saga'}"
      ]
     },
     "metadata": {},
     "output_type": "display_data"
    },
    {
     "name": "stdout",
     "output_type": "stream",
     "text": [
      "F1 предсказания train / test: 0.7904186372394465 0.777542372881356\n"
     ]
    }
   ],
   "source": [
    "# %%time\n",
    "model_LR = LogisticRegression(random_state = 210621)\n",
    "\n",
    "params_LR = [\n",
    "# гиперпараметры алгоритма SAGA    \n",
    "             {\n",
    "                'solver': ['saga'], \n",
    "                'penalty': ['elasticnet'], \n",
    "                'l1_ratio': [0.99], \n",
    "                'max_iter': [250]               \n",
    "} ,\n",
    "# гиперпараметры алгоритма LGBM        \n",
    "#              {\n",
    "#                 'solver': ['lgbm'], \n",
    "#                 'max_iter': [100]               \n",
    "# }\n",
    "] \n",
    "\n",
    "grid_LR = GridSearchCV(model_LR, params_LR, cv=2, scoring='f1', n_jobs=-1, verbose=1) \n",
    "grid_LR.fit(X_train, y_train);\n",
    "display(grid_LR.best_params_)\n",
    "\n",
    "f1_train_LR = f1_score(y_train, grid_LR.predict(X_train))\n",
    "f1_test_LR = f1_score(y_test, grid_LR.predict(X_test))\n",
    "print('F1 предсказания train / test:', f1_train_LR, f1_test_LR)"
   ]
  },
  {
   "cell_type": "code",
   "execution_count": 30,
   "metadata": {},
   "outputs": [],
   "source": [
    "# проверка значимости параметров по коэффициентам регрессии\n",
    "# coef_LR = grid_LR.best_estimator_.coef_[0]\n",
    "# print(coef_LR[0], coef_LR.max())"
   ]
  },
  {
   "cell_type": "code",
   "execution_count": 31,
   "metadata": {},
   "outputs": [],
   "source": [
    "# # %%time\n",
    "# model = LogisticRegression(\n",
    "#                             random_state = 210621,  \n",
    "# #                             solver='saga', penalty='elasticnet', l1_ratio=0.99,\n",
    "#                              max_iter=1000, verbose=1, n_jobs=-1 \n",
    "# )\n",
    "# model.fit(X_train_full, y_train);\n",
    "# f1_train = f1_score(y_train, model.predict(X_train_full))\n",
    "# f1_test = f1_score(y_test, model.predict(X_test_full))\n",
    "# f1_train, f1_test"
   ]
  },
  {
   "cell_type": "code",
   "execution_count": null,
   "metadata": {},
   "outputs": [],
   "source": []
  },
  {
   "cell_type": "markdown",
   "metadata": {},
   "source": [
    "### LGBM"
   ]
  },
  {
   "cell_type": "markdown",
   "metadata": {},
   "source": [
    "Подбор гиперпараметров выполнялся через GridSearchCV на сокращенной выборке, обучение на всей выборке train напрямую в lightgbm (дает лучший результат чем через lightgbm.sklearn)"
   ]
  },
  {
   "cell_type": "code",
   "execution_count": 32,
   "metadata": {},
   "outputs": [],
   "source": [
    "# подборка гиперпараметров для оптимизации\n",
    "# 'LGBMClassifier': {\n",
    "#         'boosting_type': ['gbdt'],\n",
    "#         'objective': ['binary'],\n",
    "#         'learning_rate': [0.02,0.05],\n",
    "#         'num_leaves': [50,75],\n",
    "#         'feature_fraction': [0.64,0.8],\n",
    "#         'bagging_fraction': [0.8,0.9],\n",
    "#         'bagging_freq': [1,2]\n"
   ]
  },
  {
   "cell_type": "code",
   "execution_count": 33,
   "metadata": {},
   "outputs": [],
   "source": [
    "# %%time\n",
    "# # подбор гиперпараметров lightgbm на уменьшенной выборке\n",
    "# X, y = X_train[:10000], y_train[:10000]\n",
    "\n",
    "# lgbm = LGBMClassifier(random_state=13)\n",
    "# params_lgbm = { \n",
    "#         'boosting_type': ['gbdt'],\n",
    "#         'objective': ['binary'],\n",
    "#         'max_bin': [100],\n",
    "#         'learning_rate': [0.1]\n",
    "        \n",
    "# }    \n",
    "\n",
    "# grid_lgbm = GridSearchCV(lgbm, params_lgbm, cv=2, scoring='f1', verbose=1, n_jobs=1)                 \n",
    "# grid_lgbm.fit(X, y)\n",
    "# display(grid_lgbm.best_params_, grid_lgbm.best_score_)                 "
   ]
  },
  {
   "cell_type": "code",
   "execution_count": 34,
   "metadata": {},
   "outputs": [
    {
     "name": "stdout",
     "output_type": "stream",
     "text": [
      "Старт обучения...\n",
      "[LightGBM] [Info] Number of positive: 6502, number of negative: 57326\n",
      "[LightGBM] [Info] This is the GPU trainer!!\n",
      "[LightGBM] [Info] Total Bins 276991\n",
      "[LightGBM] [Info] Number of data points in the train set: 63828, number of used features: 7953\n",
      "[LightGBM] [Info] Using GPU Device: gfx1030, Vendor: Advanced Micro Devices, Inc.\n",
      "[LightGBM] [Info] Compiling OpenCL Kernel with 256 bins...\n",
      "[LightGBM] [Info] GPU programs have been built\n",
      "[LightGBM] [Info] Size of histogram bin entry: 8\n",
      "[LightGBM] [Info] 6 dense feature groups (0.49 MB) transferred to GPU in 0.001597 secs. 1 sparse feature groups\n",
      "[LightGBM] [Info] [binary:BoostFromScore]: pavg=0.101868 -> initscore=-2.176644\n",
      "[LightGBM] [Info] Start training from score -2.176644\n",
      "[1]\tvalid_0's binary_logloss: 0.285647\n",
      "Training until validation scores don't improve for 15 rounds\n",
      "[2]\tvalid_0's binary_logloss: 0.267025\n",
      "[3]\tvalid_0's binary_logloss: 0.253423\n",
      "[4]\tvalid_0's binary_logloss: 0.242726\n",
      "[5]\tvalid_0's binary_logloss: 0.234664\n",
      "[6]\tvalid_0's binary_logloss: 0.227463\n",
      "[7]\tvalid_0's binary_logloss: 0.221794\n",
      "[8]\tvalid_0's binary_logloss: 0.216907\n",
      "[9]\tvalid_0's binary_logloss: 0.211963\n",
      "[10]\tvalid_0's binary_logloss: 0.208255\n",
      "[11]\tvalid_0's binary_logloss: 0.204044\n",
      "[12]\tvalid_0's binary_logloss: 0.200871\n",
      "[13]\tvalid_0's binary_logloss: 0.197441\n",
      "[14]\tvalid_0's binary_logloss: 0.19505\n",
      "[15]\tvalid_0's binary_logloss: 0.192149\n",
      "[16]\tvalid_0's binary_logloss: 0.188886\n",
      "[17]\tvalid_0's binary_logloss: 0.186661\n",
      "[18]\tvalid_0's binary_logloss: 0.184796\n",
      "[19]\tvalid_0's binary_logloss: 0.182872\n",
      "[20]\tvalid_0's binary_logloss: 0.180556\n",
      "[21]\tvalid_0's binary_logloss: 0.178382\n",
      "[22]\tvalid_0's binary_logloss: 0.176742\n",
      "[23]\tvalid_0's binary_logloss: 0.174519\n",
      "[24]\tvalid_0's binary_logloss: 0.172961\n",
      "[25]\tvalid_0's binary_logloss: 0.171117\n",
      "[26]\tvalid_0's binary_logloss: 0.169593\n",
      "[27]\tvalid_0's binary_logloss: 0.167952\n",
      "[28]\tvalid_0's binary_logloss: 0.166527\n",
      "[29]\tvalid_0's binary_logloss: 0.165113\n",
      "[30]\tvalid_0's binary_logloss: 0.164151\n",
      "[31]\tvalid_0's binary_logloss: 0.162651\n",
      "[32]\tvalid_0's binary_logloss: 0.161609\n",
      "[33]\tvalid_0's binary_logloss: 0.160177\n",
      "[34]\tvalid_0's binary_logloss: 0.158942\n",
      "[35]\tvalid_0's binary_logloss: 0.157498\n",
      "[36]\tvalid_0's binary_logloss: 0.1565\n",
      "[37]\tvalid_0's binary_logloss: 0.155774\n",
      "[38]\tvalid_0's binary_logloss: 0.155116\n",
      "[39]\tvalid_0's binary_logloss: 0.154204\n",
      "[40]\tvalid_0's binary_logloss: 0.153317\n",
      "[41]\tvalid_0's binary_logloss: 0.152439\n",
      "[42]\tvalid_0's binary_logloss: 0.151292\n",
      "[43]\tvalid_0's binary_logloss: 0.150441\n",
      "[44]\tvalid_0's binary_logloss: 0.149671\n",
      "[45]\tvalid_0's binary_logloss: 0.148946\n",
      "[46]\tvalid_0's binary_logloss: 0.148413\n",
      "[47]\tvalid_0's binary_logloss: 0.14774\n",
      "[48]\tvalid_0's binary_logloss: 0.14693\n",
      "[49]\tvalid_0's binary_logloss: 0.146238\n",
      "[50]\tvalid_0's binary_logloss: 0.145706\n",
      "[51]\tvalid_0's binary_logloss: 0.145089\n",
      "[52]\tvalid_0's binary_logloss: 0.144703\n",
      "[53]\tvalid_0's binary_logloss: 0.14401\n",
      "[54]\tvalid_0's binary_logloss: 0.143462\n",
      "[55]\tvalid_0's binary_logloss: 0.142986\n",
      "[56]\tvalid_0's binary_logloss: 0.142478\n",
      "[57]\tvalid_0's binary_logloss: 0.142003\n",
      "[58]\tvalid_0's binary_logloss: 0.141524\n",
      "[59]\tvalid_0's binary_logloss: 0.141033\n",
      "[60]\tvalid_0's binary_logloss: 0.140558\n",
      "[61]\tvalid_0's binary_logloss: 0.140067\n",
      "[62]\tvalid_0's binary_logloss: 0.139719\n",
      "[63]\tvalid_0's binary_logloss: 0.139293\n",
      "[64]\tvalid_0's binary_logloss: 0.138864\n",
      "[65]\tvalid_0's binary_logloss: 0.138451\n",
      "[66]\tvalid_0's binary_logloss: 0.138069\n",
      "[67]\tvalid_0's binary_logloss: 0.137745\n",
      "[68]\tvalid_0's binary_logloss: 0.137389\n",
      "[69]\tvalid_0's binary_logloss: 0.136944\n",
      "[70]\tvalid_0's binary_logloss: 0.136655\n",
      "[71]\tvalid_0's binary_logloss: 0.136388\n",
      "[72]\tvalid_0's binary_logloss: 0.136102\n",
      "[73]\tvalid_0's binary_logloss: 0.135795\n",
      "[74]\tvalid_0's binary_logloss: 0.135449\n",
      "[75]\tvalid_0's binary_logloss: 0.135083\n",
      "[76]\tvalid_0's binary_logloss: 0.134843\n",
      "[77]\tvalid_0's binary_logloss: 0.134547\n",
      "[78]\tvalid_0's binary_logloss: 0.134368\n",
      "[79]\tvalid_0's binary_logloss: 0.134053\n",
      "[80]\tvalid_0's binary_logloss: 0.133739\n",
      "[81]\tvalid_0's binary_logloss: 0.133507\n",
      "[82]\tvalid_0's binary_logloss: 0.133297\n",
      "[83]\tvalid_0's binary_logloss: 0.133087\n",
      "[84]\tvalid_0's binary_logloss: 0.132857\n",
      "[85]\tvalid_0's binary_logloss: 0.132645\n",
      "[86]\tvalid_0's binary_logloss: 0.132417\n",
      "[87]\tvalid_0's binary_logloss: 0.13213\n",
      "[88]\tvalid_0's binary_logloss: 0.131924\n",
      "[89]\tvalid_0's binary_logloss: 0.131702\n",
      "[90]\tvalid_0's binary_logloss: 0.131548\n",
      "[91]\tvalid_0's binary_logloss: 0.131368\n",
      "[92]\tvalid_0's binary_logloss: 0.131177\n",
      "[93]\tvalid_0's binary_logloss: 0.131023\n",
      "[94]\tvalid_0's binary_logloss: 0.130812\n",
      "[95]\tvalid_0's binary_logloss: 0.130649\n",
      "[96]\tvalid_0's binary_logloss: 0.130498\n",
      "[97]\tvalid_0's binary_logloss: 0.130344\n",
      "[98]\tvalid_0's binary_logloss: 0.130212\n",
      "[99]\tvalid_0's binary_logloss: 0.130011\n",
      "[100]\tvalid_0's binary_logloss: 0.129853\n",
      "[101]\tvalid_0's binary_logloss: 0.129698\n",
      "[102]\tvalid_0's binary_logloss: 0.129544\n",
      "[103]\tvalid_0's binary_logloss: 0.129321\n",
      "[104]\tvalid_0's binary_logloss: 0.129192\n",
      "[105]\tvalid_0's binary_logloss: 0.129035\n",
      "[106]\tvalid_0's binary_logloss: 0.128919\n",
      "[107]\tvalid_0's binary_logloss: 0.128783\n",
      "[108]\tvalid_0's binary_logloss: 0.12866\n",
      "[109]\tvalid_0's binary_logloss: 0.12854\n",
      "[110]\tvalid_0's binary_logloss: 0.128389\n",
      "[111]\tvalid_0's binary_logloss: 0.128303\n",
      "[112]\tvalid_0's binary_logloss: 0.12815\n",
      "[113]\tvalid_0's binary_logloss: 0.128076\n",
      "[114]\tvalid_0's binary_logloss: 0.127972\n",
      "[115]\tvalid_0's binary_logloss: 0.127881\n",
      "[116]\tvalid_0's binary_logloss: 0.127771\n",
      "[117]\tvalid_0's binary_logloss: 0.127658\n",
      "[118]\tvalid_0's binary_logloss: 0.127483\n",
      "[119]\tvalid_0's binary_logloss: 0.127349\n",
      "[120]\tvalid_0's binary_logloss: 0.127227\n",
      "[121]\tvalid_0's binary_logloss: 0.127092\n",
      "[122]\tvalid_0's binary_logloss: 0.127008\n",
      "[123]\tvalid_0's binary_logloss: 0.126894\n",
      "[124]\tvalid_0's binary_logloss: 0.126766\n",
      "[125]\tvalid_0's binary_logloss: 0.126683\n",
      "[126]\tvalid_0's binary_logloss: 0.12661\n",
      "[127]\tvalid_0's binary_logloss: 0.126511\n",
      "[128]\tvalid_0's binary_logloss: 0.126467\n",
      "[129]\tvalid_0's binary_logloss: 0.126409\n",
      "[130]\tvalid_0's binary_logloss: 0.126314\n",
      "[131]\tvalid_0's binary_logloss: 0.126202\n",
      "[132]\tvalid_0's binary_logloss: 0.126118\n",
      "[133]\tvalid_0's binary_logloss: 0.125973\n",
      "[134]\tvalid_0's binary_logloss: 0.125858\n",
      "[135]\tvalid_0's binary_logloss: 0.125787\n",
      "[136]\tvalid_0's binary_logloss: 0.125689\n",
      "[137]\tvalid_0's binary_logloss: 0.125644\n",
      "[138]\tvalid_0's binary_logloss: 0.125539\n",
      "[139]\tvalid_0's binary_logloss: 0.125475\n",
      "[140]\tvalid_0's binary_logloss: 0.125413\n",
      "[141]\tvalid_0's binary_logloss: 0.125343\n",
      "[142]\tvalid_0's binary_logloss: 0.125324\n",
      "[143]\tvalid_0's binary_logloss: 0.125228\n",
      "[144]\tvalid_0's binary_logloss: 0.125175\n",
      "[145]\tvalid_0's binary_logloss: 0.125112\n",
      "[146]\tvalid_0's binary_logloss: 0.124997\n",
      "[147]\tvalid_0's binary_logloss: 0.124932\n",
      "[148]\tvalid_0's binary_logloss: 0.124923\n",
      "[149]\tvalid_0's binary_logloss: 0.124895\n",
      "[150]\tvalid_0's binary_logloss: 0.12486\n",
      "[151]\tvalid_0's binary_logloss: 0.124785\n",
      "[152]\tvalid_0's binary_logloss: 0.124725\n",
      "[153]\tvalid_0's binary_logloss: 0.124635\n",
      "[154]\tvalid_0's binary_logloss: 0.124582\n",
      "[155]\tvalid_0's binary_logloss: 0.124513\n",
      "[156]\tvalid_0's binary_logloss: 0.124483\n",
      "[157]\tvalid_0's binary_logloss: 0.124401\n",
      "[158]\tvalid_0's binary_logloss: 0.124293\n",
      "[159]\tvalid_0's binary_logloss: 0.124291\n",
      "[160]\tvalid_0's binary_logloss: 0.124269\n",
      "[161]\tvalid_0's binary_logloss: 0.1242\n",
      "[162]\tvalid_0's binary_logloss: 0.124163\n",
      "[163]\tvalid_0's binary_logloss: 0.124142\n",
      "[164]\tvalid_0's binary_logloss: 0.124085\n",
      "[165]\tvalid_0's binary_logloss: 0.123992\n",
      "[166]\tvalid_0's binary_logloss: 0.12394\n",
      "[167]\tvalid_0's binary_logloss: 0.12388\n",
      "[168]\tvalid_0's binary_logloss: 0.123858\n",
      "[169]\tvalid_0's binary_logloss: 0.123852\n",
      "[170]\tvalid_0's binary_logloss: 0.1238\n",
      "[171]\tvalid_0's binary_logloss: 0.123725\n",
      "[172]\tvalid_0's binary_logloss: 0.123666\n",
      "[173]\tvalid_0's binary_logloss: 0.123627\n",
      "[174]\tvalid_0's binary_logloss: 0.123595\n",
      "[175]\tvalid_0's binary_logloss: 0.123537\n",
      "[176]\tvalid_0's binary_logloss: 0.123494\n",
      "[177]\tvalid_0's binary_logloss: 0.123431\n",
      "[178]\tvalid_0's binary_logloss: 0.123361\n",
      "[179]\tvalid_0's binary_logloss: 0.123333\n",
      "[180]\tvalid_0's binary_logloss: 0.123276\n",
      "[181]\tvalid_0's binary_logloss: 0.123231\n",
      "[182]\tvalid_0's binary_logloss: 0.123188\n",
      "[183]\tvalid_0's binary_logloss: 0.123122\n",
      "[184]\tvalid_0's binary_logloss: 0.123108\n"
     ]
    },
    {
     "name": "stdout",
     "output_type": "stream",
     "text": [
      "[185]\tvalid_0's binary_logloss: 0.123044\n",
      "[186]\tvalid_0's binary_logloss: 0.122994\n",
      "[187]\tvalid_0's binary_logloss: 0.122929\n",
      "[188]\tvalid_0's binary_logloss: 0.122922\n",
      "[189]\tvalid_0's binary_logloss: 0.122881\n",
      "[190]\tvalid_0's binary_logloss: 0.122882\n",
      "[191]\tvalid_0's binary_logloss: 0.12288\n",
      "[192]\tvalid_0's binary_logloss: 0.122867\n",
      "[193]\tvalid_0's binary_logloss: 0.122785\n",
      "[194]\tvalid_0's binary_logloss: 0.122776\n",
      "[195]\tvalid_0's binary_logloss: 0.122784\n",
      "[196]\tvalid_0's binary_logloss: 0.12274\n",
      "[197]\tvalid_0's binary_logloss: 0.122702\n",
      "[198]\tvalid_0's binary_logloss: 0.122673\n",
      "[199]\tvalid_0's binary_logloss: 0.122618\n",
      "[200]\tvalid_0's binary_logloss: 0.12262\n",
      "[201]\tvalid_0's binary_logloss: 0.12259\n",
      "[202]\tvalid_0's binary_logloss: 0.122555\n",
      "[203]\tvalid_0's binary_logloss: 0.122506\n",
      "[204]\tvalid_0's binary_logloss: 0.122482\n",
      "[205]\tvalid_0's binary_logloss: 0.122472\n",
      "[206]\tvalid_0's binary_logloss: 0.122446\n",
      "[207]\tvalid_0's binary_logloss: 0.122414\n",
      "[208]\tvalid_0's binary_logloss: 0.122386\n",
      "[209]\tvalid_0's binary_logloss: 0.122333\n",
      "[210]\tvalid_0's binary_logloss: 0.12227\n",
      "[211]\tvalid_0's binary_logloss: 0.122261\n",
      "[212]\tvalid_0's binary_logloss: 0.122201\n",
      "[213]\tvalid_0's binary_logloss: 0.122151\n",
      "[214]\tvalid_0's binary_logloss: 0.122162\n",
      "[215]\tvalid_0's binary_logloss: 0.122142\n",
      "[216]\tvalid_0's binary_logloss: 0.122098\n",
      "[217]\tvalid_0's binary_logloss: 0.122098\n",
      "[218]\tvalid_0's binary_logloss: 0.122101\n",
      "[219]\tvalid_0's binary_logloss: 0.122079\n",
      "[220]\tvalid_0's binary_logloss: 0.122108\n",
      "[221]\tvalid_0's binary_logloss: 0.122073\n",
      "[222]\tvalid_0's binary_logloss: 0.122049\n",
      "[223]\tvalid_0's binary_logloss: 0.122019\n",
      "[224]\tvalid_0's binary_logloss: 0.121994\n",
      "[225]\tvalid_0's binary_logloss: 0.121963\n",
      "[226]\tvalid_0's binary_logloss: 0.121976\n",
      "[227]\tvalid_0's binary_logloss: 0.121942\n",
      "[228]\tvalid_0's binary_logloss: 0.121919\n",
      "[229]\tvalid_0's binary_logloss: 0.121903\n",
      "[230]\tvalid_0's binary_logloss: 0.121896\n",
      "[231]\tvalid_0's binary_logloss: 0.12189\n",
      "[232]\tvalid_0's binary_logloss: 0.121909\n",
      "[233]\tvalid_0's binary_logloss: 0.12189\n",
      "[234]\tvalid_0's binary_logloss: 0.121849\n",
      "[235]\tvalid_0's binary_logloss: 0.121858\n",
      "[236]\tvalid_0's binary_logloss: 0.12186\n",
      "[237]\tvalid_0's binary_logloss: 0.121823\n",
      "[238]\tvalid_0's binary_logloss: 0.121787\n",
      "[239]\tvalid_0's binary_logloss: 0.121733\n",
      "[240]\tvalid_0's binary_logloss: 0.121748\n",
      "[241]\tvalid_0's binary_logloss: 0.121711\n",
      "[242]\tvalid_0's binary_logloss: 0.121679\n",
      "[243]\tvalid_0's binary_logloss: 0.121686\n",
      "[244]\tvalid_0's binary_logloss: 0.121696\n",
      "[245]\tvalid_0's binary_logloss: 0.121669\n",
      "[246]\tvalid_0's binary_logloss: 0.121637\n",
      "[247]\tvalid_0's binary_logloss: 0.121621\n",
      "[248]\tvalid_0's binary_logloss: 0.121581\n",
      "[249]\tvalid_0's binary_logloss: 0.121534\n",
      "[250]\tvalid_0's binary_logloss: 0.121527\n",
      "[251]\tvalid_0's binary_logloss: 0.121548\n",
      "[252]\tvalid_0's binary_logloss: 0.121531\n",
      "[253]\tvalid_0's binary_logloss: 0.121535\n",
      "[254]\tvalid_0's binary_logloss: 0.12154\n",
      "[255]\tvalid_0's binary_logloss: 0.121517\n",
      "[256]\tvalid_0's binary_logloss: 0.121504\n",
      "[257]\tvalid_0's binary_logloss: 0.121499\n",
      "[258]\tvalid_0's binary_logloss: 0.121504\n",
      "[259]\tvalid_0's binary_logloss: 0.121506\n",
      "[260]\tvalid_0's binary_logloss: 0.121501\n",
      "[261]\tvalid_0's binary_logloss: 0.121484\n",
      "[262]\tvalid_0's binary_logloss: 0.121488\n",
      "[263]\tvalid_0's binary_logloss: 0.121451\n",
      "[264]\tvalid_0's binary_logloss: 0.121448\n",
      "[265]\tvalid_0's binary_logloss: 0.121447\n",
      "[266]\tvalid_0's binary_logloss: 0.121439\n",
      "[267]\tvalid_0's binary_logloss: 0.121414\n",
      "[268]\tvalid_0's binary_logloss: 0.121425\n",
      "[269]\tvalid_0's binary_logloss: 0.121413\n",
      "[270]\tvalid_0's binary_logloss: 0.121421\n",
      "[271]\tvalid_0's binary_logloss: 0.12141\n",
      "[272]\tvalid_0's binary_logloss: 0.121401\n",
      "[273]\tvalid_0's binary_logloss: 0.121395\n",
      "[274]\tvalid_0's binary_logloss: 0.121386\n",
      "[275]\tvalid_0's binary_logloss: 0.12138\n",
      "[276]\tvalid_0's binary_logloss: 0.121376\n",
      "[277]\tvalid_0's binary_logloss: 0.121377\n",
      "[278]\tvalid_0's binary_logloss: 0.121391\n",
      "[279]\tvalid_0's binary_logloss: 0.121411\n",
      "[280]\tvalid_0's binary_logloss: 0.121399\n",
      "[281]\tvalid_0's binary_logloss: 0.121414\n",
      "[282]\tvalid_0's binary_logloss: 0.121429\n",
      "[283]\tvalid_0's binary_logloss: 0.121441\n",
      "[284]\tvalid_0's binary_logloss: 0.121427\n",
      "[285]\tvalid_0's binary_logloss: 0.121394\n",
      "[286]\tvalid_0's binary_logloss: 0.121412\n",
      "[287]\tvalid_0's binary_logloss: 0.121434\n",
      "[288]\tvalid_0's binary_logloss: 0.121412\n",
      "[289]\tvalid_0's binary_logloss: 0.121411\n",
      "[290]\tvalid_0's binary_logloss: 0.121408\n",
      "[291]\tvalid_0's binary_logloss: 0.121397\n",
      "Early stopping, best iteration is:\n",
      "[276]\tvalid_0's binary_logloss: 0.121376\n",
      "Модель LightGBM\n",
      "Wall time: 2min 26s\n"
     ]
    }
   ],
   "source": [
    "%%time\n",
    "import lightgbm as lgb\n",
    "\n",
    "X_train_lgb, X_valid_lgb, y_train_lgb, y_valid_lgb = train_test_split(X_train_full, y_train, \n",
    "                                                                      test_size=0.5, shuffle=True, random_state=13)\n",
    "lgb_train = lgb.Dataset(X_train_lgb, y_train_lgb )\n",
    "lgb_eval = lgb.Dataset(X_valid_lgb, y_valid_lgb, reference=lgb_train)\n",
    "\n",
    "# словарь с параметрами\n",
    "params = {    \n",
    "        'boosting_type': 'gbdt',\n",
    "        'objective': 'binary',\n",
    "        'max_bin': 100,\n",
    "        'learning_rate': 0.1,\n",
    "#         'feature_fraction': 0.7,\n",
    "#         'bagging_fraction': 0.8,\n",
    "#         'bagging_freq': 1,\n",
    "#         'cross_entropy': 0.4, \n",
    "#         'num_leaves': 40,\n",
    "#         'min_data_in_leaf': 5,\n",
    "    \n",
    "    'num_iterations': 200,\n",
    "    'device_type': 'gpu',\n",
    "    'verbose': 1, \n",
    "}\n",
    "\n",
    "print('Старт обучения...')\n",
    "\n",
    "gbm = lgb.train(params,\n",
    "                lgb_train,\n",
    "                num_boost_round=20,\n",
    "                valid_sets=lgb_eval,\n",
    "                early_stopping_rounds=15\n",
    "                )\n",
    "\n"
   ]
  },
  {
   "cell_type": "code",
   "execution_count": 80,
   "metadata": {},
   "outputs": [
    {
     "name": "stdout",
     "output_type": "stream",
     "text": [
      "Модель LightGBM\n",
      "F1 предсказания train: 0.8244708311822406\n",
      "F1 предсказания test: 0.7652916073968705\n"
     ]
    }
   ],
   "source": [
    "print('Модель LightGBM')\n",
    "print('F1 предсказания train:', f1_score(y_train, np.rint(gbm.predict(X_train_full, num_iteration=gbm.best_iteration))))\n",
    "print('F1 предсказания test:', f1_score(y_test, np.rint(gbm.predict(X_test_full, num_iteration=gbm.best_iteration))))"
   ]
  },
  {
   "cell_type": "markdown",
   "metadata": {},
   "source": [
    "### BERT"
   ]
  },
  {
   "cell_type": "markdown",
   "metadata": {},
   "source": [
    "Для ускорения вычислений введено граничение длины предложения. Поскольку после встроенной токенизации BERT длина предложения может возрасти (в настройках спец. знаки выделяются как отдельные слова) обрезка выполняется до токенизации для ускорения вычислений и после нее для однотипности."
   ]
  },
  {
   "cell_type": "code",
   "execution_count": 36,
   "metadata": {},
   "outputs": [],
   "source": [
    "# ограничение длины предложения для модели BERT\n",
    "SENT_LENTH = 128"
   ]
  },
  {
   "cell_type": "code",
   "execution_count": 37,
   "metadata": {},
   "outputs": [],
   "source": [
    "# #вариант с загрузкой пользовательского словаря\n",
    "# tokenizer = transformers.BertTokenizer(vocab_file='/datasets/vocab.txt') \n",
    "# вариант со словарем BERT по умолчанию \n",
    "tokenizer = transformers.BertTokenizer.from_pretrained('bert-base-uncased')"
   ]
  },
  {
   "cell_type": "code",
   "execution_count": 38,
   "metadata": {},
   "outputs": [],
   "source": [
    "# модель BERT не работает со строками длиннее 512 слов, поэтому предварительно обрезаем текст \n",
    "# после токенизации выполняем повторную обрезку поскольку длина могла возрасти после токенизации\n",
    "df['text_512'] = df['text'].apply(lambda x: (' ').join(x.split(' ')[:SENT_LENTH]))"
   ]
  },
  {
   "cell_type": "code",
   "execution_count": 39,
   "metadata": {},
   "outputs": [
    {
     "name": "stderr",
     "output_type": "stream",
     "text": [
      "Token indices sequence length is longer than the specified maximum sequence length for this model (525 > 512). Running this sequence through the model will result in indexing errors\n"
     ]
    },
    {
     "name": "stdout",
     "output_type": "stream",
     "text": [
      "Wall time: 2min 6s\n"
     ]
    }
   ],
   "source": [
    "%%time\n",
    "# токенизация текстов\n",
    "tokenized = df['text_512'].apply(lambda x: tokenizer.encode(x, add_special_tokens=True))"
   ]
  },
  {
   "cell_type": "code",
   "execution_count": 40,
   "metadata": {},
   "outputs": [],
   "source": [
    "# обрезка токенизированного массива по установленной длине SENT_LENTH\n",
    "# tokenized = [i[:SENT_LENTH]  for i in tokenized.values]\n",
    "# + заполнение пустых значений \"0\" до максимальной длины предложения\n",
    "tokenized = np.array(pd.DataFrame([i[:SENT_LENTH]  for i in tokenized.values]).fillna(0))"
   ]
  },
  {
   "cell_type": "code",
   "execution_count": 41,
   "metadata": {},
   "outputs": [],
   "source": [
    "padded = tokenized\n",
    "attention_mask = np.where(padded != 0, 1, 0)"
   ]
  },
  {
   "cell_type": "code",
   "execution_count": 42,
   "metadata": {},
   "outputs": [],
   "source": [
    "# вариант обработки матрицы tokenized в формате DataFrame\n",
    "# max_len = 0\n",
    "# for i in tokenized.values:\n",
    "#     if len(i) > max_len:\n",
    "#         max_len = len(i)\n",
    "# print('максимальная длина текста', max_len)\n",
    "\n",
    "# padded = np.array([i + [0]*(max_len - len(i)) for i in tokenized.values])\n",
    "# attention_mask = np.where(padded != 0, 1, 0)"
   ]
  },
  {
   "cell_type": "code",
   "execution_count": 43,
   "metadata": {},
   "outputs": [
    {
     "name": "stderr",
     "output_type": "stream",
     "text": [
      "Some weights of the model checkpoint at bert-base-uncased were not used when initializing BertModel: ['cls.seq_relationship.weight', 'cls.seq_relationship.bias', 'cls.predictions.transform.dense.bias', 'cls.predictions.transform.dense.weight', 'cls.predictions.bias', 'cls.predictions.transform.LayerNorm.weight', 'cls.predictions.decoder.weight', 'cls.predictions.transform.LayerNorm.bias']\n",
      "- This IS expected if you are initializing BertModel from the checkpoint of a model trained on another task or with another architecture (e.g. initializing a BertForSequenceClassification model from a BertForPreTraining model).\n",
      "- This IS NOT expected if you are initializing BertModel from the checkpoint of a model that you expect to be exactly identical (initializing a BertForSequenceClassification model from a BertForSequenceClassification model).\n"
     ]
    }
   ],
   "source": [
    "# config = transformers.BertConfig.from_json_file('/datasets/ds_bert/bert_config.json')\n",
    "# model = transformers.BertModel.from_pretrained('/datasets/ds_bert/rubert_model.bin', config=config)\n",
    "# убрать предупреждения\n",
    "# from transformers import logging\n",
    "# logging.set_verbosity_warning()\n",
    "#################################\n",
    "model = transformers.BertModel.from_pretrained('bert-base-uncased')"
   ]
  },
  {
   "cell_type": "code",
   "execution_count": 44,
   "metadata": {},
   "outputs": [],
   "source": [
    "# установка сборщика мусора.\n",
    "# иначе получаем ошибку\n",
    "# DefaultCPUAllocator: not enough memory: you tried to allocate 100663296 bytes.\n",
    "import gc"
   ]
  },
  {
   "cell_type": "code",
   "execution_count": null,
   "metadata": {},
   "outputs": [
    {
     "data": {
      "application/vnd.jupyter.widget-view+json": {
       "model_id": "02b2875af3b545bf9088453aa5dfc825",
       "version_major": 2,
       "version_minor": 0
      },
      "text/plain": [
       "HBox(children=(HTML(value=''), FloatProgress(value=0.0, max=4986.0), HTML(value='')))"
      ]
     },
     "metadata": {},
     "output_type": "display_data"
    }
   ],
   "source": [
    "%%time\n",
    "batch_size = 32\n",
    "embeddings = []\n",
    "for i in notebook.tqdm(range(padded.shape[0] // batch_size)):\n",
    "        batch = torch.LongTensor(padded[batch_size*i:batch_size*(i+1)]) \n",
    "        attention_mask_batch = torch.LongTensor(attention_mask[batch_size*i:batch_size*(i+1)])\n",
    "        \n",
    "        with torch.no_grad():\n",
    "            batch_embeddings = model(batch, attention_mask=attention_mask_batch)\n",
    "        \n",
    "        embeddings.append(batch_embeddings[0][:,0,:].numpy())\n",
    "        gc.collect() # сборщик  \"мусора\" иначе получаем переполнение памяти"
   ]
  },
  {
   "cell_type": "code",
   "execution_count": 46,
   "metadata": {},
   "outputs": [],
   "source": [
    "# подготовка признаков после BERT\n",
    "features_bert = np.concatenate(embeddings)\n",
    "X_train_bert, X_test_bert = train_test_split(features_bert, test_size=0.5)"
   ]
  },
  {
   "cell_type": "code",
   "execution_count": 47,
   "metadata": {},
   "outputs": [],
   "source": [
    "# %%time\n",
    "# model_LR_bert = LogisticRegression(random_state = 210621)\n",
    "\n",
    "# params_LR_bert = [\n",
    "# # гиперпараметры алгоритма SAGA    \n",
    "#              {\n",
    "#                 'solver': ['saga'], \n",
    "#                 'penalty': ['elasticnet'], \n",
    "#                 'l1_ratio': [0.99], \n",
    "#                 'max_iter': [250]               \n",
    "# } ,\n",
    "# # гиперпараметры алгоритма LGBM        \n",
    "# #              {\n",
    "# #                 'solver': ['lgbm'], \n",
    "# #                 'max_iter': [100]               \n",
    "# # }\n",
    "# ] \n",
    "\n",
    "# grid_LR_bert = GridSearchCV(model_LR, params_LR, cv=2, scoring='f1', n_jobs=-1, verbose=1) \n",
    "# grid_LR_bert.fit(X_train, y_train);\n",
    "# display(grid_LR_bert.best_params_)\n",
    "\n",
    "# f1_train_LR_bert = f1_score(y_train, grid_LR_bert.predict(X_train_bert))\n",
    "# f1_test_LR_bert = f1_score(y_test, grid_LR_bert.predict(X_test_bert))\n",
    "# print('F1 предсказания train / test:', f1_train_LR_bert, f1_test_LR_bert)"
   ]
  },
  {
   "cell_type": "markdown",
   "metadata": {},
   "source": [
    "## Выводы"
   ]
  },
  {
   "cell_type": "code",
   "execution_count": 81,
   "metadata": {},
   "outputs": [],
   "source": [
    "# расчет таблицы с метриками по моделям\n",
    "result = []\n",
    "result.append(['Dummy_stratisfied',\n",
    "    f1_score(y_test, model_dummy.predict(X_test))])\n",
    "\n",
    "result.append(['LR_Elastic',\n",
    "    f1_score(y_test, grid_LR.predict(X_test))])\n",
    "\n",
    "result.append(['LGB',\n",
    "    f1_score(y_test, np.rint(gbm.predict(X_test_full, num_iteration=gbm.best_iteration)))])\n",
    "             \n",
    "# result.append(['BERT',\n",
    "#     f1_score(y_test, grid_LR_bert.predict(X_test_bert))])\n",
    "\n",
    "df_model_result = pd.DataFrame(result, columns=['model', 'f1_score'])\n",
    "df_model_result = df_model_result.set_index('model')"
   ]
  },
  {
   "cell_type": "code",
   "execution_count": 82,
   "metadata": {},
   "outputs": [
    {
     "data": {
      "image/png": "[encoded data removed]",
      "text/plain": [
       "<Figure size 576x360 with 2 Axes>"
      ]
     },
     "metadata": {},
     "output_type": "display_data"
    }
   ],
   "source": [
    "plt.figure(figsize=(8, 5))\n",
    "scaled_df = (df_model_result - df_model_result.min(axis=0))/(df_model_result.max(axis=0) - df_model_result.min(axis=0))\n",
    "sns.heatmap(df_model_result, annot=df_model_result, fmt='.2f', linewidths=.5, cmap=\"Greens\")\n",
    "plt.suptitle('Cравнение качества моделей', fontsize=16)\n",
    "plt.yticks(rotation=0, fontsize=14)\n",
    "plt.ylabel('название модели', fontsize=12)\n",
    "plt.xlabel('метрика', fontsize=12)\n",
    "plt.title('(меньше - лучше)', fontsize=12);"
   ]
  },
  {
   "cell_type": "markdown",
   "metadata": {},
   "source": [
    "**ВЫВОД**\\\n",
    "**Лучшее качество дала модель**\\\n",
    "Обычная **линейная регрессия полность удовлетворяет требованиям проекта, результат на тестовой выборке F1=0.78**, LightGBM дала чуть худший результат - 0,77, если сделать корректировку при округлении полученного коэффециента класса +0.1 это даст f1 - до 0.78.\\\n",
    "Для ускорения вычислений и снижения требований к объему памяти модель BERT обучалась в урезанном виде (ограничение текста до 128 слов). Но при достижении 86% обучения постоянно возникает ошибка недостатка памяти. Пути улучшения модели: увеличение длины текста для векторизации до максимального - 512 слов, и возможно сочетанием выборки слов с начала и с конца текста (в исполненном варианте все слова взяты от начала текста) "
   ]
  },
  {
   "cell_type": "markdown",
   "metadata": {},
   "source": [
    "cv:\n",
    "\n",
    "https://habr.com/ru/company/mipt/blog/450732/\n",
    "\n",
    "https://www.youtube.com/channel/UCQj_dwbIydi588xrfjWSL5g\n",
    "\n",
    "https://habr.com/ru/company/smartengines/blog/499566/"
   ]
  }
 ],
 "metadata": {
  "ExecuteTimeLog": [
   {
    "duration": 595,
    "start_time": "2021-06-18T17:02:26.775Z"
   },
   {
    "duration": 1533,
    "start_time": "2021-06-18T17:02:42.283Z"
   },
   {
    "duration": 5163,
    "start_time": "2021-06-21T05:59:15.364Z"
   },
   {
    "duration": 4,
    "start_time": "2021-06-21T05:59:36.040Z"
   },
   {
    "duration": 5,
    "start_time": "2021-06-21T05:59:53.748Z"
   },
   {
    "duration": 1550,
    "start_time": "2021-06-21T06:01:04.088Z"
   },
   {
    "duration": 76511,
    "start_time": "2021-06-21T06:02:36.241Z"
   },
   {
    "duration": 3095,
    "start_time": "2021-06-21T06:04:18.240Z"
   },
   {
    "duration": 27,
    "start_time": "2021-06-21T06:04:32.500Z"
   },
   {
    "duration": 770,
    "start_time": "2021-06-21T06:06:35.096Z"
   },
   {
    "duration": 11,
    "start_time": "2021-06-21T06:16:22.751Z"
   },
   {
    "duration": 97,
    "start_time": "2021-06-21T06:20:48.689Z"
   },
   {
    "duration": 98,
    "start_time": "2021-06-21T06:21:11.275Z"
   },
   {
    "duration": 197,
    "start_time": "2021-06-21T06:21:21.284Z"
   },
   {
    "duration": 3,
    "start_time": "2021-06-21T06:22:52.557Z"
   },
   {
    "duration": 91,
    "start_time": "2021-06-21T06:23:53.360Z"
   },
   {
    "duration": 124,
    "start_time": "2021-06-21T06:24:01.523Z"
   },
   {
    "duration": 93,
    "start_time": "2021-06-21T06:24:49.747Z"
   },
   {
    "duration": 8,
    "start_time": "2021-06-21T06:25:01.843Z"
   },
   {
    "duration": 102,
    "start_time": "2021-06-21T06:26:28.414Z"
   },
   {
    "duration": 3245,
    "start_time": "2021-06-21T06:26:31.814Z"
   },
   {
    "duration": 14,
    "start_time": "2021-06-21T06:26:38.718Z"
   },
   {
    "duration": 940,
    "start_time": "2021-06-21T06:28:59.246Z"
   },
   {
    "duration": 545,
    "start_time": "2021-06-21T06:29:13.068Z"
   },
   {
    "duration": 4739,
    "start_time": "2021-06-21T06:29:17.700Z"
   },
   {
    "duration": 18,
    "start_time": "2021-06-21T06:29:23.057Z"
   },
   {
    "duration": 5,
    "start_time": "2021-06-21T06:29:26.261Z"
   },
   {
    "duration": 2834,
    "start_time": "2021-06-21T06:29:30.389Z"
   },
   {
    "duration": 509,
    "start_time": "2021-06-21T06:29:34.815Z"
   },
   {
    "duration": 401,
    "start_time": "2021-06-21T06:29:55.709Z"
   },
   {
    "duration": 16326,
    "start_time": "2021-06-21T06:30:15.588Z"
   },
   {
    "duration": 5,
    "start_time": "2021-06-21T06:30:34.779Z"
   },
   {
    "duration": 31,
    "start_time": "2021-06-21T06:32:33.663Z"
   },
   {
    "duration": 35,
    "start_time": "2021-06-21T06:35:07.491Z"
   },
   {
    "duration": 1369,
    "start_time": "2021-06-21T06:35:26.345Z"
   },
   {
    "duration": 3,
    "start_time": "2021-06-21T06:35:27.717Z"
   },
   {
    "duration": 6080,
    "start_time": "2021-06-21T06:35:27.723Z"
   },
   {
    "duration": 21,
    "start_time": "2021-06-21T06:35:33.806Z"
   },
   {
    "duration": 43,
    "start_time": "2021-06-21T06:35:33.830Z"
   },
   {
    "duration": 229,
    "start_time": "2021-06-21T06:35:33.876Z"
   },
   {
    "duration": 2356,
    "start_time": "2021-06-21T06:35:34.107Z"
   },
   {
    "duration": 13241,
    "start_time": "2021-06-21T06:35:36.467Z"
   },
   {
    "duration": 5,
    "start_time": "2021-06-21T06:35:49.711Z"
   },
   {
    "duration": 448,
    "start_time": "2021-06-21T06:35:49.718Z"
   },
   {
    "duration": -2143,
    "start_time": "2021-06-21T06:35:52.312Z"
   },
   {
    "duration": -2144,
    "start_time": "2021-06-21T06:35:52.315Z"
   },
   {
    "duration": -2145,
    "start_time": "2021-06-21T06:35:52.318Z"
   },
   {
    "duration": 12387,
    "start_time": "2021-06-21T06:37:50.002Z"
   },
   {
    "duration": 12610,
    "start_time": "2021-06-21T06:38:51.647Z"
   },
   {
    "duration": 12811,
    "start_time": "2021-06-21T06:39:17.107Z"
   },
   {
    "duration": 52,
    "start_time": "2021-06-21T06:43:15.964Z"
   },
   {
    "duration": 7,
    "start_time": "2021-06-21T06:43:33.471Z"
   },
   {
    "duration": 326,
    "start_time": "2021-06-21T06:43:36.205Z"
   },
   {
    "duration": 20,
    "start_time": "2021-06-21T06:43:43.281Z"
   },
   {
    "duration": 27,
    "start_time": "2021-06-21T06:44:11.556Z"
   },
   {
    "duration": 25,
    "start_time": "2021-06-21T06:44:21.577Z"
   },
   {
    "duration": 86,
    "start_time": "2021-06-21T06:44:38.435Z"
   },
   {
    "duration": 290,
    "start_time": "2021-06-21T06:44:42.749Z"
   },
   {
    "duration": 24,
    "start_time": "2021-06-21T06:44:57.427Z"
   },
   {
    "duration": 7,
    "start_time": "2021-06-21T06:46:47.772Z"
   },
   {
    "duration": 39,
    "start_time": "2021-06-21T06:46:52.247Z"
   },
   {
    "duration": 281,
    "start_time": "2021-06-21T06:47:01.692Z"
   },
   {
    "duration": 1050,
    "start_time": "2021-06-21T06:47:12.863Z"
   },
   {
    "duration": 100,
    "start_time": "2021-06-21T06:48:10.122Z"
   },
   {
    "duration": 1026,
    "start_time": "2021-06-21T06:48:13.613Z"
   },
   {
    "duration": 92,
    "start_time": "2021-06-21T06:48:56.476Z"
   },
   {
    "duration": 89,
    "start_time": "2021-06-21T06:49:02.393Z"
   },
   {
    "duration": 1039,
    "start_time": "2021-06-21T06:49:09.841Z"
   },
   {
    "duration": 12576,
    "start_time": "2021-06-21T07:12:10.933Z"
   },
   {
    "duration": 4,
    "start_time": "2021-06-21T07:13:00.485Z"
   },
   {
    "duration": 340,
    "start_time": "2021-06-21T07:15:08.356Z"
   },
   {
    "duration": 3,
    "start_time": "2021-06-21T07:15:11.619Z"
   },
   {
    "duration": 11580,
    "start_time": "2021-06-21T07:15:13.399Z"
   },
   {
    "duration": 57779,
    "start_time": "2021-06-21T07:15:54.423Z"
   },
   {
    "duration": 257,
    "start_time": "2021-06-21T07:17:19.136Z"
   },
   {
    "duration": 37,
    "start_time": "2021-06-21T07:17:27.004Z"
   },
   {
    "duration": 16665,
    "start_time": "2021-06-21T07:19:40.149Z"
   },
   {
    "duration": 1307,
    "start_time": "2021-06-21T07:20:44.609Z"
   },
   {
    "duration": 3,
    "start_time": "2021-06-21T07:20:45.918Z"
   },
   {
    "duration": 2893,
    "start_time": "2021-06-21T07:20:45.924Z"
   },
   {
    "duration": 19,
    "start_time": "2021-06-21T07:20:48.820Z"
   },
   {
    "duration": 25,
    "start_time": "2021-06-21T07:20:48.842Z"
   },
   {
    "duration": 1105,
    "start_time": "2021-06-21T07:20:48.869Z"
   },
   {
    "duration": 31,
    "start_time": "2021-06-21T07:20:49.976Z"
   },
   {
    "duration": 204,
    "start_time": "2021-06-21T07:20:50.009Z"
   },
   {
    "duration": 2362,
    "start_time": "2021-06-21T07:20:50.217Z"
   },
   {
    "duration": 1259,
    "start_time": "2021-06-21T07:23:22.832Z"
   },
   {
    "duration": 1262,
    "start_time": "2021-06-21T07:23:27.290Z"
   },
   {
    "duration": 19,
    "start_time": "2021-06-21T07:23:31.332Z"
   },
   {
    "duration": 27,
    "start_time": "2021-06-21T07:23:34.169Z"
   },
   {
    "duration": 1102,
    "start_time": "2021-06-21T07:23:36.739Z"
   },
   {
    "duration": 30,
    "start_time": "2021-06-21T07:23:40.819Z"
   },
   {
    "duration": 209,
    "start_time": "2021-06-21T07:23:44.167Z"
   },
   {
    "duration": 2353,
    "start_time": "2021-06-21T07:23:59.206Z"
   },
   {
    "duration": 1291,
    "start_time": "2021-06-21T07:26:29.509Z"
   },
   {
    "duration": 3,
    "start_time": "2021-06-21T07:26:30.803Z"
   },
   {
    "duration": 3974,
    "start_time": "2021-06-21T07:26:30.810Z"
   },
   {
    "duration": 21,
    "start_time": "2021-06-21T07:26:34.788Z"
   },
   {
    "duration": 80,
    "start_time": "2021-06-21T07:26:34.812Z"
   },
   {
    "duration": 1062,
    "start_time": "2021-06-21T07:26:34.894Z"
   },
   {
    "duration": 49,
    "start_time": "2021-06-21T07:26:35.959Z"
   },
   {
    "duration": 205,
    "start_time": "2021-06-21T07:26:36.013Z"
   },
   {
    "duration": 2765,
    "start_time": "2021-06-21T07:26:36.221Z"
   },
   {
    "duration": 1653,
    "start_time": "2021-06-21T07:28:36.486Z"
   },
   {
    "duration": 3,
    "start_time": "2021-06-21T07:28:38.142Z"
   },
   {
    "duration": 1333,
    "start_time": "2021-06-21T07:28:38.148Z"
   },
   {
    "duration": 19,
    "start_time": "2021-06-21T07:28:39.484Z"
   },
   {
    "duration": 27,
    "start_time": "2021-06-21T07:28:39.506Z"
   },
   {
    "duration": 1073,
    "start_time": "2021-06-21T07:28:39.535Z"
   },
   {
    "duration": 28,
    "start_time": "2021-06-21T07:28:40.611Z"
   },
   {
    "duration": 217,
    "start_time": "2021-06-21T07:28:40.643Z"
   },
   {
    "duration": 2865,
    "start_time": "2021-06-21T07:28:40.862Z"
   },
   {
    "duration": 1285,
    "start_time": "2021-06-21T07:29:29.118Z"
   },
   {
    "duration": 3,
    "start_time": "2021-06-21T07:29:30.406Z"
   },
   {
    "duration": 3249,
    "start_time": "2021-06-21T07:29:30.412Z"
   },
   {
    "duration": 36,
    "start_time": "2021-06-21T07:29:33.664Z"
   },
   {
    "duration": 135,
    "start_time": "2021-06-21T07:29:33.703Z"
   },
   {
    "duration": 1063,
    "start_time": "2021-06-21T07:29:33.840Z"
   },
   {
    "duration": 26,
    "start_time": "2021-06-21T07:29:34.906Z"
   },
   {
    "duration": 211,
    "start_time": "2021-06-21T07:29:34.935Z"
   },
   {
    "duration": 405,
    "start_time": "2021-06-21T07:29:43.342Z"
   },
   {
    "duration": 5,
    "start_time": "2021-06-21T07:30:03.306Z"
   },
   {
    "duration": 2808,
    "start_time": "2021-06-21T07:30:05.368Z"
   },
   {
    "duration": 327,
    "start_time": "2021-06-21T07:30:42.500Z"
   },
   {
    "duration": 1261,
    "start_time": "2021-06-21T07:30:49.743Z"
   },
   {
    "duration": 3,
    "start_time": "2021-06-21T07:30:51.007Z"
   },
   {
    "duration": 1435,
    "start_time": "2021-06-21T07:30:51.014Z"
   },
   {
    "duration": 24,
    "start_time": "2021-06-21T07:30:52.453Z"
   },
   {
    "duration": 41,
    "start_time": "2021-06-21T07:30:52.479Z"
   },
   {
    "duration": 1078,
    "start_time": "2021-06-21T07:30:52.523Z"
   },
   {
    "duration": 31,
    "start_time": "2021-06-21T07:30:53.604Z"
   },
   {
    "duration": 215,
    "start_time": "2021-06-21T07:30:53.637Z"
   },
   {
    "duration": 2806,
    "start_time": "2021-06-21T07:30:53.855Z"
   },
   {
    "duration": 12518,
    "start_time": "2021-06-21T07:30:56.664Z"
   },
   {
    "duration": 420,
    "start_time": "2021-06-21T07:31:09.184Z"
   },
   {
    "duration": -66,
    "start_time": "2021-06-21T07:31:09.673Z"
   },
   {
    "duration": -72,
    "start_time": "2021-06-21T07:31:09.680Z"
   },
   {
    "duration": -76,
    "start_time": "2021-06-21T07:31:09.686Z"
   },
   {
    "duration": -81,
    "start_time": "2021-06-21T07:31:09.692Z"
   },
   {
    "duration": -82,
    "start_time": "2021-06-21T07:31:09.695Z"
   },
   {
    "duration": -82,
    "start_time": "2021-06-21T07:31:09.697Z"
   },
   {
    "duration": 12676,
    "start_time": "2021-06-21T07:31:17.742Z"
   },
   {
    "duration": 15783,
    "start_time": "2021-06-21T07:31:32.380Z"
   },
   {
    "duration": 308,
    "start_time": "2021-06-21T07:32:01.705Z"
   },
   {
    "duration": 15763,
    "start_time": "2021-06-21T07:32:30.404Z"
   },
   {
    "duration": 58053,
    "start_time": "2021-06-21T07:32:47.954Z"
   },
   {
    "duration": 43,
    "start_time": "2021-06-21T07:33:57.468Z"
   },
   {
    "duration": 12,
    "start_time": "2021-06-21T07:35:51.950Z"
   },
   {
    "duration": 4,
    "start_time": "2021-06-21T07:36:49.655Z"
   },
   {
    "duration": 4,
    "start_time": "2021-06-21T07:37:19.354Z"
   },
   {
    "duration": 10787,
    "start_time": "2021-06-21T07:37:25.696Z"
   },
   {
    "duration": 13571,
    "start_time": "2021-06-21T07:37:38.166Z"
   },
   {
    "duration": 60145,
    "start_time": "2021-06-21T07:37:54.458Z"
   },
   {
    "duration": 36,
    "start_time": "2021-06-21T07:39:03.703Z"
   },
   {
    "duration": 10703,
    "start_time": "2021-06-21T07:39:13.833Z"
   },
   {
    "duration": 13581,
    "start_time": "2021-06-21T07:39:26.241Z"
   },
   {
    "duration": 59178,
    "start_time": "2021-06-21T07:39:41.832Z"
   },
   {
    "duration": 34,
    "start_time": "2021-06-21T07:40:56.093Z"
   },
   {
    "duration": 42335,
    "start_time": "2021-06-21T07:44:17.230Z"
   },
   {
    "duration": 1128,
    "start_time": "2021-06-21T07:45:02.439Z"
   },
   {
    "duration": 2,
    "start_time": "2021-06-21T07:45:07.669Z"
   },
   {
    "duration": 4,
    "start_time": "2021-06-21T07:45:12.815Z"
   },
   {
    "duration": 6,
    "start_time": "2021-06-21T07:47:15.416Z"
   },
   {
    "duration": 4,
    "start_time": "2021-06-21T07:48:13.104Z"
   },
   {
    "duration": 468,
    "start_time": "2021-06-21T07:48:57.869Z"
   },
   {
    "duration": 10,
    "start_time": "2021-06-21T07:49:10.348Z"
   },
   {
    "duration": 1348,
    "start_time": "2021-06-21T07:49:30.263Z"
   },
   {
    "duration": 3,
    "start_time": "2021-06-21T07:49:31.613Z"
   },
   {
    "duration": 2164,
    "start_time": "2021-06-21T07:49:31.619Z"
   },
   {
    "duration": 21,
    "start_time": "2021-06-21T07:49:33.786Z"
   },
   {
    "duration": 28,
    "start_time": "2021-06-21T07:49:33.809Z"
   },
   {
    "duration": 1092,
    "start_time": "2021-06-21T07:49:33.840Z"
   },
   {
    "duration": 3,
    "start_time": "2021-06-21T07:49:34.934Z"
   },
   {
    "duration": 503,
    "start_time": "2021-06-21T07:49:34.941Z"
   },
   {
    "duration": 9,
    "start_time": "2021-06-21T07:49:35.449Z"
   },
   {
    "duration": 5,
    "start_time": "2021-06-21T07:49:35.461Z"
   },
   {
    "duration": 55,
    "start_time": "2021-06-21T07:49:35.468Z"
   },
   {
    "duration": 209,
    "start_time": "2021-06-21T07:49:35.525Z"
   },
   {
    "duration": 2809,
    "start_time": "2021-06-21T07:49:35.736Z"
   },
   {
    "duration": 11774,
    "start_time": "2021-06-21T07:49:38.548Z"
   },
   {
    "duration": 14664,
    "start_time": "2021-06-21T07:49:50.325Z"
   },
   {
    "duration": 60319,
    "start_time": "2021-06-21T07:50:04.991Z"
   },
   {
    "duration": 33,
    "start_time": "2021-06-21T07:51:05.402Z"
   },
   {
    "duration": 428,
    "start_time": "2021-06-21T07:51:05.437Z"
   },
   {
    "duration": -70,
    "start_time": "2021-06-21T07:51:05.938Z"
   },
   {
    "duration": -74,
    "start_time": "2021-06-21T07:51:05.943Z"
   },
   {
    "duration": -83,
    "start_time": "2021-06-21T07:51:05.953Z"
   },
   {
    "duration": 279,
    "start_time": "2021-06-21T07:51:23.391Z"
   },
   {
    "duration": 273,
    "start_time": "2021-06-21T07:52:47.801Z"
   },
   {
    "duration": -90,
    "start_time": "2021-06-21T07:53:29.686Z"
   },
   {
    "duration": 297,
    "start_time": "2021-06-21T07:53:31.309Z"
   },
   {
    "duration": 259,
    "start_time": "2021-06-21T07:53:48.336Z"
   },
   {
    "duration": 5,
    "start_time": "2021-06-21T09:31:36.416Z"
   },
   {
    "duration": 406,
    "start_time": "2021-06-21T09:31:46.490Z"
   },
   {
    "duration": 299,
    "start_time": "2021-06-21T09:31:56.050Z"
   },
   {
    "duration": 1426,
    "start_time": "2021-06-21T09:31:59.151Z"
   },
   {
    "duration": 1595,
    "start_time": "2021-06-21T09:32:01.978Z"
   },
   {
    "duration": 4,
    "start_time": "2021-06-21T09:32:07.663Z"
   },
   {
    "duration": 6593,
    "start_time": "2021-06-21T09:32:09.565Z"
   },
   {
    "duration": 726,
    "start_time": "2021-06-21T09:33:48.268Z"
   },
   {
    "duration": 310,
    "start_time": "2021-06-21T09:33:58.279Z"
   },
   {
    "duration": 6,
    "start_time": "2021-06-21T09:35:06.064Z"
   },
   {
    "duration": 10,
    "start_time": "2021-06-21T09:35:19.419Z"
   },
   {
    "duration": 5512,
    "start_time": "2021-06-21T09:35:36.263Z"
   },
   {
    "duration": 5,
    "start_time": "2021-06-21T09:35:55.315Z"
   },
   {
    "duration": 10,
    "start_time": "2021-06-21T09:35:58.813Z"
   },
   {
    "duration": 331,
    "start_time": "2021-06-21T09:37:04.597Z"
   },
   {
    "duration": 5,
    "start_time": "2021-06-21T09:37:09.271Z"
   },
   {
    "duration": 9,
    "start_time": "2021-06-21T09:37:11.534Z"
   },
   {
    "duration": 4,
    "start_time": "2021-06-21T09:37:15.945Z"
   },
   {
    "duration": 9,
    "start_time": "2021-06-21T09:37:18.623Z"
   },
   {
    "duration": 5,
    "start_time": "2021-06-21T09:37:27.885Z"
   },
   {
    "duration": 10,
    "start_time": "2021-06-21T09:37:30.883Z"
   },
   {
    "duration": 5457,
    "start_time": "2021-06-21T09:38:04.280Z"
   },
   {
    "duration": 1435,
    "start_time": "2021-06-21T09:39:04.501Z"
   },
   {
    "duration": 2,
    "start_time": "2021-06-21T09:39:05.939Z"
   },
   {
    "duration": 1480,
    "start_time": "2021-06-21T09:39:05.944Z"
   },
   {
    "duration": 20,
    "start_time": "2021-06-21T09:39:07.426Z"
   },
   {
    "duration": 35,
    "start_time": "2021-06-21T09:39:07.448Z"
   },
   {
    "duration": 1180,
    "start_time": "2021-06-21T09:39:07.485Z"
   },
   {
    "duration": 4,
    "start_time": "2021-06-21T09:39:08.667Z"
   },
   {
    "duration": 6607,
    "start_time": "2021-06-21T09:39:08.675Z"
   },
   {
    "duration": 523,
    "start_time": "2021-06-21T09:39:15.285Z"
   },
   {
    "duration": -136,
    "start_time": "2021-06-21T09:39:15.946Z"
   },
   {
    "duration": -140,
    "start_time": "2021-06-21T09:39:15.951Z"
   },
   {
    "duration": -147,
    "start_time": "2021-06-21T09:39:15.959Z"
   },
   {
    "duration": -152,
    "start_time": "2021-06-21T09:39:15.966Z"
   },
   {
    "duration": -159,
    "start_time": "2021-06-21T09:39:15.974Z"
   },
   {
    "duration": -161,
    "start_time": "2021-06-21T09:39:15.977Z"
   },
   {
    "duration": -163,
    "start_time": "2021-06-21T09:39:15.980Z"
   },
   {
    "duration": -165,
    "start_time": "2021-06-21T09:39:15.984Z"
   },
   {
    "duration": -169,
    "start_time": "2021-06-21T09:39:15.989Z"
   },
   {
    "duration": -171,
    "start_time": "2021-06-21T09:39:15.993Z"
   },
   {
    "duration": -173,
    "start_time": "2021-06-21T09:39:15.997Z"
   },
   {
    "duration": -176,
    "start_time": "2021-06-21T09:39:16.001Z"
   },
   {
    "duration": 1403,
    "start_time": "2021-06-21T09:51:00.973Z"
   },
   {
    "duration": 4,
    "start_time": "2021-06-21T09:51:02.383Z"
   },
   {
    "duration": 1607,
    "start_time": "2021-06-21T09:51:02.390Z"
   },
   {
    "duration": 21,
    "start_time": "2021-06-21T09:51:03.999Z"
   },
   {
    "duration": 27,
    "start_time": "2021-06-21T09:51:04.022Z"
   },
   {
    "duration": 1194,
    "start_time": "2021-06-21T09:51:04.052Z"
   },
   {
    "duration": 4,
    "start_time": "2021-06-21T09:51:05.249Z"
   },
   {
    "duration": 6831,
    "start_time": "2021-06-21T09:51:05.255Z"
   },
   {
    "duration": 466,
    "start_time": "2021-06-21T09:51:12.088Z"
   },
   {
    "duration": -197,
    "start_time": "2021-06-21T09:51:12.753Z"
   },
   {
    "duration": -201,
    "start_time": "2021-06-21T09:51:12.758Z"
   },
   {
    "duration": -205,
    "start_time": "2021-06-21T09:51:12.763Z"
   },
   {
    "duration": -210,
    "start_time": "2021-06-21T09:51:12.770Z"
   },
   {
    "duration": -214,
    "start_time": "2021-06-21T09:51:12.775Z"
   },
   {
    "duration": -218,
    "start_time": "2021-06-21T09:51:12.780Z"
   },
   {
    "duration": -221,
    "start_time": "2021-06-21T09:51:12.784Z"
   },
   {
    "duration": -223,
    "start_time": "2021-06-21T09:51:12.787Z"
   },
   {
    "duration": -226,
    "start_time": "2021-06-21T09:51:12.791Z"
   },
   {
    "duration": -228,
    "start_time": "2021-06-21T09:51:12.794Z"
   },
   {
    "duration": -229,
    "start_time": "2021-06-21T09:51:12.797Z"
   },
   {
    "duration": -231,
    "start_time": "2021-06-21T09:51:12.801Z"
   },
   {
    "duration": 215,
    "start_time": "2021-06-21T09:51:33.801Z"
   },
   {
    "duration": 19,
    "start_time": "2021-06-21T09:51:53.922Z"
   },
   {
    "duration": 7,
    "start_time": "2021-06-21T09:52:30.401Z"
   },
   {
    "duration": 7,
    "start_time": "2021-06-21T09:52:51.112Z"
   },
   {
    "duration": 6,
    "start_time": "2021-06-21T09:52:59.626Z"
   },
   {
    "duration": 6,
    "start_time": "2021-06-21T09:53:48.308Z"
   },
   {
    "duration": 5,
    "start_time": "2021-06-21T09:53:53.499Z"
   },
   {
    "duration": 6,
    "start_time": "2021-06-21T09:54:53.770Z"
   },
   {
    "duration": 6,
    "start_time": "2021-06-21T09:55:04.557Z"
   },
   {
    "duration": 5,
    "start_time": "2021-06-21T09:55:41.331Z"
   },
   {
    "duration": 54931,
    "start_time": "2021-06-21T09:55:46.824Z"
   },
   {
    "duration": 12,
    "start_time": "2021-06-21T09:56:43.925Z"
   },
   {
    "duration": 107,
    "start_time": "2021-06-21T09:58:19.673Z"
   },
   {
    "duration": 6,
    "start_time": "2021-06-21T09:58:27.404Z"
   },
   {
    "duration": 15,
    "start_time": "2021-06-21T10:08:10.389Z"
   },
   {
    "duration": 17,
    "start_time": "2021-06-21T10:08:14.248Z"
   },
   {
    "duration": 3,
    "start_time": "2021-06-21T10:08:54.485Z"
   },
   {
    "duration": 11,
    "start_time": "2021-06-21T10:08:58.054Z"
   },
   {
    "duration": 5,
    "start_time": "2021-06-21T10:09:19.219Z"
   },
   {
    "duration": 5,
    "start_time": "2021-06-21T10:09:24.221Z"
   },
   {
    "duration": 7,
    "start_time": "2021-06-21T11:16:17.842Z"
   },
   {
    "duration": 360,
    "start_time": "2021-06-21T11:50:30.023Z"
   },
   {
    "duration": 6,
    "start_time": "2021-06-21T11:50:35.935Z"
   },
   {
    "duration": 1637,
    "start_time": "2021-06-21T11:51:14.078Z"
   },
   {
    "duration": 3,
    "start_time": "2021-06-21T11:51:15.718Z"
   },
   {
    "duration": 1606,
    "start_time": "2021-06-21T11:51:15.724Z"
   },
   {
    "duration": 24,
    "start_time": "2021-06-21T11:51:17.334Z"
   },
   {
    "duration": 49,
    "start_time": "2021-06-21T11:51:17.361Z"
   },
   {
    "duration": 1172,
    "start_time": "2021-06-21T11:51:17.412Z"
   },
   {
    "duration": 29,
    "start_time": "2021-06-21T11:51:18.586Z"
   },
   {
    "duration": 4,
    "start_time": "2021-06-21T11:51:18.618Z"
   },
   {
    "duration": 40,
    "start_time": "2021-06-21T11:51:18.624Z"
   },
   {
    "duration": 3,
    "start_time": "2021-06-21T11:51:18.667Z"
   },
   {
    "duration": 52,
    "start_time": "2021-06-21T11:51:18.672Z"
   },
   {
    "duration": 6,
    "start_time": "2021-06-21T11:51:18.727Z"
   },
   {
    "duration": 358,
    "start_time": "2021-06-21T11:51:18.735Z"
   },
   {
    "duration": 888,
    "start_time": "2021-06-21T11:51:19.096Z"
   },
   {
    "duration": 1029,
    "start_time": "2021-06-21T11:51:19.986Z"
   },
   {
    "duration": 443,
    "start_time": "2021-06-21T11:51:21.018Z"
   },
   {
    "duration": -513,
    "start_time": "2021-06-21T11:51:21.977Z"
   },
   {
    "duration": -519,
    "start_time": "2021-06-21T11:51:21.984Z"
   },
   {
    "duration": -524,
    "start_time": "2021-06-21T11:51:21.991Z"
   },
   {
    "duration": -527,
    "start_time": "2021-06-21T11:51:21.995Z"
   },
   {
    "duration": -528,
    "start_time": "2021-06-21T11:51:21.998Z"
   },
   {
    "duration": 4,
    "start_time": "2021-06-21T11:51:44.795Z"
   },
   {
    "duration": 18,
    "start_time": "2021-06-21T11:51:47.268Z"
   },
   {
    "duration": 5,
    "start_time": "2021-06-21T11:51:56.740Z"
   },
   {
    "duration": 6,
    "start_time": "2021-06-21T11:51:56.748Z"
   },
   {
    "duration": 1402,
    "start_time": "2021-06-21T11:51:56.757Z"
   },
   {
    "duration": 10,
    "start_time": "2021-06-21T11:51:58.161Z"
   },
   {
    "duration": 39,
    "start_time": "2021-06-21T11:51:58.173Z"
   },
   {
    "duration": 1210,
    "start_time": "2021-06-21T11:51:58.215Z"
   },
   {
    "duration": 6,
    "start_time": "2021-06-21T11:51:59.427Z"
   },
   {
    "duration": 16,
    "start_time": "2021-06-21T11:51:59.436Z"
   },
   {
    "duration": 36,
    "start_time": "2021-06-21T11:51:59.455Z"
   },
   {
    "duration": 27,
    "start_time": "2021-06-21T11:52:16.551Z"
   },
   {
    "duration": 4,
    "start_time": "2021-06-21T11:52:18.945Z"
   },
   {
    "duration": 340,
    "start_time": "2021-06-21T11:52:21.949Z"
   },
   {
    "duration": 367,
    "start_time": "2021-06-21T11:53:51.003Z"
   },
   {
    "duration": 4,
    "start_time": "2021-06-21T11:54:14.150Z"
   },
   {
    "duration": 12,
    "start_time": "2021-06-21T11:54:14.157Z"
   },
   {
    "duration": 1226,
    "start_time": "2021-06-21T11:54:14.173Z"
   },
   {
    "duration": 17,
    "start_time": "2021-06-21T11:54:15.402Z"
   },
   {
    "duration": 1677,
    "start_time": "2021-06-21T11:54:32.577Z"
   },
   {
    "duration": 1275,
    "start_time": "2021-06-21T11:54:36.334Z"
   },
   {
    "duration": 20,
    "start_time": "2021-06-21T11:54:38.737Z"
   },
   {
    "duration": 395,
    "start_time": "2021-06-21T11:54:51.854Z"
   },
   {
    "duration": 1628,
    "start_time": "2021-06-21T11:55:01.140Z"
   },
   {
    "duration": 3,
    "start_time": "2021-06-21T11:55:02.770Z"
   },
   {
    "duration": 1617,
    "start_time": "2021-06-21T11:55:02.776Z"
   },
   {
    "duration": 27,
    "start_time": "2021-06-21T11:55:04.396Z"
   },
   {
    "duration": 82,
    "start_time": "2021-06-21T11:55:04.426Z"
   },
   {
    "duration": 80,
    "start_time": "2021-06-21T11:55:04.510Z"
   },
   {
    "duration": 1245,
    "start_time": "2021-06-21T11:55:04.593Z"
   },
   {
    "duration": 16,
    "start_time": "2021-06-21T11:55:05.842Z"
   },
   {
    "duration": 21,
    "start_time": "2021-06-21T11:55:05.860Z"
   },
   {
    "duration": 51,
    "start_time": "2021-06-21T11:55:05.883Z"
   },
   {
    "duration": 24,
    "start_time": "2021-06-21T11:55:05.936Z"
   },
   {
    "duration": 5,
    "start_time": "2021-06-21T11:55:05.963Z"
   },
   {
    "duration": 347,
    "start_time": "2021-06-21T11:55:05.970Z"
   },
   {
    "duration": 925,
    "start_time": "2021-06-21T11:55:06.319Z"
   },
   {
    "duration": 1124,
    "start_time": "2021-06-21T11:55:07.246Z"
   },
   {
    "duration": 500,
    "start_time": "2021-06-21T11:55:08.372Z"
   },
   {
    "duration": -515,
    "start_time": "2021-06-21T11:55:09.389Z"
   },
   {
    "duration": -516,
    "start_time": "2021-06-21T11:55:09.392Z"
   },
   {
    "duration": -518,
    "start_time": "2021-06-21T11:55:09.395Z"
   },
   {
    "duration": -519,
    "start_time": "2021-06-21T11:55:09.398Z"
   },
   {
    "duration": -522,
    "start_time": "2021-06-21T11:55:09.402Z"
   },
   {
    "duration": 2460,
    "start_time": "2021-06-21T11:55:27.506Z"
   },
   {
    "duration": 11,
    "start_time": "2021-06-21T11:55:40.610Z"
   },
   {
    "duration": 15429,
    "start_time": "2021-06-21T11:55:46.772Z"
   },
   {
    "duration": 349,
    "start_time": "2021-06-21T11:56:27.399Z"
   },
   {
    "duration": 316,
    "start_time": "2021-06-21T11:56:31.405Z"
   },
   {
    "duration": 15475,
    "start_time": "2021-06-21T11:57:28.608Z"
   },
   {
    "duration": 10,
    "start_time": "2021-06-21T11:57:46.363Z"
   },
   {
    "duration": 170,
    "start_time": "2021-06-21T11:58:08.779Z"
   },
   {
    "duration": 11,
    "start_time": "2021-06-21T11:58:12.101Z"
   },
   {
    "duration": 1561,
    "start_time": "2021-06-21T11:58:46.270Z"
   },
   {
    "duration": 3,
    "start_time": "2021-06-21T11:58:47.833Z"
   },
   {
    "duration": 1381,
    "start_time": "2021-06-21T11:58:47.839Z"
   },
   {
    "duration": 26,
    "start_time": "2021-06-21T11:58:49.224Z"
   },
   {
    "duration": 36,
    "start_time": "2021-06-21T11:58:49.252Z"
   },
   {
    "duration": 45,
    "start_time": "2021-06-21T11:58:49.290Z"
   },
   {
    "duration": 1177,
    "start_time": "2021-06-21T11:58:49.337Z"
   },
   {
    "duration": 17,
    "start_time": "2021-06-21T11:58:50.518Z"
   },
   {
    "duration": 12,
    "start_time": "2021-06-21T11:58:50.537Z"
   },
   {
    "duration": 61,
    "start_time": "2021-06-21T11:58:50.551Z"
   },
   {
    "duration": 24,
    "start_time": "2021-06-21T11:58:50.615Z"
   },
   {
    "duration": 5,
    "start_time": "2021-06-21T11:58:50.642Z"
   },
   {
    "duration": 340,
    "start_time": "2021-06-21T11:58:50.650Z"
   },
   {
    "duration": 904,
    "start_time": "2021-06-21T11:58:50.993Z"
   },
   {
    "duration": 1053,
    "start_time": "2021-06-21T11:58:51.900Z"
   },
   {
    "duration": 188,
    "start_time": "2021-06-21T11:58:52.955Z"
   },
   {
    "duration": 10,
    "start_time": "2021-06-21T11:58:53.146Z"
   },
   {
    "duration": 464,
    "start_time": "2021-06-21T11:58:53.158Z"
   },
   {
    "duration": -513,
    "start_time": "2021-06-21T11:58:54.138Z"
   },
   {
    "duration": -514,
    "start_time": "2021-06-21T11:58:54.141Z"
   },
   {
    "duration": -515,
    "start_time": "2021-06-21T11:58:54.144Z"
   },
   {
    "duration": -517,
    "start_time": "2021-06-21T11:58:54.147Z"
   },
   {
    "duration": 8,
    "start_time": "2021-06-21T11:59:14.923Z"
   },
   {
    "duration": 7,
    "start_time": "2021-06-21T12:00:05.098Z"
   },
   {
    "duration": 14,
    "start_time": "2021-06-21T12:00:17.563Z"
   },
   {
    "duration": 24,
    "start_time": "2021-06-21T12:00:27.635Z"
   },
   {
    "duration": 2699,
    "start_time": "2021-06-21T12:01:13.546Z"
   },
   {
    "duration": 10,
    "start_time": "2021-06-21T12:01:38.943Z"
   },
   {
    "duration": 2346,
    "start_time": "2021-06-21T12:02:09.033Z"
   },
   {
    "duration": 7,
    "start_time": "2021-06-21T12:02:16.739Z"
   },
   {
    "duration": 6,
    "start_time": "2021-06-21T12:02:23.274Z"
   },
   {
    "duration": 4,
    "start_time": "2021-06-21T12:02:39.139Z"
   },
   {
    "duration": 343,
    "start_time": "2021-06-21T12:02:57.981Z"
   },
   {
    "duration": 5,
    "start_time": "2021-06-21T12:03:26.575Z"
   },
   {
    "duration": 5,
    "start_time": "2021-06-21T12:03:38.072Z"
   },
   {
    "duration": 10,
    "start_time": "2021-06-21T12:03:54.427Z"
   },
   {
    "duration": 5,
    "start_time": "2021-06-21T12:04:35.172Z"
   },
   {
    "duration": 4,
    "start_time": "2021-06-21T12:05:11.337Z"
   },
   {
    "duration": 5,
    "start_time": "2021-06-21T12:05:13.520Z"
   },
   {
    "duration": 4,
    "start_time": "2021-06-21T12:05:20.287Z"
   },
   {
    "duration": 5,
    "start_time": "2021-06-21T12:05:23.026Z"
   },
   {
    "duration": 135,
    "start_time": "2021-06-21T12:06:01.039Z"
   },
   {
    "duration": 110,
    "start_time": "2021-06-21T12:06:20.935Z"
   },
   {
    "duration": 5,
    "start_time": "2021-06-21T12:06:49.691Z"
   },
   {
    "duration": 7,
    "start_time": "2021-06-21T12:06:56.064Z"
   },
   {
    "duration": 122,
    "start_time": "2021-06-21T12:07:12.070Z"
   },
   {
    "duration": 7,
    "start_time": "2021-06-21T12:07:27.114Z"
   },
   {
    "duration": 5,
    "start_time": "2021-06-21T12:07:30.102Z"
   },
   {
    "duration": 9,
    "start_time": "2021-06-21T12:07:32.261Z"
   },
   {
    "duration": 4,
    "start_time": "2021-06-21T12:08:54.639Z"
   },
   {
    "duration": 8,
    "start_time": "2021-06-21T12:08:57.903Z"
   },
   {
    "duration": 7,
    "start_time": "2021-06-21T12:10:00.751Z"
   },
   {
    "duration": 5,
    "start_time": "2021-06-21T12:12:46.564Z"
   },
   {
    "duration": 7,
    "start_time": "2021-06-21T12:12:50.176Z"
   },
   {
    "duration": 5,
    "start_time": "2021-06-21T12:13:07.483Z"
   },
   {
    "duration": 8,
    "start_time": "2021-06-21T12:13:10.155Z"
   },
   {
    "duration": 618,
    "start_time": "2021-06-21T12:13:27.320Z"
   },
   {
    "duration": 2,
    "start_time": "2021-06-21T12:13:31.105Z"
   },
   {
    "duration": 6,
    "start_time": "2021-06-21T12:13:35.563Z"
   },
   {
    "duration": 5,
    "start_time": "2021-06-21T12:13:39.248Z"
   },
   {
    "duration": 8,
    "start_time": "2021-06-21T12:13:42.271Z"
   },
   {
    "duration": 4,
    "start_time": "2021-06-21T12:14:17.577Z"
   },
   {
    "duration": 6,
    "start_time": "2021-06-21T12:14:20.416Z"
   },
   {
    "duration": 5,
    "start_time": "2021-06-21T12:14:49.109Z"
   },
   {
    "duration": 6,
    "start_time": "2021-06-21T12:14:51.341Z"
   },
   {
    "duration": 5,
    "start_time": "2021-06-21T12:16:21.728Z"
   },
   {
    "duration": 6,
    "start_time": "2021-06-21T12:16:24.161Z"
   },
   {
    "duration": 5,
    "start_time": "2021-06-21T12:16:38.639Z"
   },
   {
    "duration": 6,
    "start_time": "2021-06-21T12:16:40.761Z"
   },
   {
    "duration": 6,
    "start_time": "2021-06-21T12:17:18.524Z"
   },
   {
    "duration": 6,
    "start_time": "2021-06-21T12:17:22.636Z"
   },
   {
    "duration": 6,
    "start_time": "2021-06-21T12:18:03.693Z"
   },
   {
    "duration": 7,
    "start_time": "2021-06-21T12:18:13.586Z"
   },
   {
    "duration": 4,
    "start_time": "2021-06-21T12:18:20.252Z"
   },
   {
    "duration": 7,
    "start_time": "2021-06-21T12:18:22.926Z"
   },
   {
    "duration": 6,
    "start_time": "2021-06-21T12:18:30.057Z"
   },
   {
    "duration": 8,
    "start_time": "2021-06-21T12:19:19.432Z"
   },
   {
    "duration": 6,
    "start_time": "2021-06-21T12:19:42.777Z"
   },
   {
    "duration": 7,
    "start_time": "2021-06-21T12:19:54.110Z"
   },
   {
    "duration": 12,
    "start_time": "2021-06-21T12:20:06.542Z"
   },
   {
    "duration": 8,
    "start_time": "2021-06-21T12:20:12.795Z"
   },
   {
    "duration": 1585,
    "start_time": "2021-06-21T12:20:42.508Z"
   },
   {
    "duration": 3,
    "start_time": "2021-06-21T12:20:44.096Z"
   },
   {
    "duration": 2834,
    "start_time": "2021-06-21T12:20:44.109Z"
   },
   {
    "duration": 20,
    "start_time": "2021-06-21T12:20:46.946Z"
   },
   {
    "duration": 48,
    "start_time": "2021-06-21T12:20:46.968Z"
   },
   {
    "duration": 36,
    "start_time": "2021-06-21T12:20:47.018Z"
   },
   {
    "duration": 1181,
    "start_time": "2021-06-21T12:20:47.056Z"
   },
   {
    "duration": 5,
    "start_time": "2021-06-21T12:20:48.240Z"
   },
   {
    "duration": 20,
    "start_time": "2021-06-21T12:20:48.248Z"
   },
   {
    "duration": 8,
    "start_time": "2021-06-21T12:20:48.270Z"
   },
   {
    "duration": 55,
    "start_time": "2021-06-21T12:20:48.281Z"
   },
   {
    "duration": 23,
    "start_time": "2021-06-21T12:20:48.339Z"
   },
   {
    "duration": 5,
    "start_time": "2021-06-21T12:20:48.365Z"
   },
   {
    "duration": 345,
    "start_time": "2021-06-21T12:20:48.372Z"
   },
   {
    "duration": 879,
    "start_time": "2021-06-21T12:20:48.719Z"
   },
   {
    "duration": 1044,
    "start_time": "2021-06-21T12:20:49.600Z"
   },
   {
    "duration": 179,
    "start_time": "2021-06-21T12:20:50.646Z"
   },
   {
    "duration": 10,
    "start_time": "2021-06-21T12:20:50.827Z"
   },
   {
    "duration": 463,
    "start_time": "2021-06-21T12:20:50.840Z"
   },
   {
    "duration": -542,
    "start_time": "2021-06-21T12:20:51.847Z"
   },
   {
    "duration": -545,
    "start_time": "2021-06-21T12:20:51.851Z"
   },
   {
    "duration": -547,
    "start_time": "2021-06-21T12:20:51.855Z"
   },
   {
    "duration": -549,
    "start_time": "2021-06-21T12:20:51.858Z"
   },
   {
    "duration": 8,
    "start_time": "2021-06-21T12:21:20.922Z"
   },
   {
    "duration": 8,
    "start_time": "2021-06-21T12:22:09.680Z"
   },
   {
    "duration": 8057,
    "start_time": "2021-06-21T12:22:35.251Z"
   },
   {
    "duration": 8269,
    "start_time": "2021-06-21T12:22:47.000Z"
   },
   {
    "duration": 8668,
    "start_time": "2021-06-21T12:23:01.409Z"
   },
   {
    "duration": 9,
    "start_time": "2021-06-21T12:23:15.065Z"
   },
   {
    "duration": 7,
    "start_time": "2021-06-21T12:23:20.279Z"
   },
   {
    "duration": 6,
    "start_time": "2021-06-21T12:23:27.773Z"
   },
   {
    "duration": 6,
    "start_time": "2021-06-21T12:24:12.633Z"
   },
   {
    "duration": 30,
    "start_time": "2021-06-21T12:24:42.798Z"
   },
   {
    "duration": 1517,
    "start_time": "2021-06-21T12:24:54.314Z"
   },
   {
    "duration": 3,
    "start_time": "2021-06-21T12:24:55.834Z"
   },
   {
    "duration": 2874,
    "start_time": "2021-06-21T12:24:55.841Z"
   },
   {
    "duration": 22,
    "start_time": "2021-06-21T12:24:58.718Z"
   },
   {
    "duration": 34,
    "start_time": "2021-06-21T12:24:58.743Z"
   },
   {
    "duration": 53,
    "start_time": "2021-06-21T12:24:58.779Z"
   },
   {
    "duration": 1199,
    "start_time": "2021-06-21T12:24:58.835Z"
   },
   {
    "duration": 462,
    "start_time": "2021-06-21T12:25:00.038Z"
   },
   {
    "duration": -525,
    "start_time": "2021-06-21T12:25:01.028Z"
   },
   {
    "duration": -529,
    "start_time": "2021-06-21T12:25:01.034Z"
   },
   {
    "duration": -533,
    "start_time": "2021-06-21T12:25:01.039Z"
   },
   {
    "duration": -540,
    "start_time": "2021-06-21T12:25:01.048Z"
   },
   {
    "duration": -543,
    "start_time": "2021-06-21T12:25:01.052Z"
   },
   {
    "duration": -544,
    "start_time": "2021-06-21T12:25:01.055Z"
   },
   {
    "duration": -545,
    "start_time": "2021-06-21T12:25:01.058Z"
   },
   {
    "duration": -546,
    "start_time": "2021-06-21T12:25:01.060Z"
   },
   {
    "duration": -547,
    "start_time": "2021-06-21T12:25:01.062Z"
   },
   {
    "duration": -547,
    "start_time": "2021-06-21T12:25:01.064Z"
   },
   {
    "duration": -547,
    "start_time": "2021-06-21T12:25:01.066Z"
   },
   {
    "duration": -548,
    "start_time": "2021-06-21T12:25:01.068Z"
   },
   {
    "duration": -550,
    "start_time": "2021-06-21T12:25:01.072Z"
   },
   {
    "duration": -551,
    "start_time": "2021-06-21T12:25:01.074Z"
   },
   {
    "duration": -552,
    "start_time": "2021-06-21T12:25:01.076Z"
   },
   {
    "duration": 1562,
    "start_time": "2021-06-21T12:25:11.967Z"
   },
   {
    "duration": 3,
    "start_time": "2021-06-21T12:25:13.532Z"
   },
   {
    "duration": 2493,
    "start_time": "2021-06-21T12:25:13.538Z"
   },
   {
    "duration": 22,
    "start_time": "2021-06-21T12:25:16.034Z"
   },
   {
    "duration": 34,
    "start_time": "2021-06-21T12:25:16.058Z"
   },
   {
    "duration": 29,
    "start_time": "2021-06-21T12:25:16.108Z"
   },
   {
    "duration": 1219,
    "start_time": "2021-06-21T12:25:16.139Z"
   },
   {
    "duration": 460,
    "start_time": "2021-06-21T12:25:17.362Z"
   },
   {
    "duration": -528,
    "start_time": "2021-06-21T12:25:18.353Z"
   },
   {
    "duration": -533,
    "start_time": "2021-06-21T12:25:18.360Z"
   },
   {
    "duration": -536,
    "start_time": "2021-06-21T12:25:18.364Z"
   },
   {
    "duration": -549,
    "start_time": "2021-06-21T12:25:18.378Z"
   },
   {
    "duration": -552,
    "start_time": "2021-06-21T12:25:18.383Z"
   },
   {
    "duration": -553,
    "start_time": "2021-06-21T12:25:18.385Z"
   },
   {
    "duration": -556,
    "start_time": "2021-06-21T12:25:18.389Z"
   },
   {
    "duration": -556,
    "start_time": "2021-06-21T12:25:18.391Z"
   },
   {
    "duration": -557,
    "start_time": "2021-06-21T12:25:18.393Z"
   },
   {
    "duration": -558,
    "start_time": "2021-06-21T12:25:18.395Z"
   },
   {
    "duration": -558,
    "start_time": "2021-06-21T12:25:18.397Z"
   },
   {
    "duration": -559,
    "start_time": "2021-06-21T12:25:18.399Z"
   },
   {
    "duration": -560,
    "start_time": "2021-06-21T12:25:18.401Z"
   },
   {
    "duration": -561,
    "start_time": "2021-06-21T12:25:18.404Z"
   },
   {
    "duration": -568,
    "start_time": "2021-06-21T12:25:18.412Z"
   },
   {
    "duration": 1596,
    "start_time": "2021-06-21T12:25:42.824Z"
   },
   {
    "duration": 3,
    "start_time": "2021-06-21T12:25:44.422Z"
   },
   {
    "duration": 2868,
    "start_time": "2021-06-21T12:25:44.432Z"
   },
   {
    "duration": 31,
    "start_time": "2021-06-21T12:25:47.303Z"
   },
   {
    "duration": 34,
    "start_time": "2021-06-21T12:25:47.336Z"
   },
   {
    "duration": 57,
    "start_time": "2021-06-21T12:25:47.372Z"
   },
   {
    "duration": 1195,
    "start_time": "2021-06-21T12:25:47.433Z"
   },
   {
    "duration": 5,
    "start_time": "2021-06-21T12:25:48.631Z"
   },
   {
    "duration": 18,
    "start_time": "2021-06-21T12:25:48.639Z"
   },
   {
    "duration": 78002,
    "start_time": "2021-06-21T12:25:48.660Z"
   },
   {
    "duration": 6,
    "start_time": "2021-06-21T12:27:06.665Z"
   },
   {
    "duration": 54,
    "start_time": "2021-06-21T12:27:06.674Z"
   },
   {
    "duration": 7,
    "start_time": "2021-06-21T12:27:06.731Z"
   },
   {
    "duration": 24,
    "start_time": "2021-06-21T12:27:06.741Z"
   },
   {
    "duration": 8488,
    "start_time": "2021-06-21T12:27:06.768Z"
   },
   {
    "duration": 10818,
    "start_time": "2021-06-21T12:27:15.258Z"
   },
   {
    "duration": 53532,
    "start_time": "2021-06-21T12:27:26.078Z"
   },
   {
    "duration": 122,
    "start_time": "2021-06-21T12:28:19.614Z"
   },
   {
    "duration": 465,
    "start_time": "2021-06-21T12:28:19.739Z"
   },
   {
    "duration": -570,
    "start_time": "2021-06-21T12:28:20.777Z"
   },
   {
    "duration": -572,
    "start_time": "2021-06-21T12:28:20.781Z"
   },
   {
    "duration": -665,
    "start_time": "2021-06-21T12:28:20.876Z"
   },
   {
    "duration": -669,
    "start_time": "2021-06-21T12:28:20.882Z"
   },
   {
    "duration": 25161,
    "start_time": "2021-06-21T13:22:59.087Z"
   },
   {
    "duration": 17404,
    "start_time": "2021-06-21T13:23:26.706Z"
   },
   {
    "duration": 96147,
    "start_time": "2021-06-21T13:23:48.078Z"
   },
   {
    "duration": 56,
    "start_time": "2021-06-21T13:25:37.477Z"
   },
   {
    "duration": 4,
    "start_time": "2021-06-21T13:27:01.249Z"
   },
   {
    "duration": 5,
    "start_time": "2021-06-21T13:27:31.833Z"
   },
   {
    "duration": 102,
    "start_time": "2021-06-21T13:27:39.135Z"
   },
   {
    "duration": 113,
    "start_time": "2021-06-21T13:27:57.243Z"
   },
   {
    "duration": 3,
    "start_time": "2021-06-21T13:28:17.163Z"
   },
   {
    "duration": 8833,
    "start_time": "2021-06-21T13:28:17.169Z"
   },
   {
    "duration": 10917,
    "start_time": "2021-06-21T13:28:26.005Z"
   },
   {
    "duration": 54787,
    "start_time": "2021-06-21T13:28:36.925Z"
   },
   {
    "duration": 82,
    "start_time": "2021-06-21T13:29:31.809Z"
   },
   {
    "duration": 308,
    "start_time": "2021-06-21T13:29:31.908Z"
   },
   {
    "duration": -168,
    "start_time": "2021-06-21T13:29:32.387Z"
   },
   {
    "duration": -169,
    "start_time": "2021-06-21T13:29:32.390Z"
   },
   {
    "duration": -169,
    "start_time": "2021-06-21T13:29:32.393Z"
   },
   {
    "duration": -169,
    "start_time": "2021-06-21T13:29:32.395Z"
   },
   {
    "duration": 3,
    "start_time": "2021-06-21T13:37:16.226Z"
   },
   {
    "duration": 75900,
    "start_time": "2021-06-21T13:37:16.232Z"
   },
   {
    "duration": 34475,
    "start_time": "2021-06-21T13:38:32.135Z"
   },
   {
    "duration": 223242,
    "start_time": "2021-06-21T13:39:06.612Z"
   },
   {
    "duration": 206,
    "start_time": "2021-06-21T13:42:49.857Z"
   },
   {
    "duration": 308,
    "start_time": "2021-06-21T13:42:50.066Z"
   },
   {
    "duration": -166,
    "start_time": "2021-06-21T13:42:50.544Z"
   },
   {
    "duration": -170,
    "start_time": "2021-06-21T13:42:50.550Z"
   },
   {
    "duration": -180,
    "start_time": "2021-06-21T13:42:50.562Z"
   },
   {
    "duration": -186,
    "start_time": "2021-06-21T13:42:50.569Z"
   },
   {
    "duration": 308,
    "start_time": "2021-06-21T14:02:24.160Z"
   },
   {
    "duration": 199316,
    "start_time": "2021-06-21T14:04:00.277Z"
   },
   {
    "duration": 191,
    "start_time": "2021-06-21T14:16:57.543Z"
   },
   {
    "duration": 196169,
    "start_time": "2021-06-21T14:20:01.404Z"
   },
   {
    "duration": 221,
    "start_time": "2021-06-21T14:25:03.359Z"
   },
   {
    "duration": 65852,
    "start_time": "2021-06-21T14:30:22.924Z"
   },
   {
    "duration": 19635,
    "start_time": "2021-06-21T14:31:32.057Z"
   },
   {
    "duration": 1269,
    "start_time": "2021-06-21T14:31:53.679Z"
   },
   {
    "duration": 11,
    "start_time": "2021-06-21T14:31:56.662Z"
   },
   {
    "duration": 353,
    "start_time": "2021-06-21T14:32:13.126Z"
   },
   {
    "duration": 327,
    "start_time": "2021-06-21T14:32:29.234Z"
   },
   {
    "duration": 335,
    "start_time": "2021-06-21T14:32:41.229Z"
   },
   {
    "duration": 294,
    "start_time": "2021-06-21T14:32:45.963Z"
   },
   {
    "duration": 1463,
    "start_time": "2021-06-21T14:32:55.471Z"
   },
   {
    "duration": 15,
    "start_time": "2021-06-21T14:33:00.234Z"
   },
   {
    "duration": 11,
    "start_time": "2021-06-21T14:33:03.452Z"
   },
   {
    "duration": 10,
    "start_time": "2021-06-21T14:34:14.935Z"
   },
   {
    "duration": 10,
    "start_time": "2021-06-21T14:34:21.345Z"
   },
   {
    "duration": 10,
    "start_time": "2021-06-21T14:34:28.282Z"
   },
   {
    "duration": 377,
    "start_time": "2021-06-21T14:34:41.248Z"
   },
   {
    "duration": 10,
    "start_time": "2021-06-21T14:34:51.819Z"
   },
   {
    "duration": 10,
    "start_time": "2021-06-21T14:35:36.351Z"
   },
   {
    "duration": 1132,
    "start_time": "2021-06-22T05:57:21.620Z"
   },
   {
    "duration": 56,
    "start_time": "2021-06-22T05:57:27.897Z"
   },
   {
    "duration": 1219,
    "start_time": "2021-06-22T05:57:44.938Z"
   },
   {
    "duration": 6,
    "start_time": "2021-06-22T05:57:58.790Z"
   },
   {
    "duration": 274,
    "start_time": "2021-06-22T05:59:01.955Z"
   },
   {
    "duration": 804,
    "start_time": "2021-06-22T05:59:08.267Z"
   },
   {
    "duration": 23,
    "start_time": "2021-06-22T05:59:15.041Z"
   },
   {
    "duration": 728,
    "start_time": "2021-06-22T05:59:17.068Z"
   },
   {
    "duration": 687,
    "start_time": "2021-06-22T05:59:49.786Z"
   },
   {
    "duration": 689,
    "start_time": "2021-06-22T06:00:04.157Z"
   },
   {
    "duration": 678,
    "start_time": "2021-06-22T06:00:16.671Z"
   },
   {
    "duration": 1869,
    "start_time": "2021-06-22T06:01:31.108Z"
   },
   {
    "duration": 1871,
    "start_time": "2021-06-22T06:01:52.108Z"
   },
   {
    "duration": 683,
    "start_time": "2021-06-22T06:02:15.957Z"
   },
   {
    "duration": 178,
    "start_time": "2021-06-22T06:02:52.608Z"
   },
   {
    "duration": 172,
    "start_time": "2021-06-22T06:03:07.392Z"
   },
   {
    "duration": 864,
    "start_time": "2021-06-22T06:04:22.211Z"
   },
   {
    "duration": 681,
    "start_time": "2021-06-22T06:04:40.382Z"
   },
   {
    "duration": 689,
    "start_time": "2021-06-22T06:05:36.048Z"
   },
   {
    "duration": 702,
    "start_time": "2021-06-22T06:05:49.883Z"
   },
   {
    "duration": 692,
    "start_time": "2021-06-22T06:05:57.398Z"
   },
   {
    "duration": 674,
    "start_time": "2021-06-22T06:08:52.468Z"
   },
   {
    "duration": 175,
    "start_time": "2021-06-22T06:09:42.453Z"
   },
   {
    "duration": 185,
    "start_time": "2021-06-22T06:09:50.002Z"
   },
   {
    "duration": 11,
    "start_time": "2021-06-22T06:10:00.133Z"
   },
   {
    "duration": 9,
    "start_time": "2021-06-22T06:10:16.131Z"
   },
   {
    "duration": 236,
    "start_time": "2021-06-22T06:10:34.719Z"
   },
   {
    "duration": 71,
    "start_time": "2021-06-22T06:12:11.406Z"
   },
   {
    "duration": 15,
    "start_time": "2021-06-22T06:12:15.886Z"
   },
   {
    "duration": 10,
    "start_time": "2021-06-22T06:12:53.905Z"
   },
   {
    "duration": 187,
    "start_time": "2021-06-22T06:13:11.155Z"
   },
   {
    "duration": 15,
    "start_time": "2021-06-22T06:13:18.422Z"
   },
   {
    "duration": 11,
    "start_time": "2021-06-22T06:14:04.698Z"
   },
   {
    "duration": 356,
    "start_time": "2021-06-22T06:14:21.656Z"
   },
   {
    "duration": 214,
    "start_time": "2021-06-22T06:14:28.990Z"
   },
   {
    "duration": 305,
    "start_time": "2021-06-22T06:14:51.378Z"
   },
   {
    "duration": 355,
    "start_time": "2021-06-22T06:15:02.831Z"
   },
   {
    "duration": 338,
    "start_time": "2021-06-22T06:15:06.992Z"
   },
   {
    "duration": 1782,
    "start_time": "2021-06-22T06:15:16.439Z"
   },
   {
    "duration": 330,
    "start_time": "2021-06-22T06:15:32.261Z"
   },
   {
    "duration": 382,
    "start_time": "2021-06-22T06:15:35.430Z"
   },
   {
    "duration": 1728,
    "start_time": "2021-06-22T06:16:33.566Z"
   },
   {
    "duration": 197,
    "start_time": "2021-06-22T06:16:44.630Z"
   },
   {
    "duration": 194,
    "start_time": "2021-06-22T06:16:55.463Z"
   },
   {
    "duration": 200,
    "start_time": "2021-06-22T06:17:01.502Z"
   },
   {
    "duration": 180,
    "start_time": "2021-06-22T06:17:10.858Z"
   },
   {
    "duration": 186,
    "start_time": "2021-06-22T06:17:30.366Z"
   },
   {
    "duration": 389,
    "start_time": "2021-06-22T06:17:38.266Z"
   },
   {
    "duration": 329,
    "start_time": "2021-06-22T06:17:41.385Z"
   },
   {
    "duration": 191,
    "start_time": "2021-06-22T06:17:54.904Z"
   },
   {
    "duration": 1958,
    "start_time": "2021-06-22T06:18:00.785Z"
   },
   {
    "duration": 213,
    "start_time": "2021-06-22T06:18:13.935Z"
   },
   {
    "duration": 885,
    "start_time": "2021-06-22T06:19:57.012Z"
   },
   {
    "duration": 43726,
    "start_time": "2021-06-22T06:21:56.071Z"
   },
   {
    "duration": 332,
    "start_time": "2021-06-22T06:23:25.995Z"
   },
   {
    "duration": 12,
    "start_time": "2021-06-22T06:23:50.262Z"
   },
   {
    "duration": 9,
    "start_time": "2021-06-22T06:24:07.429Z"
   },
   {
    "duration": 11,
    "start_time": "2021-06-22T06:24:13.136Z"
   },
   {
    "duration": 11,
    "start_time": "2021-06-22T06:24:42.644Z"
   },
   {
    "duration": 10,
    "start_time": "2021-06-22T06:24:55.311Z"
   },
   {
    "duration": 1814,
    "start_time": "2021-06-22T06:25:05.608Z"
   },
   {
    "duration": 2,
    "start_time": "2021-06-22T06:25:07.424Z"
   },
   {
    "duration": 640,
    "start_time": "2021-06-22T06:25:07.428Z"
   },
   {
    "duration": 1755,
    "start_time": "2021-06-22T06:25:08.070Z"
   },
   {
    "duration": 57,
    "start_time": "2021-06-22T06:25:09.827Z"
   },
   {
    "duration": 834,
    "start_time": "2021-06-22T06:25:09.886Z"
   },
   {
    "duration": 880,
    "start_time": "2021-06-22T06:25:10.722Z"
   },
   {
    "duration": 4,
    "start_time": "2021-06-22T06:25:11.604Z"
   },
   {
    "duration": 60822,
    "start_time": "2021-06-22T06:25:11.610Z"
   },
   {
    "duration": 12,
    "start_time": "2021-06-22T06:26:12.433Z"
   },
   {
    "duration": 8119,
    "start_time": "2021-06-22T06:26:12.446Z"
   },
   {
    "duration": -602,
    "start_time": "2021-06-22T06:26:21.169Z"
   },
   {
    "duration": -613,
    "start_time": "2021-06-22T06:26:21.181Z"
   },
   {
    "duration": -618,
    "start_time": "2021-06-22T06:26:21.187Z"
   },
   {
    "duration": -621,
    "start_time": "2021-06-22T06:26:21.191Z"
   },
   {
    "duration": -623,
    "start_time": "2021-06-22T06:26:21.194Z"
   },
   {
    "duration": -624,
    "start_time": "2021-06-22T06:26:21.196Z"
   },
   {
    "duration": -630,
    "start_time": "2021-06-22T06:26:21.203Z"
   },
   {
    "duration": -633,
    "start_time": "2021-06-22T06:26:21.207Z"
   },
   {
    "duration": -634,
    "start_time": "2021-06-22T06:26:21.209Z"
   },
   {
    "duration": -636,
    "start_time": "2021-06-22T06:26:21.212Z"
   },
   {
    "duration": -637,
    "start_time": "2021-06-22T06:26:21.214Z"
   },
   {
    "duration": -638,
    "start_time": "2021-06-22T06:26:21.216Z"
   },
   {
    "duration": -639,
    "start_time": "2021-06-22T06:26:21.218Z"
   },
   {
    "duration": 200,
    "start_time": "2021-06-22T06:26:36.056Z"
   },
   {
    "duration": 10,
    "start_time": "2021-06-22T06:26:41.676Z"
   },
   {
    "duration": 43,
    "start_time": "2021-06-22T06:26:50.787Z"
   },
   {
    "duration": 46638,
    "start_time": "2021-06-22T06:26:54.369Z"
   },
   {
    "duration": 24367,
    "start_time": "2021-06-22T06:27:54.894Z"
   },
   {
    "duration": 291654,
    "start_time": "2021-06-22T06:28:21.594Z"
   },
   {
    "duration": 159,
    "start_time": "2021-06-22T06:34:36.065Z"
   },
   {
    "duration": 31257,
    "start_time": "2021-06-22T06:37:10.929Z"
   },
   {
    "duration": 5,
    "start_time": "2021-06-22T06:38:14.041Z"
   },
   {
    "duration": 3,
    "start_time": "2021-06-22T06:38:31.976Z"
   },
   {
    "duration": 42,
    "start_time": "2021-06-22T06:38:44.903Z"
   },
   {
    "duration": 33902,
    "start_time": "2021-06-22T06:38:48.975Z"
   },
   {
    "duration": -589,
    "start_time": "2021-06-22T06:40:11.899Z"
   },
   {
    "duration": 26234,
    "start_time": "2021-06-22T06:40:15.260Z"
   },
   {
    "duration": 9144,
    "start_time": "2021-06-22T06:40:59.273Z"
   },
   {
    "duration": 5046,
    "start_time": "2021-06-22T06:41:16.861Z"
   },
   {
    "duration": 6268,
    "start_time": "2021-06-22T06:41:54.954Z"
   },
   {
    "duration": 914,
    "start_time": "2021-06-22T06:42:07.697Z"
   },
   {
    "duration": 5,
    "start_time": "2021-06-22T06:42:15.656Z"
   },
   {
    "duration": 4,
    "start_time": "2021-06-22T06:42:43.049Z"
   },
   {
    "duration": 4,
    "start_time": "2021-06-22T06:42:43.055Z"
   },
   {
    "duration": 562,
    "start_time": "2021-06-22T06:42:43.061Z"
   },
   {
    "duration": 9,
    "start_time": "2021-06-22T06:42:43.625Z"
   },
   {
    "duration": 21,
    "start_time": "2021-06-22T06:42:43.636Z"
   },
   {
    "duration": 739,
    "start_time": "2021-06-22T06:42:43.659Z"
   },
   {
    "duration": 873,
    "start_time": "2021-06-22T06:42:44.400Z"
   },
   {
    "duration": 10,
    "start_time": "2021-06-22T06:42:45.275Z"
   },
   {
    "duration": 17818,
    "start_time": "2021-06-22T06:42:45.287Z"
   },
   {
    "duration": -648,
    "start_time": "2021-06-22T06:43:03.756Z"
   },
   {
    "duration": -650,
    "start_time": "2021-06-22T06:43:03.759Z"
   },
   {
    "duration": -651,
    "start_time": "2021-06-22T06:43:03.761Z"
   },
   {
    "duration": 1092,
    "start_time": "2021-06-22T06:43:15.619Z"
   },
   {
    "duration": 2,
    "start_time": "2021-06-22T06:43:16.713Z"
   },
   {
    "duration": 617,
    "start_time": "2021-06-22T06:43:16.716Z"
   },
   {
    "duration": 402,
    "start_time": "2021-06-22T06:43:17.335Z"
   },
   {
    "duration": 60,
    "start_time": "2021-06-22T06:43:17.739Z"
   },
   {
    "duration": 840,
    "start_time": "2021-06-22T06:43:17.801Z"
   },
   {
    "duration": 874,
    "start_time": "2021-06-22T06:43:18.642Z"
   },
   {
    "duration": 4,
    "start_time": "2021-06-22T06:43:19.518Z"
   },
   {
    "duration": 45033,
    "start_time": "2021-06-22T06:43:19.524Z"
   },
   {
    "duration": 10,
    "start_time": "2021-06-22T06:44:04.559Z"
   },
   {
    "duration": 46,
    "start_time": "2021-06-22T06:44:04.571Z"
   },
   {
    "duration": 45952,
    "start_time": "2021-06-22T06:44:04.618Z"
   },
   {
    "duration": 32703,
    "start_time": "2021-06-22T06:44:50.584Z"
   },
   {
    "duration": -1022,
    "start_time": "2021-06-22T06:45:24.311Z"
   },
   {
    "duration": -1027,
    "start_time": "2021-06-22T06:45:24.317Z"
   },
   {
    "duration": -1034,
    "start_time": "2021-06-22T06:45:24.325Z"
   },
   {
    "duration": -1036,
    "start_time": "2021-06-22T06:45:24.328Z"
   },
   {
    "duration": -1036,
    "start_time": "2021-06-22T06:45:24.329Z"
   },
   {
    "duration": -1037,
    "start_time": "2021-06-22T06:45:24.331Z"
   },
   {
    "duration": -1037,
    "start_time": "2021-06-22T06:45:24.333Z"
   },
   {
    "duration": -1038,
    "start_time": "2021-06-22T06:45:24.335Z"
   },
   {
    "duration": -1039,
    "start_time": "2021-06-22T06:45:24.337Z"
   },
   {
    "duration": -1041,
    "start_time": "2021-06-22T06:45:24.339Z"
   },
   {
    "duration": -1043,
    "start_time": "2021-06-22T06:45:24.342Z"
   },
   {
    "duration": -554,
    "start_time": "2021-06-22T06:45:50.336Z"
   },
   {
    "duration": 891,
    "start_time": "2021-06-22T06:46:14.563Z"
   },
   {
    "duration": 3,
    "start_time": "2021-06-22T06:46:17.521Z"
   },
   {
    "duration": 43353,
    "start_time": "2021-06-22T06:46:19.823Z"
   },
   {
    "duration": 11,
    "start_time": "2021-06-22T06:47:05.287Z"
   },
   {
    "duration": 41,
    "start_time": "2021-06-22T06:47:26.719Z"
   },
   {
    "duration": 46931,
    "start_time": "2021-06-22T06:47:29.987Z"
   },
   {
    "duration": 21220,
    "start_time": "2021-06-22T06:48:21.481Z"
   },
   {
    "duration": -582,
    "start_time": "2021-06-22T06:48:43.285Z"
   },
   {
    "duration": 6,
    "start_time": "2021-06-22T06:48:45.780Z"
   },
   {
    "duration": 5,
    "start_time": "2021-06-22T06:49:13.584Z"
   },
   {
    "duration": 5,
    "start_time": "2021-06-22T06:49:31.934Z"
   },
   {
    "duration": 4,
    "start_time": "2021-06-22T06:49:37.854Z"
   },
   {
    "duration": 30753,
    "start_time": "2021-06-22T06:50:12.515Z"
   },
   {
    "duration": 31807,
    "start_time": "2021-06-22T06:51:29.918Z"
   },
   {
    "duration": 264,
    "start_time": "2021-06-22T06:53:36.990Z"
   },
   {
    "duration": 4,
    "start_time": "2021-06-22T06:57:22.864Z"
   },
   {
    "duration": 30279,
    "start_time": "2021-06-22T06:58:30.412Z"
   },
   {
    "duration": 305,
    "start_time": "2021-06-22T07:30:20.613Z"
   },
   {
    "duration": 3,
    "start_time": "2021-06-22T07:31:02.412Z"
   },
   {
    "duration": 4,
    "start_time": "2021-06-22T07:31:16.694Z"
   },
   {
    "duration": 4,
    "start_time": "2021-06-22T07:31:48.171Z"
   },
   {
    "duration": 5,
    "start_time": "2021-06-22T07:32:24.225Z"
   },
   {
    "duration": 44,
    "start_time": "2021-06-22T07:33:03.819Z"
   },
   {
    "duration": 31228,
    "start_time": "2021-06-22T07:33:12.509Z"
   },
   {
    "duration": 4,
    "start_time": "2021-06-22T07:33:45.261Z"
   },
   {
    "duration": 4,
    "start_time": "2021-06-22T07:34:20.697Z"
   },
   {
    "duration": 25453,
    "start_time": "2021-06-22T07:34:55.549Z"
   },
   {
    "duration": 4,
    "start_time": "2021-06-22T07:35:23.858Z"
   },
   {
    "duration": 4,
    "start_time": "2021-06-22T07:36:25.595Z"
   },
   {
    "duration": 388,
    "start_time": "2021-06-22T07:36:30.494Z"
   },
   {
    "duration": 4,
    "start_time": "2021-06-22T07:36:37.322Z"
   },
   {
    "duration": 20783,
    "start_time": "2021-06-22T07:38:34.349Z"
   },
   {
    "duration": 77,
    "start_time": "2021-06-22T07:39:09.679Z"
   },
   {
    "duration": 37,
    "start_time": "2021-06-22T07:39:14.227Z"
   },
   {
    "duration": 5,
    "start_time": "2021-06-22T07:39:26.811Z"
   },
   {
    "duration": 393,
    "start_time": "2021-06-22T07:39:35.202Z"
   },
   {
    "duration": 236,
    "start_time": "2021-06-22T07:39:52.941Z"
   },
   {
    "duration": 43,
    "start_time": "2021-06-22T07:40:04.864Z"
   },
   {
    "duration": 4,
    "start_time": "2021-06-22T07:40:16.763Z"
   },
   {
    "duration": 25956,
    "start_time": "2021-06-22T07:41:08.879Z"
   },
   {
    "duration": 4,
    "start_time": "2021-06-22T07:41:37.343Z"
   },
   {
    "duration": 21378,
    "start_time": "2021-06-22T07:41:55.246Z"
   },
   {
    "duration": 3,
    "start_time": "2021-06-22T07:42:16.627Z"
   },
   {
    "duration": 5287,
    "start_time": "2021-06-22T07:43:04.322Z"
   },
   {
    "duration": 4,
    "start_time": "2021-06-22T07:44:15.882Z"
   },
   {
    "duration": 291,
    "start_time": "2021-06-22T07:45:13.247Z"
   },
   {
    "duration": 252,
    "start_time": "2021-06-22T07:45:19.545Z"
   },
   {
    "duration": 89,
    "start_time": "2021-06-22T07:46:13.434Z"
   },
   {
    "duration": 528,
    "start_time": "2021-06-22T07:46:21.140Z"
   },
   {
    "duration": 4,
    "start_time": "2021-06-22T07:46:44.102Z"
   },
   {
    "duration": 4,
    "start_time": "2021-06-22T07:47:01.854Z"
   },
   {
    "duration": 226,
    "start_time": "2021-06-22T07:49:08.003Z"
   },
   {
    "duration": 366,
    "start_time": "2021-06-22T07:50:23.103Z"
   },
   {
    "duration": 338,
    "start_time": "2021-06-22T07:50:46.246Z"
   },
   {
    "duration": 65,
    "start_time": "2021-06-22T07:52:55.294Z"
   },
   {
    "duration": 362,
    "start_time": "2021-06-22T07:53:01.540Z"
   },
   {
    "duration": 5,
    "start_time": "2021-06-22T07:53:23.136Z"
   },
   {
    "duration": 5,
    "start_time": "2021-06-22T07:53:27.687Z"
   },
   {
    "duration": 5,
    "start_time": "2021-06-22T07:53:31.829Z"
   },
   {
    "duration": 179,
    "start_time": "2021-06-22T07:57:07.988Z"
   },
   {
    "duration": 356,
    "start_time": "2021-06-22T07:57:53.480Z"
   },
   {
    "duration": 8,
    "start_time": "2021-06-22T07:58:10.851Z"
   },
   {
    "duration": 366,
    "start_time": "2021-06-22T07:58:39.227Z"
   },
   {
    "duration": 347,
    "start_time": "2021-06-22T07:59:08.362Z"
   },
   {
    "duration": 4326,
    "start_time": "2021-06-22T07:59:13.658Z"
   },
   {
    "duration": 1133,
    "start_time": "2021-06-22T08:00:34.586Z"
   },
   {
    "duration": 2,
    "start_time": "2021-06-22T08:00:35.721Z"
   },
   {
    "duration": 765,
    "start_time": "2021-06-22T08:00:35.724Z"
   },
   {
    "duration": 386,
    "start_time": "2021-06-22T08:00:36.491Z"
   },
   {
    "duration": 49,
    "start_time": "2021-06-22T08:00:36.879Z"
   },
   {
    "duration": 817,
    "start_time": "2021-06-22T08:00:36.930Z"
   },
   {
    "duration": 889,
    "start_time": "2021-06-22T08:00:37.749Z"
   },
   {
    "duration": 4,
    "start_time": "2021-06-22T08:00:38.640Z"
   },
   {
    "duration": 45711,
    "start_time": "2021-06-22T08:00:38.646Z"
   },
   {
    "duration": 12,
    "start_time": "2021-06-22T08:01:24.359Z"
   },
   {
    "duration": 52,
    "start_time": "2021-06-22T08:01:24.373Z"
   },
   {
    "duration": 46390,
    "start_time": "2021-06-22T08:01:24.427Z"
   },
   {
    "duration": 19951,
    "start_time": "2021-06-22T08:02:10.819Z"
   },
   {
    "duration": 293,
    "start_time": "2021-06-22T08:02:30.772Z"
   },
   {
    "duration": -631,
    "start_time": "2021-06-22T08:02:31.699Z"
   },
   {
    "duration": -637,
    "start_time": "2021-06-22T08:02:31.706Z"
   },
   {
    "duration": -639,
    "start_time": "2021-06-22T08:02:31.710Z"
   },
   {
    "duration": -650,
    "start_time": "2021-06-22T08:02:31.723Z"
   },
   {
    "duration": -651,
    "start_time": "2021-06-22T08:02:31.725Z"
   },
   {
    "duration": -653,
    "start_time": "2021-06-22T08:02:31.728Z"
   },
   {
    "duration": -653,
    "start_time": "2021-06-22T08:02:31.730Z"
   },
   {
    "duration": -655,
    "start_time": "2021-06-22T08:02:31.733Z"
   },
   {
    "duration": -655,
    "start_time": "2021-06-22T08:02:31.735Z"
   },
   {
    "duration": -656,
    "start_time": "2021-06-22T08:02:31.737Z"
   },
   {
    "duration": -657,
    "start_time": "2021-06-22T08:02:31.739Z"
   },
   {
    "duration": -659,
    "start_time": "2021-06-22T08:02:31.743Z"
   },
   {
    "duration": -660,
    "start_time": "2021-06-22T08:02:31.745Z"
   },
   {
    "duration": 3,
    "start_time": "2021-06-22T08:02:39.846Z"
   },
   {
    "duration": 9,
    "start_time": "2021-06-22T08:02:42.228Z"
   },
   {
    "duration": 4,
    "start_time": "2021-06-22T08:03:03.502Z"
   },
   {
    "duration": 197,
    "start_time": "2021-06-22T08:03:10.638Z"
   },
   {
    "duration": 9,
    "start_time": "2021-06-22T08:03:18.189Z"
   },
   {
    "duration": 8,
    "start_time": "2021-06-22T08:03:32.974Z"
   },
   {
    "duration": 8,
    "start_time": "2021-06-22T08:03:44.613Z"
   },
   {
    "duration": 325,
    "start_time": "2021-06-22T08:04:05.107Z"
   },
   {
    "duration": 4,
    "start_time": "2021-06-22T08:04:15.235Z"
   },
   {
    "duration": 4,
    "start_time": "2021-06-22T08:05:00.178Z"
   },
   {
    "duration": 4,
    "start_time": "2021-06-22T08:05:34.679Z"
   },
   {
    "duration": 25027,
    "start_time": "2021-06-22T08:08:26.167Z"
   },
   {
    "duration": 5,
    "start_time": "2021-06-22T08:20:29.297Z"
   },
   {
    "duration": 5,
    "start_time": "2021-06-22T08:20:52.436Z"
   },
   {
    "duration": 9,
    "start_time": "2021-06-22T08:22:11.486Z"
   },
   {
    "duration": 4,
    "start_time": "2021-06-22T08:22:20.953Z"
   },
   {
    "duration": 4,
    "start_time": "2021-06-22T08:23:13.374Z"
   },
   {
    "duration": 4,
    "start_time": "2021-06-22T08:23:23.367Z"
   },
   {
    "duration": 704,
    "start_time": "2021-06-22T08:48:15.700Z"
   },
   {
    "duration": 1980387,
    "start_time": "2021-06-22T08:48:16.406Z"
   },
   {
    "duration": 984,
    "start_time": "2021-06-22T09:21:16.795Z"
   },
   {
    "duration": -659,
    "start_time": "2021-06-22T09:21:18.440Z"
   },
   {
    "duration": 24149,
    "start_time": "2021-06-22T09:27:02.407Z"
   },
   {
    "duration": 4,
    "start_time": "2021-06-22T09:27:32.516Z"
   },
   {
    "duration": 5,
    "start_time": "2021-06-22T09:32:24.370Z"
   },
   {
    "duration": 4,
    "start_time": "2021-06-22T09:32:24.377Z"
   },
   {
    "duration": 604,
    "start_time": "2021-06-22T09:32:24.383Z"
   },
   {
    "duration": 9,
    "start_time": "2021-06-22T09:32:24.989Z"
   },
   {
    "duration": 31,
    "start_time": "2021-06-22T09:32:24.999Z"
   },
   {
    "duration": 766,
    "start_time": "2021-06-22T09:32:25.032Z"
   },
   {
    "duration": 931,
    "start_time": "2021-06-22T09:32:25.800Z"
   },
   {
    "duration": 3,
    "start_time": "2021-06-22T09:32:26.733Z"
   },
   {
    "duration": 44418,
    "start_time": "2021-06-22T09:32:26.738Z"
   },
   {
    "duration": 1642,
    "start_time": "2021-06-22T09:35:49.010Z"
   },
   {
    "duration": 1038,
    "start_time": "2021-06-22T09:36:03.829Z"
   },
   {
    "duration": 984,
    "start_time": "2021-06-22T09:36:18.023Z"
   },
   {
    "duration": 1029,
    "start_time": "2021-06-22T09:36:23.036Z"
   },
   {
    "duration": 991,
    "start_time": "2021-06-22T09:36:49.222Z"
   },
   {
    "duration": 985,
    "start_time": "2021-06-22T09:37:05.649Z"
   },
   {
    "duration": 13,
    "start_time": "2021-06-22T09:39:02.044Z"
   },
   {
    "duration": 3,
    "start_time": "2021-06-22T09:39:42.264Z"
   },
   {
    "duration": 10,
    "start_time": "2021-06-22T09:40:32.439Z"
   },
   {
    "duration": 27,
    "start_time": "2021-06-22T09:40:59.731Z"
   },
   {
    "duration": 13,
    "start_time": "2021-06-22T09:41:26.491Z"
   },
   {
    "duration": 23,
    "start_time": "2021-06-22T09:41:30.116Z"
   },
   {
    "duration": 49,
    "start_time": "2021-06-22T09:41:46.335Z"
   },
   {
    "duration": 24477,
    "start_time": "2021-06-22T09:42:02.411Z"
   },
   {
    "duration": 949,
    "start_time": "2021-06-22T09:42:27.739Z"
   },
   {
    "duration": 4,
    "start_time": "2021-06-22T09:49:27.436Z"
   },
   {
    "duration": 323003,
    "start_time": "2021-06-22T09:49:35.006Z"
   },
   {
    "duration": 382,
    "start_time": "2021-06-22T09:57:27.122Z"
   },
   {
    "duration": 245,
    "start_time": "2021-06-22T11:04:08.573Z"
   },
   {
    "duration": 208,
    "start_time": "2021-06-22T11:04:29.087Z"
   },
   {
    "duration": 208,
    "start_time": "2021-06-22T11:06:07.834Z"
   },
   {
    "duration": 232,
    "start_time": "2021-06-22T11:06:17.368Z"
   },
   {
    "duration": 212,
    "start_time": "2021-06-22T11:07:33.222Z"
   },
   {
    "duration": 1638,
    "start_time": "2021-06-22T11:08:44.480Z"
   },
   {
    "duration": 6,
    "start_time": "2021-06-22T11:08:53.228Z"
   },
   {
    "duration": 4,
    "start_time": "2021-06-22T11:09:58.469Z"
   },
   {
    "duration": 53,
    "start_time": "2021-06-22T11:10:09.798Z"
   },
   {
    "duration": 5,
    "start_time": "2021-06-22T11:10:13.390Z"
   },
   {
    "duration": 4,
    "start_time": "2021-06-22T11:10:26.629Z"
   },
   {
    "duration": 4,
    "start_time": "2021-06-22T11:10:34.353Z"
   },
   {
    "duration": 4,
    "start_time": "2021-06-22T11:10:39.816Z"
   },
   {
    "duration": 234,
    "start_time": "2021-06-22T11:11:05.859Z"
   },
   {
    "duration": 135,
    "start_time": "2021-06-22T11:11:13.821Z"
   },
   {
    "duration": 133,
    "start_time": "2021-06-22T11:11:31.211Z"
   },
   {
    "duration": 177,
    "start_time": "2021-06-22T11:11:45.097Z"
   },
   {
    "duration": 4,
    "start_time": "2021-06-22T11:11:53.113Z"
   },
   {
    "duration": 267,
    "start_time": "2021-06-22T11:12:17.141Z"
   },
   {
    "duration": 220,
    "start_time": "2021-06-22T11:12:21.758Z"
   },
   {
    "duration": 15,
    "start_time": "2021-06-22T11:12:32.634Z"
   },
   {
    "duration": 25,
    "start_time": "2021-06-22T11:12:46.141Z"
   },
   {
    "duration": 4,
    "start_time": "2021-06-22T11:13:08.393Z"
   },
   {
    "duration": 388,
    "start_time": "2021-06-22T11:13:12.169Z"
   },
   {
    "duration": 4,
    "start_time": "2021-06-22T11:13:15.958Z"
   },
   {
    "duration": 24,
    "start_time": "2021-06-22T11:13:20.315Z"
   },
   {
    "duration": 23,
    "start_time": "2021-06-22T11:14:25.089Z"
   },
   {
    "duration": 1401,
    "start_time": "2021-06-22T11:21:09.208Z"
   },
   {
    "duration": 3,
    "start_time": "2021-06-22T11:21:10.610Z"
   },
   {
    "duration": 667,
    "start_time": "2021-06-22T11:21:10.614Z"
   },
   {
    "duration": 853,
    "start_time": "2021-06-22T11:21:11.282Z"
   },
   {
    "duration": 60,
    "start_time": "2021-06-22T11:21:12.137Z"
   },
   {
    "duration": 769,
    "start_time": "2021-06-22T11:21:12.199Z"
   },
   {
    "duration": 963,
    "start_time": "2021-06-22T11:21:12.970Z"
   },
   {
    "duration": 17,
    "start_time": "2021-06-22T11:21:13.936Z"
   },
   {
    "duration": 3,
    "start_time": "2021-06-22T11:21:13.955Z"
   },
   {
    "duration": 45745,
    "start_time": "2021-06-22T11:21:13.960Z"
   },
   {
    "duration": 40,
    "start_time": "2021-06-22T11:21:59.706Z"
   },
   {
    "duration": 53,
    "start_time": "2021-06-22T11:21:59.747Z"
   },
   {
    "duration": 46952,
    "start_time": "2021-06-22T11:21:59.802Z"
   },
   {
    "duration": 25095,
    "start_time": "2021-06-22T11:22:46.755Z"
   },
   {
    "duration": 5,
    "start_time": "2021-06-22T11:23:11.852Z"
   },
   {
    "duration": 346737,
    "start_time": "2021-06-22T11:23:11.859Z"
   },
   {
    "duration": 4,
    "start_time": "2021-06-22T11:28:58.598Z"
   },
   {
    "duration": 397,
    "start_time": "2021-06-22T11:28:58.603Z"
   },
   {
    "duration": 12,
    "start_time": "2021-06-22T11:28:59.001Z"
   },
   {
    "duration": 500,
    "start_time": "2021-06-22T11:28:59.015Z"
   },
   {
    "duration": 248,
    "start_time": "2021-06-22T11:28:59.518Z"
   },
   {
    "duration": -1116,
    "start_time": "2021-06-22T11:29:00.885Z"
   },
   {
    "duration": -1119,
    "start_time": "2021-06-22T11:29:00.889Z"
   },
   {
    "duration": -1121,
    "start_time": "2021-06-22T11:29:00.892Z"
   },
   {
    "duration": -1122,
    "start_time": "2021-06-22T11:29:00.895Z"
   },
   {
    "duration": -1146,
    "start_time": "2021-06-22T11:29:00.920Z"
   },
   {
    "duration": -1149,
    "start_time": "2021-06-22T11:29:00.924Z"
   },
   {
    "duration": 2,
    "start_time": "2021-06-22T11:33:57.892Z"
   },
   {
    "duration": 4,
    "start_time": "2021-06-22T11:34:07.314Z"
   },
   {
    "duration": 9,
    "start_time": "2021-06-22T11:34:22.457Z"
   },
   {
    "duration": 9,
    "start_time": "2021-06-22T11:34:28.247Z"
   },
   {
    "duration": 4,
    "start_time": "2021-06-22T11:34:35.711Z"
   },
   {
    "duration": 9,
    "start_time": "2021-06-22T11:35:34.625Z"
   },
   {
    "duration": 380,
    "start_time": "2021-06-22T11:35:48.126Z"
   },
   {
    "duration": 771,
    "start_time": "2021-06-22T11:36:45.648Z"
   },
   {
    "duration": 4,
    "start_time": "2021-06-22T11:38:23.297Z"
   },
   {
    "duration": 4,
    "start_time": "2021-06-22T11:38:51.808Z"
   },
   {
    "duration": 3,
    "start_time": "2021-06-22T11:39:06.158Z"
   },
   {
    "duration": 369,
    "start_time": "2021-06-22T11:39:24.903Z"
   },
   {
    "duration": 493,
    "start_time": "2021-06-22T11:40:02.636Z"
   },
   {
    "duration": 207,
    "start_time": "2021-06-22T11:40:51.328Z"
   },
   {
    "duration": 158,
    "start_time": "2021-06-22T11:41:04.130Z"
   },
   {
    "duration": 3,
    "start_time": "2021-06-22T11:42:12.323Z"
   },
   {
    "duration": 1941,
    "start_time": "2021-06-22T11:42:19.237Z"
   },
   {
    "duration": 154,
    "start_time": "2021-06-22T11:43:30.068Z"
   },
   {
    "duration": 174,
    "start_time": "2021-06-22T11:44:10.003Z"
   },
   {
    "duration": 145,
    "start_time": "2021-06-22T11:44:25.861Z"
   },
   {
    "duration": 218,
    "start_time": "2021-06-22T11:44:48.702Z"
   },
   {
    "duration": 147,
    "start_time": "2021-06-22T11:44:59.305Z"
   },
   {
    "duration": 371,
    "start_time": "2021-06-22T11:45:03.953Z"
   },
   {
    "duration": 173,
    "start_time": "2021-06-22T11:45:21.839Z"
   },
   {
    "duration": 529,
    "start_time": "2021-06-22T11:45:41.091Z"
   },
   {
    "duration": 200,
    "start_time": "2021-06-22T11:46:01.448Z"
   },
   {
    "duration": 204,
    "start_time": "2021-06-22T11:47:35.290Z"
   },
   {
    "duration": 340,
    "start_time": "2021-06-22T11:48:00.311Z"
   },
   {
    "duration": 206,
    "start_time": "2021-06-22T11:48:19.945Z"
   },
   {
    "duration": 172,
    "start_time": "2021-06-22T11:49:15.851Z"
   },
   {
    "duration": 1178,
    "start_time": "2021-06-22T11:49:31.832Z"
   },
   {
    "duration": 3,
    "start_time": "2021-06-22T11:49:33.012Z"
   },
   {
    "duration": 4,
    "start_time": "2021-06-22T11:49:33.018Z"
   },
   {
    "duration": 784,
    "start_time": "2021-06-22T11:49:33.024Z"
   },
   {
    "duration": 380,
    "start_time": "2021-06-22T11:49:33.810Z"
   },
   {
    "duration": 50,
    "start_time": "2021-06-22T11:49:34.191Z"
   },
   {
    "duration": 772,
    "start_time": "2021-06-22T11:49:34.243Z"
   },
   {
    "duration": 961,
    "start_time": "2021-06-22T11:49:35.017Z"
   },
   {
    "duration": 21,
    "start_time": "2021-06-22T11:49:35.980Z"
   },
   {
    "duration": 4,
    "start_time": "2021-06-22T11:49:36.002Z"
   },
   {
    "duration": 46041,
    "start_time": "2021-06-22T11:49:36.007Z"
   },
   {
    "duration": 52,
    "start_time": "2021-06-22T11:50:22.050Z"
   },
   {
    "duration": 37,
    "start_time": "2021-06-22T11:50:22.104Z"
   },
   {
    "duration": 45912,
    "start_time": "2021-06-22T11:50:22.143Z"
   },
   {
    "duration": 24860,
    "start_time": "2021-06-22T11:51:08.056Z"
   },
   {
    "duration": 5,
    "start_time": "2021-06-22T11:51:32.917Z"
   },
   {
    "duration": 330786,
    "start_time": "2021-06-22T11:51:32.924Z"
   },
   {
    "duration": 7,
    "start_time": "2021-06-22T11:57:03.712Z"
   },
   {
    "duration": 409,
    "start_time": "2021-06-22T11:57:03.721Z"
   },
   {
    "duration": 292,
    "start_time": "2021-06-22T11:57:04.132Z"
   },
   {
    "duration": -1120,
    "start_time": "2021-06-22T11:57:05.546Z"
   },
   {
    "duration": -1121,
    "start_time": "2021-06-22T11:57:05.548Z"
   },
   {
    "duration": -1197,
    "start_time": "2021-06-22T11:57:05.625Z"
   },
   {
    "duration": -1201,
    "start_time": "2021-06-22T11:57:05.630Z"
   },
   {
    "duration": -1205,
    "start_time": "2021-06-22T11:57:05.635Z"
   },
   {
    "duration": -1209,
    "start_time": "2021-06-22T11:57:05.640Z"
   },
   {
    "duration": -1213,
    "start_time": "2021-06-22T11:57:05.645Z"
   },
   {
    "duration": -1216,
    "start_time": "2021-06-22T11:57:05.649Z"
   },
   {
    "duration": 3,
    "start_time": "2021-06-22T12:08:37.973Z"
   },
   {
    "duration": 1181,
    "start_time": "2021-06-22T12:09:17.526Z"
   },
   {
    "duration": 2,
    "start_time": "2021-06-22T12:09:18.710Z"
   },
   {
    "duration": 5,
    "start_time": "2021-06-22T12:09:18.714Z"
   },
   {
    "duration": 826,
    "start_time": "2021-06-22T12:09:18.720Z"
   },
   {
    "duration": 397,
    "start_time": "2021-06-22T12:09:19.547Z"
   },
   {
    "duration": 58,
    "start_time": "2021-06-22T12:09:19.946Z"
   },
   {
    "duration": 766,
    "start_time": "2021-06-22T12:09:20.006Z"
   },
   {
    "duration": 978,
    "start_time": "2021-06-22T12:09:20.774Z"
   },
   {
    "duration": 17,
    "start_time": "2021-06-22T12:09:21.755Z"
   },
   {
    "duration": 3,
    "start_time": "2021-06-22T12:09:21.774Z"
   },
   {
    "duration": 45575,
    "start_time": "2021-06-22T12:09:21.784Z"
   },
   {
    "duration": 59,
    "start_time": "2021-06-22T12:10:07.361Z"
   },
   {
    "duration": 38,
    "start_time": "2021-06-22T12:10:07.422Z"
   },
   {
    "duration": 46096,
    "start_time": "2021-06-22T12:10:07.462Z"
   },
   {
    "duration": 24707,
    "start_time": "2021-06-22T12:10:53.560Z"
   },
   {
    "duration": 4,
    "start_time": "2021-06-22T12:11:18.269Z"
   },
   {
    "duration": 344716,
    "start_time": "2021-06-22T12:11:18.275Z"
   },
   {
    "duration": 7,
    "start_time": "2021-06-22T12:17:02.992Z"
   },
   {
    "duration": 403,
    "start_time": "2021-06-22T12:17:03.001Z"
   },
   {
    "duration": 3,
    "start_time": "2021-06-22T12:17:03.405Z"
   },
   {
    "duration": 3,
    "start_time": "2021-06-22T13:06:20.519Z"
   },
   {
    "duration": 9,
    "start_time": "2021-06-22T13:24:41.234Z"
   },
   {
    "duration": 240,
    "start_time": "2021-06-22T13:25:15.226Z"
   },
   {
    "duration": 1221,
    "start_time": "2021-06-22T13:25:24.583Z"
   },
   {
    "duration": 3,
    "start_time": "2021-06-22T13:25:25.806Z"
   },
   {
    "duration": 5,
    "start_time": "2021-06-22T13:25:25.811Z"
   },
   {
    "duration": 703,
    "start_time": "2021-06-22T13:25:25.817Z"
   },
   {
    "duration": 394,
    "start_time": "2021-06-22T13:25:26.522Z"
   },
   {
    "duration": 43,
    "start_time": "2021-06-22T13:25:26.918Z"
   },
   {
    "duration": 753,
    "start_time": "2021-06-22T13:25:26.963Z"
   },
   {
    "duration": 918,
    "start_time": "2021-06-22T13:25:27.718Z"
   },
   {
    "duration": 16,
    "start_time": "2021-06-22T13:25:28.639Z"
   },
   {
    "duration": 8,
    "start_time": "2021-06-22T13:25:28.656Z"
   },
   {
    "duration": 2337,
    "start_time": "2021-06-22T13:25:32.924Z"
   },
   {
    "duration": 4,
    "start_time": "2021-06-22T13:29:35.700Z"
   },
   {
    "duration": 8,
    "start_time": "2021-06-22T13:29:53.070Z"
   },
   {
    "duration": 10719,
    "start_time": "2021-06-22T13:29:56.580Z"
   },
   {
    "duration": 955,
    "start_time": "2021-06-22T13:32:12.713Z"
   },
   {
    "duration": 10602,
    "start_time": "2021-06-22T13:32:38.339Z"
   },
   {
    "duration": 10779,
    "start_time": "2021-06-22T13:34:18.639Z"
   },
   {
    "duration": 516,
    "start_time": "2021-06-22T13:36:16.191Z"
   },
   {
    "duration": 10,
    "start_time": "2021-06-22T13:36:44.967Z"
   },
   {
    "duration": 9,
    "start_time": "2021-06-22T13:36:54.869Z"
   },
   {
    "duration": 10,
    "start_time": "2021-06-22T13:37:00.069Z"
   },
   {
    "duration": 9,
    "start_time": "2021-06-22T13:37:52.998Z"
   },
   {
    "duration": 9,
    "start_time": "2021-06-22T13:37:58.144Z"
   },
   {
    "duration": 12,
    "start_time": "2021-06-22T13:40:03.908Z"
   },
   {
    "duration": 9,
    "start_time": "2021-06-22T13:40:26.685Z"
   },
   {
    "duration": 9,
    "start_time": "2021-06-22T13:40:33.142Z"
   },
   {
    "duration": 10,
    "start_time": "2021-06-22T13:40:36.526Z"
   },
   {
    "duration": 1246,
    "start_time": "2021-06-22T13:41:28.962Z"
   },
   {
    "duration": 3,
    "start_time": "2021-06-22T13:41:30.211Z"
   },
   {
    "duration": 24,
    "start_time": "2021-06-22T13:41:30.218Z"
   },
   {
    "duration": 593,
    "start_time": "2021-06-22T13:41:30.243Z"
   },
   {
    "duration": 392,
    "start_time": "2021-06-22T13:41:30.838Z"
   },
   {
    "duration": 56,
    "start_time": "2021-06-22T13:41:31.232Z"
   },
   {
    "duration": 732,
    "start_time": "2021-06-22T13:41:31.291Z"
   },
   {
    "duration": 11,
    "start_time": "2021-06-22T13:41:32.025Z"
   },
   {
    "duration": 954,
    "start_time": "2021-06-22T13:41:32.037Z"
   },
   {
    "duration": 7,
    "start_time": "2021-06-22T13:41:32.993Z"
   },
   {
    "duration": 10697,
    "start_time": "2021-06-22T13:41:33.001Z"
   },
   {
    "duration": 9,
    "start_time": "2021-06-22T13:41:43.700Z"
   },
   {
    "duration": 4,
    "start_time": "2021-06-22T13:41:43.710Z"
   },
   {
    "duration": 20360,
    "start_time": "2021-06-22T13:41:43.715Z"
   },
   {
    "duration": 23,
    "start_time": "2021-06-22T13:42:04.076Z"
   },
   {
    "duration": 4899,
    "start_time": "2021-06-22T13:42:04.101Z"
   },
   {
    "duration": -1222,
    "start_time": "2021-06-22T13:42:10.225Z"
   },
   {
    "duration": -1230,
    "start_time": "2021-06-22T13:42:10.234Z"
   },
   {
    "duration": -1232,
    "start_time": "2021-06-22T13:42:10.237Z"
   },
   {
    "duration": -1233,
    "start_time": "2021-06-22T13:42:10.239Z"
   },
   {
    "duration": -1234,
    "start_time": "2021-06-22T13:42:10.241Z"
   },
   {
    "duration": -1237,
    "start_time": "2021-06-22T13:42:10.245Z"
   },
   {
    "duration": -1242,
    "start_time": "2021-06-22T13:42:10.251Z"
   },
   {
    "duration": -1243,
    "start_time": "2021-06-22T13:42:10.254Z"
   },
   {
    "duration": -1244,
    "start_time": "2021-06-22T13:42:10.256Z"
   },
   {
    "duration": -1245,
    "start_time": "2021-06-22T13:42:10.258Z"
   },
   {
    "duration": -1248,
    "start_time": "2021-06-22T13:42:10.262Z"
   },
   {
    "duration": -1254,
    "start_time": "2021-06-22T13:42:10.269Z"
   },
   {
    "duration": -1257,
    "start_time": "2021-06-22T13:42:10.272Z"
   },
   {
    "duration": -1258,
    "start_time": "2021-06-22T13:42:10.274Z"
   },
   {
    "duration": -1258,
    "start_time": "2021-06-22T13:42:10.276Z"
   },
   {
    "duration": 10,
    "start_time": "2021-06-22T13:42:11.383Z"
   },
   {
    "duration": 10,
    "start_time": "2021-06-22T13:43:57.907Z"
   },
   {
    "duration": 9,
    "start_time": "2021-06-22T13:54:33.672Z"
   },
   {
    "duration": 16,
    "start_time": "2021-06-22T13:54:48.237Z"
   },
   {
    "duration": 11,
    "start_time": "2021-06-22T13:54:59.815Z"
   },
   {
    "duration": 10,
    "start_time": "2021-06-22T13:55:19.074Z"
   },
   {
    "duration": 10,
    "start_time": "2021-06-22T13:55:24.994Z"
   },
   {
    "duration": 14,
    "start_time": "2021-06-22T13:55:51.201Z"
   },
   {
    "duration": 10,
    "start_time": "2021-06-22T13:55:59.711Z"
   },
   {
    "duration": 11,
    "start_time": "2021-06-22T13:56:04.876Z"
   },
   {
    "duration": 10,
    "start_time": "2021-06-22T13:56:27.126Z"
   },
   {
    "duration": 10,
    "start_time": "2021-06-22T13:56:30.473Z"
   },
   {
    "duration": 11,
    "start_time": "2021-06-22T13:56:33.932Z"
   },
   {
    "duration": 10,
    "start_time": "2021-06-22T13:56:37.996Z"
   },
   {
    "duration": 10,
    "start_time": "2021-06-22T13:56:40.748Z"
   },
   {
    "duration": 10,
    "start_time": "2021-06-22T13:57:40.727Z"
   },
   {
    "duration": 10,
    "start_time": "2021-06-22T13:58:00.106Z"
   },
   {
    "duration": 10,
    "start_time": "2021-06-22T13:58:04.338Z"
   },
   {
    "duration": 10,
    "start_time": "2021-06-22T13:58:08.508Z"
   },
   {
    "duration": 9,
    "start_time": "2021-06-22T13:58:11.649Z"
   },
   {
    "duration": 9,
    "start_time": "2021-06-22T13:58:15.900Z"
   },
   {
    "duration": 9,
    "start_time": "2021-06-22T13:58:20.116Z"
   },
   {
    "duration": 9,
    "start_time": "2021-06-22T13:58:26.550Z"
   },
   {
    "duration": 47,
    "start_time": "2021-06-22T14:00:41.147Z"
   },
   {
    "duration": 32,
    "start_time": "2021-06-22T14:01:11.182Z"
   },
   {
    "duration": 70,
    "start_time": "2021-06-22T14:02:15.148Z"
   },
   {
    "duration": 38,
    "start_time": "2021-06-22T14:03:51.417Z"
   },
   {
    "duration": 4076,
    "start_time": "2021-06-22T14:05:23.018Z"
   },
   {
    "duration": 28,
    "start_time": "2021-06-22T14:07:21.289Z"
   },
   {
    "duration": 29,
    "start_time": "2021-06-22T14:07:28.045Z"
   },
   {
    "duration": 29,
    "start_time": "2021-06-22T14:07:41.857Z"
   },
   {
    "duration": 31,
    "start_time": "2021-06-22T14:08:04.526Z"
   },
   {
    "duration": 218,
    "start_time": "2021-06-22T14:08:20.072Z"
   },
   {
    "duration": 31,
    "start_time": "2021-06-22T14:08:26.223Z"
   },
   {
    "duration": 71,
    "start_time": "2021-06-22T14:08:30.654Z"
   },
   {
    "duration": 34,
    "start_time": "2021-06-22T14:08:45.582Z"
   },
   {
    "duration": 34,
    "start_time": "2021-06-22T14:09:17.904Z"
   },
   {
    "duration": 33,
    "start_time": "2021-06-22T14:09:27.010Z"
   },
   {
    "duration": 33,
    "start_time": "2021-06-22T14:09:31.669Z"
   },
   {
    "duration": 5,
    "start_time": "2021-06-22T14:13:59.767Z"
   },
   {
    "duration": 3,
    "start_time": "2021-06-22T14:14:44.440Z"
   },
   {
    "duration": 3,
    "start_time": "2021-06-22T14:16:45.453Z"
   },
   {
    "duration": 44282,
    "start_time": "2021-06-22T14:16:48.344Z"
   },
   {
    "duration": 32,
    "start_time": "2021-06-22T14:17:40.193Z"
   },
   {
    "duration": 53,
    "start_time": "2021-06-22T14:18:20.419Z"
   },
   {
    "duration": 43852,
    "start_time": "2021-06-22T14:19:11.097Z"
   },
   {
    "duration": 19468,
    "start_time": "2021-06-22T14:20:45.637Z"
   },
   {
    "duration": 35,
    "start_time": "2021-06-22T14:21:28.384Z"
   },
   {
    "duration": 41,
    "start_time": "2021-06-22T14:21:35.136Z"
   },
   {
    "duration": 19303,
    "start_time": "2021-06-22T14:23:41.835Z"
   },
   {
    "duration": 19853,
    "start_time": "2021-06-22T14:24:04.508Z"
   },
   {
    "duration": 19255,
    "start_time": "2021-06-22T14:24:42.570Z"
   },
   {
    "duration": 3,
    "start_time": "2021-06-22T14:26:25.729Z"
   },
   {
    "duration": 23563,
    "start_time": "2021-06-22T14:26:31.673Z"
   },
   {
    "duration": 5,
    "start_time": "2021-06-22T14:27:20.649Z"
   },
   {
    "duration": 1644,
    "start_time": "2021-06-23T09:35:47.919Z"
   },
   {
    "duration": 3,
    "start_time": "2021-06-23T09:35:49.565Z"
   },
   {
    "duration": 5,
    "start_time": "2021-06-23T09:35:49.570Z"
   },
   {
    "duration": 604,
    "start_time": "2021-06-23T09:35:49.576Z"
   },
   {
    "duration": 384,
    "start_time": "2021-06-23T09:35:50.182Z"
   },
   {
    "duration": 45,
    "start_time": "2021-06-23T09:35:50.568Z"
   },
   {
    "duration": 733,
    "start_time": "2021-06-23T09:35:50.615Z"
   },
   {
    "duration": 10,
    "start_time": "2021-06-23T09:35:51.350Z"
   },
   {
    "duration": 957,
    "start_time": "2021-06-23T09:35:51.363Z"
   },
   {
    "duration": 7,
    "start_time": "2021-06-23T09:35:52.322Z"
   },
   {
    "duration": 10542,
    "start_time": "2021-06-23T09:35:52.331Z"
   },
   {
    "duration": 14,
    "start_time": "2021-06-23T09:36:02.874Z"
   },
   {
    "duration": 74,
    "start_time": "2021-06-23T09:36:02.890Z"
   },
   {
    "duration": 3,
    "start_time": "2021-06-23T09:36:02.966Z"
   },
   {
    "duration": 15,
    "start_time": "2021-06-23T09:36:02.970Z"
   },
   {
    "duration": 73,
    "start_time": "2021-06-23T09:36:02.986Z"
   },
   {
    "duration": -938,
    "start_time": "2021-06-23T09:36:03.999Z"
   },
   {
    "duration": -940,
    "start_time": "2021-06-23T09:36:04.002Z"
   },
   {
    "duration": -941,
    "start_time": "2021-06-23T09:36:04.004Z"
   },
   {
    "duration": -942,
    "start_time": "2021-06-23T09:36:04.006Z"
   },
   {
    "duration": -943,
    "start_time": "2021-06-23T09:36:04.008Z"
   },
   {
    "duration": -945,
    "start_time": "2021-06-23T09:36:04.011Z"
   },
   {
    "duration": -946,
    "start_time": "2021-06-23T09:36:04.013Z"
   },
   {
    "duration": -949,
    "start_time": "2021-06-23T09:36:04.016Z"
   },
   {
    "duration": -957,
    "start_time": "2021-06-23T09:36:04.025Z"
   },
   {
    "duration": -958,
    "start_time": "2021-06-23T09:36:04.027Z"
   },
   {
    "duration": -960,
    "start_time": "2021-06-23T09:36:04.030Z"
   },
   {
    "duration": -963,
    "start_time": "2021-06-23T09:36:04.034Z"
   },
   {
    "duration": -964,
    "start_time": "2021-06-23T09:36:04.036Z"
   },
   {
    "duration": -966,
    "start_time": "2021-06-23T09:36:04.038Z"
   },
   {
    "duration": -968,
    "start_time": "2021-06-23T09:36:04.041Z"
   },
   {
    "duration": -969,
    "start_time": "2021-06-23T09:36:04.043Z"
   },
   {
    "duration": -970,
    "start_time": "2021-06-23T09:36:04.045Z"
   },
   {
    "duration": -971,
    "start_time": "2021-06-23T09:36:04.047Z"
   },
   {
    "duration": -975,
    "start_time": "2021-06-23T09:36:04.052Z"
   },
   {
    "duration": -977,
    "start_time": "2021-06-23T09:36:04.054Z"
   },
   {
    "duration": -978,
    "start_time": "2021-06-23T09:36:04.056Z"
   },
   {
    "duration": -980,
    "start_time": "2021-06-23T09:36:04.059Z"
   },
   {
    "duration": -981,
    "start_time": "2021-06-23T09:36:04.061Z"
   },
   {
    "duration": 1135,
    "start_time": "2021-06-23T09:36:44.817Z"
   },
   {
    "duration": 189,
    "start_time": "2021-06-23T09:38:52.403Z"
   },
   {
    "duration": 189,
    "start_time": "2021-06-23T09:39:25.698Z"
   },
   {
    "duration": 1652,
    "start_time": "2021-06-23T09:40:20.537Z"
   },
   {
    "duration": 3,
    "start_time": "2021-06-23T09:40:22.191Z"
   },
   {
    "duration": 5,
    "start_time": "2021-06-23T09:40:22.196Z"
   },
   {
    "duration": 620,
    "start_time": "2021-06-23T09:40:22.203Z"
   },
   {
    "duration": 406,
    "start_time": "2021-06-23T09:40:22.825Z"
   },
   {
    "duration": 65,
    "start_time": "2021-06-23T09:40:23.234Z"
   },
   {
    "duration": 771,
    "start_time": "2021-06-23T09:40:23.301Z"
   },
   {
    "duration": 19,
    "start_time": "2021-06-23T09:40:24.075Z"
   },
   {
    "duration": 997,
    "start_time": "2021-06-23T09:40:24.099Z"
   },
   {
    "duration": 9,
    "start_time": "2021-06-23T09:40:25.099Z"
   },
   {
    "duration": 10822,
    "start_time": "2021-06-23T09:40:25.110Z"
   },
   {
    "duration": 10,
    "start_time": "2021-06-23T09:40:35.934Z"
   },
   {
    "duration": 80,
    "start_time": "2021-06-23T09:40:35.946Z"
   },
   {
    "duration": 3,
    "start_time": "2021-06-23T09:40:36.027Z"
   },
   {
    "duration": 14,
    "start_time": "2021-06-23T09:40:36.032Z"
   },
   {
    "duration": 747,
    "start_time": "2021-06-23T09:40:36.048Z"
   },
   {
    "duration": -973,
    "start_time": "2021-06-23T09:40:37.770Z"
   },
   {
    "duration": -992,
    "start_time": "2021-06-23T09:40:37.790Z"
   },
   {
    "duration": -994,
    "start_time": "2021-06-23T09:40:37.793Z"
   },
   {
    "duration": -996,
    "start_time": "2021-06-23T09:40:37.796Z"
   },
   {
    "duration": -1000,
    "start_time": "2021-06-23T09:40:37.801Z"
   },
   {
    "duration": -1003,
    "start_time": "2021-06-23T09:40:37.805Z"
   },
   {
    "duration": -1005,
    "start_time": "2021-06-23T09:40:37.808Z"
   },
   {
    "duration": -1008,
    "start_time": "2021-06-23T09:40:37.812Z"
   },
   {
    "duration": -1011,
    "start_time": "2021-06-23T09:40:37.816Z"
   },
   {
    "duration": -1014,
    "start_time": "2021-06-23T09:40:37.820Z"
   },
   {
    "duration": -1023,
    "start_time": "2021-06-23T09:40:37.830Z"
   },
   {
    "duration": -1026,
    "start_time": "2021-06-23T09:40:37.834Z"
   },
   {
    "duration": -1028,
    "start_time": "2021-06-23T09:40:37.837Z"
   },
   {
    "duration": -1031,
    "start_time": "2021-06-23T09:40:37.841Z"
   },
   {
    "duration": -1034,
    "start_time": "2021-06-23T09:40:37.845Z"
   },
   {
    "duration": -1036,
    "start_time": "2021-06-23T09:40:37.848Z"
   },
   {
    "duration": -1039,
    "start_time": "2021-06-23T09:40:37.852Z"
   },
   {
    "duration": -1042,
    "start_time": "2021-06-23T09:40:37.856Z"
   },
   {
    "duration": -1051,
    "start_time": "2021-06-23T09:40:37.866Z"
   },
   {
    "duration": -1054,
    "start_time": "2021-06-23T09:40:37.870Z"
   },
   {
    "duration": -1056,
    "start_time": "2021-06-23T09:40:37.873Z"
   },
   {
    "duration": -1058,
    "start_time": "2021-06-23T09:40:37.876Z"
   },
   {
    "duration": -1061,
    "start_time": "2021-06-23T09:40:37.880Z"
   },
   {
    "duration": 2,
    "start_time": "2021-06-23T09:40:39.306Z"
   },
   {
    "duration": 6,
    "start_time": "2021-06-23T09:41:41.657Z"
   },
   {
    "duration": 6,
    "start_time": "2021-06-23T09:41:41.664Z"
   },
   {
    "duration": 4,
    "start_time": "2021-06-23T09:41:41.672Z"
   },
   {
    "duration": 607,
    "start_time": "2021-06-23T09:41:41.677Z"
   },
   {
    "duration": 9,
    "start_time": "2021-06-23T09:41:42.286Z"
   },
   {
    "duration": 25,
    "start_time": "2021-06-23T09:41:42.296Z"
   },
   {
    "duration": 764,
    "start_time": "2021-06-23T09:41:42.322Z"
   },
   {
    "duration": 10,
    "start_time": "2021-06-23T09:41:43.088Z"
   },
   {
    "duration": 954,
    "start_time": "2021-06-23T09:41:43.100Z"
   },
   {
    "duration": 7,
    "start_time": "2021-06-23T09:41:44.055Z"
   },
   {
    "duration": 10772,
    "start_time": "2021-06-23T09:41:44.063Z"
   },
   {
    "duration": 10,
    "start_time": "2021-06-23T09:41:54.836Z"
   },
   {
    "duration": 65,
    "start_time": "2021-06-23T09:41:54.848Z"
   },
   {
    "duration": 2,
    "start_time": "2021-06-23T09:41:54.915Z"
   },
   {
    "duration": 5,
    "start_time": "2021-06-23T09:41:54.919Z"
   },
   {
    "duration": 4,
    "start_time": "2021-06-23T09:41:54.926Z"
   },
   {
    "duration": 5,
    "start_time": "2021-06-23T09:41:54.932Z"
   },
   {
    "duration": 46134,
    "start_time": "2021-06-23T09:41:54.938Z"
   },
   {
    "duration": 35,
    "start_time": "2021-06-23T09:42:41.074Z"
   },
   {
    "duration": 53,
    "start_time": "2021-06-23T09:42:41.110Z"
   },
   {
    "duration": 46210,
    "start_time": "2021-06-23T09:42:41.165Z"
   },
   {
    "duration": 2,
    "start_time": "2021-06-23T09:43:27.377Z"
   },
   {
    "duration": 25544,
    "start_time": "2021-06-23T09:43:27.381Z"
   },
   {
    "duration": 4,
    "start_time": "2021-06-23T09:43:52.927Z"
   },
   {
    "duration": 61,
    "start_time": "2021-06-23T09:44:17.051Z"
   },
   {
    "duration": 523257,
    "start_time": "2021-06-23T09:44:29.223Z"
   },
   {
    "duration": 67,
    "start_time": "2021-06-23T11:07:40.643Z"
   },
   {
    "duration": -606,
    "start_time": "2021-06-23T11:07:41.318Z"
   },
   {
    "duration": -607,
    "start_time": "2021-06-23T11:07:41.320Z"
   },
   {
    "duration": -609,
    "start_time": "2021-06-23T11:07:41.323Z"
   },
   {
    "duration": -630,
    "start_time": "2021-06-23T11:07:41.345Z"
   },
   {
    "duration": -631,
    "start_time": "2021-06-23T11:07:41.347Z"
   },
   {
    "duration": -632,
    "start_time": "2021-06-23T11:07:41.349Z"
   },
   {
    "duration": -633,
    "start_time": "2021-06-23T11:07:41.351Z"
   },
   {
    "duration": -634,
    "start_time": "2021-06-23T11:07:41.353Z"
   },
   {
    "duration": -635,
    "start_time": "2021-06-23T11:07:41.355Z"
   },
   {
    "duration": -636,
    "start_time": "2021-06-23T11:07:41.357Z"
   },
   {
    "duration": -637,
    "start_time": "2021-06-23T11:07:41.359Z"
   },
   {
    "duration": -639,
    "start_time": "2021-06-23T11:07:41.362Z"
   },
   {
    "duration": -640,
    "start_time": "2021-06-23T11:07:41.364Z"
   },
   {
    "duration": -641,
    "start_time": "2021-06-23T11:07:41.366Z"
   },
   {
    "duration": -642,
    "start_time": "2021-06-23T11:07:41.368Z"
   },
   {
    "duration": -643,
    "start_time": "2021-06-23T11:07:41.370Z"
   },
   {
    "duration": -645,
    "start_time": "2021-06-23T11:07:41.372Z"
   },
   {
    "duration": -645,
    "start_time": "2021-06-23T11:07:41.373Z"
   },
   {
    "duration": -650,
    "start_time": "2021-06-23T11:07:41.379Z"
   },
   {
    "duration": -652,
    "start_time": "2021-06-23T11:07:41.382Z"
   },
   {
    "duration": -654,
    "start_time": "2021-06-23T11:07:41.386Z"
   },
   {
    "duration": -656,
    "start_time": "2021-06-23T11:07:41.389Z"
   },
   {
    "duration": -657,
    "start_time": "2021-06-23T11:07:41.391Z"
   },
   {
    "duration": -659,
    "start_time": "2021-06-23T11:07:41.394Z"
   },
   {
    "duration": -660,
    "start_time": "2021-06-23T11:07:41.396Z"
   },
   {
    "duration": -668,
    "start_time": "2021-06-23T11:07:41.405Z"
   },
   {
    "duration": -669,
    "start_time": "2021-06-23T11:07:41.407Z"
   },
   {
    "duration": -670,
    "start_time": "2021-06-23T11:07:41.409Z"
   },
   {
    "duration": 208,
    "start_time": "2021-06-23T11:07:40.741Z"
   },
   {
    "duration": -588,
    "start_time": "2021-06-23T11:07:41.538Z"
   },
   {
    "duration": -589,
    "start_time": "2021-06-23T11:07:41.540Z"
   },
   {
    "duration": -600,
    "start_time": "2021-06-23T11:07:41.552Z"
   },
   {
    "duration": -601,
    "start_time": "2021-06-23T11:07:41.555Z"
   },
   {
    "duration": -602,
    "start_time": "2021-06-23T11:07:41.557Z"
   },
   {
    "duration": -604,
    "start_time": "2021-06-23T11:07:41.559Z"
   },
   {
    "duration": -605,
    "start_time": "2021-06-23T11:07:41.561Z"
   },
   {
    "duration": -606,
    "start_time": "2021-06-23T11:07:41.563Z"
   },
   {
    "duration": -611,
    "start_time": "2021-06-23T11:07:41.569Z"
   },
   {
    "duration": -615,
    "start_time": "2021-06-23T11:07:41.574Z"
   },
   {
    "duration": 1670,
    "start_time": "2021-06-23T11:08:19.282Z"
   },
   {
    "duration": 1677,
    "start_time": "2021-06-23T11:08:27.980Z"
   },
   {
    "duration": 3,
    "start_time": "2021-06-23T11:08:29.659Z"
   },
   {
    "duration": 5,
    "start_time": "2021-06-23T11:08:29.664Z"
   },
   {
    "duration": 679,
    "start_time": "2021-06-23T11:08:29.671Z"
   },
   {
    "duration": 410,
    "start_time": "2021-06-23T11:08:30.352Z"
   },
   {
    "duration": 50,
    "start_time": "2021-06-23T11:08:30.764Z"
   },
   {
    "duration": 748,
    "start_time": "2021-06-23T11:08:30.816Z"
   },
   {
    "duration": 19,
    "start_time": "2021-06-23T11:08:31.566Z"
   },
   {
    "duration": 957,
    "start_time": "2021-06-23T11:08:31.588Z"
   },
   {
    "duration": 8,
    "start_time": "2021-06-23T11:08:32.548Z"
   },
   {
    "duration": 10658,
    "start_time": "2021-06-23T11:08:32.558Z"
   },
   {
    "duration": 10,
    "start_time": "2021-06-23T11:08:43.218Z"
   },
   {
    "duration": 81,
    "start_time": "2021-06-23T11:08:43.230Z"
   },
   {
    "duration": 2,
    "start_time": "2021-06-23T11:08:43.313Z"
   },
   {
    "duration": 4,
    "start_time": "2021-06-23T11:08:43.317Z"
   },
   {
    "duration": 10,
    "start_time": "2021-06-23T11:08:43.323Z"
   },
   {
    "duration": 11,
    "start_time": "2021-06-23T11:08:43.334Z"
   },
   {
    "duration": 45581,
    "start_time": "2021-06-23T11:08:43.346Z"
   },
   {
    "duration": 30,
    "start_time": "2021-06-23T11:09:28.929Z"
   },
   {
    "duration": 62,
    "start_time": "2021-06-23T11:09:28.960Z"
   },
   {
    "duration": 46985,
    "start_time": "2021-06-23T11:09:29.024Z"
   },
   {
    "duration": 3,
    "start_time": "2021-06-23T11:10:16.010Z"
   },
   {
    "duration": 25366,
    "start_time": "2021-06-23T11:10:16.014Z"
   },
   {
    "duration": 4,
    "start_time": "2021-06-23T11:10:41.381Z"
   },
   {
    "duration": 57,
    "start_time": "2021-06-23T11:10:41.387Z"
   },
   {
    "duration": -583,
    "start_time": "2021-06-23T11:10:42.029Z"
   },
   {
    "duration": -586,
    "start_time": "2021-06-23T11:10:42.034Z"
   },
   {
    "duration": -591,
    "start_time": "2021-06-23T11:10:42.041Z"
   },
   {
    "duration": -598,
    "start_time": "2021-06-23T11:10:42.049Z"
   },
   {
    "duration": -605,
    "start_time": "2021-06-23T11:10:42.057Z"
   },
   {
    "duration": -610,
    "start_time": "2021-06-23T11:10:42.064Z"
   },
   {
    "duration": -612,
    "start_time": "2021-06-23T11:10:42.067Z"
   },
   {
    "duration": -614,
    "start_time": "2021-06-23T11:10:42.071Z"
   },
   {
    "duration": -616,
    "start_time": "2021-06-23T11:10:42.074Z"
   },
   {
    "duration": -618,
    "start_time": "2021-06-23T11:10:42.077Z"
   },
   {
    "duration": -619,
    "start_time": "2021-06-23T11:10:42.080Z"
   },
   {
    "duration": -620,
    "start_time": "2021-06-23T11:10:42.082Z"
   },
   {
    "duration": -620,
    "start_time": "2021-06-23T11:10:42.084Z"
   },
   {
    "duration": -621,
    "start_time": "2021-06-23T11:10:42.086Z"
   },
   {
    "duration": -622,
    "start_time": "2021-06-23T11:10:42.088Z"
   },
   {
    "duration": 69,
    "start_time": "2021-06-23T11:13:22.358Z"
   },
   {
    "duration": 289450,
    "start_time": "2021-06-23T11:13:34.571Z"
   },
   {
    "duration": 162,
    "start_time": "2021-06-23T11:55:16.678Z"
   },
   {
    "duration": 5,
    "start_time": "2021-06-23T11:55:29.871Z"
   },
   {
    "duration": 319,
    "start_time": "2021-06-23T11:58:39.554Z"
   },
   {
    "duration": 3519,
    "start_time": "2021-06-23T11:59:01.727Z"
   },
   {
    "duration": 298,
    "start_time": "2021-06-23T12:06:29.277Z"
   },
   {
    "duration": 5502,
    "start_time": "2021-06-23T12:06:46.578Z"
   },
   {
    "duration": 6,
    "start_time": "2021-06-23T12:06:52.082Z"
   },
   {
    "duration": 13,
    "start_time": "2021-06-23T12:06:52.091Z"
   },
   {
    "duration": 776,
    "start_time": "2021-06-23T12:06:52.106Z"
   },
   {
    "duration": 342,
    "start_time": "2021-06-23T12:06:52.883Z"
   },
   {
    "duration": 62,
    "start_time": "2021-06-23T12:06:53.227Z"
   },
   {
    "duration": 775,
    "start_time": "2021-06-23T12:06:53.291Z"
   },
   {
    "duration": 18,
    "start_time": "2021-06-23T12:06:54.067Z"
   },
   {
    "duration": 985,
    "start_time": "2021-06-23T12:06:54.088Z"
   },
   {
    "duration": 11,
    "start_time": "2021-06-23T12:06:55.075Z"
   },
   {
    "duration": 11141,
    "start_time": "2021-06-23T12:06:55.088Z"
   },
   {
    "duration": 10,
    "start_time": "2021-06-23T12:07:06.231Z"
   },
   {
    "duration": 80,
    "start_time": "2021-06-23T12:07:06.242Z"
   },
   {
    "duration": 3,
    "start_time": "2021-06-23T12:07:06.324Z"
   },
   {
    "duration": 4,
    "start_time": "2021-06-23T12:07:06.329Z"
   },
   {
    "duration": 5,
    "start_time": "2021-06-23T12:07:06.334Z"
   },
   {
    "duration": 8,
    "start_time": "2021-06-23T12:07:06.340Z"
   },
   {
    "duration": 46666,
    "start_time": "2021-06-23T12:07:06.350Z"
   },
   {
    "duration": 34,
    "start_time": "2021-06-23T12:07:53.018Z"
   },
   {
    "duration": 70,
    "start_time": "2021-06-23T12:07:53.053Z"
   },
   {
    "duration": 45543,
    "start_time": "2021-06-23T12:07:53.125Z"
   },
   {
    "duration": 3,
    "start_time": "2021-06-23T12:08:38.670Z"
   },
   {
    "duration": 25477,
    "start_time": "2021-06-23T12:08:38.674Z"
   },
   {
    "duration": 5,
    "start_time": "2021-06-23T12:09:04.152Z"
   },
   {
    "duration": 58,
    "start_time": "2021-06-23T12:09:04.159Z"
   },
   {
    "duration": -1117,
    "start_time": "2021-06-23T12:09:05.336Z"
   },
   {
    "duration": -1222,
    "start_time": "2021-06-23T12:09:05.442Z"
   },
   {
    "duration": -1230,
    "start_time": "2021-06-23T12:09:05.451Z"
   },
   {
    "duration": -1243,
    "start_time": "2021-06-23T12:09:05.465Z"
   },
   {
    "duration": -1252,
    "start_time": "2021-06-23T12:09:05.475Z"
   },
   {
    "duration": -1255,
    "start_time": "2021-06-23T12:09:05.479Z"
   },
   {
    "duration": -1257,
    "start_time": "2021-06-23T12:09:05.482Z"
   },
   {
    "duration": -1259,
    "start_time": "2021-06-23T12:09:05.485Z"
   },
   {
    "duration": -1263,
    "start_time": "2021-06-23T12:09:05.490Z"
   },
   {
    "duration": -1264,
    "start_time": "2021-06-23T12:09:05.493Z"
   },
   {
    "duration": -1266,
    "start_time": "2021-06-23T12:09:05.496Z"
   },
   {
    "duration": -1270,
    "start_time": "2021-06-23T12:09:05.500Z"
   },
   {
    "duration": -1272,
    "start_time": "2021-06-23T12:09:05.503Z"
   },
   {
    "duration": -1276,
    "start_time": "2021-06-23T12:09:05.508Z"
   },
   {
    "duration": -1277,
    "start_time": "2021-06-23T12:09:05.511Z"
   },
   {
    "duration": 258,
    "start_time": "2021-06-23T12:16:26.367Z"
   },
   {
    "duration": 4,
    "start_time": "2021-06-23T12:16:35.344Z"
   },
   {
    "duration": 3315,
    "start_time": "2021-06-23T12:17:30.386Z"
   },
   {
    "duration": 27,
    "start_time": "2021-06-23T12:18:39.024Z"
   },
   {
    "duration": 241,
    "start_time": "2021-06-23T12:18:46.552Z"
   },
   {
    "duration": 50,
    "start_time": "2021-06-23T12:18:51.041Z"
   },
   {
    "duration": 37,
    "start_time": "2021-06-23T12:19:27.293Z"
   },
   {
    "duration": 5346,
    "start_time": "2021-06-23T12:30:42.724Z"
   },
   {
    "duration": 7,
    "start_time": "2021-06-23T12:30:48.072Z"
   },
   {
    "duration": 9,
    "start_time": "2021-06-23T12:30:48.081Z"
   },
   {
    "duration": 791,
    "start_time": "2021-06-23T12:30:48.092Z"
   },
   {
    "duration": 339,
    "start_time": "2021-06-23T12:30:48.885Z"
   },
   {
    "duration": 62,
    "start_time": "2021-06-23T12:30:49.226Z"
   },
   {
    "duration": 764,
    "start_time": "2021-06-23T12:30:49.290Z"
   },
   {
    "duration": 11,
    "start_time": "2021-06-23T12:30:50.055Z"
   },
   {
    "duration": 966,
    "start_time": "2021-06-23T12:30:50.069Z"
   },
   {
    "duration": 8,
    "start_time": "2021-06-23T12:30:51.037Z"
   },
   {
    "duration": 10942,
    "start_time": "2021-06-23T12:30:51.046Z"
   },
   {
    "duration": 10,
    "start_time": "2021-06-23T12:31:01.990Z"
   },
   {
    "duration": 85,
    "start_time": "2021-06-23T12:31:02.002Z"
   },
   {
    "duration": 3,
    "start_time": "2021-06-23T12:31:02.089Z"
   },
   {
    "duration": 11,
    "start_time": "2021-06-23T12:31:02.094Z"
   },
   {
    "duration": 4,
    "start_time": "2021-06-23T12:31:02.107Z"
   },
   {
    "duration": 6,
    "start_time": "2021-06-23T12:31:02.113Z"
   },
   {
    "duration": 46743,
    "start_time": "2021-06-23T12:31:02.121Z"
   },
   {
    "duration": 39,
    "start_time": "2021-06-23T12:31:48.866Z"
   },
   {
    "duration": 53,
    "start_time": "2021-06-23T12:31:48.906Z"
   },
   {
    "duration": 46636,
    "start_time": "2021-06-23T12:31:48.961Z"
   },
   {
    "duration": 2,
    "start_time": "2021-06-23T12:32:35.599Z"
   },
   {
    "duration": 25810,
    "start_time": "2021-06-23T12:32:35.603Z"
   },
   {
    "duration": 5,
    "start_time": "2021-06-23T12:33:01.415Z"
   },
   {
    "duration": 70,
    "start_time": "2021-06-23T12:33:01.422Z"
   },
   {
    "duration": -878,
    "start_time": "2021-06-23T12:33:02.372Z"
   },
   {
    "duration": -879,
    "start_time": "2021-06-23T12:33:02.375Z"
   },
   {
    "duration": -881,
    "start_time": "2021-06-23T12:33:02.378Z"
   },
   {
    "duration": -882,
    "start_time": "2021-06-23T12:33:02.381Z"
   },
   {
    "duration": -884,
    "start_time": "2021-06-23T12:33:02.384Z"
   },
   {
    "duration": -885,
    "start_time": "2021-06-23T12:33:02.387Z"
   },
   {
    "duration": -889,
    "start_time": "2021-06-23T12:33:02.392Z"
   },
   {
    "duration": -890,
    "start_time": "2021-06-23T12:33:02.395Z"
   },
   {
    "duration": -898,
    "start_time": "2021-06-23T12:33:02.404Z"
   },
   {
    "duration": -900,
    "start_time": "2021-06-23T12:33:02.408Z"
   },
   {
    "duration": -908,
    "start_time": "2021-06-23T12:33:02.417Z"
   },
   {
    "duration": -913,
    "start_time": "2021-06-23T12:33:02.424Z"
   },
   {
    "duration": -913,
    "start_time": "2021-06-23T12:33:02.425Z"
   },
   {
    "duration": -914,
    "start_time": "2021-06-23T12:33:02.428Z"
   },
   {
    "duration": -914,
    "start_time": "2021-06-23T12:33:02.429Z"
   },
   {
    "duration": -914,
    "start_time": "2021-06-23T12:33:02.431Z"
   },
   {
    "duration": 1862,
    "start_time": "2021-06-23T12:33:17.592Z"
   },
   {
    "duration": 1587,
    "start_time": "2021-06-23T12:33:52.259Z"
   },
   {
    "duration": 4,
    "start_time": "2021-06-23T12:34:26.836Z"
   },
   {
    "duration": 1528,
    "start_time": "2021-06-23T12:34:28.938Z"
   },
   {
    "duration": 3,
    "start_time": "2021-06-23T12:35:25.245Z"
   },
   {
    "duration": 1051,
    "start_time": "2021-06-23T12:55:34.255Z"
   },
   {
    "duration": 1004,
    "start_time": "2021-06-23T12:56:18.618Z"
   },
   {
    "duration": 349,
    "start_time": "2021-06-23T12:57:28.759Z"
   },
   {
    "duration": 4588,
    "start_time": "2021-06-23T12:58:19.399Z"
   },
   {
    "duration": 366,
    "start_time": "2021-06-23T12:58:32.739Z"
   },
   {
    "duration": 452,
    "start_time": "2021-06-23T12:58:47.742Z"
   },
   {
    "duration": 2,
    "start_time": "2021-06-23T12:59:06.637Z"
   },
   {
    "duration": 2327,
    "start_time": "2021-06-23T12:59:37.582Z"
   },
   {
    "duration": 3110,
    "start_time": "2021-06-23T12:59:57.287Z"
   },
   {
    "duration": 7687,
    "start_time": "2021-06-24T08:52:29.254Z"
   },
   {
    "duration": 6,
    "start_time": "2021-06-24T08:52:36.943Z"
   },
   {
    "duration": 5,
    "start_time": "2021-06-24T08:52:36.951Z"
   },
   {
    "duration": 632,
    "start_time": "2021-06-24T08:52:36.958Z"
   },
   {
    "duration": 1002,
    "start_time": "2021-06-24T08:52:37.591Z"
   },
   {
    "duration": 49,
    "start_time": "2021-06-24T08:52:38.595Z"
   },
   {
    "duration": 769,
    "start_time": "2021-06-24T08:52:38.646Z"
   },
   {
    "duration": 10,
    "start_time": "2021-06-24T08:52:39.418Z"
   },
   {
    "duration": 6,
    "start_time": "2021-06-24T08:52:39.431Z"
   },
   {
    "duration": 989,
    "start_time": "2021-06-24T08:52:39.439Z"
   },
   {
    "duration": 7,
    "start_time": "2021-06-24T08:52:40.430Z"
   },
   {
    "duration": 10877,
    "start_time": "2021-06-24T08:52:40.439Z"
   },
   {
    "duration": 10,
    "start_time": "2021-06-24T08:52:51.317Z"
   },
   {
    "duration": 77,
    "start_time": "2021-06-24T08:52:51.328Z"
   },
   {
    "duration": 3,
    "start_time": "2021-06-24T08:52:51.406Z"
   },
   {
    "duration": 5,
    "start_time": "2021-06-24T08:52:51.410Z"
   },
   {
    "duration": 4,
    "start_time": "2021-06-24T08:52:51.417Z"
   },
   {
    "duration": 8,
    "start_time": "2021-06-24T08:52:51.422Z"
   },
   {
    "duration": 45854,
    "start_time": "2021-06-24T08:52:51.432Z"
   },
   {
    "duration": 29,
    "start_time": "2021-06-24T08:53:37.288Z"
   },
   {
    "duration": 67,
    "start_time": "2021-06-24T08:53:37.318Z"
   },
   {
    "duration": 22356,
    "start_time": "2021-06-24T08:53:37.387Z"
   },
   {
    "duration": 2,
    "start_time": "2021-06-24T08:53:59.746Z"
   },
   {
    "duration": 17313,
    "start_time": "2021-06-24T08:53:59.750Z"
   },
   {
    "duration": 5,
    "start_time": "2021-06-24T08:54:17.065Z"
   },
   {
    "duration": 69,
    "start_time": "2021-06-24T08:54:17.072Z"
   },
   {
    "duration": -1206,
    "start_time": "2021-06-24T08:54:18.348Z"
   },
   {
    "duration": -1207,
    "start_time": "2021-06-24T08:54:18.351Z"
   },
   {
    "duration": -1209,
    "start_time": "2021-06-24T08:54:18.354Z"
   },
   {
    "duration": -1211,
    "start_time": "2021-06-24T08:54:18.357Z"
   },
   {
    "duration": -1212,
    "start_time": "2021-06-24T08:54:18.360Z"
   },
   {
    "duration": -1214,
    "start_time": "2021-06-24T08:54:18.363Z"
   },
   {
    "duration": -1215,
    "start_time": "2021-06-24T08:54:18.365Z"
   },
   {
    "duration": -1216,
    "start_time": "2021-06-24T08:54:18.367Z"
   },
   {
    "duration": -1224,
    "start_time": "2021-06-24T08:54:18.376Z"
   },
   {
    "duration": -1226,
    "start_time": "2021-06-24T08:54:18.379Z"
   },
   {
    "duration": -1237,
    "start_time": "2021-06-24T08:54:18.391Z"
   },
   {
    "duration": -1238,
    "start_time": "2021-06-24T08:54:18.393Z"
   },
   {
    "duration": -1247,
    "start_time": "2021-06-24T08:54:18.404Z"
   },
   {
    "duration": -1254,
    "start_time": "2021-06-24T08:54:18.412Z"
   },
   {
    "duration": -1255,
    "start_time": "2021-06-24T08:54:18.414Z"
   },
   {
    "duration": -1256,
    "start_time": "2021-06-24T08:54:18.416Z"
   },
   {
    "duration": -1277,
    "start_time": "2021-06-24T08:54:18.438Z"
   },
   {
    "duration": 66,
    "start_time": "2021-06-24T08:54:34.122Z"
   },
   {
    "duration": 263878,
    "start_time": "2021-06-24T08:54:40.845Z"
   },
   {
    "duration": 132,
    "start_time": "2021-06-24T08:59:44.341Z"
   },
   {
    "duration": 5828,
    "start_time": "2021-06-24T09:13:52.526Z"
   },
   {
    "duration": 6,
    "start_time": "2021-06-24T09:13:58.356Z"
   },
   {
    "duration": 4,
    "start_time": "2021-06-24T09:13:58.364Z"
   },
   {
    "duration": 653,
    "start_time": "2021-06-24T09:13:58.370Z"
   },
   {
    "duration": 332,
    "start_time": "2021-06-24T09:13:59.025Z"
   },
   {
    "duration": 61,
    "start_time": "2021-06-24T09:13:59.359Z"
   },
   {
    "duration": 810,
    "start_time": "2021-06-24T09:13:59.421Z"
   },
   {
    "duration": 11,
    "start_time": "2021-06-24T09:14:00.233Z"
   },
   {
    "duration": 13,
    "start_time": "2021-06-24T09:14:00.246Z"
   },
   {
    "duration": 1048,
    "start_time": "2021-06-24T09:14:00.260Z"
   },
   {
    "duration": 7,
    "start_time": "2021-06-24T09:14:01.310Z"
   },
   {
    "duration": 11333,
    "start_time": "2021-06-24T09:14:01.319Z"
   },
   {
    "duration": 11,
    "start_time": "2021-06-24T09:14:12.653Z"
   },
   {
    "duration": 82,
    "start_time": "2021-06-24T09:14:12.665Z"
   },
   {
    "duration": 2,
    "start_time": "2021-06-24T09:14:12.749Z"
   },
   {
    "duration": 4,
    "start_time": "2021-06-24T09:14:12.753Z"
   },
   {
    "duration": 8,
    "start_time": "2021-06-24T09:14:12.759Z"
   },
   {
    "duration": 18,
    "start_time": "2021-06-24T09:14:12.768Z"
   },
   {
    "duration": 46583,
    "start_time": "2021-06-24T09:14:12.787Z"
   },
   {
    "duration": 40,
    "start_time": "2021-06-24T09:14:59.372Z"
   },
   {
    "duration": 54,
    "start_time": "2021-06-24T09:14:59.414Z"
   },
   {
    "duration": 5261,
    "start_time": "2021-06-24T09:14:59.485Z"
   },
   {
    "duration": 3,
    "start_time": "2021-06-24T09:15:04.750Z"
   },
   {
    "duration": 6707,
    "start_time": "2021-06-24T09:15:04.755Z"
   },
   {
    "duration": 6,
    "start_time": "2021-06-24T09:15:11.463Z"
   },
   {
    "duration": 77,
    "start_time": "2021-06-24T09:15:11.470Z"
   },
   {
    "duration": 2,
    "start_time": "2021-06-24T09:15:11.549Z"
   },
   {
    "duration": 190745,
    "start_time": "2021-06-24T09:15:11.553Z"
   },
   {
    "duration": 2,
    "start_time": "2021-06-24T09:18:22.300Z"
   },
   {
    "duration": 83,
    "start_time": "2021-06-24T09:18:22.304Z"
   },
   {
    "duration": 60,
    "start_time": "2021-06-24T09:18:22.389Z"
   },
   {
    "duration": -1251,
    "start_time": "2021-06-24T09:18:23.702Z"
   },
   {
    "duration": -1253,
    "start_time": "2021-06-24T09:18:23.705Z"
   },
   {
    "duration": -1255,
    "start_time": "2021-06-24T09:18:23.708Z"
   },
   {
    "duration": -1257,
    "start_time": "2021-06-24T09:18:23.710Z"
   },
   {
    "duration": -1259,
    "start_time": "2021-06-24T09:18:23.713Z"
   },
   {
    "duration": -1260,
    "start_time": "2021-06-24T09:18:23.716Z"
   },
   {
    "duration": -1261,
    "start_time": "2021-06-24T09:18:23.718Z"
   },
   {
    "duration": -1264,
    "start_time": "2021-06-24T09:18:23.722Z"
   },
   {
    "duration": -1265,
    "start_time": "2021-06-24T09:18:23.724Z"
   },
   {
    "duration": -1269,
    "start_time": "2021-06-24T09:18:23.729Z"
   },
   {
    "duration": -1272,
    "start_time": "2021-06-24T09:18:23.732Z"
   },
   {
    "duration": -1273,
    "start_time": "2021-06-24T09:18:23.734Z"
   },
   {
    "duration": 36805,
    "start_time": "2021-06-24T09:29:38.221Z"
   },
   {
    "duration": 5132311,
    "start_time": "2021-06-24T11:39:19.675Z"
   },
   {
    "duration": 119907,
    "start_time": "2021-06-24T13:47:27.126Z"
   },
   {
    "duration": 61,
    "start_time": "2021-06-24T13:49:27.035Z"
   },
   {
    "duration": 249151,
    "start_time": "2021-06-24T13:49:59.758Z"
   },
   {
    "duration": 123,
    "start_time": "2021-06-24T13:54:08.911Z"
   },
   {
    "duration": 41162,
    "start_time": "2021-06-24T13:54:19.549Z"
   },
   {
    "duration": 4,
    "start_time": "2021-06-24T14:28:46.606Z"
   },
   {
    "duration": 1102,
    "start_time": "2021-06-24T14:28:50.889Z"
   },
   {
    "duration": 811,
    "start_time": "2021-06-24T14:29:16.015Z"
   },
   {
    "duration": 436,
    "start_time": "2021-06-24T14:30:03.726Z"
   },
   {
    "duration": 445,
    "start_time": "2021-06-24T14:30:22.676Z"
   },
   {
    "duration": 466,
    "start_time": "2021-06-24T14:30:42.067Z"
   },
   {
    "duration": 187,
    "start_time": "2021-06-24T14:30:57.972Z"
   },
   {
    "duration": 897,
    "start_time": "2021-06-24T14:31:05.194Z"
   },
   {
    "duration": 454,
    "start_time": "2021-06-24T14:31:25.996Z"
   },
   {
    "duration": 21589,
    "start_time": "2021-06-24T14:31:49.148Z"
   },
   {
    "duration": 463,
    "start_time": "2021-06-24T14:32:14.784Z"
   },
   {
    "duration": 56,
    "start_time": "2021-06-24T14:32:36.730Z"
   },
   {
    "duration": 47679,
    "start_time": "2021-06-24T14:32:44.834Z"
   },
   {
    "duration": 2,
    "start_time": "2021-06-24T14:33:40.611Z"
   },
   {
    "duration": 5174,
    "start_time": "2021-06-25T06:01:02.341Z"
   },
   {
    "duration": 6,
    "start_time": "2021-06-25T06:01:07.517Z"
   },
   {
    "duration": 6,
    "start_time": "2021-06-25T06:01:07.525Z"
   },
   {
    "duration": 622,
    "start_time": "2021-06-25T06:01:07.533Z"
   },
   {
    "duration": 345,
    "start_time": "2021-06-25T06:01:08.157Z"
   },
   {
    "duration": 812,
    "start_time": "2021-06-25T06:01:41.061Z"
   },
   {
    "duration": 1041,
    "start_time": "2021-06-25T06:11:50.896Z"
   },
   {
    "duration": 1064,
    "start_time": "2021-06-25T06:12:36.813Z"
   },
   {
    "duration": 1061,
    "start_time": "2021-06-25T06:12:53.427Z"
   },
   {
    "duration": 1090,
    "start_time": "2021-06-25T06:13:09.797Z"
   },
   {
    "duration": 1075,
    "start_time": "2021-06-25T06:13:16.082Z"
   },
   {
    "duration": 1130,
    "start_time": "2021-06-25T06:13:22.655Z"
   },
   {
    "duration": 1070,
    "start_time": "2021-06-25T06:13:35.643Z"
   },
   {
    "duration": 1121,
    "start_time": "2021-06-25T06:13:40.435Z"
   },
   {
    "duration": 1101,
    "start_time": "2021-06-25T06:13:50.330Z"
   },
   {
    "duration": 1075,
    "start_time": "2021-06-25T06:15:06.466Z"
   },
   {
    "duration": 9,
    "start_time": "2021-06-25T06:15:48.877Z"
   },
   {
    "duration": 10882,
    "start_time": "2021-06-25T06:16:05.381Z"
   },
   {
    "duration": 11,
    "start_time": "2021-06-25T06:16:17.662Z"
   },
   {
    "duration": 11,
    "start_time": "2021-06-25T06:16:27.613Z"
   },
   {
    "duration": 10,
    "start_time": "2021-06-25T06:16:31.553Z"
   },
   {
    "duration": 154,
    "start_time": "2021-06-25T06:17:08.181Z"
   },
   {
    "duration": 117,
    "start_time": "2021-06-25T06:17:20.987Z"
   },
   {
    "duration": 58,
    "start_time": "2021-06-25T06:20:34.207Z"
   },
   {
    "duration": 5564,
    "start_time": "2021-06-25T06:20:41.060Z"
   },
   {
    "duration": 7,
    "start_time": "2021-06-25T06:20:46.626Z"
   },
   {
    "duration": 5,
    "start_time": "2021-06-25T06:20:46.635Z"
   },
   {
    "duration": 622,
    "start_time": "2021-06-25T06:20:46.641Z"
   },
   {
    "duration": 343,
    "start_time": "2021-06-25T06:20:47.265Z"
   },
   {
    "duration": 49,
    "start_time": "2021-06-25T06:20:47.610Z"
   },
   {
    "duration": 765,
    "start_time": "2021-06-25T06:20:47.661Z"
   },
   {
    "duration": 11,
    "start_time": "2021-06-25T06:20:48.428Z"
   },
   {
    "duration": 1089,
    "start_time": "2021-06-25T06:20:48.442Z"
   },
   {
    "duration": 8,
    "start_time": "2021-06-25T06:20:49.533Z"
   },
   {
    "duration": 10961,
    "start_time": "2021-06-25T06:20:49.543Z"
   },
   {
    "duration": 12,
    "start_time": "2021-06-25T06:21:00.505Z"
   },
   {
    "duration": 156,
    "start_time": "2021-06-25T06:21:00.519Z"
   },
   {
    "duration": 59,
    "start_time": "2021-06-25T06:21:00.678Z"
   },
   {
    "duration": -1276,
    "start_time": "2021-06-25T06:21:02.017Z"
   },
   {
    "duration": -1280,
    "start_time": "2021-06-25T06:21:02.022Z"
   },
   {
    "duration": -1284,
    "start_time": "2021-06-25T06:21:02.028Z"
   },
   {
    "duration": -1287,
    "start_time": "2021-06-25T06:21:02.032Z"
   },
   {
    "duration": -1290,
    "start_time": "2021-06-25T06:21:02.037Z"
   },
   {
    "duration": -1293,
    "start_time": "2021-06-25T06:21:02.041Z"
   },
   {
    "duration": -1294,
    "start_time": "2021-06-25T06:21:02.044Z"
   },
   {
    "duration": -1296,
    "start_time": "2021-06-25T06:21:02.047Z"
   },
   {
    "duration": -1308,
    "start_time": "2021-06-25T06:21:02.061Z"
   },
   {
    "duration": -1311,
    "start_time": "2021-06-25T06:21:02.065Z"
   },
   {
    "duration": -1311,
    "start_time": "2021-06-25T06:21:02.067Z"
   },
   {
    "duration": -1313,
    "start_time": "2021-06-25T06:21:02.070Z"
   },
   {
    "duration": -1316,
    "start_time": "2021-06-25T06:21:02.075Z"
   },
   {
    "duration": -1317,
    "start_time": "2021-06-25T06:21:02.077Z"
   },
   {
    "duration": -1317,
    "start_time": "2021-06-25T06:21:02.079Z"
   },
   {
    "duration": -1319,
    "start_time": "2021-06-25T06:21:02.082Z"
   },
   {
    "duration": -1319,
    "start_time": "2021-06-25T06:21:02.084Z"
   },
   {
    "duration": -1320,
    "start_time": "2021-06-25T06:21:02.086Z"
   },
   {
    "duration": -1321,
    "start_time": "2021-06-25T06:21:02.089Z"
   },
   {
    "duration": -1323,
    "start_time": "2021-06-25T06:21:02.092Z"
   },
   {
    "duration": -1324,
    "start_time": "2021-06-25T06:21:02.095Z"
   },
   {
    "duration": -1326,
    "start_time": "2021-06-25T06:21:02.098Z"
   },
   {
    "duration": -1327,
    "start_time": "2021-06-25T06:21:02.100Z"
   },
   {
    "duration": -1329,
    "start_time": "2021-06-25T06:21:02.103Z"
   },
   {
    "duration": -1331,
    "start_time": "2021-06-25T06:21:02.106Z"
   },
   {
    "duration": -1332,
    "start_time": "2021-06-25T06:21:02.108Z"
   },
   {
    "duration": -1334,
    "start_time": "2021-06-25T06:21:02.111Z"
   },
   {
    "duration": -1330,
    "start_time": "2021-06-25T06:21:02.114Z"
   },
   {
    "duration": -1331,
    "start_time": "2021-06-25T06:21:02.116Z"
   },
   {
    "duration": 611,
    "start_time": "2021-06-25T06:23:22.495Z"
   },
   {
    "duration": 4641,
    "start_time": "2021-06-25T06:24:55.894Z"
   },
   {
    "duration": 5733,
    "start_time": "2021-06-25T06:25:13.834Z"
   },
   {
    "duration": 105,
    "start_time": "2021-06-25T06:25:32.474Z"
   },
   {
    "duration": 298,
    "start_time": "2021-06-25T06:25:56.433Z"
   },
   {
    "duration": 61,
    "start_time": "2021-06-25T06:26:10.695Z"
   },
   {
    "duration": 110,
    "start_time": "2021-06-25T06:26:14.003Z"
   },
   {
    "duration": 108,
    "start_time": "2021-06-25T06:26:23.798Z"
   },
   {
    "duration": 108,
    "start_time": "2021-06-25T06:27:03.520Z"
   },
   {
    "duration": 4,
    "start_time": "2021-06-25T06:29:06.722Z"
   },
   {
    "duration": 3,
    "start_time": "2021-06-25T06:29:48.531Z"
   },
   {
    "duration": 150,
    "start_time": "2021-06-25T06:29:59.046Z"
   },
   {
    "duration": 106,
    "start_time": "2021-06-25T06:30:24.615Z"
   },
   {
    "duration": 3,
    "start_time": "2021-06-25T06:31:14.646Z"
   },
   {
    "duration": 191,
    "start_time": "2021-06-25T06:35:17.580Z"
   },
   {
    "duration": 4,
    "start_time": "2021-06-25T06:35:23.720Z"
   },
   {
    "duration": 2,
    "start_time": "2021-06-25T06:35:49.341Z"
   },
   {
    "duration": 2,
    "start_time": "2021-06-25T06:35:52.260Z"
   },
   {
    "duration": 3,
    "start_time": "2021-06-25T06:36:14.046Z"
   },
   {
    "duration": 46470,
    "start_time": "2021-06-25T06:36:17.077Z"
   },
   {
    "duration": 193,
    "start_time": "2021-06-25T06:39:55.934Z"
   },
   {
    "duration": 36,
    "start_time": "2021-06-25T06:40:06.103Z"
   },
   {
    "duration": 54,
    "start_time": "2021-06-25T06:40:09.499Z"
   },
   {
    "duration": 5332,
    "start_time": "2021-06-25T06:40:11.757Z"
   },
   {
    "duration": 6960,
    "start_time": "2021-06-25T06:40:22.771Z"
   },
   {
    "duration": 4,
    "start_time": "2021-06-25T07:21:00.957Z"
   },
   {
    "duration": 5,
    "start_time": "2021-06-25T07:23:34.278Z"
   },
   {
    "duration": 65,
    "start_time": "2021-06-25T07:23:47.296Z"
   },
   {
    "duration": 5972,
    "start_time": "2021-06-25T07:24:33.559Z"
   },
   {
    "duration": 7,
    "start_time": "2021-06-25T07:24:39.533Z"
   },
   {
    "duration": 13,
    "start_time": "2021-06-25T07:24:39.542Z"
   },
   {
    "duration": 628,
    "start_time": "2021-06-25T07:24:39.557Z"
   },
   {
    "duration": 328,
    "start_time": "2021-06-25T07:24:40.187Z"
   },
   {
    "duration": 49,
    "start_time": "2021-06-25T07:24:40.518Z"
   },
   {
    "duration": 770,
    "start_time": "2021-06-25T07:24:40.569Z"
   },
   {
    "duration": 10,
    "start_time": "2021-06-25T07:24:41.342Z"
   },
   {
    "duration": 1088,
    "start_time": "2021-06-25T07:24:41.354Z"
   },
   {
    "duration": 7,
    "start_time": "2021-06-25T07:24:42.444Z"
   },
   {
    "duration": 10816,
    "start_time": "2021-06-25T07:24:42.452Z"
   },
   {
    "duration": 20,
    "start_time": "2021-06-25T07:24:53.270Z"
   },
   {
    "duration": 140,
    "start_time": "2021-06-25T07:24:53.291Z"
   },
   {
    "duration": 3,
    "start_time": "2021-06-25T07:24:53.433Z"
   },
   {
    "duration": 160,
    "start_time": "2021-06-25T07:24:53.437Z"
   },
   {
    "duration": 105,
    "start_time": "2021-06-25T07:24:53.599Z"
   },
   {
    "duration": 2,
    "start_time": "2021-06-25T07:24:53.705Z"
   },
   {
    "duration": 7,
    "start_time": "2021-06-25T07:24:53.709Z"
   },
   {
    "duration": 4,
    "start_time": "2021-06-25T07:24:53.718Z"
   },
   {
    "duration": 4,
    "start_time": "2021-06-25T07:24:53.724Z"
   },
   {
    "duration": 46112,
    "start_time": "2021-06-25T07:24:53.729Z"
   },
   {
    "duration": 44,
    "start_time": "2021-06-25T07:25:39.842Z"
   },
   {
    "duration": 55,
    "start_time": "2021-06-25T07:25:39.889Z"
   },
   {
    "duration": 5153,
    "start_time": "2021-06-25T07:25:39.946Z"
   },
   {
    "duration": 2,
    "start_time": "2021-06-25T07:25:45.101Z"
   },
   {
    "duration": 6795,
    "start_time": "2021-06-25T07:25:45.105Z"
   },
   {
    "duration": 6,
    "start_time": "2021-06-25T07:25:51.901Z"
   },
   {
    "duration": 77,
    "start_time": "2021-06-25T07:25:51.908Z"
   },
   {
    "duration": 125199,
    "start_time": "2021-06-25T07:25:51.987Z"
   },
   {
    "duration": 192652,
    "start_time": "2021-06-25T07:27:57.188Z"
   },
   {
    "duration": 84,
    "start_time": "2021-06-25T07:31:09.842Z"
   },
   {
    "duration": 3,
    "start_time": "2021-06-25T07:31:09.928Z"
   },
   {
    "duration": 61,
    "start_time": "2021-06-25T07:31:09.933Z"
   },
   {
    "duration": -1290,
    "start_time": "2021-06-25T07:31:11.286Z"
   },
   {
    "duration": -1305,
    "start_time": "2021-06-25T07:31:11.303Z"
   },
   {
    "duration": -1315,
    "start_time": "2021-06-25T07:31:11.314Z"
   },
   {
    "duration": -1315,
    "start_time": "2021-06-25T07:31:11.316Z"
   },
   {
    "duration": -1317,
    "start_time": "2021-06-25T07:31:11.319Z"
   },
   {
    "duration": -1322,
    "start_time": "2021-06-25T07:31:11.326Z"
   },
   {
    "duration": -1325,
    "start_time": "2021-06-25T07:31:11.330Z"
   },
   {
    "duration": -1325,
    "start_time": "2021-06-25T07:31:11.332Z"
   },
   {
    "duration": -1327,
    "start_time": "2021-06-25T07:31:11.335Z"
   },
   {
    "duration": -1327,
    "start_time": "2021-06-25T07:31:11.337Z"
   },
   {
    "duration": -1328,
    "start_time": "2021-06-25T07:31:11.339Z"
   },
   {
    "duration": 76,
    "start_time": "2021-06-25T07:31:22.250Z"
   },
   {
    "duration": 8938,
    "start_time": "2021-06-25T07:31:39.554Z"
   },
   {
    "duration": 9404,
    "start_time": "2021-06-25T07:32:08.677Z"
   },
   {
    "duration": 42606,
    "start_time": "2021-06-25T07:32:26.899Z"
   },
   {
    "duration": 502,
    "start_time": "2021-06-25T07:33:54.124Z"
   },
   {
    "duration": 203,
    "start_time": "2021-06-25T07:34:40.165Z"
   },
   {
    "duration": 3,
    "start_time": "2021-06-25T07:36:13.600Z"
   },
   {
    "duration": 203,
    "start_time": "2021-06-25T07:36:32.908Z"
   },
   {
    "duration": 193,
    "start_time": "2021-06-25T07:37:02.090Z"
   },
   {
    "duration": 220,
    "start_time": "2021-06-25T09:14:38.478Z"
   },
   {
    "duration": 5990,
    "start_time": "2021-06-25T09:14:49.062Z"
   },
   {
    "duration": 7,
    "start_time": "2021-06-25T09:14:55.054Z"
   },
   {
    "duration": 11,
    "start_time": "2021-06-25T09:14:55.063Z"
   },
   {
    "duration": 635,
    "start_time": "2021-06-25T09:14:55.075Z"
   },
   {
    "duration": 341,
    "start_time": "2021-06-25T09:14:55.712Z"
   },
   {
    "duration": 56,
    "start_time": "2021-06-25T09:14:56.055Z"
   },
   {
    "duration": 792,
    "start_time": "2021-06-25T09:14:56.113Z"
   },
   {
    "duration": 12,
    "start_time": "2021-06-25T09:14:56.908Z"
   },
   {
    "duration": 1093,
    "start_time": "2021-06-25T09:14:56.922Z"
   },
   {
    "duration": 7,
    "start_time": "2021-06-25T09:14:58.018Z"
   },
   {
    "duration": 11037,
    "start_time": "2021-06-25T09:14:58.026Z"
   },
   {
    "duration": 9,
    "start_time": "2021-06-25T09:15:09.065Z"
   },
   {
    "duration": 129,
    "start_time": "2021-06-25T09:15:09.084Z"
   },
   {
    "duration": 3,
    "start_time": "2021-06-25T09:15:09.215Z"
   },
   {
    "duration": 166,
    "start_time": "2021-06-25T09:15:09.220Z"
   },
   {
    "duration": 112,
    "start_time": "2021-06-25T09:15:09.387Z"
   },
   {
    "duration": 3,
    "start_time": "2021-06-25T09:15:09.500Z"
   },
   {
    "duration": 8,
    "start_time": "2021-06-25T09:15:09.504Z"
   },
   {
    "duration": 6,
    "start_time": "2021-06-25T09:15:09.514Z"
   },
   {
    "duration": 5,
    "start_time": "2021-06-25T09:15:09.522Z"
   },
   {
    "duration": 47073,
    "start_time": "2021-06-25T09:15:09.528Z"
   },
   {
    "duration": 30,
    "start_time": "2021-06-25T09:15:56.603Z"
   },
   {
    "duration": 72,
    "start_time": "2021-06-25T09:15:56.636Z"
   },
   {
    "duration": 5169,
    "start_time": "2021-06-25T09:15:56.710Z"
   },
   {
    "duration": 4,
    "start_time": "2021-06-25T09:16:01.881Z"
   },
   {
    "duration": 6793,
    "start_time": "2021-06-25T09:16:01.887Z"
   },
   {
    "duration": 5,
    "start_time": "2021-06-25T09:16:08.681Z"
   },
   {
    "duration": 72,
    "start_time": "2021-06-25T09:16:08.688Z"
   },
   {
    "duration": 193074,
    "start_time": "2021-06-25T09:16:08.761Z"
   },
   {
    "duration": 2,
    "start_time": "2021-06-25T09:19:21.836Z"
   },
   {
    "duration": 42568,
    "start_time": "2021-06-25T09:19:21.840Z"
   },
   {
    "duration": -1351,
    "start_time": "2021-06-25T09:20:05.823Z"
   },
   {
    "duration": -1350,
    "start_time": "2021-06-25T09:20:05.827Z"
   },
   {
    "duration": -1395,
    "start_time": "2021-06-25T09:20:05.873Z"
   },
   {
    "duration": -1399,
    "start_time": "2021-06-25T09:20:05.878Z"
   },
   {
    "duration": -1407,
    "start_time": "2021-06-25T09:20:05.887Z"
   },
   {
    "duration": -1412,
    "start_time": "2021-06-25T09:20:05.893Z"
   },
   {
    "duration": -1413,
    "start_time": "2021-06-25T09:20:05.895Z"
   },
   {
    "duration": -1415,
    "start_time": "2021-06-25T09:20:05.898Z"
   },
   {
    "duration": -1420,
    "start_time": "2021-06-25T09:20:05.904Z"
   },
   {
    "duration": -1423,
    "start_time": "2021-06-25T09:20:05.908Z"
   },
   {
    "duration": -1424,
    "start_time": "2021-06-25T09:20:05.910Z"
   },
   {
    "duration": -1426,
    "start_time": "2021-06-25T09:20:05.913Z"
   },
   {
    "duration": 190097,
    "start_time": "2021-06-25T09:38:15.710Z"
   },
   {
    "duration": 586,
    "start_time": "2021-06-25T09:45:12.712Z"
   },
   {
    "duration": 600,
    "start_time": "2021-06-25T09:45:42.645Z"
   },
   {
    "duration": 47372,
    "start_time": "2021-06-25T09:45:59.309Z"
   },
   {
    "duration": 6732,
    "start_time": "2021-06-25T09:48:58.086Z"
   },
   {
    "duration": 5,
    "start_time": "2021-06-25T09:49:08.837Z"
   },
   {
    "duration": 4,
    "start_time": "2021-06-25T09:49:12.953Z"
   },
   {
    "duration": 41,
    "start_time": "2021-06-25T09:49:24.242Z"
   },
   {
    "duration": 248,
    "start_time": "2021-06-25T09:50:22.821Z"
   },
   {
    "duration": 227,
    "start_time": "2021-06-25T09:50:27.566Z"
   },
   {
    "duration": 40,
    "start_time": "2021-06-25T09:50:32.884Z"
   },
   {
    "duration": 42,
    "start_time": "2021-06-25T09:50:42.066Z"
   },
   {
    "duration": 41,
    "start_time": "2021-06-25T09:50:47.416Z"
   },
   {
    "duration": 6,
    "start_time": "2021-06-25T09:51:03.550Z"
   },
   {
    "duration": 617,
    "start_time": "2021-06-25T09:51:17.855Z"
   },
   {
    "duration": 614,
    "start_time": "2021-06-25T09:51:28.324Z"
   },
   {
    "duration": 7,
    "start_time": "2021-06-25T09:52:23.673Z"
   },
   {
    "duration": 1480,
    "start_time": "2021-06-25T09:52:36.936Z"
   },
   {
    "duration": 207,
    "start_time": "2021-06-25T09:53:06.392Z"
   },
   {
    "duration": 40,
    "start_time": "2021-06-25T09:53:23.705Z"
   },
   {
    "duration": 67,
    "start_time": "2021-06-25T09:54:22.281Z"
   },
   {
    "duration": 40,
    "start_time": "2021-06-25T09:54:24.834Z"
   },
   {
    "duration": 40,
    "start_time": "2021-06-25T09:54:33.141Z"
   },
   {
    "duration": 126578,
    "start_time": "2021-06-25T09:54:37.845Z"
   },
   {
    "duration": 7836,
    "start_time": "2021-06-25T09:58:48.126Z"
   },
   {
    "duration": 4,
    "start_time": "2021-06-25T09:59:09.463Z"
   },
   {
    "duration": 11,
    "start_time": "2021-06-25T09:59:37.462Z"
   },
   {
    "duration": 5,
    "start_time": "2021-06-25T10:00:14.894Z"
   },
   {
    "duration": 195,
    "start_time": "2021-06-25T10:00:30.910Z"
   },
   {
    "duration": 12,
    "start_time": "2021-06-25T10:00:36.628Z"
   },
   {
    "duration": 16,
    "start_time": "2021-06-25T11:05:19.128Z"
   },
   {
    "duration": 7,
    "start_time": "2021-06-25T11:06:17.188Z"
   },
   {
    "duration": 10,
    "start_time": "2021-06-25T11:06:42.997Z"
   },
   {
    "duration": 8,
    "start_time": "2021-06-25T11:07:03.006Z"
   },
   {
    "duration": 18,
    "start_time": "2021-06-25T11:07:17.656Z"
   },
   {
    "duration": 7,
    "start_time": "2021-06-25T11:07:55.014Z"
   },
   {
    "duration": 4,
    "start_time": "2021-06-25T11:55:35.292Z"
   },
   {
    "duration": 13,
    "start_time": "2021-06-25T11:55:54.199Z"
   },
   {
    "duration": 4,
    "start_time": "2021-06-25T11:56:01.195Z"
   },
   {
    "duration": 214,
    "start_time": "2021-06-25T11:56:21.404Z"
   },
   {
    "duration": 3,
    "start_time": "2021-06-25T11:56:26.466Z"
   },
   {
    "duration": 8,
    "start_time": "2021-06-25T11:56:39.274Z"
   },
   {
    "duration": 7,
    "start_time": "2021-06-25T11:57:09.284Z"
   },
   {
    "duration": 187,
    "start_time": "2021-06-25T11:57:20.536Z"
   },
   {
    "duration": 8,
    "start_time": "2021-06-25T11:57:24.960Z"
   },
   {
    "duration": 8,
    "start_time": "2021-06-25T11:57:32.051Z"
   },
   {
    "duration": 187,
    "start_time": "2021-06-25T11:57:53.311Z"
   },
   {
    "duration": 16,
    "start_time": "2021-06-25T11:57:56.517Z"
   },
   {
    "duration": 7,
    "start_time": "2021-06-25T11:58:07.597Z"
   },
   {
    "duration": 120,
    "start_time": "2021-06-25T12:00:15.415Z"
   },
   {
    "duration": 750,
    "start_time": "2021-06-25T12:00:54.684Z"
   },
   {
    "duration": 15,
    "start_time": "2021-06-25T12:01:15.480Z"
   },
   {
    "duration": 6,
    "start_time": "2021-06-25T12:01:33.865Z"
   },
   {
    "duration": 8186,
    "start_time": "2021-06-25T12:02:13.999Z"
   },
   {
    "duration": 185,
    "start_time": "2021-06-25T12:02:47.383Z"
   }
  ],
  "kernelspec": {
   "display_name": "Python 3",
   "language": "python",
   "name": "python3"
  },
  "language_info": {
   "codemirror_mode": {
    "name": "ipython",
    "version": 3
   },
   "file_extension": ".py",
   "mimetype": "text/x-python",
   "name": "python",
   "nbconvert_exporter": "python",
   "pygments_lexer": "ipython3",
   "version": "3.7.8"
  },
  "toc": {
   "base_numbering": 1,
   "nav_menu": {},
   "number_sections": true,
   "sideBar": true,
   "skip_h1_title": true,
   "title_cell": "Содержание",
   "title_sidebar": "Contents",
   "toc_cell": true,
   "toc_position": {
    "height": "calc(100% - 180px)",
    "left": "10px",
    "top": "150px",
    "width": "302.391px"
   },
   "toc_section_display": true,
   "toc_window_display": false
  }
 },
 "nbformat": 4,
 "nbformat_minor": 2
}
