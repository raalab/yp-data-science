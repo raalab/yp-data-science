{
 "cells": [
  {
   "cell_type": "markdown",
   "metadata": {},
   "source": [
    "# Определение стоимости автомобилей"
   ]
  },
  {
   "cell_type": "markdown",
   "metadata": {},
   "source": [
    "Сервис по продаже автомобилей с пробегом «Не бит, не крашен» разрабатывает приложение для привлечения новых клиентов. В нём можно быстро узнать рыночную стоимость своего автомобиля. В распоряжении исторические данные: технические характеристики, комплектации и цены автомобилей. Нужно построить модель для определения стоимости. \n",
    "\n",
    "Заказчику важны:\n",
    "\n",
    "- качество предсказания;\n",
    "- скорость предсказания;\n",
    "- время обучения."
   ]
  },
  {
   "cell_type": "markdown",
   "metadata": {},
   "source": [
    "**НАСТРОЙКА ВЫЧИСЛЕНИЙ**\\\n",
    "В расчете моделей использована многопоточная обработка в Parallel, расчет моделей LightGBM CatBoost проводится на GPU.\n",
    "Для оптимальной производительности, число потоков вычислений на CPU можно задать в константе ниже:"
   ]
  },
  {
   "cell_type": "code",
   "execution_count": 1,
   "metadata": {},
   "outputs": [],
   "source": [
    "# число ядер процессора для настройки параллельных вычислений\n",
    "CPU_THREADS = 11"
   ]
  },
  {
   "cell_type": "markdown",
   "metadata": {},
   "source": [
    "**ИМПОРТ БИБЛИОТЕК**"
   ]
  },
  {
   "cell_type": "code",
   "execution_count": 2,
   "metadata": {},
   "outputs": [],
   "source": [
    "import pandas as pd\n",
    "import numpy as np\n",
    "pd.set_option(\"precision\", 2)"
   ]
  },
  {
   "cell_type": "code",
   "execution_count": 3,
   "metadata": {},
   "outputs": [],
   "source": [
    "import matplotlib.pyplot as plt\n",
    "import seaborn as sns\n",
    "# настройка окружения\n",
    "sns.set_style(\"darkgrid\", {'axes.grid' : True}) # задает темный фон и сетку на графиках\n",
    "sns.set(palette='muted')"
   ]
  },
  {
   "cell_type": "code",
   "execution_count": 4,
   "metadata": {},
   "outputs": [],
   "source": [
    "from sklearn.metrics import mean_squared_error, make_scorer\n",
    "from sklearn.model_selection import train_test_split, GridSearchCV\n",
    "from sklearn.ensemble import RandomForestRegressor, GradientBoostingRegressor\n",
    "from sklearn.linear_model import LinearRegression, ElasticNet"
   ]
  },
  {
   "cell_type": "code",
   "execution_count": 5,
   "metadata": {},
   "outputs": [],
   "source": [
    "# установка в систему lightgbm если следующая ячейка дает ошибку\n",
    "#!pip install lightgbm"
   ]
  },
  {
   "cell_type": "code",
   "execution_count": 6,
   "metadata": {},
   "outputs": [],
   "source": [
    "import lightgbm as lgb"
   ]
  },
  {
   "cell_type": "code",
   "execution_count": 7,
   "metadata": {},
   "outputs": [],
   "source": [
    "# отключение предупреждений о будущих изменениях синтаксиса Jupyter Notebook\n",
    "import warnings\n",
    "warnings.simplefilter(action='ignore', category=FutureWarning)"
   ]
  },
  {
   "cell_type": "code",
   "execution_count": 8,
   "metadata": {},
   "outputs": [],
   "source": [
    "from joblib import parallel_backend, Parallel, delayed"
   ]
  },
  {
   "cell_type": "markdown",
   "metadata": {},
   "source": [
    "## Подготовка данных"
   ]
  },
  {
   "cell_type": "code",
   "execution_count": 9,
   "metadata": {},
   "outputs": [
    {
     "data": {
      "text/html": [
       "<div>\n",
       "<style scoped>\n",
       "    .dataframe tbody tr th:only-of-type {\n",
       "        vertical-align: middle;\n",
       "    }\n",
       "\n",
       "    .dataframe tbody tr th {\n",
       "        vertical-align: top;\n",
       "    }\n",
       "\n",
       "    .dataframe thead th {\n",
       "        text-align: right;\n",
       "    }\n",
       "</style>\n",
       "<table border=\"1\" class=\"dataframe\">\n",
       "  <thead>\n",
       "    <tr style=\"text-align: right;\">\n",
       "      <th></th>\n",
       "      <th>DateCrawled</th>\n",
       "      <th>Price</th>\n",
       "      <th>VehicleType</th>\n",
       "      <th>RegistrationYear</th>\n",
       "      <th>Gearbox</th>\n",
       "      <th>Power</th>\n",
       "      <th>Model</th>\n",
       "      <th>Kilometer</th>\n",
       "      <th>RegistrationMonth</th>\n",
       "      <th>FuelType</th>\n",
       "      <th>Brand</th>\n",
       "      <th>NotRepaired</th>\n",
       "      <th>DateCreated</th>\n",
       "      <th>NumberOfPictures</th>\n",
       "      <th>PostalCode</th>\n",
       "      <th>LastSeen</th>\n",
       "    </tr>\n",
       "  </thead>\n",
       "  <tbody>\n",
       "    <tr>\n",
       "      <th>0</th>\n",
       "      <td>2016-03-24 11:52:17</td>\n",
       "      <td>480</td>\n",
       "      <td>NaN</td>\n",
       "      <td>1993</td>\n",
       "      <td>manual</td>\n",
       "      <td>0</td>\n",
       "      <td>golf</td>\n",
       "      <td>150000</td>\n",
       "      <td>0</td>\n",
       "      <td>petrol</td>\n",
       "      <td>volkswagen</td>\n",
       "      <td>NaN</td>\n",
       "      <td>2016-03-24 00:00:00</td>\n",
       "      <td>0</td>\n",
       "      <td>70435</td>\n",
       "      <td>2016-04-07 03:16:57</td>\n",
       "    </tr>\n",
       "    <tr>\n",
       "      <th>1</th>\n",
       "      <td>2016-03-24 10:58:45</td>\n",
       "      <td>18300</td>\n",
       "      <td>coupe</td>\n",
       "      <td>2011</td>\n",
       "      <td>manual</td>\n",
       "      <td>190</td>\n",
       "      <td>NaN</td>\n",
       "      <td>125000</td>\n",
       "      <td>5</td>\n",
       "      <td>gasoline</td>\n",
       "      <td>audi</td>\n",
       "      <td>yes</td>\n",
       "      <td>2016-03-24 00:00:00</td>\n",
       "      <td>0</td>\n",
       "      <td>66954</td>\n",
       "      <td>2016-04-07 01:46:50</td>\n",
       "    </tr>\n",
       "    <tr>\n",
       "      <th>2</th>\n",
       "      <td>2016-03-14 12:52:21</td>\n",
       "      <td>9800</td>\n",
       "      <td>suv</td>\n",
       "      <td>2004</td>\n",
       "      <td>auto</td>\n",
       "      <td>163</td>\n",
       "      <td>grand</td>\n",
       "      <td>125000</td>\n",
       "      <td>8</td>\n",
       "      <td>gasoline</td>\n",
       "      <td>jeep</td>\n",
       "      <td>NaN</td>\n",
       "      <td>2016-03-14 00:00:00</td>\n",
       "      <td>0</td>\n",
       "      <td>90480</td>\n",
       "      <td>2016-04-05 12:47:46</td>\n",
       "    </tr>\n",
       "    <tr>\n",
       "      <th>3</th>\n",
       "      <td>2016-03-17 16:54:04</td>\n",
       "      <td>1500</td>\n",
       "      <td>small</td>\n",
       "      <td>2001</td>\n",
       "      <td>manual</td>\n",
       "      <td>75</td>\n",
       "      <td>golf</td>\n",
       "      <td>150000</td>\n",
       "      <td>6</td>\n",
       "      <td>petrol</td>\n",
       "      <td>volkswagen</td>\n",
       "      <td>no</td>\n",
       "      <td>2016-03-17 00:00:00</td>\n",
       "      <td>0</td>\n",
       "      <td>91074</td>\n",
       "      <td>2016-03-17 17:40:17</td>\n",
       "    </tr>\n",
       "    <tr>\n",
       "      <th>4</th>\n",
       "      <td>2016-03-31 17:25:20</td>\n",
       "      <td>3600</td>\n",
       "      <td>small</td>\n",
       "      <td>2008</td>\n",
       "      <td>manual</td>\n",
       "      <td>69</td>\n",
       "      <td>fabia</td>\n",
       "      <td>90000</td>\n",
       "      <td>7</td>\n",
       "      <td>gasoline</td>\n",
       "      <td>skoda</td>\n",
       "      <td>no</td>\n",
       "      <td>2016-03-31 00:00:00</td>\n",
       "      <td>0</td>\n",
       "      <td>60437</td>\n",
       "      <td>2016-04-06 10:17:21</td>\n",
       "    </tr>\n",
       "  </tbody>\n",
       "</table>\n",
       "</div>"
      ],
      "text/plain": [
       "           DateCrawled  Price VehicleType  RegistrationYear Gearbox  Power  \\\n",
       "0  2016-03-24 11:52:17    480         NaN              1993  manual      0   \n",
       "1  2016-03-24 10:58:45  18300       coupe              2011  manual    190   \n",
       "2  2016-03-14 12:52:21   9800         suv              2004    auto    163   \n",
       "3  2016-03-17 16:54:04   1500       small              2001  manual     75   \n",
       "4  2016-03-31 17:25:20   3600       small              2008  manual     69   \n",
       "\n",
       "   Model  Kilometer  RegistrationMonth  FuelType       Brand NotRepaired  \\\n",
       "0   golf     150000                  0    petrol  volkswagen         NaN   \n",
       "1    NaN     125000                  5  gasoline        audi         yes   \n",
       "2  grand     125000                  8  gasoline        jeep         NaN   \n",
       "3   golf     150000                  6    petrol  volkswagen          no   \n",
       "4  fabia      90000                  7  gasoline       skoda          no   \n",
       "\n",
       "           DateCreated  NumberOfPictures  PostalCode             LastSeen  \n",
       "0  2016-03-24 00:00:00                 0       70435  2016-04-07 03:16:57  \n",
       "1  2016-03-24 00:00:00                 0       66954  2016-04-07 01:46:50  \n",
       "2  2016-03-14 00:00:00                 0       90480  2016-04-05 12:47:46  \n",
       "3  2016-03-17 00:00:00                 0       91074  2016-03-17 17:40:17  \n",
       "4  2016-03-31 00:00:00                 0       60437  2016-04-06 10:17:21  "
      ]
     },
     "execution_count": 9,
     "metadata": {},
     "output_type": "execute_result"
    }
   ],
   "source": [
    "df = pd.read_csv('/datasets/autos.csv')\n",
    "df.head()"
   ]
  },
  {
   "cell_type": "code",
   "execution_count": 10,
   "metadata": {},
   "outputs": [
    {
     "name": "stdout",
     "output_type": "stream",
     "text": [
      "<class 'pandas.core.frame.DataFrame'>\n",
      "RangeIndex: 354369 entries, 0 to 354368\n",
      "Data columns (total 16 columns):\n",
      " #   Column             Non-Null Count   Dtype \n",
      "---  ------             --------------   ----- \n",
      " 0   DateCrawled        354369 non-null  object\n",
      " 1   Price              354369 non-null  int64 \n",
      " 2   VehicleType        316879 non-null  object\n",
      " 3   RegistrationYear   354369 non-null  int64 \n",
      " 4   Gearbox            334536 non-null  object\n",
      " 5   Power              354369 non-null  int64 \n",
      " 6   Model              334664 non-null  object\n",
      " 7   Kilometer          354369 non-null  int64 \n",
      " 8   RegistrationMonth  354369 non-null  int64 \n",
      " 9   FuelType           321474 non-null  object\n",
      " 10  Brand              354369 non-null  object\n",
      " 11  NotRepaired        283215 non-null  object\n",
      " 12  DateCreated        354369 non-null  object\n",
      " 13  NumberOfPictures   354369 non-null  int64 \n",
      " 14  PostalCode         354369 non-null  int64 \n",
      " 15  LastSeen           354369 non-null  object\n",
      "dtypes: int64(7), object(9)\n",
      "memory usage: 43.3+ MB\n"
     ]
    }
   ],
   "source": [
    "df.info()"
   ]
  },
  {
   "cell_type": "code",
   "execution_count": 11,
   "metadata": {},
   "outputs": [
    {
     "data": {
      "text/html": [
       "<div>\n",
       "<style scoped>\n",
       "    .dataframe tbody tr th:only-of-type {\n",
       "        vertical-align: middle;\n",
       "    }\n",
       "\n",
       "    .dataframe tbody tr th {\n",
       "        vertical-align: top;\n",
       "    }\n",
       "\n",
       "    .dataframe thead th {\n",
       "        text-align: right;\n",
       "    }\n",
       "</style>\n",
       "<table border=\"1\" class=\"dataframe\">\n",
       "  <thead>\n",
       "    <tr style=\"text-align: right;\">\n",
       "      <th></th>\n",
       "      <th>DateCrawled</th>\n",
       "      <th>Price</th>\n",
       "      <th>VehicleType</th>\n",
       "      <th>RegistrationYear</th>\n",
       "      <th>Gearbox</th>\n",
       "      <th>Power</th>\n",
       "      <th>Model</th>\n",
       "      <th>Kilometer</th>\n",
       "      <th>RegistrationMonth</th>\n",
       "      <th>FuelType</th>\n",
       "      <th>Brand</th>\n",
       "      <th>NotRepaired</th>\n",
       "      <th>DateCreated</th>\n",
       "      <th>NumberOfPictures</th>\n",
       "      <th>PostalCode</th>\n",
       "      <th>LastSeen</th>\n",
       "    </tr>\n",
       "  </thead>\n",
       "  <tbody>\n",
       "    <tr>\n",
       "      <th>0</th>\n",
       "      <td>2016-03-24 14:49:47</td>\n",
       "      <td>0</td>\n",
       "      <td>sedan</td>\n",
       "      <td>2000</td>\n",
       "      <td>manual</td>\n",
       "      <td>0</td>\n",
       "      <td>golf</td>\n",
       "      <td>150000</td>\n",
       "      <td>0</td>\n",
       "      <td>petrol</td>\n",
       "      <td>volkswagen</td>\n",
       "      <td>no</td>\n",
       "      <td>2016-04-03 00:00:00</td>\n",
       "      <td>0</td>\n",
       "      <td>10115</td>\n",
       "      <td>2016-04-06 13:45:54</td>\n",
       "    </tr>\n",
       "  </tbody>\n",
       "</table>\n",
       "</div>"
      ],
      "text/plain": [
       "           DateCrawled  Price VehicleType  RegistrationYear Gearbox  Power  \\\n",
       "0  2016-03-24 14:49:47      0       sedan              2000  manual      0   \n",
       "\n",
       "  Model  Kilometer  RegistrationMonth FuelType       Brand NotRepaired  \\\n",
       "0  golf     150000                  0   petrol  volkswagen          no   \n",
       "\n",
       "           DateCreated  NumberOfPictures  PostalCode             LastSeen  \n",
       "0  2016-04-03 00:00:00                 0       10115  2016-04-06 13:45:54  "
      ]
     },
     "execution_count": 11,
     "metadata": {},
     "output_type": "execute_result"
    }
   ],
   "source": [
    "# наиболее частые значения в данных\n",
    "df.mode()"
   ]
  },
  {
   "cell_type": "markdown",
   "metadata": {},
   "source": [
    "Самый популярный бренд - фольксваген, почтовый код - Гамбург. **Имеем дело с базой по Европе.**"
   ]
  },
  {
   "cell_type": "code",
   "execution_count": 12,
   "metadata": {},
   "outputs": [
    {
     "data": {
      "text/plain": [
       "DateCrawled              0\n",
       "Price                    0\n",
       "VehicleType          37490\n",
       "RegistrationYear         0\n",
       "Gearbox              19833\n",
       "Power                    0\n",
       "Model                19705\n",
       "Kilometer                0\n",
       "RegistrationMonth        0\n",
       "FuelType             32895\n",
       "Brand                    0\n",
       "NotRepaired          71154\n",
       "DateCreated              0\n",
       "NumberOfPictures         0\n",
       "PostalCode               0\n",
       "LastSeen                 0\n",
       "dtype: int64"
      ]
     },
     "execution_count": 12,
     "metadata": {},
     "output_type": "execute_result"
    }
   ],
   "source": [
    "# определяем число пропусков\n",
    "df.isna().sum()"
   ]
  },
  {
   "cell_type": "markdown",
   "metadata": {},
   "source": [
    "Многочисленные пропуски в пяти категориях, будем разбирать отдельно."
   ]
  },
  {
   "cell_type": "markdown",
   "metadata": {},
   "source": [
    "### Обработка дубликатов, пропусков, преобразование данных"
   ]
  },
  {
   "cell_type": "code",
   "execution_count": 13,
   "metadata": {},
   "outputs": [
    {
     "name": "stdout",
     "output_type": "stream",
     "text": [
      "число записей до удаления дубликатов: 354369\n",
      "число записей после удаления дубликатов: 354365\n"
     ]
    }
   ],
   "source": [
    "# удаляем дубликаты\n",
    "print('число записей до удаления дубликатов:', df.shape[0])\n",
    "df.drop_duplicates(inplace=True)\n",
    "print('число записей после удаления дубликатов:', df.shape[0])"
   ]
  },
  {
   "cell_type": "markdown",
   "metadata": {},
   "source": [
    "**О пропусках в данных**\\\n",
    "Наша задача построить быструю модель для определения стоимости автомобиля. Для точной модели нужны и точные данные. В задании мы распологаем достаточно обширной базой, поэтому пропуски в наиболее важных данных решено удалить, поскольку заполнение их медианой или еще чем-то еще снизит качество модели. Представляется более важным получить именно качественную модель предсказания стоимости. В последующем, при использовании, задачу получения необходимой и достаточной информации для предсказания можно перенести на сторону интерфейса, чтобы при запросе пользователь гарантированно ее ввел.\\\n",
    "Конечно можно построить модель работающую и при отсутсвии многих данных, но она будет иметь большую погрешность и вряд ли будет представлять ценность для реальных пользователей сервиса."
   ]
  },
  {
   "cell_type": "markdown",
   "metadata": {},
   "source": [
    "**Подход к построению модели**\\\n",
    "Определение цены машины можно условно разделить на три этапа:\n",
    "- определить первоначальную стоимость\n",
    "- определить износ и соответственно уменьшение стоимости от первоначальной.\n",
    "- учесть специфику конкретного рынка продажи\n",
    "\n",
    "Основой расчета является первоначальная стоимость. Износ же можно косвенно определить по нескольким признакам: пробегу, году выпуска, наличию аварий и т.п. Соответственно признаки которые даны в задании можно разделить на два типа: связанные с первоначальной стоимостью автомобиля и связанные с износом/потерей стоимости.\\\n",
    "Признаки связанные с комплектацией машины (например тип коробки и мощность двигателя) они влияют и на превоначальную стоимость и могут влиять на износ (механическая КПП как правило более надежна, есть модели двигателей разной \"удачности\" и т.п.\n",
    "Также стоимость может отличаться в разных регионах из-за специфики налогового и таможенного законодательства, но об этом позже.\n",
    "\n",
    "**Главный вывод:** чтобы прогнозировать стоимость нам нужна точка отсчета, степень влияния разных признаков оценим уже при моделировании. Поэтому принципиально важно иметь все данные определяющие первоначальную стоимость: **бренд и модель автомобиля**. Пропуски в поле Brand наиболее критичны  и к счастью отсуствуют, иначе их сразу бы стоило удалить."
   ]
  },
  {
   "cell_type": "markdown",
   "metadata": {},
   "source": [
    "### Обработка признаков типа Datetime"
   ]
  },
  {
   "cell_type": "code",
   "execution_count": 14,
   "metadata": {},
   "outputs": [],
   "source": [
    "# преобразуем тип данных соответствующих признаков из object в datetime\n",
    "for columns in ['DateCrawled', 'DateCreated', 'LastSeen']:\n",
    "    df[columns] = pd.to_datetime(df[columns],infer_datetime_format=True)"
   ]
  },
  {
   "cell_type": "code",
   "execution_count": 15,
   "metadata": {},
   "outputs": [
    {
     "data": {
      "text/html": [
       "<div>\n",
       "<style scoped>\n",
       "    .dataframe tbody tr th:only-of-type {\n",
       "        vertical-align: middle;\n",
       "    }\n",
       "\n",
       "    .dataframe tbody tr th {\n",
       "        vertical-align: top;\n",
       "    }\n",
       "\n",
       "    .dataframe thead th {\n",
       "        text-align: right;\n",
       "    }\n",
       "</style>\n",
       "<table border=\"1\" class=\"dataframe\">\n",
       "  <thead>\n",
       "    <tr style=\"text-align: right;\">\n",
       "      <th></th>\n",
       "      <th>count</th>\n",
       "      <th>unique</th>\n",
       "      <th>top</th>\n",
       "      <th>freq</th>\n",
       "      <th>first</th>\n",
       "      <th>last</th>\n",
       "    </tr>\n",
       "  </thead>\n",
       "  <tbody>\n",
       "    <tr>\n",
       "      <th>DateCrawled</th>\n",
       "      <td>354365</td>\n",
       "      <td>271174</td>\n",
       "      <td>2016-03-24 14:49:47</td>\n",
       "      <td>7</td>\n",
       "      <td>2016-03-05 14:06:22</td>\n",
       "      <td>2016-04-07 14:36:58</td>\n",
       "    </tr>\n",
       "    <tr>\n",
       "      <th>DateCreated</th>\n",
       "      <td>354365</td>\n",
       "      <td>109</td>\n",
       "      <td>2016-04-03 00:00:00</td>\n",
       "      <td>13718</td>\n",
       "      <td>2014-03-10 00:00:00</td>\n",
       "      <td>2016-04-07 00:00:00</td>\n",
       "    </tr>\n",
       "    <tr>\n",
       "      <th>LastSeen</th>\n",
       "      <td>354365</td>\n",
       "      <td>179150</td>\n",
       "      <td>2016-04-06 13:45:54</td>\n",
       "      <td>17</td>\n",
       "      <td>2016-03-05 14:15:08</td>\n",
       "      <td>2016-04-07 14:58:51</td>\n",
       "    </tr>\n",
       "  </tbody>\n",
       "</table>\n",
       "</div>"
      ],
      "text/plain": [
       "              count  unique                 top   freq               first  \\\n",
       "DateCrawled  354365  271174 2016-03-24 14:49:47      7 2016-03-05 14:06:22   \n",
       "DateCreated  354365     109 2016-04-03 00:00:00  13718 2014-03-10 00:00:00   \n",
       "LastSeen     354365  179150 2016-04-06 13:45:54     17 2016-03-05 14:15:08   \n",
       "\n",
       "                           last  \n",
       "DateCrawled 2016-04-07 14:36:58  \n",
       "DateCreated 2016-04-07 00:00:00  \n",
       "LastSeen    2016-04-07 14:58:51  "
      ]
     },
     "execution_count": 15,
     "metadata": {},
     "output_type": "execute_result"
    }
   ],
   "source": [
    "df[['DateCrawled', 'DateCreated', 'LastSeen']].describe().transpose()"
   ]
  },
  {
   "cell_type": "markdown",
   "metadata": {},
   "source": [
    "**Вывод:**\n",
    "- DateCreated имеет 109 уникальных значений, т.е. в течении 700+ дней разброса выборки объявления подавались только 108 дней. Данные синтетические или подавать объявления можно было только один день в неделю.\n",
    "- имеем противоречие в данных: `DateCrawled` (дата скачивания из базы), `DateCreated` (дата создания объявления)  имеют самое позднее значение 2016-04-07,  и одновременно имеем массу автомобилей с регистрацией `RegistrationYear` в 2017-2019 годах. Вопрос преподавателю прояснил, что эти признаки можно удалить.\\\n",
    "Для нашего исследования из временных данных хотелось бы получить:\n",
    "- время экспозиции лота (дата продажи - дата размещения объявления)\n",
    "- активность просмотров \\\n",
    "Малое время экспозиции говорило бы о привлекательной цене, меньшей или близкой к рыночной, но для этого как минимум не хватает записи о дате продажи. В итоге из трех признаков `'DateCrawled', 'DateCreated', 'LastSeen'` для исследования мы не можем ничего использовать - **удаляем**."
   ]
  },
  {
   "cell_type": "code",
   "execution_count": 16,
   "metadata": {},
   "outputs": [],
   "source": [
    "# удаляем признаки datetime\n",
    "df.drop(['DateCrawled', 'DateCreated', 'LastSeen'], axis=1, inplace=True)"
   ]
  },
  {
   "cell_type": "markdown",
   "metadata": {},
   "source": [
    "### Обработка категориальных признаков"
   ]
  },
  {
   "cell_type": "markdown",
   "metadata": {},
   "source": [
    "Как уже упоминалось наиболее важным после признака `Brend` представляется признак 'Model', поэтому его обработку проводим в первую очередь."
   ]
  },
  {
   "cell_type": "code",
   "execution_count": 17,
   "metadata": {},
   "outputs": [
    {
     "data": {
      "text/html": [
       "<div>\n",
       "<style scoped>\n",
       "    .dataframe tbody tr th:only-of-type {\n",
       "        vertical-align: middle;\n",
       "    }\n",
       "\n",
       "    .dataframe tbody tr th {\n",
       "        vertical-align: top;\n",
       "    }\n",
       "\n",
       "    .dataframe thead th {\n",
       "        text-align: right;\n",
       "    }\n",
       "</style>\n",
       "<table border=\"1\" class=\"dataframe\">\n",
       "  <thead>\n",
       "    <tr style=\"text-align: right;\">\n",
       "      <th></th>\n",
       "      <th>count</th>\n",
       "      <th>unique</th>\n",
       "      <th>top</th>\n",
       "      <th>freq</th>\n",
       "    </tr>\n",
       "  </thead>\n",
       "  <tbody>\n",
       "    <tr>\n",
       "      <th>VehicleType</th>\n",
       "      <td>316875</td>\n",
       "      <td>8</td>\n",
       "      <td>sedan</td>\n",
       "      <td>91457</td>\n",
       "    </tr>\n",
       "    <tr>\n",
       "      <th>Gearbox</th>\n",
       "      <td>334532</td>\n",
       "      <td>2</td>\n",
       "      <td>manual</td>\n",
       "      <td>268249</td>\n",
       "    </tr>\n",
       "    <tr>\n",
       "      <th>Model</th>\n",
       "      <td>334660</td>\n",
       "      <td>250</td>\n",
       "      <td>golf</td>\n",
       "      <td>29232</td>\n",
       "    </tr>\n",
       "    <tr>\n",
       "      <th>FuelType</th>\n",
       "      <td>321470</td>\n",
       "      <td>7</td>\n",
       "      <td>petrol</td>\n",
       "      <td>216349</td>\n",
       "    </tr>\n",
       "    <tr>\n",
       "      <th>Brand</th>\n",
       "      <td>354365</td>\n",
       "      <td>40</td>\n",
       "      <td>volkswagen</td>\n",
       "      <td>77012</td>\n",
       "    </tr>\n",
       "    <tr>\n",
       "      <th>NotRepaired</th>\n",
       "      <td>283211</td>\n",
       "      <td>2</td>\n",
       "      <td>no</td>\n",
       "      <td>247158</td>\n",
       "    </tr>\n",
       "  </tbody>\n",
       "</table>\n",
       "</div>"
      ],
      "text/plain": [
       "              count unique         top    freq\n",
       "VehicleType  316875      8       sedan   91457\n",
       "Gearbox      334532      2      manual  268249\n",
       "Model        334660    250        golf   29232\n",
       "FuelType     321470      7      petrol  216349\n",
       "Brand        354365     40  volkswagen   77012\n",
       "NotRepaired  283211      2          no  247158"
      ]
     },
     "execution_count": 17,
     "metadata": {},
     "output_type": "execute_result"
    }
   ],
   "source": [
    "# список категориальных признаков\n",
    "df.describe(include='object').transpose()"
   ]
  },
  {
   "cell_type": "markdown",
   "metadata": {},
   "source": [
    "#### **Brand**"
   ]
  },
  {
   "cell_type": "code",
   "execution_count": 18,
   "metadata": {},
   "outputs": [
    {
     "data": {
      "text/plain": [
       "0"
      ]
     },
     "execution_count": 18,
     "metadata": {},
     "output_type": "execute_result"
    }
   ],
   "source": [
    "# число пропусков\n",
    "df['Brand'].isna().sum()"
   ]
  },
  {
   "cell_type": "code",
   "execution_count": 19,
   "metadata": {},
   "outputs": [],
   "source": [
    "#df['Brand'].value_counts()"
   ]
  },
  {
   "cell_type": "markdown",
   "metadata": {},
   "source": [
    "**Вывод:** С названиями брендов все в порядке. Пропусков нет. Обработка не требуется."
   ]
  },
  {
   "cell_type": "markdown",
   "metadata": {},
   "source": [
    "#### **Model**"
   ]
  },
  {
   "cell_type": "code",
   "execution_count": 20,
   "metadata": {},
   "outputs": [
    {
     "data": {
      "text/plain": [
       "19705"
      ]
     },
     "execution_count": 20,
     "metadata": {},
     "output_type": "execute_result"
    }
   ],
   "source": [
    "df['Model'].isna().sum()"
   ]
  },
  {
   "cell_type": "code",
   "execution_count": 21,
   "metadata": {},
   "outputs": [
    {
     "data": {
      "text/plain": [
       "golf     29232\n",
       "other    24420\n",
       "3er      19761\n",
       "polo     13066\n",
       "corsa    12570\n",
       "Name: Model, dtype: int64"
      ]
     },
     "execution_count": 21,
     "metadata": {},
     "output_type": "execute_result"
    }
   ],
   "source": [
    "df['Model'].value_counts().head()"
   ]
  },
  {
   "cell_type": "code",
   "execution_count": 22,
   "metadata": {},
   "outputs": [],
   "source": [
    "# замена пропусков на \"other\"\n",
    "df.loc[df['Model'].isna(), 'Model'] = 'other'"
   ]
  },
  {
   "cell_type": "code",
   "execution_count": null,
   "metadata": {},
   "outputs": [],
   "source": []
  },
  {
   "cell_type": "markdown",
   "metadata": {},
   "source": [
    "**Вывод:** Имеем 19705 пропусков и категорию `other` с 24420 записями. Это определение \"средней температуры по больнице\", но раз данных около 10% от всей выборки, то оставим. **Пропуски заменяем на `other`**\\\n",
    "Визуальный анализ названий моделей орфографических ошибок не выявил, поэтому дополнительную обработку не производим."
   ]
  },
  {
   "cell_type": "markdown",
   "metadata": {},
   "source": [
    "#### **FuelType**"
   ]
  },
  {
   "cell_type": "code",
   "execution_count": 23,
   "metadata": {},
   "outputs": [
    {
     "data": {
      "text/plain": [
       "32895"
      ]
     },
     "execution_count": 23,
     "metadata": {},
     "output_type": "execute_result"
    }
   ],
   "source": [
    "df['FuelType'].isna().sum()"
   ]
  },
  {
   "cell_type": "code",
   "execution_count": 24,
   "metadata": {},
   "outputs": [
    {
     "data": {
      "text/plain": [
       "petrol      216349\n",
       "gasoline     98719\n",
       "lpg           5310\n",
       "cng            565\n",
       "hybrid         233\n",
       "other          204\n",
       "electric        90\n",
       "Name: FuelType, dtype: int64"
      ]
     },
     "execution_count": 24,
     "metadata": {},
     "output_type": "execute_result"
    }
   ],
   "source": [
    "df['FuelType'].value_counts()"
   ]
  },
  {
   "cell_type": "code",
   "execution_count": 25,
   "metadata": {},
   "outputs": [],
   "source": [
    "# объединяем записи petrol-gasoline\n",
    "df.loc[df['FuelType'].isna(), 'FuelType'] = 'petrol'\n",
    "df.loc[df['FuelType'] == 'gasoline', 'FuelType'] = 'petrol'"
   ]
  },
  {
   "cell_type": "markdown",
   "metadata": {},
   "source": [
    "**Вывод:** Имеем 32895 пропусков. C названиями в категории все  нормально, кроме **`petrol` и `gasoline`**. Это одно и то же, `gasoline` американизм, поэтому объединяем эти записи в `petrol`. Что касается пропусков, поскольку бензиновых машин оказалось несоизмеримо больше других типов вместе взятых, запишем эти данные также в `petrol`\\\n",
    "Удивительно, что отсутствуют дизельные двигатели. Возможно ошибка."
   ]
  },
  {
   "cell_type": "markdown",
   "metadata": {},
   "source": [
    "#### **Gearbox**"
   ]
  },
  {
   "cell_type": "code",
   "execution_count": 26,
   "metadata": {},
   "outputs": [
    {
     "data": {
      "text/plain": [
       "19833"
      ]
     },
     "execution_count": 26,
     "metadata": {},
     "output_type": "execute_result"
    }
   ],
   "source": [
    "# число пропусков\n",
    "df['Gearbox'].isna().sum()"
   ]
  },
  {
   "cell_type": "code",
   "execution_count": 27,
   "metadata": {
    "scrolled": true
   },
   "outputs": [
    {
     "data": {
      "text/plain": [
       "manual    268249\n",
       "auto       66283\n",
       "Name: Gearbox, dtype: int64"
      ]
     },
     "execution_count": 27,
     "metadata": {},
     "output_type": "execute_result"
    }
   ],
   "source": [
    "df['Gearbox'].value_counts()"
   ]
  },
  {
   "cell_type": "code",
   "execution_count": 28,
   "metadata": {},
   "outputs": [],
   "source": [
    "df.loc[df['Gearbox'].isna(), 'Gearbox'] = 'unknown'"
   ]
  },
  {
   "cell_type": "markdown",
   "metadata": {},
   "source": [
    "**Вывод:** Имеем 19833 пропуска. C названиями в категории все нормально. Заменять в данном случае по большинству рисковано, пропусков достаточно много, а тип КП может существенно влиять на стоимость авто, поэтому добавим категорию **`unknown`**."
   ]
  },
  {
   "cell_type": "markdown",
   "metadata": {},
   "source": [
    "#### **VehicleType**"
   ]
  },
  {
   "cell_type": "code",
   "execution_count": 29,
   "metadata": {},
   "outputs": [
    {
     "data": {
      "text/plain": [
       "37490"
      ]
     },
     "execution_count": 29,
     "metadata": {},
     "output_type": "execute_result"
    }
   ],
   "source": [
    "# число пропусков\n",
    "df['VehicleType'].isna().sum()"
   ]
  },
  {
   "cell_type": "code",
   "execution_count": 30,
   "metadata": {},
   "outputs": [
    {
     "data": {
      "text/plain": [
       "sedan          91457\n",
       "small          79830\n",
       "wagon          65165\n",
       "bus            28775\n",
       "convertible    20203\n",
       "coupe          16161\n",
       "suv            11996\n",
       "other           3288\n",
       "Name: VehicleType, dtype: int64"
      ]
     },
     "execution_count": 30,
     "metadata": {},
     "output_type": "execute_result"
    }
   ],
   "source": [
    "df['VehicleType'].value_counts()"
   ]
  },
  {
   "cell_type": "markdown",
   "metadata": {},
   "source": [
    "**В `VehicleType` 37490 пропусков и близкая по смыслу категория `other` - 3288 записей. Заменяем пропуски на моду расчитанную для данной модели по бренду**"
   ]
  },
  {
   "cell_type": "code",
   "execution_count": 31,
   "metadata": {},
   "outputs": [],
   "source": [
    "# эксперименты\n",
    "# df.groupby('Model')['VehicleType'].transform(lambda x: x.value_counts().index[0])\n",
    "# df.groupby(by=['Brand', 'Model'])['VehicleType'].apply(lambda x: x.mode()[0])"
   ]
  },
  {
   "cell_type": "code",
   "execution_count": 32,
   "metadata": {},
   "outputs": [],
   "source": [
    "df['VehicleType'].fillna(\n",
    "    df.groupby(by=['Brand', 'Model'])['VehicleType']\n",
    "    .transform(lambda x: x.value_counts().index[0]),\n",
    "    inplace=True\n",
    ")"
   ]
  },
  {
   "cell_type": "markdown",
   "metadata": {},
   "source": [
    "#### **NotRepaired**"
   ]
  },
  {
   "cell_type": "code",
   "execution_count": 33,
   "metadata": {},
   "outputs": [
    {
     "data": {
      "text/plain": [
       "71154"
      ]
     },
     "execution_count": 33,
     "metadata": {},
     "output_type": "execute_result"
    }
   ],
   "source": [
    "df['NotRepaired'].isna().sum()"
   ]
  },
  {
   "cell_type": "code",
   "execution_count": 34,
   "metadata": {
    "scrolled": true
   },
   "outputs": [
    {
     "data": {
      "text/plain": [
       "no     247158\n",
       "yes     36053\n",
       "Name: NotRepaired, dtype: int64"
      ]
     },
     "execution_count": 34,
     "metadata": {},
     "output_type": "execute_result"
    }
   ],
   "source": [
    "df['NotRepaired'].value_counts()"
   ]
  },
  {
   "cell_type": "markdown",
   "metadata": {},
   "source": [
    "**Вывод:** Имеем 71154 пропуска. C названиями в категории все нормально. Заменять в данном случае по большинству рисковано, пропусков достаточно много, а наличие истории ремонтов может существенно влиять на стоимость авто, поэтому добавим категорию **`unknown`**."
   ]
  },
  {
   "cell_type": "code",
   "execution_count": 35,
   "metadata": {},
   "outputs": [],
   "source": [
    "df.loc[df['NotRepaired'].isna(), 'NotRepaired'] = 'unknown'"
   ]
  },
  {
   "cell_type": "code",
   "execution_count": 36,
   "metadata": {},
   "outputs": [
    {
     "data": {
      "text/plain": [
       "no         247158\n",
       "unknown     71154\n",
       "yes         36053\n",
       "Name: NotRepaired, dtype: int64"
      ]
     },
     "execution_count": 36,
     "metadata": {},
     "output_type": "execute_result"
    }
   ],
   "source": [
    "# проверка \n",
    "df['NotRepaired'].value_counts()"
   ]
  },
  {
   "cell_type": "markdown",
   "metadata": {},
   "source": [
    "#### **PostalCode**"
   ]
  },
  {
   "cell_type": "code",
   "execution_count": 37,
   "metadata": {},
   "outputs": [
    {
     "data": {
      "text/plain": [
       "8143"
      ]
     },
     "execution_count": 37,
     "metadata": {},
     "output_type": "execute_result"
    }
   ],
   "source": [
    "df['PostalCode'].nunique()"
   ]
  },
  {
   "cell_type": "markdown",
   "metadata": {},
   "source": [
    "**Вывод:** Почтовый код продавца скорее всего будет влиять на цену автомобиля. В разных странах могут быть разные таможенные и налоговые условия. Близость к морю будет способствовать быстрому износу-коррозии кузова и тоже влиять на цену. Может влять удаленность от континента для островных территорий и т.п. В первом приближении этот фактор решено не учитывать.\\\n",
    "В признаке 8134 уникальных значения, их вполне можно заменить на кластеры соответствующие странам и это уже должно дать результат. С ходу список zip кодов не нашел, поэтому вариант отложен."
   ]
  },
  {
   "cell_type": "markdown",
   "metadata": {},
   "source": [
    "### Обработка количественных данных"
   ]
  },
  {
   "cell_type": "code",
   "execution_count": 38,
   "metadata": {},
   "outputs": [
    {
     "data": {
      "text/plain": [
       "Index(['Price', 'VehicleType', 'RegistrationYear', 'Gearbox', 'Power', 'Model',\n",
       "       'Kilometer', 'RegistrationMonth', 'FuelType', 'Brand', 'NotRepaired',\n",
       "       'NumberOfPictures', 'PostalCode'],\n",
       "      dtype='object')"
      ]
     },
     "execution_count": 38,
     "metadata": {},
     "output_type": "execute_result"
    }
   ],
   "source": [
    "df.columns"
   ]
  },
  {
   "cell_type": "code",
   "execution_count": 39,
   "metadata": {},
   "outputs": [
    {
     "data": {
      "text/html": [
       "<div>\n",
       "<style scoped>\n",
       "    .dataframe tbody tr th:only-of-type {\n",
       "        vertical-align: middle;\n",
       "    }\n",
       "\n",
       "    .dataframe tbody tr th {\n",
       "        vertical-align: top;\n",
       "    }\n",
       "\n",
       "    .dataframe thead th {\n",
       "        text-align: right;\n",
       "    }\n",
       "</style>\n",
       "<table border=\"1\" class=\"dataframe\">\n",
       "  <thead>\n",
       "    <tr style=\"text-align: right;\">\n",
       "      <th></th>\n",
       "      <th>count</th>\n",
       "      <th>mean</th>\n",
       "      <th>std</th>\n",
       "      <th>min</th>\n",
       "      <th>25%</th>\n",
       "      <th>50%</th>\n",
       "      <th>75%</th>\n",
       "      <th>max</th>\n",
       "    </tr>\n",
       "  </thead>\n",
       "  <tbody>\n",
       "    <tr>\n",
       "      <th>Price</th>\n",
       "      <td>354365.0</td>\n",
       "      <td>4416.68</td>\n",
       "      <td>4514.18</td>\n",
       "      <td>0.0</td>\n",
       "      <td>1050.0</td>\n",
       "      <td>2700.0</td>\n",
       "      <td>6400.0</td>\n",
       "      <td>20000.0</td>\n",
       "    </tr>\n",
       "    <tr>\n",
       "      <th>PostalCode</th>\n",
       "      <td>354365.0</td>\n",
       "      <td>50508.50</td>\n",
       "      <td>25783.10</td>\n",
       "      <td>1067.0</td>\n",
       "      <td>30165.0</td>\n",
       "      <td>49413.0</td>\n",
       "      <td>71083.0</td>\n",
       "      <td>99998.0</td>\n",
       "    </tr>\n",
       "    <tr>\n",
       "      <th>Power</th>\n",
       "      <td>354365.0</td>\n",
       "      <td>110.09</td>\n",
       "      <td>189.85</td>\n",
       "      <td>0.0</td>\n",
       "      <td>69.0</td>\n",
       "      <td>105.0</td>\n",
       "      <td>143.0</td>\n",
       "      <td>20000.0</td>\n",
       "    </tr>\n",
       "    <tr>\n",
       "      <th>Kilometer</th>\n",
       "      <td>354365.0</td>\n",
       "      <td>128211.36</td>\n",
       "      <td>37905.08</td>\n",
       "      <td>5000.0</td>\n",
       "      <td>125000.0</td>\n",
       "      <td>150000.0</td>\n",
       "      <td>150000.0</td>\n",
       "      <td>150000.0</td>\n",
       "    </tr>\n",
       "    <tr>\n",
       "      <th>RegistrationYear</th>\n",
       "      <td>354365.0</td>\n",
       "      <td>2004.23</td>\n",
       "      <td>90.23</td>\n",
       "      <td>1000.0</td>\n",
       "      <td>1999.0</td>\n",
       "      <td>2003.0</td>\n",
       "      <td>2008.0</td>\n",
       "      <td>9999.0</td>\n",
       "    </tr>\n",
       "    <tr>\n",
       "      <th>RegistrationMonth</th>\n",
       "      <td>354365.0</td>\n",
       "      <td>5.71</td>\n",
       "      <td>3.73</td>\n",
       "      <td>0.0</td>\n",
       "      <td>3.0</td>\n",
       "      <td>6.0</td>\n",
       "      <td>9.0</td>\n",
       "      <td>12.0</td>\n",
       "    </tr>\n",
       "  </tbody>\n",
       "</table>\n",
       "</div>"
      ],
      "text/plain": [
       "                      count       mean       std     min       25%       50%  \\\n",
       "Price              354365.0    4416.68   4514.18     0.0    1050.0    2700.0   \n",
       "PostalCode         354365.0   50508.50  25783.10  1067.0   30165.0   49413.0   \n",
       "Power              354365.0     110.09    189.85     0.0      69.0     105.0   \n",
       "Kilometer          354365.0  128211.36  37905.08  5000.0  125000.0  150000.0   \n",
       "RegistrationYear   354365.0    2004.23     90.23  1000.0    1999.0    2003.0   \n",
       "RegistrationMonth  354365.0       5.71      3.73     0.0       3.0       6.0   \n",
       "\n",
       "                        75%       max  \n",
       "Price                6400.0   20000.0  \n",
       "PostalCode          71083.0   99998.0  \n",
       "Power                 143.0   20000.0  \n",
       "Kilometer          150000.0  150000.0  \n",
       "RegistrationYear     2008.0    9999.0  \n",
       "RegistrationMonth       9.0      12.0  "
      ]
     },
     "execution_count": 39,
     "metadata": {},
     "output_type": "execute_result"
    }
   ],
   "source": [
    "df[['Price', 'PostalCode', 'Power', 'Kilometer',\n",
    "       'RegistrationYear', 'RegistrationMonth']].describe().transpose()"
   ]
  },
  {
   "cell_type": "markdown",
   "metadata": {},
   "source": [
    "**Выводы**\n",
    "- `Price` - стоимость не может быть нулевой, тем более это целевой признак, поэтому **нулевые значения удалим**\n",
    "- `RegistrationYear` - очевидны ошибки, есть и 1000 год и 9999. Верхний диапазон установим 2021 год. Задача определения цены антикварных автомобилей перед нами не стоит и к тому же имеет другие принципы расчета. Нижний диапазон установим 1960 годом (60 лет - законодательно установленный в большинстве стран возраст для антиквариата)\n",
    "- `Power`  - тут можно заполнить медианой для машин одного бренда и модели \n",
    "- `Kilometer` - на данном этапе недостатков не видно, оставляем как есть\n",
    "- `RegistrationMonth` - без изменений\n",
    "- `NumberOfPictures` - содержательных записей нет, признак можно **удалить**\n",
    "- `PostalCode` - категориальный признак, его описан выше."
   ]
  },
  {
   "cell_type": "markdown",
   "metadata": {},
   "source": [
    "#### NumberOfPictures - число фотографий\n",
    "\n",
    "Сразу удаляем столбец без данных"
   ]
  },
  {
   "cell_type": "code",
   "execution_count": 40,
   "metadata": {},
   "outputs": [],
   "source": [
    "# удаляем признак NumberOfPictures\n",
    "df = df.drop('NumberOfPictures', axis=1)"
   ]
  },
  {
   "cell_type": "markdown",
   "metadata": {},
   "source": [
    "#### **Price - Целевой признак**"
   ]
  },
  {
   "cell_type": "code",
   "execution_count": 41,
   "metadata": {},
   "outputs": [
    {
     "name": "stdout",
     "output_type": "stream",
     "text": [
      "число записей с нулевым Price: 10772\n"
     ]
    }
   ],
   "source": [
    "# обработка Price\n",
    "# число записей с нулевой стоимостью\n",
    "print('число записей с нулевым Price:', df.loc[df['Price'] == 0, 'Price'].count())\n",
    "# удаляем записи с нулевым целевым признаком\n",
    "df = df.loc[df['Price'] != 0]"
   ]
  },
  {
   "cell_type": "markdown",
   "metadata": {},
   "source": [
    "#### **RegistrationYear - год регистрации**"
   ]
  },
  {
   "cell_type": "code",
   "execution_count": 42,
   "metadata": {},
   "outputs": [
    {
     "name": "stdout",
     "output_type": "stream",
     "text": [
      "число записей с годом регистрации позже 2021: 86\n",
      "число записей с годом регистрации до 1960: 340\n"
     ]
    }
   ],
   "source": [
    "# обработка `RegistrationYear`\n",
    "print('число записей с годом регистрации позже 2021:', df.loc[df['RegistrationYear'] > 2021, 'RegistrationYear'].count())\n",
    "print('число записей с годом регистрации до 1960:', df.loc[df['RegistrationYear'] < 1960, 'RegistrationYear'].count())\n",
    "# удаляем записи с годом регистрации после 2021\n",
    "df = df.loc[df['RegistrationYear'] <= 2021]\n",
    "# удаляем записи с годом регистрации до 1960\n",
    "df = df.loc[df['RegistrationYear'] > 1960]"
   ]
  },
  {
   "cell_type": "code",
   "execution_count": 43,
   "metadata": {},
   "outputs": [
    {
     "data": {
      "image/png": "[encoded data removed]",
      "text/plain": [
       "<Figure size 864x72 with 1 Axes>"
      ]
     },
     "metadata": {},
     "output_type": "display_data"
    }
   ],
   "source": [
    "# визуализируем полученный результат по годам регистрации\n",
    "fig = plt.figure(figsize=(12,1))\n",
    "plt.title('Разброс данных по годам регистрации автомобилей', fontsize=14)\n",
    "sns.boxplot(x=df['RegistrationYear'], color='Lime');"
   ]
  },
  {
   "cell_type": "markdown",
   "metadata": {},
   "source": [
    "Осталось достаточно много выбросов. Дополнительно очистим данные от значений лежащих ниже нижнего/левого \"уса\", т.е. старше 1985 года."
   ]
  },
  {
   "cell_type": "code",
   "execution_count": 44,
   "metadata": {},
   "outputs": [],
   "source": [
    "# удаляем записи с годом регистрации до 1985\n",
    "df = df.loc[df['RegistrationYear'] > 1985]"
   ]
  },
  {
   "cell_type": "markdown",
   "metadata": {},
   "source": [
    "#### **Месяц регистрации**"
   ]
  },
  {
   "cell_type": "markdown",
   "metadata": {},
   "source": [
    "Оцениваем общее число пропусков (нулевой месяц регистрации):"
   ]
  },
  {
   "cell_type": "code",
   "execution_count": 45,
   "metadata": {},
   "outputs": [
    {
     "name": "stdout",
     "output_type": "stream",
     "text": [
      "число записей с нулевым месяцем регистрации: 31675\n"
     ]
    }
   ],
   "source": [
    "print('число записей с нулевым месяцем регистрации:', df.loc[df['RegistrationMonth'] == 0].shape[0])"
   ]
  },
  {
   "cell_type": "markdown",
   "metadata": {},
   "source": [
    "Пропусков очень много. И удалять их все нет смысла. Нас интересует возраст машины, месяц выпуска должен рассматриваться во взаимосвязи с годом выпуска. Поэтому параметр месяца для более старых машин будет вносить лишь небольшую погрешность и его можно заменить на 1. Для трехлетней машины это даст погрешность к возрасту от 1/36 до 1/24. Оценим число данных с пропусками по месяцу для разных годов"
   ]
  },
  {
   "cell_type": "code",
   "execution_count": 46,
   "metadata": {},
   "outputs": [
    {
     "data": {
      "text/plain": [
       "RegistrationYear\n",
       "2015     153\n",
       "2016    2479\n",
       "2017    2527\n",
       "2018     803\n",
       "2019       5\n",
       "Name: RegistrationMonth, dtype: int64"
      ]
     },
     "execution_count": 46,
     "metadata": {},
     "output_type": "execute_result"
    }
   ],
   "source": [
    "# число пропусков по признаку месяц регистрации по годам\n",
    "df.loc[df['RegistrationMonth'] == 0].groupby(by='RegistrationYear')['RegistrationMonth'].count().tail()"
   ]
  },
  {
   "cell_type": "markdown",
   "metadata": {},
   "source": [
    "Таких данных для машин до 2017 года включительно оказалось меньше 3000, поэтому можно их удалить. Остальные пропуски **заменяем по \"пессимистичному\" варианту - на `1`**"
   ]
  },
  {
   "cell_type": "code",
   "execution_count": 47,
   "metadata": {},
   "outputs": [],
   "source": [
    "# # удаляем записи с месяцем регистраиции 0 и годом выпуска от 2017\n",
    "df = df.loc[df.index.isin(\n",
    "     df.loc[~( (df['RegistrationYear'] >= 2017) & (df['RegistrationMonth'] == 0) ) ].index)]"
   ]
  },
  {
   "cell_type": "code",
   "execution_count": 48,
   "metadata": {},
   "outputs": [],
   "source": [
    "# заполняем \"пропуски\", т.е. значения с месяцем регистрации `0` на `1`\n",
    "df.loc[df['RegistrationMonth'] == 0, 'RegistrationMonth'] = 1"
   ]
  },
  {
   "cell_type": "code",
   "execution_count": 49,
   "metadata": {},
   "outputs": [
    {
     "data": {
      "text/plain": [
       "(334515, 12)"
      ]
     },
     "execution_count": 49,
     "metadata": {},
     "output_type": "execute_result"
    }
   ],
   "source": [
    "# размер базы после обработки\n",
    "df.loc[~( (df['RegistrationYear'] >= 2017) & (df['RegistrationMonth'] == 0) ) ].shape"
   ]
  },
  {
   "cell_type": "markdown",
   "metadata": {},
   "source": [
    "#### **Создаем новый признак \"Age\" -  возраст автомобиля** \n",
    "заменяем признаки год регистрации и месяц регистрации новым признаком - возраст автомобиля"
   ]
  },
  {
   "cell_type": "code",
   "execution_count": 50,
   "metadata": {},
   "outputs": [
    {
     "data": {
      "text/plain": [
       "12"
      ]
     },
     "execution_count": 50,
     "metadata": {},
     "output_type": "execute_result"
    }
   ],
   "source": [
    "# определим месяц регистрации самого молодого автомобиля в нашей базе\n",
    "df.loc[df['RegistrationYear']==2019]['RegistrationMonth'].max()"
   ]
  },
  {
   "cell_type": "markdown",
   "metadata": {},
   "source": [
    "**Точкой отсчета возраста автомобиля будет декабрь 2019 года.** Это возраст самого молодого автомобиля в нашей базе. И это позволит сохранить актуальность модели даже спустя значительное время, поскольку мы используем не абсолютное значение даты регистрации а именно возраст автомобиля который кореллирует с износом и его можно будет пресчитать на новую дату."
   ]
  },
  {
   "cell_type": "code",
   "execution_count": 51,
   "metadata": {},
   "outputs": [],
   "source": [
    "# вводим константу - базис отсчета возраста\n",
    "BASE = [2019, 12]\n",
    "df['Age'] = ((BASE[0] - df['RegistrationYear'])*12 + BASE[1] - df['RegistrationMonth'])"
   ]
  },
  {
   "cell_type": "code",
   "execution_count": 52,
   "metadata": {},
   "outputs": [],
   "source": [
    "# удаляем ставшие \"лишними\" признаки 'RegistrationYear', 'RegistrationMonth'\n",
    "df = df.drop(['RegistrationYear', 'RegistrationMonth'], axis=1)"
   ]
  },
  {
   "cell_type": "code",
   "execution_count": 53,
   "metadata": {},
   "outputs": [
    {
     "data": {
      "text/html": [
       "<div>\n",
       "<style scoped>\n",
       "    .dataframe tbody tr th:only-of-type {\n",
       "        vertical-align: middle;\n",
       "    }\n",
       "\n",
       "    .dataframe tbody tr th {\n",
       "        vertical-align: top;\n",
       "    }\n",
       "\n",
       "    .dataframe thead th {\n",
       "        text-align: right;\n",
       "    }\n",
       "</style>\n",
       "<table border=\"1\" class=\"dataframe\">\n",
       "  <thead>\n",
       "    <tr style=\"text-align: right;\">\n",
       "      <th></th>\n",
       "      <th>Price</th>\n",
       "      <th>VehicleType</th>\n",
       "      <th>Gearbox</th>\n",
       "      <th>Power</th>\n",
       "      <th>Model</th>\n",
       "      <th>Kilometer</th>\n",
       "      <th>FuelType</th>\n",
       "      <th>Brand</th>\n",
       "      <th>NotRepaired</th>\n",
       "      <th>PostalCode</th>\n",
       "      <th>Age</th>\n",
       "    </tr>\n",
       "  </thead>\n",
       "  <tbody>\n",
       "    <tr>\n",
       "      <th>0</th>\n",
       "      <td>480</td>\n",
       "      <td>sedan</td>\n",
       "      <td>manual</td>\n",
       "      <td>0</td>\n",
       "      <td>golf</td>\n",
       "      <td>150000</td>\n",
       "      <td>petrol</td>\n",
       "      <td>volkswagen</td>\n",
       "      <td>unknown</td>\n",
       "      <td>70435</td>\n",
       "      <td>323</td>\n",
       "    </tr>\n",
       "    <tr>\n",
       "      <th>1</th>\n",
       "      <td>18300</td>\n",
       "      <td>coupe</td>\n",
       "      <td>manual</td>\n",
       "      <td>190</td>\n",
       "      <td>other</td>\n",
       "      <td>125000</td>\n",
       "      <td>petrol</td>\n",
       "      <td>audi</td>\n",
       "      <td>yes</td>\n",
       "      <td>66954</td>\n",
       "      <td>103</td>\n",
       "    </tr>\n",
       "    <tr>\n",
       "      <th>2</th>\n",
       "      <td>9800</td>\n",
       "      <td>suv</td>\n",
       "      <td>auto</td>\n",
       "      <td>163</td>\n",
       "      <td>grand</td>\n",
       "      <td>125000</td>\n",
       "      <td>petrol</td>\n",
       "      <td>jeep</td>\n",
       "      <td>unknown</td>\n",
       "      <td>90480</td>\n",
       "      <td>184</td>\n",
       "    </tr>\n",
       "  </tbody>\n",
       "</table>\n",
       "</div>"
      ],
      "text/plain": [
       "   Price VehicleType Gearbox  Power  Model  Kilometer FuelType       Brand  \\\n",
       "0    480       sedan  manual      0   golf     150000   petrol  volkswagen   \n",
       "1  18300       coupe  manual    190  other     125000   petrol        audi   \n",
       "2   9800         suv    auto    163  grand     125000   petrol        jeep   \n",
       "\n",
       "  NotRepaired  PostalCode  Age  \n",
       "0     unknown       70435  323  \n",
       "1         yes       66954  103  \n",
       "2     unknown       90480  184  "
      ]
     },
     "execution_count": 53,
     "metadata": {},
     "output_type": "execute_result"
    }
   ],
   "source": [
    "# проверка обработки\n",
    "df.head(3)"
   ]
  },
  {
   "cell_type": "markdown",
   "metadata": {},
   "source": [
    "#### Power"
   ]
  },
  {
   "cell_type": "markdown",
   "metadata": {},
   "source": [
    "Имеем большой разброс значений от 0 до 20000 л.с. что говорит о пропусках и выбросах. С верхней границы диапазона обрезаем данные по перцентилю 99.8% и производим замену нулевых значений модой мощности для данной модели-бренда автомобиля.\\\n",
    "Высокая мощность характерна для спорткаров, если мы отсечем эти данные это не существенно, поскольку цена для них определяется индивидуально и по другим принципам чем для массовых авто."
   ]
  },
  {
   "cell_type": "code",
   "execution_count": 54,
   "metadata": {},
   "outputs": [
    {
     "data": {
      "image/png": "[encoded data removed]",
      "text/plain": [
       "<Figure size 1152x360 with 1 Axes>"
      ]
     },
     "metadata": {},
     "output_type": "display_data"
    }
   ],
   "source": [
    "fig = plt.figure(figsize=(16,5))\n",
    "plt.title('График KDE для данных по мощности автомобилей', fontsize=14)\n",
    "sns.kdeplot(df['Power']);\n",
    "plt.legend(''),  plt.xlabel('мощность двигателя');"
   ]
  },
  {
   "cell_type": "code",
   "execution_count": 55,
   "metadata": {},
   "outputs": [
    {
     "data": {
      "text/plain": [
       "0"
      ]
     },
     "execution_count": 55,
     "metadata": {},
     "output_type": "execute_result"
    }
   ],
   "source": [
    "df['Power'].isna().sum()"
   ]
  },
  {
   "cell_type": "code",
   "execution_count": 56,
   "metadata": {},
   "outputs": [
    {
     "data": {
      "text/plain": [
       "33506"
      ]
     },
     "execution_count": 56,
     "metadata": {},
     "output_type": "execute_result"
    }
   ],
   "source": [
    "# число записей с нулевой мощностью\n",
    "df['Power'].value_counts()[0]"
   ]
  },
  {
   "cell_type": "code",
   "execution_count": 57,
   "metadata": {},
   "outputs": [
    {
     "data": {
      "text/plain": [
       "400.0"
      ]
     },
     "execution_count": 57,
     "metadata": {},
     "output_type": "execute_result"
    }
   ],
   "source": [
    "# мощность для 99,8 пеерцентиля\n",
    "np.percentile(df['Power'], 99.8)"
   ]
  },
  {
   "cell_type": "code",
   "execution_count": 58,
   "metadata": {},
   "outputs": [],
   "source": [
    "# # удаляем записи с мощность / Power более 400 (по перцентилю 99.8)\n",
    "df = df.loc[df.index.isin(\n",
    "     df.loc[~( df['Power'] > 400) ].index)]"
   ]
  },
  {
   "cell_type": "code",
   "execution_count": 59,
   "metadata": {},
   "outputs": [
    {
     "data": {
      "text/plain": [
       "(333849, 11)"
      ]
     },
     "execution_count": 59,
     "metadata": {},
     "output_type": "execute_result"
    }
   ],
   "source": [
    "df.shape"
   ]
  },
  {
   "cell_type": "code",
   "execution_count": 60,
   "metadata": {},
   "outputs": [],
   "source": [
    "# записи с мощность / Power 0  заполняем медианой мощности для модели\n",
    "# для упрощения процедуры заменяем 0 на nan для использования в последующем fillna\n",
    "df.loc[df['Power'] == 0, 'Power'] = np.nan\n",
    "df['Power'].fillna(df.groupby('Model')['Power'].transform(lambda x: x.mode()[0]), inplace=True)"
   ]
  },
  {
   "cell_type": "code",
   "execution_count": 61,
   "metadata": {},
   "outputs": [
    {
     "data": {
      "image/png": "[encoded data removed]",
      "text/plain": [
       "<Figure size 1152x360 with 1 Axes>"
      ]
     },
     "metadata": {},
     "output_type": "display_data"
    }
   ],
   "source": [
    "# проверка результата\n",
    "fig = plt.figure(figsize=(16,5))\n",
    "plt.title('График KDE для данных по мощности автомобилей после очистки выбросов', fontsize=14)\n",
    "sns.kdeplot(df['Power']);\n",
    "plt.legend(''),  plt.xlabel('мощность двигателя');"
   ]
  },
  {
   "cell_type": "markdown",
   "metadata": {},
   "source": [
    "## Обучение моделей"
   ]
  },
  {
   "cell_type": "markdown",
   "metadata": {},
   "source": [
    "**Решено провести обучение нескольких видов моделей:**\n",
    "- LinearRegressor (Это будет BaseLine)\n",
    "- Elastic\n",
    "- RandomForestRegressor\n",
    "- LightGBM\\\n",
    "\n",
    "Признаки будут созданы в двух вариантах с кодирование (суффикс ohe) и без кодирования."
   ]
  },
  {
   "cell_type": "markdown",
   "metadata": {},
   "source": [
    "Разделяем выборку на тренировочные/тестовые данные:"
   ]
  },
  {
   "cell_type": "code",
   "execution_count": 62,
   "metadata": {},
   "outputs": [],
   "source": [
    "features = df.drop('Price', axis=1)\n",
    "target = df['Price']"
   ]
  },
  {
   "cell_type": "markdown",
   "metadata": {},
   "source": [
    "**Создаем вариант признаков с кодирование OHE**"
   ]
  },
  {
   "cell_type": "code",
   "execution_count": 63,
   "metadata": {},
   "outputs": [],
   "source": [
    "# создаем список категориальных признаков\n",
    "# features_category = list(df.describe(include='object').columns)\n",
    "features_category = ['Brand', 'Model', 'VehicleType', 'Gearbox', 'FuelType', 'NotRepaired']"
   ]
  },
  {
   "cell_type": "code",
   "execution_count": 64,
   "metadata": {},
   "outputs": [
    {
     "data": {
      "text/html": [
       "<div>\n",
       "<style scoped>\n",
       "    .dataframe tbody tr th:only-of-type {\n",
       "        vertical-align: middle;\n",
       "    }\n",
       "\n",
       "    .dataframe tbody tr th {\n",
       "        vertical-align: top;\n",
       "    }\n",
       "\n",
       "    .dataframe thead th {\n",
       "        text-align: right;\n",
       "    }\n",
       "</style>\n",
       "<table border=\"1\" class=\"dataframe\">\n",
       "  <thead>\n",
       "    <tr style=\"text-align: right;\">\n",
       "      <th></th>\n",
       "      <th>Power</th>\n",
       "      <th>Kilometer</th>\n",
       "      <th>PostalCode</th>\n",
       "      <th>Age</th>\n",
       "      <th>Brand_audi</th>\n",
       "      <th>Brand_bmw</th>\n",
       "      <th>Brand_chevrolet</th>\n",
       "      <th>Brand_chrysler</th>\n",
       "      <th>Brand_citroen</th>\n",
       "      <th>Brand_dacia</th>\n",
       "      <th>...</th>\n",
       "      <th>VehicleType_wagon</th>\n",
       "      <th>Gearbox_manual</th>\n",
       "      <th>Gearbox_unknown</th>\n",
       "      <th>FuelType_electric</th>\n",
       "      <th>FuelType_hybrid</th>\n",
       "      <th>FuelType_lpg</th>\n",
       "      <th>FuelType_other</th>\n",
       "      <th>FuelType_petrol</th>\n",
       "      <th>NotRepaired_unknown</th>\n",
       "      <th>NotRepaired_yes</th>\n",
       "    </tr>\n",
       "  </thead>\n",
       "  <tbody>\n",
       "    <tr>\n",
       "      <th>0</th>\n",
       "      <td>75.0</td>\n",
       "      <td>150000</td>\n",
       "      <td>70435</td>\n",
       "      <td>323</td>\n",
       "      <td>0</td>\n",
       "      <td>0</td>\n",
       "      <td>0</td>\n",
       "      <td>0</td>\n",
       "      <td>0</td>\n",
       "      <td>0</td>\n",
       "      <td>...</td>\n",
       "      <td>0</td>\n",
       "      <td>1</td>\n",
       "      <td>0</td>\n",
       "      <td>0</td>\n",
       "      <td>0</td>\n",
       "      <td>0</td>\n",
       "      <td>0</td>\n",
       "      <td>1</td>\n",
       "      <td>1</td>\n",
       "      <td>0</td>\n",
       "    </tr>\n",
       "    <tr>\n",
       "      <th>1</th>\n",
       "      <td>190.0</td>\n",
       "      <td>125000</td>\n",
       "      <td>66954</td>\n",
       "      <td>103</td>\n",
       "      <td>1</td>\n",
       "      <td>0</td>\n",
       "      <td>0</td>\n",
       "      <td>0</td>\n",
       "      <td>0</td>\n",
       "      <td>0</td>\n",
       "      <td>...</td>\n",
       "      <td>0</td>\n",
       "      <td>1</td>\n",
       "      <td>0</td>\n",
       "      <td>0</td>\n",
       "      <td>0</td>\n",
       "      <td>0</td>\n",
       "      <td>0</td>\n",
       "      <td>1</td>\n",
       "      <td>0</td>\n",
       "      <td>1</td>\n",
       "    </tr>\n",
       "    <tr>\n",
       "      <th>2</th>\n",
       "      <td>163.0</td>\n",
       "      <td>125000</td>\n",
       "      <td>90480</td>\n",
       "      <td>184</td>\n",
       "      <td>0</td>\n",
       "      <td>0</td>\n",
       "      <td>0</td>\n",
       "      <td>0</td>\n",
       "      <td>0</td>\n",
       "      <td>0</td>\n",
       "      <td>...</td>\n",
       "      <td>0</td>\n",
       "      <td>0</td>\n",
       "      <td>0</td>\n",
       "      <td>0</td>\n",
       "      <td>0</td>\n",
       "      <td>0</td>\n",
       "      <td>0</td>\n",
       "      <td>1</td>\n",
       "      <td>1</td>\n",
       "      <td>0</td>\n",
       "    </tr>\n",
       "  </tbody>\n",
       "</table>\n",
       "<p>3 rows × 306 columns</p>\n",
       "</div>"
      ],
      "text/plain": [
       "   Power  Kilometer  PostalCode  Age  Brand_audi  Brand_bmw  Brand_chevrolet  \\\n",
       "0   75.0     150000       70435  323           0          0                0   \n",
       "1  190.0     125000       66954  103           1          0                0   \n",
       "2  163.0     125000       90480  184           0          0                0   \n",
       "\n",
       "   Brand_chrysler  Brand_citroen  Brand_dacia  ...  VehicleType_wagon  \\\n",
       "0               0              0            0  ...                  0   \n",
       "1               0              0            0  ...                  0   \n",
       "2               0              0            0  ...                  0   \n",
       "\n",
       "   Gearbox_manual  Gearbox_unknown  FuelType_electric  FuelType_hybrid  \\\n",
       "0               1                0                  0                0   \n",
       "1               1                0                  0                0   \n",
       "2               0                0                  0                0   \n",
       "\n",
       "   FuelType_lpg  FuelType_other  FuelType_petrol  NotRepaired_unknown  \\\n",
       "0             0               0                1                    1   \n",
       "1             0               0                1                    0   \n",
       "2             0               0                1                    1   \n",
       "\n",
       "   NotRepaired_yes  \n",
       "0                0  \n",
       "1                1  \n",
       "2                0  \n",
       "\n",
       "[3 rows x 306 columns]"
      ]
     },
     "execution_count": 64,
     "metadata": {},
     "output_type": "execute_result"
    }
   ],
   "source": [
    "features_ohe = pd.get_dummies(features, drop_first=True, columns=features_category)\n",
    "features_ohe.head(3)"
   ]
  },
  {
   "cell_type": "markdown",
   "metadata": {},
   "source": [
    "Чтобы вариант данных совпадал по набор с кодированием OHE и без, делаем разбивку **с одним занчением random_state**:"
   ]
  },
  {
   "cell_type": "code",
   "execution_count": 65,
   "metadata": {},
   "outputs": [],
   "source": [
    "X_train_ohe, X_test_ohe, y_train, y_test = train_test_split(features_ohe, target, test_size=0.2, random_state=13) "
   ]
  },
  {
   "cell_type": "code",
   "execution_count": 66,
   "metadata": {},
   "outputs": [],
   "source": [
    "X_train, X_test, y_train_2, y_test_2 = train_test_split(features, target, test_size=0.2, random_state=13) "
   ]
  },
  {
   "cell_type": "code",
   "execution_count": 67,
   "metadata": {},
   "outputs": [
    {
     "name": "stdout",
     "output_type": "stream",
     "text": [
      "если получен (0) разбивка признаков на train/test с кодированием и без кодирования - совпадают:..... 0\n"
     ]
    }
   ],
   "source": [
    "# проверка\n",
    "print('если получен (0) разбивка признаков на train/test с кодированием и без кодирования - совпадают:.....',\n",
    "      (y_train -  y_train_2 ).sum() + (y_test -  y_test_2).sum())"
   ]
  },
  {
   "cell_type": "markdown",
   "metadata": {},
   "source": [
    "**Разбивка на обучающую/тестовую выборки выполнена, целевой признак совпадает для всех вариантов: y_test, y_train**"
   ]
  },
  {
   "cell_type": "markdown",
   "metadata": {},
   "source": [
    "**В sklearn нет готового скорера для RMSE поэтому создаем:**"
   ]
  },
  {
   "cell_type": "code",
   "execution_count": 68,
   "metadata": {},
   "outputs": [],
   "source": [
    "# создаем функцию и скорер RMSE  \n",
    "def rmse(y1, y2):\n",
    "     return  mean_squared_error(y1, y2) ** 0.5\n",
    "\n",
    "rmse_score = make_scorer(rmse, greater_is_better=False)"
   ]
  },
  {
   "cell_type": "markdown",
   "metadata": {},
   "source": [
    "### LinearRegression"
   ]
  },
  {
   "cell_type": "code",
   "execution_count": 69,
   "metadata": {},
   "outputs": [],
   "source": [
    "def grid_lr(X_train_ohe, y_train):\n",
    "    model = LinearRegression()\n",
    "    params = {} # словарь для перебора гиперпараметров\n",
    "    grid = GridSearchCV(model, params, \n",
    "                        cv=2, scoring=rmse_score, \n",
    "                        n_jobs=CPU_THREADS, verbose=True)\n",
    "    grid.fit(X_train_ohe, y_train)\n",
    "    return grid"
   ]
  },
  {
   "cell_type": "markdown",
   "metadata": {},
   "source": []
  },
  {
   "cell_type": "code",
   "execution_count": 70,
   "metadata": {},
   "outputs": [
    {
     "name": "stdout",
     "output_type": "stream",
     "text": [
      "Fitting 2 folds for each of 1 candidates, totalling 2 fits\n"
     ]
    },
    {
     "name": "stderr",
     "output_type": "stream",
     "text": [
      "[Parallel(n_jobs=11)]: Using backend LokyBackend with 11 concurrent workers.\n",
      "[Parallel(n_jobs=11)]: Done   2 out of   2 | elapsed:    3.5s remaining:    0.0s\n",
      "[Parallel(n_jobs=11)]: Done   2 out of   2 | elapsed:    3.5s finished\n"
     ]
    },
    {
     "name": "stdout",
     "output_type": "stream",
     "text": [
      "лучшие параметры: {}\n",
      "лучшая оценка RMSE: -2608.44\n",
      "Wall time: 6.78 s\n"
     ]
    }
   ],
   "source": [
    "%%time\n",
    "grid_LR = grid_lr(X_train_ohe, y_train)\n",
    "print('лучшие параметры:', grid_LR.best_params_)\n",
    "print('лучшая оценка RMSE: {:.2f}'.format(grid_LR.best_score_ ))"
   ]
  },
  {
   "cell_type": "code",
   "execution_count": 71,
   "metadata": {},
   "outputs": [
    {
     "name": "stdout",
     "output_type": "stream",
     "text": [
      "Модель LinearRegression\n",
      "RMSE предсказания: 2598.521352355794\n",
      "Wall time: 66.8 ms\n"
     ]
    }
   ],
   "source": [
    "%%time\n",
    "print('Модель LinearRegression')\n",
    "print('RMSE предсказания:', rmse(y_test, grid_LR.predict(X_test_ohe)) )"
   ]
  },
  {
   "cell_type": "code",
   "execution_count": 72,
   "metadata": {},
   "outputs": [],
   "source": [
    "# Модель регрессии ElasticNet\n",
    "def grid_elastic(X_train_ohe, y_train):\n",
    "    model = ElasticNet(random_state=210417)\n",
    "    # вариация параметра l1_ratio позволяет испытать разные модели штрафов: \n",
    "    # 0 - Grid, 1 - Lasso, и все промежуточные значения это Elastic\n",
    "    params = {   'alpha': [1], \n",
    "                 'l1_ratio': [0.01, 0.5, 0.7, 0.9, 0.99]                \n",
    "    } \n",
    "    \n",
    "    grid = GridSearchCV(model, params, \n",
    "                        cv=2, scoring=rmse_score, \n",
    "                        verbose=True, n_jobs=CPU_THREADS)\n",
    "    # добавлен параметр samle_weight чтобы повысить значимость образцов с высоким дебетом\n",
    "    grid.fit(X_train_ohe, y_train)\n",
    "    return grid"
   ]
  },
  {
   "cell_type": "code",
   "execution_count": 73,
   "metadata": {},
   "outputs": [
    {
     "name": "stdout",
     "output_type": "stream",
     "text": [
      "Fitting 2 folds for each of 5 candidates, totalling 10 fits\n"
     ]
    },
    {
     "name": "stderr",
     "output_type": "stream",
     "text": [
      "[Parallel(n_jobs=11)]: Using backend ThreadingBackend with 11 concurrent workers.\n",
      "[Parallel(n_jobs=11)]: Done  10 out of  10 | elapsed:    9.7s finished\n"
     ]
    },
    {
     "name": "stdout",
     "output_type": "stream",
     "text": [
      "лучшие параметры: {'alpha': 1, 'l1_ratio': 0.99}\n",
      "лучшая оценка RMSE: -2713.41\n",
      "Wall time: 12.8 s\n"
     ]
    }
   ],
   "source": [
    "%%time\n",
    "with parallel_backend('threading'):           \n",
    "       grid_ELAST = grid_elastic(X_train_ohe, y_train)\n",
    "print('лучшие параметры:', grid_ELAST.best_params_)\n",
    "print('лучшая оценка RMSE: {:.2f}'.format(grid_ELAST.best_score_))"
   ]
  },
  {
   "cell_type": "code",
   "execution_count": 74,
   "metadata": {},
   "outputs": [
    {
     "name": "stdout",
     "output_type": "stream",
     "text": [
      "Модель ElasticNet\n",
      "RMSE предсказания: 2714.2094533750565\n",
      "Wall time: 73.3 ms\n"
     ]
    }
   ],
   "source": [
    "%%time\n",
    "print('Модель ElasticNet')\n",
    "print('RMSE предсказания:', rmse(y_test, grid_ELAST.predict(X_test_ohe)))"
   ]
  },
  {
   "cell_type": "markdown",
   "metadata": {},
   "source": [
    "### RandomForestRegressor"
   ]
  },
  {
   "cell_type": "markdown",
   "metadata": {},
   "source": [
    "Рассчитываем параметры для оценки размеров дерева:"
   ]
  },
  {
   "cell_type": "code",
   "execution_count": 75,
   "metadata": {},
   "outputs": [
    {
     "data": {
      "text/plain": [
       "306"
      ]
     },
     "execution_count": 75,
     "metadata": {},
     "output_type": "execute_result"
    }
   ],
   "source": [
    "# общее число признаков \n",
    "X_train_ohe.shape[1]"
   ]
  },
  {
   "cell_type": "code",
   "execution_count": 76,
   "metadata": {},
   "outputs": [
    {
     "data": {
      "text/plain": [
       "21.935355202530776"
      ]
     },
     "execution_count": 76,
     "metadata": {},
     "output_type": "execute_result"
    }
   ],
   "source": [
    "# оцениваем примерный диапазон для параметра 'min_samples_leaf'\n",
    "df_base = pd.read_csv('/datasets/autos.csv')\n",
    "df_base.groupby(by=['Brand', 'Model', 'Power', 'Gearbox'])['RegistrationYear'].count().mean()"
   ]
  },
  {
   "cell_type": "code",
   "execution_count": 77,
   "metadata": {},
   "outputs": [
    {
     "name": "stdout",
     "output_type": "stream",
     "text": [
      "Fitting 8 folds for each of 1 candidates, totalling 8 fits\n"
     ]
    },
    {
     "name": "stderr",
     "output_type": "stream",
     "text": [
      "[Parallel(n_jobs=11)]: Using backend ThreadingBackend with 11 concurrent workers.\n",
      "[Parallel(n_jobs=11)]: Done   5 out of   8 | elapsed:  5.4min remaining:  3.2min\n",
      "[Parallel(n_jobs=11)]: Done   8 out of   8 | elapsed:  5.4min finished\n"
     ]
    },
    {
     "name": "stdout",
     "output_type": "stream",
     "text": [
      "лучшие параметры: {'max_depth': 90, 'min_samples_leaf': 5, 'n_estimators': 40}\n",
      "лучшая оценка RMSE: -1605.27\n",
      "Wall time: 6min 13s\n"
     ]
    }
   ],
   "source": [
    "%%time\n",
    "model_RF = RandomForestRegressor(random_state = 210601)\n",
    "\n",
    "params_RF = {    \n",
    "    'max_depth': [90],\n",
    "    'n_estimators': [40],\n",
    "    'min_samples_leaf' : [5]   \n",
    "}\n",
    "\n",
    "grid_RF = GridSearchCV(model_RF, params_RF, scoring = rmse_score,\n",
    "                       cv=8, return_train_score=True,  \n",
    "                       n_jobs=CPU_THREADS, verbose=1)\n",
    "\n",
    "with parallel_backend('threading'):           \n",
    "        grid_RF.fit(X_train_ohe, y_train)\n",
    "        \n",
    "print('лучшие параметры:', grid_RF.best_params_)\n",
    "print('лучшая оценка RMSE: {:.2f}'.format(grid_RF.best_score_))\n"
   ]
  },
  {
   "cell_type": "code",
   "execution_count": 78,
   "metadata": {},
   "outputs": [
    {
     "name": "stdout",
     "output_type": "stream",
     "text": [
      "Модель RandomForestRegressor\n",
      "RMSE предсказания: 1575.3714340703932\n",
      "Wall time: 634 ms\n"
     ]
    }
   ],
   "source": [
    "%%time\n",
    "print('Модель RandomForestRegressor')\n",
    "print('RMSE предсказания:', rmse(y_test, grid_RF.predict(X_test_ohe)))"
   ]
  },
  {
   "cell_type": "markdown",
   "metadata": {},
   "source": [
    "### LightGBM"
   ]
  },
  {
   "cell_type": "markdown",
   "metadata": {},
   "source": [
    "Настройка параметров проводилась в соответствии с рекомедациями официальной документации LightGBM https://lightgbm.readthedocs.io/en/latest/Parameters-Tuning.html"
   ]
  },
  {
   "cell_type": "code",
   "execution_count": 79,
   "metadata": {},
   "outputs": [],
   "source": [
    "# подготовка датасета для lightgbm\n",
    "X_train_lgb, X_valid_lgb, y_train_lgb, y_valid_lgb = train_test_split(X_train_ohe, y_train, test_size=0.2, random_state=13)\n",
    "lgb_train = lgb.Dataset(X_train_lgb, y_train_lgb )\n",
    "lgb_eval = lgb.Dataset(X_valid_lgb, y_valid_lgb, reference=lgb_train)"
   ]
  },
  {
   "cell_type": "code",
   "execution_count": 85,
   "metadata": {},
   "outputs": [
    {
     "name": "stdout",
     "output_type": "stream",
     "text": [
      "Старт обучения...\n",
      "[LightGBM] [Info] This is the GPU trainer!!\n",
      "[LightGBM] [Info] Total Bins 910\n",
      "[LightGBM] [Info] Number of data points in the train set: 213663, number of used features: 302\n",
      "[LightGBM] [Info] Using GPU Device: gfx1030, Vendor: Advanced Micro Devices, Inc.\n",
      "[LightGBM] [Info] Compiling OpenCL Kernel with 256 bins...\n",
      "[LightGBM] [Info] GPU programs have been built\n",
      "[LightGBM] [Info] Size of histogram bin entry: 8\n",
      "[LightGBM] [Info] 7 dense feature groups (1.63 MB) transferred to GPU in 0.002004 secs. 1 sparse feature groups\n",
      "[LightGBM] [Info] Start training from score 4534.770915\n",
      "[1]\tvalid_0's rmse: 4433.78\n",
      "Training until validation scores don't improve for 20 rounds\n",
      "[2]\tvalid_0's rmse: 4360.11\n",
      "[3]\tvalid_0's rmse: 4288.1\n",
      "[4]\tvalid_0's rmse: 4217.71\n",
      "[5]\tvalid_0's rmse: 4149.03\n",
      "[6]\tvalid_0's rmse: 4081.97\n",
      "[7]\tvalid_0's rmse: 4016.22\n",
      "[8]\tvalid_0's rmse: 3952.22\n",
      "[9]\tvalid_0's rmse: 3889.66\n",
      "[10]\tvalid_0's rmse: 3828.44\n",
      "[11]\tvalid_0's rmse: 3768.59\n",
      "[12]\tvalid_0's rmse: 3710.23\n",
      "[13]\tvalid_0's rmse: 3653.42\n",
      "[14]\tvalid_0's rmse: 3597.77\n",
      "[15]\tvalid_0's rmse: 3543.54\n",
      "[16]\tvalid_0's rmse: 3490.53\n",
      "[17]\tvalid_0's rmse: 3438.89\n",
      "[18]\tvalid_0's rmse: 3388.39\n",
      "[19]\tvalid_0's rmse: 3339.26\n",
      "[20]\tvalid_0's rmse: 3291.34\n",
      "[21]\tvalid_0's rmse: 3244.49\n",
      "[22]\tvalid_0's rmse: 3199.02\n",
      "[23]\tvalid_0's rmse: 3154.44\n",
      "[24]\tvalid_0's rmse: 3111.07\n",
      "[25]\tvalid_0's rmse: 3068.76\n",
      "[26]\tvalid_0's rmse: 3027.65\n",
      "[27]\tvalid_0's rmse: 2987.38\n",
      "[28]\tvalid_0's rmse: 2948.45\n",
      "[29]\tvalid_0's rmse: 2910.11\n",
      "[30]\tvalid_0's rmse: 2872.63\n",
      "[31]\tvalid_0's rmse: 2836.15\n",
      "[32]\tvalid_0's rmse: 2800.68\n",
      "[33]\tvalid_0's rmse: 2766.2\n",
      "[34]\tvalid_0's rmse: 2732.66\n",
      "[35]\tvalid_0's rmse: 2699.98\n",
      "[36]\tvalid_0's rmse: 2667.94\n",
      "[37]\tvalid_0's rmse: 2636.84\n",
      "[38]\tvalid_0's rmse: 2606.63\n",
      "[39]\tvalid_0's rmse: 2577.39\n",
      "[40]\tvalid_0's rmse: 2548.8\n",
      "[41]\tvalid_0's rmse: 2520.99\n",
      "[42]\tvalid_0's rmse: 2493.84\n",
      "[43]\tvalid_0's rmse: 2467.44\n",
      "[44]\tvalid_0's rmse: 2441.72\n",
      "[45]\tvalid_0's rmse: 2416.6\n",
      "[46]\tvalid_0's rmse: 2392.15\n",
      "[47]\tvalid_0's rmse: 2368.45\n",
      "[48]\tvalid_0's rmse: 2345.36\n",
      "[49]\tvalid_0's rmse: 2323.08\n",
      "[50]\tvalid_0's rmse: 2301.36\n",
      "[51]\tvalid_0's rmse: 2280.18\n",
      "[52]\tvalid_0's rmse: 2259.63\n",
      "[53]\tvalid_0's rmse: 2239.57\n",
      "[54]\tvalid_0's rmse: 2220.16\n",
      "[55]\tvalid_0's rmse: 2201.21\n",
      "[56]\tvalid_0's rmse: 2182.89\n",
      "[57]\tvalid_0's rmse: 2165.1\n",
      "[58]\tvalid_0's rmse: 2147.7\n",
      "[59]\tvalid_0's rmse: 2130.83\n",
      "[60]\tvalid_0's rmse: 2114.48\n",
      "[61]\tvalid_0's rmse: 2098.61\n",
      "[62]\tvalid_0's rmse: 2083.15\n",
      "[63]\tvalid_0's rmse: 2068.04\n",
      "[64]\tvalid_0's rmse: 2053.49\n",
      "[65]\tvalid_0's rmse: 2039.32\n",
      "[66]\tvalid_0's rmse: 2025.56\n",
      "[67]\tvalid_0's rmse: 2012.19\n",
      "[68]\tvalid_0's rmse: 1999.5\n",
      "[69]\tvalid_0's rmse: 1986.89\n",
      "[70]\tvalid_0's rmse: 1974.57\n",
      "[71]\tvalid_0's rmse: 1962.71\n",
      "[72]\tvalid_0's rmse: 1951.18\n",
      "[73]\tvalid_0's rmse: 1939.96\n",
      "[74]\tvalid_0's rmse: 1929.15\n",
      "[75]\tvalid_0's rmse: 1918.45\n",
      "[76]\tvalid_0's rmse: 1908.28\n",
      "[77]\tvalid_0's rmse: 1898.39\n",
      "[78]\tvalid_0's rmse: 1888.7\n",
      "[79]\tvalid_0's rmse: 1879.44\n",
      "[80]\tvalid_0's rmse: 1870.33\n",
      "[81]\tvalid_0's rmse: 1861.53\n",
      "[82]\tvalid_0's rmse: 1853.08\n",
      "[83]\tvalid_0's rmse: 1844.84\n",
      "[84]\tvalid_0's rmse: 1836.79\n",
      "[85]\tvalid_0's rmse: 1828.93\n",
      "[86]\tvalid_0's rmse: 1821.33\n",
      "[87]\tvalid_0's rmse: 1813.8\n",
      "[88]\tvalid_0's rmse: 1806.59\n",
      "[89]\tvalid_0's rmse: 1799.54\n",
      "[90]\tvalid_0's rmse: 1792.77\n",
      "[91]\tvalid_0's rmse: 1786.3\n",
      "[92]\tvalid_0's rmse: 1779.98\n",
      "[93]\tvalid_0's rmse: 1773.88\n",
      "[94]\tvalid_0's rmse: 1767.86\n",
      "[95]\tvalid_0's rmse: 1762.01\n",
      "[96]\tvalid_0's rmse: 1756.42\n",
      "[97]\tvalid_0's rmse: 1750.87\n",
      "[98]\tvalid_0's rmse: 1745.54\n",
      "[99]\tvalid_0's rmse: 1740.33\n",
      "[100]\tvalid_0's rmse: 1735.27\n",
      "[101]\tvalid_0's rmse: 1730.39\n",
      "[102]\tvalid_0's rmse: 1725.6\n",
      "[103]\tvalid_0's rmse: 1721.06\n",
      "[104]\tvalid_0's rmse: 1716.58\n",
      "[105]\tvalid_0's rmse: 1712.35\n",
      "[106]\tvalid_0's rmse: 1708.04\n",
      "[107]\tvalid_0's rmse: 1703.93\n",
      "[108]\tvalid_0's rmse: 1699.94\n",
      "[109]\tvalid_0's rmse: 1696.11\n",
      "[110]\tvalid_0's rmse: 1692.33\n",
      "[111]\tvalid_0's rmse: 1688.64\n",
      "[112]\tvalid_0's rmse: 1685.13\n",
      "[113]\tvalid_0's rmse: 1681.79\n",
      "[114]\tvalid_0's rmse: 1678.48\n",
      "[115]\tvalid_0's rmse: 1675.19\n",
      "[116]\tvalid_0's rmse: 1672.08\n",
      "[117]\tvalid_0's rmse: 1669.05\n",
      "[118]\tvalid_0's rmse: 1666.16\n",
      "[119]\tvalid_0's rmse: 1663.25\n",
      "[120]\tvalid_0's rmse: 1660.55\n",
      "[121]\tvalid_0's rmse: 1657.72\n",
      "[122]\tvalid_0's rmse: 1655.05\n",
      "[123]\tvalid_0's rmse: 1652.54\n",
      "[124]\tvalid_0's rmse: 1649.94\n",
      "[125]\tvalid_0's rmse: 1647.42\n",
      "[126]\tvalid_0's rmse: 1645.02\n",
      "[127]\tvalid_0's rmse: 1642.68\n",
      "[128]\tvalid_0's rmse: 1640.56\n",
      "[129]\tvalid_0's rmse: 1638.3\n",
      "[130]\tvalid_0's rmse: 1636.25\n",
      "[131]\tvalid_0's rmse: 1634.17\n",
      "[132]\tvalid_0's rmse: 1632.12\n",
      "[133]\tvalid_0's rmse: 1630.23\n",
      "[134]\tvalid_0's rmse: 1628.3\n",
      "[135]\tvalid_0's rmse: 1626.39\n",
      "[136]\tvalid_0's rmse: 1624.54\n",
      "[137]\tvalid_0's rmse: 1622.82\n",
      "[138]\tvalid_0's rmse: 1621.04\n",
      "[139]\tvalid_0's rmse: 1619.34\n",
      "[140]\tvalid_0's rmse: 1617.78\n",
      "[141]\tvalid_0's rmse: 1616.17\n",
      "[142]\tvalid_0's rmse: 1614.59\n",
      "[143]\tvalid_0's rmse: 1613.13\n",
      "[144]\tvalid_0's rmse: 1611.66\n",
      "[145]\tvalid_0's rmse: 1610.15\n",
      "[146]\tvalid_0's rmse: 1608.7\n",
      "[147]\tvalid_0's rmse: 1607.39\n",
      "[148]\tvalid_0's rmse: 1605.95\n",
      "[149]\tvalid_0's rmse: 1604.54\n",
      "[150]\tvalid_0's rmse: 1603.28\n",
      "[151]\tvalid_0's rmse: 1601.89\n",
      "[152]\tvalid_0's rmse: 1600.6\n",
      "[153]\tvalid_0's rmse: 1599.27\n",
      "[154]\tvalid_0's rmse: 1598.02\n",
      "[155]\tvalid_0's rmse: 1596.96\n",
      "[156]\tvalid_0's rmse: 1595.82\n",
      "[157]\tvalid_0's rmse: 1594.63\n",
      "[158]\tvalid_0's rmse: 1593.6\n",
      "[159]\tvalid_0's rmse: 1592.47\n",
      "[160]\tvalid_0's rmse: 1591.41\n",
      "[161]\tvalid_0's rmse: 1590.39\n",
      "[162]\tvalid_0's rmse: 1589.29\n",
      "[163]\tvalid_0's rmse: 1588.45\n",
      "[164]\tvalid_0's rmse: 1587.42\n",
      "[165]\tvalid_0's rmse: 1586.51\n",
      "[166]\tvalid_0's rmse: 1585.73\n",
      "[167]\tvalid_0's rmse: 1584.83\n",
      "[168]\tvalid_0's rmse: 1583.95\n",
      "[169]\tvalid_0's rmse: 1583.19\n",
      "[170]\tvalid_0's rmse: 1582.47\n",
      "[171]\tvalid_0's rmse: 1581.69\n",
      "[172]\tvalid_0's rmse: 1580.81\n",
      "[173]\tvalid_0's rmse: 1580.15\n",
      "[174]\tvalid_0's rmse: 1579.42\n",
      "[175]\tvalid_0's rmse: 1578.79\n",
      "[176]\tvalid_0's rmse: 1578.16\n",
      "[177]\tvalid_0's rmse: 1577.48\n",
      "[178]\tvalid_0's rmse: 1576.76\n",
      "[179]\tvalid_0's rmse: 1575.98\n",
      "[180]\tvalid_0's rmse: 1575.26\n",
      "[181]\tvalid_0's rmse: 1574.66\n",
      "[182]\tvalid_0's rmse: 1574.1\n",
      "[183]\tvalid_0's rmse: 1573.45\n",
      "[184]\tvalid_0's rmse: 1572.78\n",
      "[185]\tvalid_0's rmse: 1572.27\n",
      "[186]\tvalid_0's rmse: 1571.67\n",
      "[187]\tvalid_0's rmse: 1571.03\n",
      "[188]\tvalid_0's rmse: 1570.54\n",
      "[189]\tvalid_0's rmse: 1570.05\n",
      "[190]\tvalid_0's rmse: 1569.47\n",
      "Did not meet early stopping. Best iteration is:\n",
      "[190]\tvalid_0's rmse: 1569.47\n",
      "Wall time: 28.1 s\n"
     ]
    }
   ],
   "source": [
    "%%time\n",
    "\n",
    "# словарь с параметрами\n",
    "params = {\n",
    "     'num_iterations': 190,\n",
    "    'boosting_type': 'gbdt',\n",
    "    'objective': 'regression',\n",
    "    'metric': {'root_mean_squared_error'},\n",
    "    'num_leaves': 1000,\n",
    "    'min_data_in_leaf': 5,\n",
    "    'max_bin': 100,\n",
    "    'learning_rate': 0.02,\n",
    "    'device_type': 'gpu',\n",
    "    'verbose': 1\n",
    "}\n",
    "\n",
    "print('Старт обучения...')\n",
    "# train\n",
    "\n",
    "gbm = lgb.train(params,\n",
    "                lgb_train,\n",
    "                num_boost_round=30,\n",
    "                valid_sets=lgb_eval,\n",
    "                early_stopping_rounds=20\n",
    "                )\n"
   ]
  },
  {
   "cell_type": "code",
   "execution_count": 86,
   "metadata": {},
   "outputs": [
    {
     "name": "stdout",
     "output_type": "stream",
     "text": [
      "Модель LightGBM\n",
      "RMSE предсказания: 1552.6090873994135\n",
      "Wall time: 373 ms\n"
     ]
    }
   ],
   "source": [
    "%%time\n",
    "print('Модель LightGBM')\n",
    "print('RMSE предсказания:', rmse(y_test, \n",
    "                                     gbm.predict(X_test_ohe, num_iteration=gbm.best_iteration)))"
   ]
  },
  {
   "cell_type": "markdown",
   "metadata": {},
   "source": [
    "### Вывод\n",
    "Обучено несколько моделей. Использование признаков унифицировано - везде использовалось кодирование OHE. Удалось применить GPU при расчете модели LightGBM."
   ]
  },
  {
   "cell_type": "markdown",
   "metadata": {},
   "source": [
    "## Анализ моделей"
   ]
  },
  {
   "cell_type": "markdown",
   "metadata": {},
   "source": [
    "Скорость работы моделей в итоговой таблице взята из результатов %%time ячеек. Способа передать полученное значение переменной не нашел, поэтому данные просто внесены вручную константами. При исполнении на других ПК эти цифры будут отличаться, но общая пропорция между временем исполнения моделей сохранится."
   ]
  },
  {
   "cell_type": "code",
   "execution_count": null,
   "metadata": {},
   "outputs": [],
   "source": [
    "#создаем датафрейм с итогами вычислений\n",
    "\n",
    "summary = [\n",
    "    [-grid_LR.best_score_, rmse(y_test, grid_LR.predict(X_test_ohe)), 6.78, 66.8],\n",
    "    [-grid_ELAST.best_score_, rmse(y_test, grid_ELAST.predict(X_test_ohe)), 12.8, 73.3],\n",
    "    [-grid_RF.best_score_, rmse(y_test, grid_RF.predict(X_test_ohe)), ((6*60+13) * 50), 634],\n",
    "    [1561, rmse(y_test, gbm.predict(X_test_ohe, num_iteration=gbm.best_iteration)), 28.1, 373] \n",
    "]\n",
    "df_summary = pd.DataFrame(summary, \n",
    "                          index =['LinearRegression', 'ElasticNet', 'RandomForestRegressor', 'LightGBM'],\n",
    "                          columns=['RMSE_train', 'RMSE_test', 'train_sec', 'predict_ms'])\n"
   ]
  },
  {
   "cell_type": "code",
   "execution_count": 88,
   "metadata": {},
   "outputs": [
    {
     "data": {
      "text/plain": [
       "Text(0.5, 1.0, 'меньше - лучше')"
      ]
     },
     "execution_count": 88,
     "metadata": {},
     "output_type": "execute_result"
    },
    {
     "data": {
      "image/png": "[encoded data removed]",
      "text/plain": [
       "<Figure size 432x288 with 2 Axes>"
      ]
     },
     "metadata": {},
     "output_type": "display_data"
    }
   ],
   "source": [
    "scaled_df = (df_summary - df_summary.min(axis=0))/(df_summary.max(axis=0) - df_summary.min(axis=0))\n",
    "sns.heatmap(scaled_df, annot=df_summary, fmt='.2f', linewidths=.5, cmap=\"Greens\")\n",
    "plt.suptitle('Cравнение качества и скорости работы моделей', fontsize=14)\n",
    "plt.title('меньше - лучше', fontsize=12)\n"
   ]
  },
  {
   "cell_type": "markdown",
   "metadata": {},
   "source": [
    "### Вывод:\n",
    "\n",
    "**LightGBM лучшая модель** - она обеспечивает лучшее качество предсказания RMSE 1561 при скорости обучения сравнимой с линейной регрессией 28 сек и имеет среднюю скорость работы модели при предсказании - 373 мс\n",
    "\n",
    "Скорость обучения будет сильно зависеть от аппаратной части используемого ПК. Выводы сделаны из предположения, что обучение модели производится на специализированном ПК, а использование на более простых устройствах.\n",
    "\n",
    "Лучшее качество предсказания дала модели LightGBM - RMSE 1561 и RandomForest - 1599. Разновидности линейной регрессии  Linearregression и ElasticNet значительно хуже - RMSE 2608 и 2713. При этом они обучаются наиболее быстро - в пределах 13 сек.\n",
    "Чуть хуже скорость обучения у LightGBM - 28 сек. Труднее всего оказалось обучение RandomForest, реально на это ушло около суток, поскольку GridSearch проводит сплошной перебор значений. В таблице указано индикативное время для сетки на 50 итераций, когда диапазон гиперпараметров примерно понятен.\n",
    "Скорость работы готовой модели у всех вариантов не превышает секуннды, линейные регрессии до 80 мс, RandomForest и здесь самый медленный - 634 мс, и LightGBM - 373 мс."
   ]
  },
  {
   "cell_type": "code",
   "execution_count": null,
   "metadata": {},
   "outputs": [],
   "source": []
  }
 ],
 "metadata": {
  "kernelspec": {
   "display_name": "Python 3",
   "language": "python",
   "name": "python3"
  },
  "language_info": {
   "codemirror_mode": {
    "name": "ipython",
    "version": 3
   },
   "file_extension": ".py",
   "mimetype": "text/x-python",
   "name": "python",
   "nbconvert_exporter": "python",
   "pygments_lexer": "ipython3",
   "version": "3.7.8"
  },
  "toc": {
   "base_numbering": 1,
   "nav_menu": {},
   "number_sections": true,
   "sideBar": true,
   "skip_h1_title": true,
   "title_cell": "Table of Contents",
   "title_sidebar": "Contents",
   "toc_cell": false,
   "toc_position": {},
   "toc_section_display": true,
   "toc_window_display": false
  }
 },
 "nbformat": 4,
 "nbformat_minor": 2
}
